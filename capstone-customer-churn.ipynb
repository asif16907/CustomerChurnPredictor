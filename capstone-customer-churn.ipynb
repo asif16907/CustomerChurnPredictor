{
 "cells": [
  {
   "cell_type": "markdown",
   "id": "77e221d5",
   "metadata": {
    "papermill": {
     "duration": 0.011282,
     "end_time": "2024-03-20T08:19:09.499454",
     "exception": false,
     "start_time": "2024-03-20T08:19:09.488172",
     "status": "completed"
    },
    "tags": []
   },
   "source": [
    "<h1 style=\"color:Tomato; text-align:center;\">CapStone UseCase Project<br><br>\n",
    "    \n",
    "<p style=\"text-align:center;\">Customer Churn Prediction<p>\n",
    "<p style=\"text-align:right;\">By- Mohd Asif Ansari (52111482)<p>\n",
    "</h1>"
   ]
  },
  {
   "cell_type": "code",
   "execution_count": 1,
   "id": "c92aeadc",
   "metadata": {
    "_cell_guid": "b1076dfc-b9ad-4769-8c92-a6c4dae69d19",
    "_uuid": "8f2839f25d086af736a60e9eeb907d3b93b6e0e5",
    "execution": {
     "iopub.execute_input": "2024-03-20T08:19:09.524468Z",
     "iopub.status.busy": "2024-03-20T08:19:09.522965Z",
     "iopub.status.idle": "2024-03-20T08:19:12.967405Z",
     "shell.execute_reply": "2024-03-20T08:19:12.966200Z"
    },
    "papermill": {
     "duration": 3.459592,
     "end_time": "2024-03-20T08:19:12.970136",
     "exception": false,
     "start_time": "2024-03-20T08:19:09.510544",
     "status": "completed"
    },
    "tags": []
   },
   "outputs": [],
   "source": [
    "# This Python 3 environment comes with many helpful analytics libraries installed\n",
    "# It is defined by the kaggle/python Docker image: https://github.com/kaggle/docker-python\n",
    "# For example, here's several helpful packages to load\n",
    "\n",
    "# Importing Necessary Python Libraries to make the project\n",
    "\n",
    "import numpy as np # linear algebra\n",
    "import pandas as pd # data processing\n",
    "import plotly.express as px #for visualization\n",
    "import matplotlib.pyplot as plt #for visualization \n",
    "import seaborn as sns"
   ]
  },
  {
   "cell_type": "markdown",
   "id": "f93df03f",
   "metadata": {
    "papermill": {
     "duration": 0.010619,
     "end_time": "2024-03-20T08:19:12.991829",
     "exception": false,
     "start_time": "2024-03-20T08:19:12.981210",
     "status": "completed"
    },
    "tags": []
   },
   "source": [
    "<h1 style=\"color:Tomato; text-align:center;\">Step 1- Data Preparation\n",
    "</h1>"
   ]
  },
  {
   "cell_type": "code",
   "execution_count": 2,
   "id": "33d01555",
   "metadata": {
    "execution": {
     "iopub.execute_input": "2024-03-20T08:19:13.016161Z",
     "iopub.status.busy": "2024-03-20T08:19:13.015558Z",
     "iopub.status.idle": "2024-03-20T08:19:13.029934Z",
     "shell.execute_reply": "2024-03-20T08:19:13.028948Z"
    },
    "papermill": {
     "duration": 0.029569,
     "end_time": "2024-03-20T08:19:13.032516",
     "exception": false,
     "start_time": "2024-03-20T08:19:13.002947",
     "status": "completed"
    },
    "tags": []
   },
   "outputs": [],
   "source": [
    "# Step1 - Data Prepration\n",
    "# Source code to Simulate Customer Data\n",
    "# Code provided in PDF\n",
    "# does not contains any null values as it is auto generated\n",
    "\n",
    "np.random.seed(42)\n",
    "customer_data={}\n",
    "customer_data['CustomerId']=np.random.randint(10000,20000,size=10000)\n",
    "customer_data['CreditScore']=np.random.randint(500,800,size=10000)\n",
    "customer_data['Age']=np.random.randint(20,60,size=10000)\n",
    "customer_data['Tenure']=np.random.randint(1,10,size=10000)\n",
    "customer_data['Balance']=np.random.randint(1000,10000,size=10000)\n",
    "customer_data['NumOfProducts']=np.random.randint(1,5,size=10000)\n",
    "customer_data['HasCrCard']=np.random.choice(['Yes','No'], size=10000)\n",
    "customer_data['IsActiveMember']=np.random.choice(['Yes','No'], size=10000)\n",
    "customer_data['EstimatedSalary']=np.random.randint(30000,100000,size=10000)\n",
    "customer_data['Churn']=np.random.choice(['Yes','No'],size=10000, p=[0.1,0.9])"
   ]
  },
  {
   "cell_type": "code",
   "execution_count": 3,
   "id": "9d114edd",
   "metadata": {
    "execution": {
     "iopub.execute_input": "2024-03-20T08:19:13.056970Z",
     "iopub.status.busy": "2024-03-20T08:19:13.056103Z",
     "iopub.status.idle": "2024-03-20T08:19:13.064334Z",
     "shell.execute_reply": "2024-03-20T08:19:13.063296Z"
    },
    "papermill": {
     "duration": 0.022771,
     "end_time": "2024-03-20T08:19:13.066567",
     "exception": false,
     "start_time": "2024-03-20T08:19:13.043796",
     "status": "completed"
    },
    "tags": []
   },
   "outputs": [
    {
     "name": "stdout",
     "output_type": "stream",
     "text": [
      "{'CustomerId': array([17270, 10860, 15390, ..., 11389, 14276, 11249]), 'CreditScore': array([594, 796, 580, ..., 558, 684, 543]), 'Age': array([31, 35, 56, ..., 57, 44, 51]), 'Tenure': array([3, 3, 3, ..., 9, 2, 2]), 'Balance': array([3414, 6656, 9962, ..., 6342, 3163, 4076]), 'NumOfProducts': array([1, 2, 3, ..., 1, 2, 3]), 'HasCrCard': array(['Yes', 'Yes', 'Yes', ..., 'No', 'Yes', 'Yes'], dtype='<U3'), 'IsActiveMember': array(['No', 'Yes', 'No', ..., 'Yes', 'No', 'Yes'], dtype='<U3'), 'EstimatedSalary': array([93705, 61819, 75376, ..., 50665, 43352, 45269]), 'Churn': array(['No', 'No', 'No', ..., 'No', 'No', 'No'], dtype='<U3')}\n"
     ]
    }
   ],
   "source": [
    "# Printing and checking the CustomerId Dictionary\n",
    "print(customer_data)"
   ]
  },
  {
   "cell_type": "code",
   "execution_count": 4,
   "id": "aa3c8833",
   "metadata": {
    "execution": {
     "iopub.execute_input": "2024-03-20T08:19:13.091464Z",
     "iopub.status.busy": "2024-03-20T08:19:13.090808Z",
     "iopub.status.idle": "2024-03-20T08:19:13.103820Z",
     "shell.execute_reply": "2024-03-20T08:19:13.102935Z"
    },
    "papermill": {
     "duration": 0.028103,
     "end_time": "2024-03-20T08:19:13.106317",
     "exception": false,
     "start_time": "2024-03-20T08:19:13.078214",
     "status": "completed"
    },
    "tags": []
   },
   "outputs": [],
   "source": [
    "# Making a DataFrame from the data provided\n",
    "customer_data_df=pd.DataFrame(customer_data)"
   ]
  },
  {
   "cell_type": "code",
   "execution_count": 5,
   "id": "185415e6",
   "metadata": {
    "execution": {
     "iopub.execute_input": "2024-03-20T08:19:13.131239Z",
     "iopub.status.busy": "2024-03-20T08:19:13.130572Z",
     "iopub.status.idle": "2024-03-20T08:19:13.177976Z",
     "shell.execute_reply": "2024-03-20T08:19:13.177142Z"
    },
    "papermill": {
     "duration": 0.062397,
     "end_time": "2024-03-20T08:19:13.180051",
     "exception": false,
     "start_time": "2024-03-20T08:19:13.117654",
     "status": "completed"
    },
    "tags": []
   },
   "outputs": [
    {
     "data": {
      "text/html": [
       "<div>\n",
       "<style scoped>\n",
       "    .dataframe tbody tr th:only-of-type {\n",
       "        vertical-align: middle;\n",
       "    }\n",
       "\n",
       "    .dataframe tbody tr th {\n",
       "        vertical-align: top;\n",
       "    }\n",
       "\n",
       "    .dataframe thead th {\n",
       "        text-align: right;\n",
       "    }\n",
       "</style>\n",
       "<table border=\"1\" class=\"dataframe\">\n",
       "  <thead>\n",
       "    <tr style=\"text-align: right;\">\n",
       "      <th></th>\n",
       "      <th>CustomerId</th>\n",
       "      <th>CreditScore</th>\n",
       "      <th>Age</th>\n",
       "      <th>Tenure</th>\n",
       "      <th>Balance</th>\n",
       "      <th>NumOfProducts</th>\n",
       "      <th>EstimatedSalary</th>\n",
       "    </tr>\n",
       "  </thead>\n",
       "  <tbody>\n",
       "    <tr>\n",
       "      <th>count</th>\n",
       "      <td>10000.00000</td>\n",
       "      <td>10000.000000</td>\n",
       "      <td>10000.000000</td>\n",
       "      <td>10000.000000</td>\n",
       "      <td>10000.000000</td>\n",
       "      <td>10000.000000</td>\n",
       "      <td>10000.000000</td>\n",
       "    </tr>\n",
       "    <tr>\n",
       "      <th>mean</th>\n",
       "      <td>14964.05660</td>\n",
       "      <td>648.951900</td>\n",
       "      <td>39.594800</td>\n",
       "      <td>5.067600</td>\n",
       "      <td>5491.554700</td>\n",
       "      <td>2.486000</td>\n",
       "      <td>65164.904100</td>\n",
       "    </tr>\n",
       "    <tr>\n",
       "      <th>std</th>\n",
       "      <td>2879.64797</td>\n",
       "      <td>86.880684</td>\n",
       "      <td>11.494643</td>\n",
       "      <td>2.572138</td>\n",
       "      <td>2613.567682</td>\n",
       "      <td>1.117197</td>\n",
       "      <td>20162.807821</td>\n",
       "    </tr>\n",
       "    <tr>\n",
       "      <th>min</th>\n",
       "      <td>10001.00000</td>\n",
       "      <td>500.000000</td>\n",
       "      <td>20.000000</td>\n",
       "      <td>1.000000</td>\n",
       "      <td>1000.000000</td>\n",
       "      <td>1.000000</td>\n",
       "      <td>30002.000000</td>\n",
       "    </tr>\n",
       "    <tr>\n",
       "      <th>25%</th>\n",
       "      <td>12499.25000</td>\n",
       "      <td>572.000000</td>\n",
       "      <td>30.000000</td>\n",
       "      <td>3.000000</td>\n",
       "      <td>3189.750000</td>\n",
       "      <td>1.000000</td>\n",
       "      <td>47688.500000</td>\n",
       "    </tr>\n",
       "    <tr>\n",
       "      <th>50%</th>\n",
       "      <td>14935.50000</td>\n",
       "      <td>649.000000</td>\n",
       "      <td>40.000000</td>\n",
       "      <td>5.000000</td>\n",
       "      <td>5502.000000</td>\n",
       "      <td>2.000000</td>\n",
       "      <td>65224.500000</td>\n",
       "    </tr>\n",
       "    <tr>\n",
       "      <th>75%</th>\n",
       "      <td>17401.00000</td>\n",
       "      <td>725.000000</td>\n",
       "      <td>50.000000</td>\n",
       "      <td>7.000000</td>\n",
       "      <td>7765.250000</td>\n",
       "      <td>3.000000</td>\n",
       "      <td>82826.750000</td>\n",
       "    </tr>\n",
       "    <tr>\n",
       "      <th>max</th>\n",
       "      <td>19998.00000</td>\n",
       "      <td>799.000000</td>\n",
       "      <td>59.000000</td>\n",
       "      <td>9.000000</td>\n",
       "      <td>9998.000000</td>\n",
       "      <td>4.000000</td>\n",
       "      <td>99997.000000</td>\n",
       "    </tr>\n",
       "  </tbody>\n",
       "</table>\n",
       "</div>"
      ],
      "text/plain": [
       "        CustomerId   CreditScore           Age        Tenure       Balance  \\\n",
       "count  10000.00000  10000.000000  10000.000000  10000.000000  10000.000000   \n",
       "mean   14964.05660    648.951900     39.594800      5.067600   5491.554700   \n",
       "std     2879.64797     86.880684     11.494643      2.572138   2613.567682   \n",
       "min    10001.00000    500.000000     20.000000      1.000000   1000.000000   \n",
       "25%    12499.25000    572.000000     30.000000      3.000000   3189.750000   \n",
       "50%    14935.50000    649.000000     40.000000      5.000000   5502.000000   \n",
       "75%    17401.00000    725.000000     50.000000      7.000000   7765.250000   \n",
       "max    19998.00000    799.000000     59.000000      9.000000   9998.000000   \n",
       "\n",
       "       NumOfProducts  EstimatedSalary  \n",
       "count   10000.000000     10000.000000  \n",
       "mean        2.486000     65164.904100  \n",
       "std         1.117197     20162.807821  \n",
       "min         1.000000     30002.000000  \n",
       "25%         1.000000     47688.500000  \n",
       "50%         2.000000     65224.500000  \n",
       "75%         3.000000     82826.750000  \n",
       "max         4.000000     99997.000000  "
      ]
     },
     "execution_count": 5,
     "metadata": {},
     "output_type": "execute_result"
    }
   ],
   "source": [
    "# Describing the dataframe to see the basic analysis of data\n",
    "customer_data_df.describe()"
   ]
  },
  {
   "cell_type": "code",
   "execution_count": 6,
   "id": "6765188c",
   "metadata": {
    "execution": {
     "iopub.execute_input": "2024-03-20T08:19:13.205218Z",
     "iopub.status.busy": "2024-03-20T08:19:13.204539Z",
     "iopub.status.idle": "2024-03-20T08:19:13.216917Z",
     "shell.execute_reply": "2024-03-20T08:19:13.215958Z"
    },
    "papermill": {
     "duration": 0.027744,
     "end_time": "2024-03-20T08:19:13.219187",
     "exception": false,
     "start_time": "2024-03-20T08:19:13.191443",
     "status": "completed"
    },
    "tags": []
   },
   "outputs": [
    {
     "data": {
      "text/html": [
       "<div>\n",
       "<style scoped>\n",
       "    .dataframe tbody tr th:only-of-type {\n",
       "        vertical-align: middle;\n",
       "    }\n",
       "\n",
       "    .dataframe tbody tr th {\n",
       "        vertical-align: top;\n",
       "    }\n",
       "\n",
       "    .dataframe thead th {\n",
       "        text-align: right;\n",
       "    }\n",
       "</style>\n",
       "<table border=\"1\" class=\"dataframe\">\n",
       "  <thead>\n",
       "    <tr style=\"text-align: right;\">\n",
       "      <th></th>\n",
       "      <th>CustomerId</th>\n",
       "      <th>CreditScore</th>\n",
       "      <th>Age</th>\n",
       "      <th>Tenure</th>\n",
       "      <th>Balance</th>\n",
       "      <th>NumOfProducts</th>\n",
       "      <th>HasCrCard</th>\n",
       "      <th>IsActiveMember</th>\n",
       "      <th>EstimatedSalary</th>\n",
       "      <th>Churn</th>\n",
       "    </tr>\n",
       "  </thead>\n",
       "  <tbody>\n",
       "    <tr>\n",
       "      <th>0</th>\n",
       "      <td>17270</td>\n",
       "      <td>594</td>\n",
       "      <td>31</td>\n",
       "      <td>3</td>\n",
       "      <td>3414</td>\n",
       "      <td>1</td>\n",
       "      <td>Yes</td>\n",
       "      <td>No</td>\n",
       "      <td>93705</td>\n",
       "      <td>No</td>\n",
       "    </tr>\n",
       "    <tr>\n",
       "      <th>1</th>\n",
       "      <td>10860</td>\n",
       "      <td>796</td>\n",
       "      <td>35</td>\n",
       "      <td>3</td>\n",
       "      <td>6656</td>\n",
       "      <td>2</td>\n",
       "      <td>Yes</td>\n",
       "      <td>Yes</td>\n",
       "      <td>61819</td>\n",
       "      <td>No</td>\n",
       "    </tr>\n",
       "    <tr>\n",
       "      <th>2</th>\n",
       "      <td>15390</td>\n",
       "      <td>580</td>\n",
       "      <td>56</td>\n",
       "      <td>3</td>\n",
       "      <td>9962</td>\n",
       "      <td>3</td>\n",
       "      <td>Yes</td>\n",
       "      <td>No</td>\n",
       "      <td>75376</td>\n",
       "      <td>No</td>\n",
       "    </tr>\n",
       "    <tr>\n",
       "      <th>3</th>\n",
       "      <td>15191</td>\n",
       "      <td>674</td>\n",
       "      <td>35</td>\n",
       "      <td>2</td>\n",
       "      <td>6147</td>\n",
       "      <td>1</td>\n",
       "      <td>No</td>\n",
       "      <td>No</td>\n",
       "      <td>60504</td>\n",
       "      <td>No</td>\n",
       "    </tr>\n",
       "    <tr>\n",
       "      <th>4</th>\n",
       "      <td>15734</td>\n",
       "      <td>721</td>\n",
       "      <td>36</td>\n",
       "      <td>6</td>\n",
       "      <td>5444</td>\n",
       "      <td>1</td>\n",
       "      <td>Yes</td>\n",
       "      <td>Yes</td>\n",
       "      <td>72288</td>\n",
       "      <td>No</td>\n",
       "    </tr>\n",
       "  </tbody>\n",
       "</table>\n",
       "</div>"
      ],
      "text/plain": [
       "   CustomerId  CreditScore  Age  Tenure  Balance  NumOfProducts HasCrCard  \\\n",
       "0       17270          594   31       3     3414              1       Yes   \n",
       "1       10860          796   35       3     6656              2       Yes   \n",
       "2       15390          580   56       3     9962              3       Yes   \n",
       "3       15191          674   35       2     6147              1        No   \n",
       "4       15734          721   36       6     5444              1       Yes   \n",
       "\n",
       "  IsActiveMember  EstimatedSalary Churn  \n",
       "0             No            93705    No  \n",
       "1            Yes            61819    No  \n",
       "2             No            75376    No  \n",
       "3             No            60504    No  \n",
       "4            Yes            72288    No  "
      ]
     },
     "execution_count": 6,
     "metadata": {},
     "output_type": "execute_result"
    }
   ],
   "source": [
    "# printing the data of the dataframe\n",
    "customer_data_df.head()"
   ]
  },
  {
   "cell_type": "markdown",
   "id": "6f726069",
   "metadata": {
    "papermill": {
     "duration": 0.011403,
     "end_time": "2024-03-20T08:19:13.242806",
     "exception": false,
     "start_time": "2024-03-20T08:19:13.231403",
     "status": "completed"
    },
    "tags": []
   },
   "source": [
    "# Checking wheather the Customer_data contains any missing values or not"
   ]
  },
  {
   "cell_type": "code",
   "execution_count": 7,
   "id": "4528ee7a",
   "metadata": {
    "execution": {
     "iopub.execute_input": "2024-03-20T08:19:13.269465Z",
     "iopub.status.busy": "2024-03-20T08:19:13.268711Z",
     "iopub.status.idle": "2024-03-20T08:19:13.277009Z",
     "shell.execute_reply": "2024-03-20T08:19:13.275785Z"
    },
    "papermill": {
     "duration": 0.024324,
     "end_time": "2024-03-20T08:19:13.279202",
     "exception": false,
     "start_time": "2024-03-20T08:19:13.254878",
     "status": "completed"
    },
    "tags": []
   },
   "outputs": [
    {
     "name": "stdout",
     "output_type": "stream",
     "text": [
      "Missing values: 0\n"
     ]
    }
   ],
   "source": [
    "print(\"Missing values:\", customer_data_df.isnull().sum().values.sum())"
   ]
  },
  {
   "cell_type": "markdown",
   "id": "1913aaf8",
   "metadata": {
    "papermill": {
     "duration": 0.011184,
     "end_time": "2024-03-20T08:19:13.302492",
     "exception": false,
     "start_time": "2024-03-20T08:19:13.291308",
     "status": "completed"
    },
    "tags": []
   },
   "source": [
    "<h1 style=\"color:Tomato; text-align:center;\">Step 2 - Feature Engineering\n",
    "</h1>"
   ]
  },
  {
   "cell_type": "code",
   "execution_count": 8,
   "id": "fef6f43d",
   "metadata": {
    "execution": {
     "iopub.execute_input": "2024-03-20T08:19:13.327194Z",
     "iopub.status.busy": "2024-03-20T08:19:13.326794Z",
     "iopub.status.idle": "2024-03-20T08:19:13.352915Z",
     "shell.execute_reply": "2024-03-20T08:19:13.351780Z"
    },
    "papermill": {
     "duration": 0.041195,
     "end_time": "2024-03-20T08:19:13.355192",
     "exception": false,
     "start_time": "2024-03-20T08:19:13.313997",
     "status": "completed"
    },
    "tags": []
   },
   "outputs": [
    {
     "data": {
      "text/html": [
       "<div>\n",
       "<style scoped>\n",
       "    .dataframe tbody tr th:only-of-type {\n",
       "        vertical-align: middle;\n",
       "    }\n",
       "\n",
       "    .dataframe tbody tr th {\n",
       "        vertical-align: top;\n",
       "    }\n",
       "\n",
       "    .dataframe thead th {\n",
       "        text-align: right;\n",
       "    }\n",
       "</style>\n",
       "<table border=\"1\" class=\"dataframe\">\n",
       "  <thead>\n",
       "    <tr style=\"text-align: right;\">\n",
       "      <th></th>\n",
       "      <th>CustomerId</th>\n",
       "      <th>CreditScore</th>\n",
       "      <th>Age</th>\n",
       "      <th>Tenure</th>\n",
       "      <th>Balance</th>\n",
       "      <th>NumOfProducts</th>\n",
       "      <th>HasCrCard</th>\n",
       "      <th>IsActiveMember</th>\n",
       "      <th>EstimatedSalary</th>\n",
       "      <th>Churn</th>\n",
       "      <th>CustomerLifetimeValue</th>\n",
       "      <th>CustomerEngagementScore</th>\n",
       "    </tr>\n",
       "  </thead>\n",
       "  <tbody>\n",
       "    <tr>\n",
       "      <th>0</th>\n",
       "      <td>17270</td>\n",
       "      <td>594</td>\n",
       "      <td>31</td>\n",
       "      <td>3</td>\n",
       "      <td>3414</td>\n",
       "      <td>1</td>\n",
       "      <td>Yes</td>\n",
       "      <td>0</td>\n",
       "      <td>93705</td>\n",
       "      <td>No</td>\n",
       "      <td>10242</td>\n",
       "      <td>0.5</td>\n",
       "    </tr>\n",
       "    <tr>\n",
       "      <th>1</th>\n",
       "      <td>10860</td>\n",
       "      <td>796</td>\n",
       "      <td>35</td>\n",
       "      <td>3</td>\n",
       "      <td>6656</td>\n",
       "      <td>2</td>\n",
       "      <td>Yes</td>\n",
       "      <td>1</td>\n",
       "      <td>61819</td>\n",
       "      <td>No</td>\n",
       "      <td>19968</td>\n",
       "      <td>1.5</td>\n",
       "    </tr>\n",
       "    <tr>\n",
       "      <th>2</th>\n",
       "      <td>15390</td>\n",
       "      <td>580</td>\n",
       "      <td>56</td>\n",
       "      <td>3</td>\n",
       "      <td>9962</td>\n",
       "      <td>3</td>\n",
       "      <td>Yes</td>\n",
       "      <td>0</td>\n",
       "      <td>75376</td>\n",
       "      <td>No</td>\n",
       "      <td>29886</td>\n",
       "      <td>1.5</td>\n",
       "    </tr>\n",
       "    <tr>\n",
       "      <th>3</th>\n",
       "      <td>15191</td>\n",
       "      <td>674</td>\n",
       "      <td>35</td>\n",
       "      <td>2</td>\n",
       "      <td>6147</td>\n",
       "      <td>1</td>\n",
       "      <td>No</td>\n",
       "      <td>0</td>\n",
       "      <td>60504</td>\n",
       "      <td>No</td>\n",
       "      <td>12294</td>\n",
       "      <td>0.5</td>\n",
       "    </tr>\n",
       "    <tr>\n",
       "      <th>4</th>\n",
       "      <td>15734</td>\n",
       "      <td>721</td>\n",
       "      <td>36</td>\n",
       "      <td>6</td>\n",
       "      <td>5444</td>\n",
       "      <td>1</td>\n",
       "      <td>Yes</td>\n",
       "      <td>1</td>\n",
       "      <td>72288</td>\n",
       "      <td>No</td>\n",
       "      <td>32664</td>\n",
       "      <td>1.0</td>\n",
       "    </tr>\n",
       "  </tbody>\n",
       "</table>\n",
       "</div>"
      ],
      "text/plain": [
       "   CustomerId  CreditScore  Age  Tenure  Balance  NumOfProducts HasCrCard  \\\n",
       "0       17270          594   31       3     3414              1       Yes   \n",
       "1       10860          796   35       3     6656              2       Yes   \n",
       "2       15390          580   56       3     9962              3       Yes   \n",
       "3       15191          674   35       2     6147              1        No   \n",
       "4       15734          721   36       6     5444              1       Yes   \n",
       "\n",
       "   IsActiveMember  EstimatedSalary Churn  CustomerLifetimeValue  \\\n",
       "0               0            93705    No                  10242   \n",
       "1               1            61819    No                  19968   \n",
       "2               0            75376    No                  29886   \n",
       "3               0            60504    No                  12294   \n",
       "4               1            72288    No                  32664   \n",
       "\n",
       "   CustomerEngagementScore  \n",
       "0                      0.5  \n",
       "1                      1.5  \n",
       "2                      1.5  \n",
       "3                      0.5  \n",
       "4                      1.0  "
      ]
     },
     "execution_count": 8,
     "metadata": {},
     "output_type": "execute_result"
    }
   ],
   "source": [
    "# Step 2 Feature Engineering\n",
    "# Create new rows- CustomerLifetimeValue and CustomerEngagementScore\n",
    "\n",
    "customer_data_df['IsActiveMember']=customer_data_df['IsActiveMember'].replace({'No': 0, 'Yes': 1}) #replace Yes/No values in IsActiveMember column to 1/0\n",
    "\n",
    "customer_data_df['CustomerLifetimeValue']=customer_data_df['Tenure']*customer_data_df['Balance']\n",
    "\n",
    "customer_data_df['CustomerEngagementScore']=(customer_data_df['NumOfProducts']+ customer_data_df['IsActiveMember'])/2\n",
    "\n",
    "customer_data_df.head()"
   ]
  },
  {
   "cell_type": "code",
   "execution_count": 9,
   "id": "c2abbd07",
   "metadata": {
    "execution": {
     "iopub.execute_input": "2024-03-20T08:19:13.441326Z",
     "iopub.status.busy": "2024-03-20T08:19:13.440899Z",
     "iopub.status.idle": "2024-03-20T08:19:13.461944Z",
     "shell.execute_reply": "2024-03-20T08:19:13.460628Z"
    },
    "papermill": {
     "duration": 0.036872,
     "end_time": "2024-03-20T08:19:13.464245",
     "exception": false,
     "start_time": "2024-03-20T08:19:13.427373",
     "status": "completed"
    },
    "tags": []
   },
   "outputs": [
    {
     "name": "stdout",
     "output_type": "stream",
     "text": [
      "Overview of the dataset\n",
      "Number of rows:  10000\n",
      "Number of features: 12\n",
      "Data Features:\n",
      "['CustomerId', 'CreditScore', 'Age', 'Tenure', 'Balance', 'NumOfProducts', 'HasCrCard', 'IsActiveMember', 'EstimatedSalary', 'Churn', 'CustomerLifetimeValue', 'CustomerEngagementScore']\n",
      "Missing values: 0\n",
      "Unique values:\n",
      "CustomerId                 6280\n",
      "CreditScore                 300\n",
      "Age                          40\n",
      "Tenure                        9\n",
      "Balance                    6069\n",
      "NumOfProducts                 4\n",
      "HasCrCard                     2\n",
      "IsActiveMember                2\n",
      "EstimatedSalary            9303\n",
      "Churn                         2\n",
      "CustomerLifetimeValue      8609\n",
      "CustomerEngagementScore       5\n",
      "dtype: int64\n"
     ]
    }
   ],
   "source": [
    "# Seeing an Overview of the Customer DataFrame\n",
    "\n",
    "print('Overview of the dataset')\n",
    "print('Number of rows: ', customer_data_df.shape[0])\n",
    "print(\"Number of features:\", customer_data_df.shape[1])\n",
    "print(\"Data Features:\")\n",
    "print(customer_data_df.columns.tolist())\n",
    "print(\"Missing values:\", customer_data_df.isnull().sum().values.sum())\n",
    "print(\"Unique values:\")\n",
    "print(customer_data_df.nunique())\n"
   ]
  },
  {
   "cell_type": "markdown",
   "id": "cdf736f8",
   "metadata": {
    "papermill": {
     "duration": 0.011729,
     "end_time": "2024-03-20T08:19:13.488382",
     "exception": false,
     "start_time": "2024-03-20T08:19:13.476653",
     "status": "completed"
    },
    "tags": []
   },
   "source": [
    "<h1 style=\"color:Tomato; text-align:center;\">Step 3 - Exploratory Data Analysis (EDA)\n",
    "</h1>"
   ]
  },
  {
   "cell_type": "code",
   "execution_count": 10,
   "id": "7941d9e2",
   "metadata": {
    "execution": {
     "iopub.execute_input": "2024-03-20T08:19:13.514900Z",
     "iopub.status.busy": "2024-03-20T08:19:13.514184Z",
     "iopub.status.idle": "2024-03-20T08:19:15.447894Z",
     "shell.execute_reply": "2024-03-20T08:19:15.446604Z"
    },
    "papermill": {
     "duration": 1.949742,
     "end_time": "2024-03-20T08:19:15.450297",
     "exception": false,
     "start_time": "2024-03-20T08:19:13.500555",
     "status": "completed"
    },
    "tags": []
   },
   "outputs": [
    {
     "data": {
      "text/html": [
       "        <script type=\"text/javascript\">\n",
       "        window.PlotlyConfig = {MathJaxConfig: 'local'};\n",
       "        if (window.MathJax && window.MathJax.Hub && window.MathJax.Hub.Config) {window.MathJax.Hub.Config({SVG: {font: \"STIX-Web\"}});}\n",
       "        if (typeof require !== 'undefined') {\n",
       "        require.undef(\"plotly\");\n",
       "        requirejs.config({\n",
       "            paths: {\n",
       "                'plotly': ['https://cdn.plot.ly/plotly-2.24.1.min']\n",
       "            }\n",
       "        });\n",
       "        require(['plotly'], function(Plotly) {\n",
       "            window._Plotly = Plotly;\n",
       "        });\n",
       "        }\n",
       "        </script>\n",
       "        "
      ]
     },
     "metadata": {},
     "output_type": "display_data"
    },
    {
     "data": {
      "text/html": [
       "<div>                            <div id=\"8abbe7fc-9bbc-40b1-bab8-4b40ad462521\" class=\"plotly-graph-div\" style=\"height:525px; width:100%;\"></div>            <script type=\"text/javascript\">                require([\"plotly\"], function(Plotly) {                    window.PLOTLYENV=window.PLOTLYENV || {};                                    if (document.getElementById(\"8abbe7fc-9bbc-40b1-bab8-4b40ad462521\")) {                    Plotly.newPlot(                        \"8abbe7fc-9bbc-40b1-bab8-4b40ad462521\",                        [{\"domain\":{\"x\":[0.0,1.0],\"y\":[0.0,1.0]},\"hovertemplate\":\"Churn=%{label}\\u003cbr\\u003ecount=%{value}\\u003cextra\\u003e\\u003c\\u002fextra\\u003e\",\"labels\":[\"No\",\"Yes\"],\"legendgroup\":\"\",\"name\":\"\",\"showlegend\":true,\"values\":[9023,977],\"type\":\"pie\"}],                        {\"template\":{\"data\":{\"histogram2dcontour\":[{\"type\":\"histogram2dcontour\",\"colorbar\":{\"outlinewidth\":0,\"ticks\":\"\"},\"colorscale\":[[0.0,\"#0d0887\"],[0.1111111111111111,\"#46039f\"],[0.2222222222222222,\"#7201a8\"],[0.3333333333333333,\"#9c179e\"],[0.4444444444444444,\"#bd3786\"],[0.5555555555555556,\"#d8576b\"],[0.6666666666666666,\"#ed7953\"],[0.7777777777777778,\"#fb9f3a\"],[0.8888888888888888,\"#fdca26\"],[1.0,\"#f0f921\"]]}],\"choropleth\":[{\"type\":\"choropleth\",\"colorbar\":{\"outlinewidth\":0,\"ticks\":\"\"}}],\"histogram2d\":[{\"type\":\"histogram2d\",\"colorbar\":{\"outlinewidth\":0,\"ticks\":\"\"},\"colorscale\":[[0.0,\"#0d0887\"],[0.1111111111111111,\"#46039f\"],[0.2222222222222222,\"#7201a8\"],[0.3333333333333333,\"#9c179e\"],[0.4444444444444444,\"#bd3786\"],[0.5555555555555556,\"#d8576b\"],[0.6666666666666666,\"#ed7953\"],[0.7777777777777778,\"#fb9f3a\"],[0.8888888888888888,\"#fdca26\"],[1.0,\"#f0f921\"]]}],\"heatmap\":[{\"type\":\"heatmap\",\"colorbar\":{\"outlinewidth\":0,\"ticks\":\"\"},\"colorscale\":[[0.0,\"#0d0887\"],[0.1111111111111111,\"#46039f\"],[0.2222222222222222,\"#7201a8\"],[0.3333333333333333,\"#9c179e\"],[0.4444444444444444,\"#bd3786\"],[0.5555555555555556,\"#d8576b\"],[0.6666666666666666,\"#ed7953\"],[0.7777777777777778,\"#fb9f3a\"],[0.8888888888888888,\"#fdca26\"],[1.0,\"#f0f921\"]]}],\"heatmapgl\":[{\"type\":\"heatmapgl\",\"colorbar\":{\"outlinewidth\":0,\"ticks\":\"\"},\"colorscale\":[[0.0,\"#0d0887\"],[0.1111111111111111,\"#46039f\"],[0.2222222222222222,\"#7201a8\"],[0.3333333333333333,\"#9c179e\"],[0.4444444444444444,\"#bd3786\"],[0.5555555555555556,\"#d8576b\"],[0.6666666666666666,\"#ed7953\"],[0.7777777777777778,\"#fb9f3a\"],[0.8888888888888888,\"#fdca26\"],[1.0,\"#f0f921\"]]}],\"contourcarpet\":[{\"type\":\"contourcarpet\",\"colorbar\":{\"outlinewidth\":0,\"ticks\":\"\"}}],\"contour\":[{\"type\":\"contour\",\"colorbar\":{\"outlinewidth\":0,\"ticks\":\"\"},\"colorscale\":[[0.0,\"#0d0887\"],[0.1111111111111111,\"#46039f\"],[0.2222222222222222,\"#7201a8\"],[0.3333333333333333,\"#9c179e\"],[0.4444444444444444,\"#bd3786\"],[0.5555555555555556,\"#d8576b\"],[0.6666666666666666,\"#ed7953\"],[0.7777777777777778,\"#fb9f3a\"],[0.8888888888888888,\"#fdca26\"],[1.0,\"#f0f921\"]]}],\"surface\":[{\"type\":\"surface\",\"colorbar\":{\"outlinewidth\":0,\"ticks\":\"\"},\"colorscale\":[[0.0,\"#0d0887\"],[0.1111111111111111,\"#46039f\"],[0.2222222222222222,\"#7201a8\"],[0.3333333333333333,\"#9c179e\"],[0.4444444444444444,\"#bd3786\"],[0.5555555555555556,\"#d8576b\"],[0.6666666666666666,\"#ed7953\"],[0.7777777777777778,\"#fb9f3a\"],[0.8888888888888888,\"#fdca26\"],[1.0,\"#f0f921\"]]}],\"mesh3d\":[{\"type\":\"mesh3d\",\"colorbar\":{\"outlinewidth\":0,\"ticks\":\"\"}}],\"scatter\":[{\"fillpattern\":{\"fillmode\":\"overlay\",\"size\":10,\"solidity\":0.2},\"type\":\"scatter\"}],\"parcoords\":[{\"type\":\"parcoords\",\"line\":{\"colorbar\":{\"outlinewidth\":0,\"ticks\":\"\"}}}],\"scatterpolargl\":[{\"type\":\"scatterpolargl\",\"marker\":{\"colorbar\":{\"outlinewidth\":0,\"ticks\":\"\"}}}],\"bar\":[{\"error_x\":{\"color\":\"#2a3f5f\"},\"error_y\":{\"color\":\"#2a3f5f\"},\"marker\":{\"line\":{\"color\":\"#E5ECF6\",\"width\":0.5},\"pattern\":{\"fillmode\":\"overlay\",\"size\":10,\"solidity\":0.2}},\"type\":\"bar\"}],\"scattergeo\":[{\"type\":\"scattergeo\",\"marker\":{\"colorbar\":{\"outlinewidth\":0,\"ticks\":\"\"}}}],\"scatterpolar\":[{\"type\":\"scatterpolar\",\"marker\":{\"colorbar\":{\"outlinewidth\":0,\"ticks\":\"\"}}}],\"histogram\":[{\"marker\":{\"pattern\":{\"fillmode\":\"overlay\",\"size\":10,\"solidity\":0.2}},\"type\":\"histogram\"}],\"scattergl\":[{\"type\":\"scattergl\",\"marker\":{\"colorbar\":{\"outlinewidth\":0,\"ticks\":\"\"}}}],\"scatter3d\":[{\"type\":\"scatter3d\",\"line\":{\"colorbar\":{\"outlinewidth\":0,\"ticks\":\"\"}},\"marker\":{\"colorbar\":{\"outlinewidth\":0,\"ticks\":\"\"}}}],\"scattermapbox\":[{\"type\":\"scattermapbox\",\"marker\":{\"colorbar\":{\"outlinewidth\":0,\"ticks\":\"\"}}}],\"scatterternary\":[{\"type\":\"scatterternary\",\"marker\":{\"colorbar\":{\"outlinewidth\":0,\"ticks\":\"\"}}}],\"scattercarpet\":[{\"type\":\"scattercarpet\",\"marker\":{\"colorbar\":{\"outlinewidth\":0,\"ticks\":\"\"}}}],\"carpet\":[{\"aaxis\":{\"endlinecolor\":\"#2a3f5f\",\"gridcolor\":\"white\",\"linecolor\":\"white\",\"minorgridcolor\":\"white\",\"startlinecolor\":\"#2a3f5f\"},\"baxis\":{\"endlinecolor\":\"#2a3f5f\",\"gridcolor\":\"white\",\"linecolor\":\"white\",\"minorgridcolor\":\"white\",\"startlinecolor\":\"#2a3f5f\"},\"type\":\"carpet\"}],\"table\":[{\"cells\":{\"fill\":{\"color\":\"#EBF0F8\"},\"line\":{\"color\":\"white\"}},\"header\":{\"fill\":{\"color\":\"#C8D4E3\"},\"line\":{\"color\":\"white\"}},\"type\":\"table\"}],\"barpolar\":[{\"marker\":{\"line\":{\"color\":\"#E5ECF6\",\"width\":0.5},\"pattern\":{\"fillmode\":\"overlay\",\"size\":10,\"solidity\":0.2}},\"type\":\"barpolar\"}],\"pie\":[{\"automargin\":true,\"type\":\"pie\"}]},\"layout\":{\"autotypenumbers\":\"strict\",\"colorway\":[\"#636efa\",\"#EF553B\",\"#00cc96\",\"#ab63fa\",\"#FFA15A\",\"#19d3f3\",\"#FF6692\",\"#B6E880\",\"#FF97FF\",\"#FECB52\"],\"font\":{\"color\":\"#2a3f5f\"},\"hovermode\":\"closest\",\"hoverlabel\":{\"align\":\"left\"},\"paper_bgcolor\":\"white\",\"plot_bgcolor\":\"#E5ECF6\",\"polar\":{\"bgcolor\":\"#E5ECF6\",\"angularaxis\":{\"gridcolor\":\"white\",\"linecolor\":\"white\",\"ticks\":\"\"},\"radialaxis\":{\"gridcolor\":\"white\",\"linecolor\":\"white\",\"ticks\":\"\"}},\"ternary\":{\"bgcolor\":\"#E5ECF6\",\"aaxis\":{\"gridcolor\":\"white\",\"linecolor\":\"white\",\"ticks\":\"\"},\"baxis\":{\"gridcolor\":\"white\",\"linecolor\":\"white\",\"ticks\":\"\"},\"caxis\":{\"gridcolor\":\"white\",\"linecolor\":\"white\",\"ticks\":\"\"}},\"coloraxis\":{\"colorbar\":{\"outlinewidth\":0,\"ticks\":\"\"}},\"colorscale\":{\"sequential\":[[0.0,\"#0d0887\"],[0.1111111111111111,\"#46039f\"],[0.2222222222222222,\"#7201a8\"],[0.3333333333333333,\"#9c179e\"],[0.4444444444444444,\"#bd3786\"],[0.5555555555555556,\"#d8576b\"],[0.6666666666666666,\"#ed7953\"],[0.7777777777777778,\"#fb9f3a\"],[0.8888888888888888,\"#fdca26\"],[1.0,\"#f0f921\"]],\"sequentialminus\":[[0.0,\"#0d0887\"],[0.1111111111111111,\"#46039f\"],[0.2222222222222222,\"#7201a8\"],[0.3333333333333333,\"#9c179e\"],[0.4444444444444444,\"#bd3786\"],[0.5555555555555556,\"#d8576b\"],[0.6666666666666666,\"#ed7953\"],[0.7777777777777778,\"#fb9f3a\"],[0.8888888888888888,\"#fdca26\"],[1.0,\"#f0f921\"]],\"diverging\":[[0,\"#8e0152\"],[0.1,\"#c51b7d\"],[0.2,\"#de77ae\"],[0.3,\"#f1b6da\"],[0.4,\"#fde0ef\"],[0.5,\"#f7f7f7\"],[0.6,\"#e6f5d0\"],[0.7,\"#b8e186\"],[0.8,\"#7fbc41\"],[0.9,\"#4d9221\"],[1,\"#276419\"]]},\"xaxis\":{\"gridcolor\":\"white\",\"linecolor\":\"white\",\"ticks\":\"\",\"title\":{\"standoff\":15},\"zerolinecolor\":\"white\",\"automargin\":true,\"zerolinewidth\":2},\"yaxis\":{\"gridcolor\":\"white\",\"linecolor\":\"white\",\"ticks\":\"\",\"title\":{\"standoff\":15},\"zerolinecolor\":\"white\",\"automargin\":true,\"zerolinewidth\":2},\"scene\":{\"xaxis\":{\"backgroundcolor\":\"#E5ECF6\",\"gridcolor\":\"white\",\"linecolor\":\"white\",\"showbackground\":true,\"ticks\":\"\",\"zerolinecolor\":\"white\",\"gridwidth\":2},\"yaxis\":{\"backgroundcolor\":\"#E5ECF6\",\"gridcolor\":\"white\",\"linecolor\":\"white\",\"showbackground\":true,\"ticks\":\"\",\"zerolinecolor\":\"white\",\"gridwidth\":2},\"zaxis\":{\"backgroundcolor\":\"#E5ECF6\",\"gridcolor\":\"white\",\"linecolor\":\"white\",\"showbackground\":true,\"ticks\":\"\",\"zerolinecolor\":\"white\",\"gridwidth\":2}},\"shapedefaults\":{\"line\":{\"color\":\"#2a3f5f\"}},\"annotationdefaults\":{\"arrowcolor\":\"#2a3f5f\",\"arrowhead\":0,\"arrowwidth\":1},\"geo\":{\"bgcolor\":\"white\",\"landcolor\":\"#E5ECF6\",\"subunitcolor\":\"white\",\"showland\":true,\"showlakes\":true,\"lakecolor\":\"white\"},\"title\":{\"x\":0.05},\"mapbox\":{\"style\":\"light\"}}},\"legend\":{\"tracegroupgap\":0},\"title\":{\"text\":\"Distribution of Churn\"},\"piecolorway\":[\"green\",\"red\"]},                        {\"responsive\": true}                    ).then(function(){\n",
       "                            \n",
       "var gd = document.getElementById('8abbe7fc-9bbc-40b1-bab8-4b40ad462521');\n",
       "var x = new MutationObserver(function (mutations, observer) {{\n",
       "        var display = window.getComputedStyle(gd).display;\n",
       "        if (!display || display === 'none') {{\n",
       "            console.log([gd, 'removed!']);\n",
       "            Plotly.purge(gd);\n",
       "            observer.disconnect();\n",
       "        }}\n",
       "}});\n",
       "\n",
       "// Listen for the removal of the full notebook cells\n",
       "var notebookContainer = gd.closest('#notebook-container');\n",
       "if (notebookContainer) {{\n",
       "    x.observe(notebookContainer, {childList: true});\n",
       "}}\n",
       "\n",
       "// Listen for the clearing of the current output cell\n",
       "var outputEl = gd.closest('.output');\n",
       "if (outputEl) {{\n",
       "    x.observe(outputEl, {childList: true});\n",
       "}}\n",
       "\n",
       "                        })                };                });            </script>        </div>"
      ]
     },
     "metadata": {},
     "output_type": "display_data"
    },
    {
     "name": "stdout",
     "output_type": "stream",
     "text": [
      "  Churn  count\n",
      "0    No   9023\n",
      "1   Yes    977\n"
     ]
    }
   ],
   "source": [
    "# Making Visuals to See the Customer Churn rate\n",
    "\n",
    "churn_count = customer_data_df[\"Churn\"].value_counts().to_frame()\n",
    "churn_count = churn_count.reset_index()\n",
    "churn_count = churn_count.rename(columns={'index':'count'})\n",
    "\n",
    "fig = px.pie(churn_count, values='count', names='Churn', color_discrete_sequence=[\"green\", \"red\"], title='Distribution of Churn')\n",
    "fig.show()\n",
    "\n",
    "print(churn_count)"
   ]
  },
  {
   "cell_type": "code",
   "execution_count": 11,
   "id": "86df3e21",
   "metadata": {
    "execution": {
     "iopub.execute_input": "2024-03-20T08:19:15.477423Z",
     "iopub.status.busy": "2024-03-20T08:19:15.476742Z",
     "iopub.status.idle": "2024-03-20T08:19:15.493489Z",
     "shell.execute_reply": "2024-03-20T08:19:15.492257Z"
    },
    "papermill": {
     "duration": 0.032975,
     "end_time": "2024-03-20T08:19:15.495818",
     "exception": false,
     "start_time": "2024-03-20T08:19:15.462843",
     "status": "completed"
    },
    "tags": []
   },
   "outputs": [
    {
     "data": {
      "text/html": [
       "<div>\n",
       "<style scoped>\n",
       "    .dataframe tbody tr th:only-of-type {\n",
       "        vertical-align: middle;\n",
       "    }\n",
       "\n",
       "    .dataframe tbody tr th {\n",
       "        vertical-align: top;\n",
       "    }\n",
       "\n",
       "    .dataframe thead th {\n",
       "        text-align: right;\n",
       "    }\n",
       "</style>\n",
       "<table border=\"1\" class=\"dataframe\">\n",
       "  <thead>\n",
       "    <tr style=\"text-align: right;\">\n",
       "      <th></th>\n",
       "      <th>CustomerId</th>\n",
       "      <th>CreditScore</th>\n",
       "      <th>Age</th>\n",
       "      <th>Tenure</th>\n",
       "      <th>Balance</th>\n",
       "      <th>NumOfProducts</th>\n",
       "      <th>HasCrCard</th>\n",
       "      <th>IsActiveMember</th>\n",
       "      <th>EstimatedSalary</th>\n",
       "      <th>Churn</th>\n",
       "      <th>CustomerLifetimeValue</th>\n",
       "      <th>CustomerEngagementScore</th>\n",
       "    </tr>\n",
       "  </thead>\n",
       "  <tbody>\n",
       "    <tr>\n",
       "      <th>0</th>\n",
       "      <td>17270</td>\n",
       "      <td>594</td>\n",
       "      <td>31</td>\n",
       "      <td>3</td>\n",
       "      <td>3414</td>\n",
       "      <td>1</td>\n",
       "      <td>Yes</td>\n",
       "      <td>0</td>\n",
       "      <td>93705</td>\n",
       "      <td>No</td>\n",
       "      <td>10242</td>\n",
       "      <td>0.5</td>\n",
       "    </tr>\n",
       "    <tr>\n",
       "      <th>1</th>\n",
       "      <td>10860</td>\n",
       "      <td>796</td>\n",
       "      <td>35</td>\n",
       "      <td>3</td>\n",
       "      <td>6656</td>\n",
       "      <td>2</td>\n",
       "      <td>Yes</td>\n",
       "      <td>1</td>\n",
       "      <td>61819</td>\n",
       "      <td>No</td>\n",
       "      <td>19968</td>\n",
       "      <td>1.5</td>\n",
       "    </tr>\n",
       "    <tr>\n",
       "      <th>2</th>\n",
       "      <td>15390</td>\n",
       "      <td>580</td>\n",
       "      <td>56</td>\n",
       "      <td>3</td>\n",
       "      <td>9962</td>\n",
       "      <td>3</td>\n",
       "      <td>Yes</td>\n",
       "      <td>0</td>\n",
       "      <td>75376</td>\n",
       "      <td>No</td>\n",
       "      <td>29886</td>\n",
       "      <td>1.5</td>\n",
       "    </tr>\n",
       "    <tr>\n",
       "      <th>3</th>\n",
       "      <td>15191</td>\n",
       "      <td>674</td>\n",
       "      <td>35</td>\n",
       "      <td>2</td>\n",
       "      <td>6147</td>\n",
       "      <td>1</td>\n",
       "      <td>No</td>\n",
       "      <td>0</td>\n",
       "      <td>60504</td>\n",
       "      <td>No</td>\n",
       "      <td>12294</td>\n",
       "      <td>0.5</td>\n",
       "    </tr>\n",
       "    <tr>\n",
       "      <th>4</th>\n",
       "      <td>15734</td>\n",
       "      <td>721</td>\n",
       "      <td>36</td>\n",
       "      <td>6</td>\n",
       "      <td>5444</td>\n",
       "      <td>1</td>\n",
       "      <td>Yes</td>\n",
       "      <td>1</td>\n",
       "      <td>72288</td>\n",
       "      <td>No</td>\n",
       "      <td>32664</td>\n",
       "      <td>1.0</td>\n",
       "    </tr>\n",
       "  </tbody>\n",
       "</table>\n",
       "</div>"
      ],
      "text/plain": [
       "   CustomerId  CreditScore  Age  Tenure  Balance  NumOfProducts HasCrCard  \\\n",
       "0       17270          594   31       3     3414              1       Yes   \n",
       "1       10860          796   35       3     6656              2       Yes   \n",
       "2       15390          580   56       3     9962              3       Yes   \n",
       "3       15191          674   35       2     6147              1        No   \n",
       "4       15734          721   36       6     5444              1       Yes   \n",
       "\n",
       "   IsActiveMember  EstimatedSalary Churn  CustomerLifetimeValue  \\\n",
       "0               0            93705    No                  10242   \n",
       "1               1            61819    No                  19968   \n",
       "2               0            75376    No                  29886   \n",
       "3               0            60504    No                  12294   \n",
       "4               1            72288    No                  32664   \n",
       "\n",
       "   CustomerEngagementScore  \n",
       "0                      0.5  \n",
       "1                      1.5  \n",
       "2                      1.5  \n",
       "3                      0.5  \n",
       "4                      1.0  "
      ]
     },
     "execution_count": 11,
     "metadata": {},
     "output_type": "execute_result"
    }
   ],
   "source": [
    "customer_data_df.head()"
   ]
  },
  {
   "cell_type": "code",
   "execution_count": 12,
   "id": "a52786ec",
   "metadata": {
    "execution": {
     "iopub.execute_input": "2024-03-20T08:19:15.523131Z",
     "iopub.status.busy": "2024-03-20T08:19:15.522760Z",
     "iopub.status.idle": "2024-03-20T08:19:15.530998Z",
     "shell.execute_reply": "2024-03-20T08:19:15.529711Z"
    },
    "papermill": {
     "duration": 0.024592,
     "end_time": "2024-03-20T08:19:15.533273",
     "exception": false,
     "start_time": "2024-03-20T08:19:15.508681",
     "status": "completed"
    },
    "tags": []
   },
   "outputs": [
    {
     "name": "stdout",
     "output_type": "stream",
     "text": [
      "0       No\n",
      "1       No\n",
      "2       No\n",
      "3       No\n",
      "4       No\n",
      "        ..\n",
      "9995    No\n",
      "9996    No\n",
      "9997    No\n",
      "9998    No\n",
      "9999    No\n",
      "Name: Churn, Length: 10000, dtype: object\n"
     ]
    }
   ],
   "source": [
    "# Making Visuals to See the Customer Churn rate\n",
    "\n",
    "churn_count = customer_data_df[\"Churn\"] #.value_counts().to_frame()\n",
    "#churn_count = churn_count.reset_index()\n",
    "#churn_count = churn_count.rename(columns={'index':'count'})\n",
    "\n",
    "#fig = px.pie(churn_count, values='count', names='Churn', color_discrete_sequence=[\"green\", \"red\"], title='Distribution of Churn')\n",
    "#fig.show()\n",
    "\n",
    "print(churn_count)"
   ]
  },
  {
   "cell_type": "code",
   "execution_count": 13,
   "id": "db804a50",
   "metadata": {
    "execution": {
     "iopub.execute_input": "2024-03-20T08:19:15.562207Z",
     "iopub.status.busy": "2024-03-20T08:19:15.561267Z",
     "iopub.status.idle": "2024-03-20T08:19:15.568499Z",
     "shell.execute_reply": "2024-03-20T08:19:15.567310Z"
    },
    "papermill": {
     "duration": 0.02442,
     "end_time": "2024-03-20T08:19:15.570974",
     "exception": false,
     "start_time": "2024-03-20T08:19:15.546554",
     "status": "completed"
    },
    "tags": []
   },
   "outputs": [],
   "source": [
    "# Defining a function for making Histogram which takes a feature name as input and returns the visual for that feature \n",
    "def hist(feature):\n",
    "    feature_df = customer_data_df.groupby([feature, 'Churn']).size().reset_index()\n",
    "    feature_df = feature_df.rename(columns={0: 'Count'})\n",
    "    fig = px.histogram(feature_df, x=feature, y='Count', color='Churn', title=f'Churn rate frequency to {feature} distribution', color_discrete_sequence=[\"green\", \"red\"])\n",
    "    fig.show()\n",
    "    "
   ]
  },
  {
   "cell_type": "markdown",
   "id": "c1da499b",
   "metadata": {
    "papermill": {
     "duration": 0.013267,
     "end_time": "2024-03-20T08:19:15.597681",
     "exception": false,
     "start_time": "2024-03-20T08:19:15.584414",
     "status": "completed"
    },
    "tags": []
   },
   "source": [
    "# Histogram Visuals for the various Important Features\n"
   ]
  },
  {
   "cell_type": "code",
   "execution_count": 14,
   "id": "70ee0a7e",
   "metadata": {
    "execution": {
     "iopub.execute_input": "2024-03-20T08:19:15.625698Z",
     "iopub.status.busy": "2024-03-20T08:19:15.625298Z",
     "iopub.status.idle": "2024-03-20T08:19:15.752489Z",
     "shell.execute_reply": "2024-03-20T08:19:15.751413Z"
    },
    "papermill": {
     "duration": 0.143753,
     "end_time": "2024-03-20T08:19:15.754817",
     "exception": false,
     "start_time": "2024-03-20T08:19:15.611064",
     "status": "completed"
    },
    "tags": []
   },
   "outputs": [
    {
     "data": {
      "text/html": [
       "<div>                            <div id=\"251e9144-b628-4a08-9865-ada4bfec27f9\" class=\"plotly-graph-div\" style=\"height:525px; width:100%;\"></div>            <script type=\"text/javascript\">                require([\"plotly\"], function(Plotly) {                    window.PLOTLYENV=window.PLOTLYENV || {};                                    if (document.getElementById(\"251e9144-b628-4a08-9865-ada4bfec27f9\")) {                    Plotly.newPlot(                        \"251e9144-b628-4a08-9865-ada4bfec27f9\",                        [{\"alignmentgroup\":\"True\",\"bingroup\":\"x\",\"histfunc\":\"sum\",\"hovertemplate\":\"Churn=No\\u003cbr\\u003eCustomerEngagementScore=%{x}\\u003cbr\\u003esum of Count=%{y}\\u003cextra\\u003e\\u003c\\u002fextra\\u003e\",\"legendgroup\":\"No\",\"marker\":{\"color\":\"green\",\"pattern\":{\"shape\":\"\"}},\"name\":\"No\",\"offsetgroup\":\"No\",\"orientation\":\"v\",\"showlegend\":true,\"x\":[0.5,1.0,1.5,2.0,2.5],\"xaxis\":\"x\",\"y\":[1181,2268,2290,2233,1051],\"yaxis\":\"y\",\"type\":\"histogram\"},{\"alignmentgroup\":\"True\",\"bingroup\":\"x\",\"histfunc\":\"sum\",\"hovertemplate\":\"Churn=Yes\\u003cbr\\u003eCustomerEngagementScore=%{x}\\u003cbr\\u003esum of Count=%{y}\\u003cextra\\u003e\\u003c\\u002fextra\\u003e\",\"legendgroup\":\"Yes\",\"marker\":{\"color\":\"red\",\"pattern\":{\"shape\":\"\"}},\"name\":\"Yes\",\"offsetgroup\":\"Yes\",\"orientation\":\"v\",\"showlegend\":true,\"x\":[0.5,1.0,1.5,2.0,2.5],\"xaxis\":\"x\",\"y\":[111,235,247,234,150],\"yaxis\":\"y\",\"type\":\"histogram\"}],                        {\"template\":{\"data\":{\"histogram2dcontour\":[{\"type\":\"histogram2dcontour\",\"colorbar\":{\"outlinewidth\":0,\"ticks\":\"\"},\"colorscale\":[[0.0,\"#0d0887\"],[0.1111111111111111,\"#46039f\"],[0.2222222222222222,\"#7201a8\"],[0.3333333333333333,\"#9c179e\"],[0.4444444444444444,\"#bd3786\"],[0.5555555555555556,\"#d8576b\"],[0.6666666666666666,\"#ed7953\"],[0.7777777777777778,\"#fb9f3a\"],[0.8888888888888888,\"#fdca26\"],[1.0,\"#f0f921\"]]}],\"choropleth\":[{\"type\":\"choropleth\",\"colorbar\":{\"outlinewidth\":0,\"ticks\":\"\"}}],\"histogram2d\":[{\"type\":\"histogram2d\",\"colorbar\":{\"outlinewidth\":0,\"ticks\":\"\"},\"colorscale\":[[0.0,\"#0d0887\"],[0.1111111111111111,\"#46039f\"],[0.2222222222222222,\"#7201a8\"],[0.3333333333333333,\"#9c179e\"],[0.4444444444444444,\"#bd3786\"],[0.5555555555555556,\"#d8576b\"],[0.6666666666666666,\"#ed7953\"],[0.7777777777777778,\"#fb9f3a\"],[0.8888888888888888,\"#fdca26\"],[1.0,\"#f0f921\"]]}],\"heatmap\":[{\"type\":\"heatmap\",\"colorbar\":{\"outlinewidth\":0,\"ticks\":\"\"},\"colorscale\":[[0.0,\"#0d0887\"],[0.1111111111111111,\"#46039f\"],[0.2222222222222222,\"#7201a8\"],[0.3333333333333333,\"#9c179e\"],[0.4444444444444444,\"#bd3786\"],[0.5555555555555556,\"#d8576b\"],[0.6666666666666666,\"#ed7953\"],[0.7777777777777778,\"#fb9f3a\"],[0.8888888888888888,\"#fdca26\"],[1.0,\"#f0f921\"]]}],\"heatmapgl\":[{\"type\":\"heatmapgl\",\"colorbar\":{\"outlinewidth\":0,\"ticks\":\"\"},\"colorscale\":[[0.0,\"#0d0887\"],[0.1111111111111111,\"#46039f\"],[0.2222222222222222,\"#7201a8\"],[0.3333333333333333,\"#9c179e\"],[0.4444444444444444,\"#bd3786\"],[0.5555555555555556,\"#d8576b\"],[0.6666666666666666,\"#ed7953\"],[0.7777777777777778,\"#fb9f3a\"],[0.8888888888888888,\"#fdca26\"],[1.0,\"#f0f921\"]]}],\"contourcarpet\":[{\"type\":\"contourcarpet\",\"colorbar\":{\"outlinewidth\":0,\"ticks\":\"\"}}],\"contour\":[{\"type\":\"contour\",\"colorbar\":{\"outlinewidth\":0,\"ticks\":\"\"},\"colorscale\":[[0.0,\"#0d0887\"],[0.1111111111111111,\"#46039f\"],[0.2222222222222222,\"#7201a8\"],[0.3333333333333333,\"#9c179e\"],[0.4444444444444444,\"#bd3786\"],[0.5555555555555556,\"#d8576b\"],[0.6666666666666666,\"#ed7953\"],[0.7777777777777778,\"#fb9f3a\"],[0.8888888888888888,\"#fdca26\"],[1.0,\"#f0f921\"]]}],\"surface\":[{\"type\":\"surface\",\"colorbar\":{\"outlinewidth\":0,\"ticks\":\"\"},\"colorscale\":[[0.0,\"#0d0887\"],[0.1111111111111111,\"#46039f\"],[0.2222222222222222,\"#7201a8\"],[0.3333333333333333,\"#9c179e\"],[0.4444444444444444,\"#bd3786\"],[0.5555555555555556,\"#d8576b\"],[0.6666666666666666,\"#ed7953\"],[0.7777777777777778,\"#fb9f3a\"],[0.8888888888888888,\"#fdca26\"],[1.0,\"#f0f921\"]]}],\"mesh3d\":[{\"type\":\"mesh3d\",\"colorbar\":{\"outlinewidth\":0,\"ticks\":\"\"}}],\"scatter\":[{\"fillpattern\":{\"fillmode\":\"overlay\",\"size\":10,\"solidity\":0.2},\"type\":\"scatter\"}],\"parcoords\":[{\"type\":\"parcoords\",\"line\":{\"colorbar\":{\"outlinewidth\":0,\"ticks\":\"\"}}}],\"scatterpolargl\":[{\"type\":\"scatterpolargl\",\"marker\":{\"colorbar\":{\"outlinewidth\":0,\"ticks\":\"\"}}}],\"bar\":[{\"error_x\":{\"color\":\"#2a3f5f\"},\"error_y\":{\"color\":\"#2a3f5f\"},\"marker\":{\"line\":{\"color\":\"#E5ECF6\",\"width\":0.5},\"pattern\":{\"fillmode\":\"overlay\",\"size\":10,\"solidity\":0.2}},\"type\":\"bar\"}],\"scattergeo\":[{\"type\":\"scattergeo\",\"marker\":{\"colorbar\":{\"outlinewidth\":0,\"ticks\":\"\"}}}],\"scatterpolar\":[{\"type\":\"scatterpolar\",\"marker\":{\"colorbar\":{\"outlinewidth\":0,\"ticks\":\"\"}}}],\"histogram\":[{\"marker\":{\"pattern\":{\"fillmode\":\"overlay\",\"size\":10,\"solidity\":0.2}},\"type\":\"histogram\"}],\"scattergl\":[{\"type\":\"scattergl\",\"marker\":{\"colorbar\":{\"outlinewidth\":0,\"ticks\":\"\"}}}],\"scatter3d\":[{\"type\":\"scatter3d\",\"line\":{\"colorbar\":{\"outlinewidth\":0,\"ticks\":\"\"}},\"marker\":{\"colorbar\":{\"outlinewidth\":0,\"ticks\":\"\"}}}],\"scattermapbox\":[{\"type\":\"scattermapbox\",\"marker\":{\"colorbar\":{\"outlinewidth\":0,\"ticks\":\"\"}}}],\"scatterternary\":[{\"type\":\"scatterternary\",\"marker\":{\"colorbar\":{\"outlinewidth\":0,\"ticks\":\"\"}}}],\"scattercarpet\":[{\"type\":\"scattercarpet\",\"marker\":{\"colorbar\":{\"outlinewidth\":0,\"ticks\":\"\"}}}],\"carpet\":[{\"aaxis\":{\"endlinecolor\":\"#2a3f5f\",\"gridcolor\":\"white\",\"linecolor\":\"white\",\"minorgridcolor\":\"white\",\"startlinecolor\":\"#2a3f5f\"},\"baxis\":{\"endlinecolor\":\"#2a3f5f\",\"gridcolor\":\"white\",\"linecolor\":\"white\",\"minorgridcolor\":\"white\",\"startlinecolor\":\"#2a3f5f\"},\"type\":\"carpet\"}],\"table\":[{\"cells\":{\"fill\":{\"color\":\"#EBF0F8\"},\"line\":{\"color\":\"white\"}},\"header\":{\"fill\":{\"color\":\"#C8D4E3\"},\"line\":{\"color\":\"white\"}},\"type\":\"table\"}],\"barpolar\":[{\"marker\":{\"line\":{\"color\":\"#E5ECF6\",\"width\":0.5},\"pattern\":{\"fillmode\":\"overlay\",\"size\":10,\"solidity\":0.2}},\"type\":\"barpolar\"}],\"pie\":[{\"automargin\":true,\"type\":\"pie\"}]},\"layout\":{\"autotypenumbers\":\"strict\",\"colorway\":[\"#636efa\",\"#EF553B\",\"#00cc96\",\"#ab63fa\",\"#FFA15A\",\"#19d3f3\",\"#FF6692\",\"#B6E880\",\"#FF97FF\",\"#FECB52\"],\"font\":{\"color\":\"#2a3f5f\"},\"hovermode\":\"closest\",\"hoverlabel\":{\"align\":\"left\"},\"paper_bgcolor\":\"white\",\"plot_bgcolor\":\"#E5ECF6\",\"polar\":{\"bgcolor\":\"#E5ECF6\",\"angularaxis\":{\"gridcolor\":\"white\",\"linecolor\":\"white\",\"ticks\":\"\"},\"radialaxis\":{\"gridcolor\":\"white\",\"linecolor\":\"white\",\"ticks\":\"\"}},\"ternary\":{\"bgcolor\":\"#E5ECF6\",\"aaxis\":{\"gridcolor\":\"white\",\"linecolor\":\"white\",\"ticks\":\"\"},\"baxis\":{\"gridcolor\":\"white\",\"linecolor\":\"white\",\"ticks\":\"\"},\"caxis\":{\"gridcolor\":\"white\",\"linecolor\":\"white\",\"ticks\":\"\"}},\"coloraxis\":{\"colorbar\":{\"outlinewidth\":0,\"ticks\":\"\"}},\"colorscale\":{\"sequential\":[[0.0,\"#0d0887\"],[0.1111111111111111,\"#46039f\"],[0.2222222222222222,\"#7201a8\"],[0.3333333333333333,\"#9c179e\"],[0.4444444444444444,\"#bd3786\"],[0.5555555555555556,\"#d8576b\"],[0.6666666666666666,\"#ed7953\"],[0.7777777777777778,\"#fb9f3a\"],[0.8888888888888888,\"#fdca26\"],[1.0,\"#f0f921\"]],\"sequentialminus\":[[0.0,\"#0d0887\"],[0.1111111111111111,\"#46039f\"],[0.2222222222222222,\"#7201a8\"],[0.3333333333333333,\"#9c179e\"],[0.4444444444444444,\"#bd3786\"],[0.5555555555555556,\"#d8576b\"],[0.6666666666666666,\"#ed7953\"],[0.7777777777777778,\"#fb9f3a\"],[0.8888888888888888,\"#fdca26\"],[1.0,\"#f0f921\"]],\"diverging\":[[0,\"#8e0152\"],[0.1,\"#c51b7d\"],[0.2,\"#de77ae\"],[0.3,\"#f1b6da\"],[0.4,\"#fde0ef\"],[0.5,\"#f7f7f7\"],[0.6,\"#e6f5d0\"],[0.7,\"#b8e186\"],[0.8,\"#7fbc41\"],[0.9,\"#4d9221\"],[1,\"#276419\"]]},\"xaxis\":{\"gridcolor\":\"white\",\"linecolor\":\"white\",\"ticks\":\"\",\"title\":{\"standoff\":15},\"zerolinecolor\":\"white\",\"automargin\":true,\"zerolinewidth\":2},\"yaxis\":{\"gridcolor\":\"white\",\"linecolor\":\"white\",\"ticks\":\"\",\"title\":{\"standoff\":15},\"zerolinecolor\":\"white\",\"automargin\":true,\"zerolinewidth\":2},\"scene\":{\"xaxis\":{\"backgroundcolor\":\"#E5ECF6\",\"gridcolor\":\"white\",\"linecolor\":\"white\",\"showbackground\":true,\"ticks\":\"\",\"zerolinecolor\":\"white\",\"gridwidth\":2},\"yaxis\":{\"backgroundcolor\":\"#E5ECF6\",\"gridcolor\":\"white\",\"linecolor\":\"white\",\"showbackground\":true,\"ticks\":\"\",\"zerolinecolor\":\"white\",\"gridwidth\":2},\"zaxis\":{\"backgroundcolor\":\"#E5ECF6\",\"gridcolor\":\"white\",\"linecolor\":\"white\",\"showbackground\":true,\"ticks\":\"\",\"zerolinecolor\":\"white\",\"gridwidth\":2}},\"shapedefaults\":{\"line\":{\"color\":\"#2a3f5f\"}},\"annotationdefaults\":{\"arrowcolor\":\"#2a3f5f\",\"arrowhead\":0,\"arrowwidth\":1},\"geo\":{\"bgcolor\":\"white\",\"landcolor\":\"#E5ECF6\",\"subunitcolor\":\"white\",\"showland\":true,\"showlakes\":true,\"lakecolor\":\"white\"},\"title\":{\"x\":0.05},\"mapbox\":{\"style\":\"light\"}}},\"xaxis\":{\"anchor\":\"y\",\"domain\":[0.0,1.0],\"title\":{\"text\":\"CustomerEngagementScore\"}},\"yaxis\":{\"anchor\":\"x\",\"domain\":[0.0,1.0],\"title\":{\"text\":\"sum of Count\"}},\"legend\":{\"title\":{\"text\":\"Churn\"},\"tracegroupgap\":0},\"title\":{\"text\":\"Churn rate frequency to CustomerEngagementScore distribution\"},\"barmode\":\"relative\"},                        {\"responsive\": true}                    ).then(function(){\n",
       "                            \n",
       "var gd = document.getElementById('251e9144-b628-4a08-9865-ada4bfec27f9');\n",
       "var x = new MutationObserver(function (mutations, observer) {{\n",
       "        var display = window.getComputedStyle(gd).display;\n",
       "        if (!display || display === 'none') {{\n",
       "            console.log([gd, 'removed!']);\n",
       "            Plotly.purge(gd);\n",
       "            observer.disconnect();\n",
       "        }}\n",
       "}});\n",
       "\n",
       "// Listen for the removal of the full notebook cells\n",
       "var notebookContainer = gd.closest('#notebook-container');\n",
       "if (notebookContainer) {{\n",
       "    x.observe(notebookContainer, {childList: true});\n",
       "}}\n",
       "\n",
       "// Listen for the clearing of the current output cell\n",
       "var outputEl = gd.closest('.output');\n",
       "if (outputEl) {{\n",
       "    x.observe(outputEl, {childList: true});\n",
       "}}\n",
       "\n",
       "                        })                };                });            </script>        </div>"
      ]
     },
     "metadata": {},
     "output_type": "display_data"
    }
   ],
   "source": [
    "hist('CustomerEngagementScore')"
   ]
  },
  {
   "cell_type": "code",
   "execution_count": 15,
   "id": "017649f9",
   "metadata": {
    "execution": {
     "iopub.execute_input": "2024-03-20T08:19:15.782923Z",
     "iopub.status.busy": "2024-03-20T08:19:15.782537Z",
     "iopub.status.idle": "2024-03-20T08:19:15.852117Z",
     "shell.execute_reply": "2024-03-20T08:19:15.850953Z"
    },
    "papermill": {
     "duration": 0.086573,
     "end_time": "2024-03-20T08:19:15.854499",
     "exception": false,
     "start_time": "2024-03-20T08:19:15.767926",
     "status": "completed"
    },
    "tags": []
   },
   "outputs": [
    {
     "data": {
      "text/html": [
       "<div>                            <div id=\"f0fe69dc-0c37-4385-bad6-7b76c58b9efe\" class=\"plotly-graph-div\" style=\"height:525px; width:100%;\"></div>            <script type=\"text/javascript\">                require([\"plotly\"], function(Plotly) {                    window.PLOTLYENV=window.PLOTLYENV || {};                                    if (document.getElementById(\"f0fe69dc-0c37-4385-bad6-7b76c58b9efe\")) {                    Plotly.newPlot(                        \"f0fe69dc-0c37-4385-bad6-7b76c58b9efe\",                        [{\"alignmentgroup\":\"True\",\"bingroup\":\"x\",\"histfunc\":\"sum\",\"hovertemplate\":\"Churn=No\\u003cbr\\u003eTenure=%{x}\\u003cbr\\u003esum of Count=%{y}\\u003cextra\\u003e\\u003c\\u002fextra\\u003e\",\"legendgroup\":\"No\",\"marker\":{\"color\":\"green\",\"pattern\":{\"shape\":\"\"}},\"name\":\"No\",\"offsetgroup\":\"No\",\"orientation\":\"v\",\"showlegend\":true,\"x\":[1,2,3,4,5,6,7,8,9],\"xaxis\":\"x\",\"y\":[954,977,937,1023,990,1038,1052,1011,1041],\"yaxis\":\"y\",\"type\":\"histogram\"},{\"alignmentgroup\":\"True\",\"bingroup\":\"x\",\"histfunc\":\"sum\",\"hovertemplate\":\"Churn=Yes\\u003cbr\\u003eTenure=%{x}\\u003cbr\\u003esum of Count=%{y}\\u003cextra\\u003e\\u003c\\u002fextra\\u003e\",\"legendgroup\":\"Yes\",\"marker\":{\"color\":\"red\",\"pattern\":{\"shape\":\"\"}},\"name\":\"Yes\",\"offsetgroup\":\"Yes\",\"orientation\":\"v\",\"showlegend\":true,\"x\":[1,2,3,4,5,6,7,8,9],\"xaxis\":\"x\",\"y\":[112,104,105,115,98,118,126,100,99],\"yaxis\":\"y\",\"type\":\"histogram\"}],                        {\"template\":{\"data\":{\"histogram2dcontour\":[{\"type\":\"histogram2dcontour\",\"colorbar\":{\"outlinewidth\":0,\"ticks\":\"\"},\"colorscale\":[[0.0,\"#0d0887\"],[0.1111111111111111,\"#46039f\"],[0.2222222222222222,\"#7201a8\"],[0.3333333333333333,\"#9c179e\"],[0.4444444444444444,\"#bd3786\"],[0.5555555555555556,\"#d8576b\"],[0.6666666666666666,\"#ed7953\"],[0.7777777777777778,\"#fb9f3a\"],[0.8888888888888888,\"#fdca26\"],[1.0,\"#f0f921\"]]}],\"choropleth\":[{\"type\":\"choropleth\",\"colorbar\":{\"outlinewidth\":0,\"ticks\":\"\"}}],\"histogram2d\":[{\"type\":\"histogram2d\",\"colorbar\":{\"outlinewidth\":0,\"ticks\":\"\"},\"colorscale\":[[0.0,\"#0d0887\"],[0.1111111111111111,\"#46039f\"],[0.2222222222222222,\"#7201a8\"],[0.3333333333333333,\"#9c179e\"],[0.4444444444444444,\"#bd3786\"],[0.5555555555555556,\"#d8576b\"],[0.6666666666666666,\"#ed7953\"],[0.7777777777777778,\"#fb9f3a\"],[0.8888888888888888,\"#fdca26\"],[1.0,\"#f0f921\"]]}],\"heatmap\":[{\"type\":\"heatmap\",\"colorbar\":{\"outlinewidth\":0,\"ticks\":\"\"},\"colorscale\":[[0.0,\"#0d0887\"],[0.1111111111111111,\"#46039f\"],[0.2222222222222222,\"#7201a8\"],[0.3333333333333333,\"#9c179e\"],[0.4444444444444444,\"#bd3786\"],[0.5555555555555556,\"#d8576b\"],[0.6666666666666666,\"#ed7953\"],[0.7777777777777778,\"#fb9f3a\"],[0.8888888888888888,\"#fdca26\"],[1.0,\"#f0f921\"]]}],\"heatmapgl\":[{\"type\":\"heatmapgl\",\"colorbar\":{\"outlinewidth\":0,\"ticks\":\"\"},\"colorscale\":[[0.0,\"#0d0887\"],[0.1111111111111111,\"#46039f\"],[0.2222222222222222,\"#7201a8\"],[0.3333333333333333,\"#9c179e\"],[0.4444444444444444,\"#bd3786\"],[0.5555555555555556,\"#d8576b\"],[0.6666666666666666,\"#ed7953\"],[0.7777777777777778,\"#fb9f3a\"],[0.8888888888888888,\"#fdca26\"],[1.0,\"#f0f921\"]]}],\"contourcarpet\":[{\"type\":\"contourcarpet\",\"colorbar\":{\"outlinewidth\":0,\"ticks\":\"\"}}],\"contour\":[{\"type\":\"contour\",\"colorbar\":{\"outlinewidth\":0,\"ticks\":\"\"},\"colorscale\":[[0.0,\"#0d0887\"],[0.1111111111111111,\"#46039f\"],[0.2222222222222222,\"#7201a8\"],[0.3333333333333333,\"#9c179e\"],[0.4444444444444444,\"#bd3786\"],[0.5555555555555556,\"#d8576b\"],[0.6666666666666666,\"#ed7953\"],[0.7777777777777778,\"#fb9f3a\"],[0.8888888888888888,\"#fdca26\"],[1.0,\"#f0f921\"]]}],\"surface\":[{\"type\":\"surface\",\"colorbar\":{\"outlinewidth\":0,\"ticks\":\"\"},\"colorscale\":[[0.0,\"#0d0887\"],[0.1111111111111111,\"#46039f\"],[0.2222222222222222,\"#7201a8\"],[0.3333333333333333,\"#9c179e\"],[0.4444444444444444,\"#bd3786\"],[0.5555555555555556,\"#d8576b\"],[0.6666666666666666,\"#ed7953\"],[0.7777777777777778,\"#fb9f3a\"],[0.8888888888888888,\"#fdca26\"],[1.0,\"#f0f921\"]]}],\"mesh3d\":[{\"type\":\"mesh3d\",\"colorbar\":{\"outlinewidth\":0,\"ticks\":\"\"}}],\"scatter\":[{\"fillpattern\":{\"fillmode\":\"overlay\",\"size\":10,\"solidity\":0.2},\"type\":\"scatter\"}],\"parcoords\":[{\"type\":\"parcoords\",\"line\":{\"colorbar\":{\"outlinewidth\":0,\"ticks\":\"\"}}}],\"scatterpolargl\":[{\"type\":\"scatterpolargl\",\"marker\":{\"colorbar\":{\"outlinewidth\":0,\"ticks\":\"\"}}}],\"bar\":[{\"error_x\":{\"color\":\"#2a3f5f\"},\"error_y\":{\"color\":\"#2a3f5f\"},\"marker\":{\"line\":{\"color\":\"#E5ECF6\",\"width\":0.5},\"pattern\":{\"fillmode\":\"overlay\",\"size\":10,\"solidity\":0.2}},\"type\":\"bar\"}],\"scattergeo\":[{\"type\":\"scattergeo\",\"marker\":{\"colorbar\":{\"outlinewidth\":0,\"ticks\":\"\"}}}],\"scatterpolar\":[{\"type\":\"scatterpolar\",\"marker\":{\"colorbar\":{\"outlinewidth\":0,\"ticks\":\"\"}}}],\"histogram\":[{\"marker\":{\"pattern\":{\"fillmode\":\"overlay\",\"size\":10,\"solidity\":0.2}},\"type\":\"histogram\"}],\"scattergl\":[{\"type\":\"scattergl\",\"marker\":{\"colorbar\":{\"outlinewidth\":0,\"ticks\":\"\"}}}],\"scatter3d\":[{\"type\":\"scatter3d\",\"line\":{\"colorbar\":{\"outlinewidth\":0,\"ticks\":\"\"}},\"marker\":{\"colorbar\":{\"outlinewidth\":0,\"ticks\":\"\"}}}],\"scattermapbox\":[{\"type\":\"scattermapbox\",\"marker\":{\"colorbar\":{\"outlinewidth\":0,\"ticks\":\"\"}}}],\"scatterternary\":[{\"type\":\"scatterternary\",\"marker\":{\"colorbar\":{\"outlinewidth\":0,\"ticks\":\"\"}}}],\"scattercarpet\":[{\"type\":\"scattercarpet\",\"marker\":{\"colorbar\":{\"outlinewidth\":0,\"ticks\":\"\"}}}],\"carpet\":[{\"aaxis\":{\"endlinecolor\":\"#2a3f5f\",\"gridcolor\":\"white\",\"linecolor\":\"white\",\"minorgridcolor\":\"white\",\"startlinecolor\":\"#2a3f5f\"},\"baxis\":{\"endlinecolor\":\"#2a3f5f\",\"gridcolor\":\"white\",\"linecolor\":\"white\",\"minorgridcolor\":\"white\",\"startlinecolor\":\"#2a3f5f\"},\"type\":\"carpet\"}],\"table\":[{\"cells\":{\"fill\":{\"color\":\"#EBF0F8\"},\"line\":{\"color\":\"white\"}},\"header\":{\"fill\":{\"color\":\"#C8D4E3\"},\"line\":{\"color\":\"white\"}},\"type\":\"table\"}],\"barpolar\":[{\"marker\":{\"line\":{\"color\":\"#E5ECF6\",\"width\":0.5},\"pattern\":{\"fillmode\":\"overlay\",\"size\":10,\"solidity\":0.2}},\"type\":\"barpolar\"}],\"pie\":[{\"automargin\":true,\"type\":\"pie\"}]},\"layout\":{\"autotypenumbers\":\"strict\",\"colorway\":[\"#636efa\",\"#EF553B\",\"#00cc96\",\"#ab63fa\",\"#FFA15A\",\"#19d3f3\",\"#FF6692\",\"#B6E880\",\"#FF97FF\",\"#FECB52\"],\"font\":{\"color\":\"#2a3f5f\"},\"hovermode\":\"closest\",\"hoverlabel\":{\"align\":\"left\"},\"paper_bgcolor\":\"white\",\"plot_bgcolor\":\"#E5ECF6\",\"polar\":{\"bgcolor\":\"#E5ECF6\",\"angularaxis\":{\"gridcolor\":\"white\",\"linecolor\":\"white\",\"ticks\":\"\"},\"radialaxis\":{\"gridcolor\":\"white\",\"linecolor\":\"white\",\"ticks\":\"\"}},\"ternary\":{\"bgcolor\":\"#E5ECF6\",\"aaxis\":{\"gridcolor\":\"white\",\"linecolor\":\"white\",\"ticks\":\"\"},\"baxis\":{\"gridcolor\":\"white\",\"linecolor\":\"white\",\"ticks\":\"\"},\"caxis\":{\"gridcolor\":\"white\",\"linecolor\":\"white\",\"ticks\":\"\"}},\"coloraxis\":{\"colorbar\":{\"outlinewidth\":0,\"ticks\":\"\"}},\"colorscale\":{\"sequential\":[[0.0,\"#0d0887\"],[0.1111111111111111,\"#46039f\"],[0.2222222222222222,\"#7201a8\"],[0.3333333333333333,\"#9c179e\"],[0.4444444444444444,\"#bd3786\"],[0.5555555555555556,\"#d8576b\"],[0.6666666666666666,\"#ed7953\"],[0.7777777777777778,\"#fb9f3a\"],[0.8888888888888888,\"#fdca26\"],[1.0,\"#f0f921\"]],\"sequentialminus\":[[0.0,\"#0d0887\"],[0.1111111111111111,\"#46039f\"],[0.2222222222222222,\"#7201a8\"],[0.3333333333333333,\"#9c179e\"],[0.4444444444444444,\"#bd3786\"],[0.5555555555555556,\"#d8576b\"],[0.6666666666666666,\"#ed7953\"],[0.7777777777777778,\"#fb9f3a\"],[0.8888888888888888,\"#fdca26\"],[1.0,\"#f0f921\"]],\"diverging\":[[0,\"#8e0152\"],[0.1,\"#c51b7d\"],[0.2,\"#de77ae\"],[0.3,\"#f1b6da\"],[0.4,\"#fde0ef\"],[0.5,\"#f7f7f7\"],[0.6,\"#e6f5d0\"],[0.7,\"#b8e186\"],[0.8,\"#7fbc41\"],[0.9,\"#4d9221\"],[1,\"#276419\"]]},\"xaxis\":{\"gridcolor\":\"white\",\"linecolor\":\"white\",\"ticks\":\"\",\"title\":{\"standoff\":15},\"zerolinecolor\":\"white\",\"automargin\":true,\"zerolinewidth\":2},\"yaxis\":{\"gridcolor\":\"white\",\"linecolor\":\"white\",\"ticks\":\"\",\"title\":{\"standoff\":15},\"zerolinecolor\":\"white\",\"automargin\":true,\"zerolinewidth\":2},\"scene\":{\"xaxis\":{\"backgroundcolor\":\"#E5ECF6\",\"gridcolor\":\"white\",\"linecolor\":\"white\",\"showbackground\":true,\"ticks\":\"\",\"zerolinecolor\":\"white\",\"gridwidth\":2},\"yaxis\":{\"backgroundcolor\":\"#E5ECF6\",\"gridcolor\":\"white\",\"linecolor\":\"white\",\"showbackground\":true,\"ticks\":\"\",\"zerolinecolor\":\"white\",\"gridwidth\":2},\"zaxis\":{\"backgroundcolor\":\"#E5ECF6\",\"gridcolor\":\"white\",\"linecolor\":\"white\",\"showbackground\":true,\"ticks\":\"\",\"zerolinecolor\":\"white\",\"gridwidth\":2}},\"shapedefaults\":{\"line\":{\"color\":\"#2a3f5f\"}},\"annotationdefaults\":{\"arrowcolor\":\"#2a3f5f\",\"arrowhead\":0,\"arrowwidth\":1},\"geo\":{\"bgcolor\":\"white\",\"landcolor\":\"#E5ECF6\",\"subunitcolor\":\"white\",\"showland\":true,\"showlakes\":true,\"lakecolor\":\"white\"},\"title\":{\"x\":0.05},\"mapbox\":{\"style\":\"light\"}}},\"xaxis\":{\"anchor\":\"y\",\"domain\":[0.0,1.0],\"title\":{\"text\":\"Tenure\"}},\"yaxis\":{\"anchor\":\"x\",\"domain\":[0.0,1.0],\"title\":{\"text\":\"sum of Count\"}},\"legend\":{\"title\":{\"text\":\"Churn\"},\"tracegroupgap\":0},\"title\":{\"text\":\"Churn rate frequency to Tenure distribution\"},\"barmode\":\"relative\"},                        {\"responsive\": true}                    ).then(function(){\n",
       "                            \n",
       "var gd = document.getElementById('f0fe69dc-0c37-4385-bad6-7b76c58b9efe');\n",
       "var x = new MutationObserver(function (mutations, observer) {{\n",
       "        var display = window.getComputedStyle(gd).display;\n",
       "        if (!display || display === 'none') {{\n",
       "            console.log([gd, 'removed!']);\n",
       "            Plotly.purge(gd);\n",
       "            observer.disconnect();\n",
       "        }}\n",
       "}});\n",
       "\n",
       "// Listen for the removal of the full notebook cells\n",
       "var notebookContainer = gd.closest('#notebook-container');\n",
       "if (notebookContainer) {{\n",
       "    x.observe(notebookContainer, {childList: true});\n",
       "}}\n",
       "\n",
       "// Listen for the clearing of the current output cell\n",
       "var outputEl = gd.closest('.output');\n",
       "if (outputEl) {{\n",
       "    x.observe(outputEl, {childList: true});\n",
       "}}\n",
       "\n",
       "                        })                };                });            </script>        </div>"
      ]
     },
     "metadata": {},
     "output_type": "display_data"
    }
   ],
   "source": [
    "hist('Tenure')"
   ]
  },
  {
   "cell_type": "code",
   "execution_count": 16,
   "id": "10e47e3e",
   "metadata": {
    "execution": {
     "iopub.execute_input": "2024-03-20T08:19:15.886463Z",
     "iopub.status.busy": "2024-03-20T08:19:15.886066Z",
     "iopub.status.idle": "2024-03-20T08:19:15.968032Z",
     "shell.execute_reply": "2024-03-20T08:19:15.966894Z"
    },
    "papermill": {
     "duration": 0.099746,
     "end_time": "2024-03-20T08:19:15.970748",
     "exception": false,
     "start_time": "2024-03-20T08:19:15.871002",
     "status": "completed"
    },
    "tags": []
   },
   "outputs": [
    {
     "data": {
      "text/html": [
       "<div>                            <div id=\"5b08c7f0-83eb-4137-b59b-f4bb94ff9fdb\" class=\"plotly-graph-div\" style=\"height:525px; width:100%;\"></div>            <script type=\"text/javascript\">                require([\"plotly\"], function(Plotly) {                    window.PLOTLYENV=window.PLOTLYENV || {};                                    if (document.getElementById(\"5b08c7f0-83eb-4137-b59b-f4bb94ff9fdb\")) {                    Plotly.newPlot(                        \"5b08c7f0-83eb-4137-b59b-f4bb94ff9fdb\",                        [{\"alignmentgroup\":\"True\",\"bingroup\":\"x\",\"histfunc\":\"sum\",\"hovertemplate\":\"Churn=No\\u003cbr\\u003eCustomerLifetimeValue=%{x}\\u003cbr\\u003esum of Count=%{y}\\u003cextra\\u003e\\u003c\\u002fextra\\u003e\",\"legendgroup\":\"No\",\"marker\":{\"color\":\"green\",\"pattern\":{\"shape\":\"\"}},\"name\":\"No\",\"offsetgroup\":\"No\",\"orientation\":\"v\",\"showlegend\":true,\"x\":[1005,1008,1020,1034,1037,1058,1063,1064,1065,1082,1095,1101,1107,1111,1117,1131,1139,1147,1153,1157,1174,1185,1188,1193,1209,1217,1220,1223,1226,1228,1231,1232,1236,1247,1248,1262,1272,1306,1329,1340,1342,1348,1351,1360,1361,1362,1376,1389,1402,1413,1432,1435,1439,1443,1472,1502,1503,1506,1512,1527,1530,1535,1560,1568,1580,1602,1605,1608,1625,1634,1654,1662,1663,1710,1721,1723,1732,1733,1735,1737,1748,1751,1759,1778,1785,1798,1805,1807,1810,1818,1850,1857,1877,1882,1883,1885,1888,1892,1901,1910,1912,1917,1934,1955,1958,1959,1966,1970,1982,1994,2015,2020,2023,2026,2027,2028,2042,2052,2054,2058,2063,2064,2072,2090,2100,2108,2138,2146,2147,2164,2170,2177,2192,2198,2204,2209,2214,2216,2225,2226,2250,2257,2258,2260,2262,2280,2292,2299,2302,2306,2314,2318,2327,2328,2342,2348,2349,2357,2369,2372,2377,2388,2395,2400,2412,2415,2419,2425,2426,2429,2444,2446,2456,2465,2474,2475,2484,2487,2488,2495,2504,2510,2514,2526,2530,2532,2538,2540,2550,2555,2575,2578,2579,2580,2597,2598,2599,2604,2607,2616,2617,2619,2624,2626,2631,2636,2643,2650,2651,2652,2666,2667,2670,2682,2702,2710,2713,2720,2727,2728,2759,2762,2777,2793,2798,2799,2806,2809,2813,2819,2820,2823,2827,2833,2842,2874,2880,2889,2906,2908,2913,2914,2915,2922,2926,2927,2936,2942,2948,2950,2987,2994,2996,3006,3013,3015,3016,3018,3021,3029,3033,3046,3061,3062,3063,3066,3068,3074,3087,3096,3098,3099,3108,3111,3112,3120,3121,3124,3127,3130,3132,3142,3150,3162,3163,3165,3168,3169,3174,3186,3187,3201,3203,3206,3207,3214,3218,3224,3246,3258,3275,3282,3292,3296,3297,3303,3306,3308,3312,3330,3339,3342,3348,3352,3354,3356,3362,3373,3379,3385,3389,3390,3393,3397,3408,3412,3426,3429,3461,3470,3474,3477,3484,3485,3494,3506,3513,3517,3525,3533,3547,3553,3562,3564,3578,3584,3586,3590,3594,3597,3603,3609,3621,3630,3631,3632,3637,3639,3646,3651,3654,3674,3676,3684,3687,3694,3695,3700,3705,3710,3717,3722,3730,3736,3745,3751,3758,3777,3780,3802,3810,3816,3818,3822,3824,3844,3847,3848,3850,3852,3860,3861,3862,3865,3873,3875,3876,3881,3883,3887,3895,3903,3904,3917,3921,3927,3932,3934,3938,3943,3948,3966,3969,3970,3972,3980,3985,3993,4012,4024,4032,4035,4041,4046,4048,4050,4052,4060,4071,4073,4074,4080,4090,4100,4116,4118,4119,4128,4134,4140,4146,4148,4150,4155,4160,4167,4179,4180,4191,4194,4200,4203,4207,4211,4212,4217,4219,4221,4233,4234,4236,4241,4244,4246,4250,4254,4261,4266,4279,4283,4288,4291,4292,4302,4305,4316,4317,4323,4334,4341,4356,4360,4370,4375,4378,4380,4384,4387,4388,4391,4394,4397,4398,4400,4404,4406,4411,4413,4433,4434,4437,4446,4448,4449,4455,4456,4460,4461,4464,4472,4480,4482,4489,4502,4508,4509,4510,4513,4515,4516,4518,4522,4528,4536,4538,4541,4542,4543,4552,4556,4557,4558,4563,4586,4592,4593,4594,4596,4597,4603,4605,4608,4611,4612,4614,4622,4624,4630,4640,4642,4648,4652,4653,4654,4674,4680,4686,4692,4695,4703,4714,4716,4719,4726,4727,4740,4756,4758,4766,4767,4774,4785,4786,4792,4803,4806,4808,4816,4830,4841,4843,4844,4852,4860,4868,4869,4890,4900,4905,4906,4911,4916,4922,4928,4929,4932,4936,4942,4948,4949,4950,4952,4965,4966,4968,4971,4974,4977,4983,4995,4996,4998,5000,5007,5012,5017,5020,5025,5028,5030,5044,5047,5050,5052,5053,5055,5061,5070,5072,5076,5077,5078,5079,5080,5088,5094,5096,5098,5101,5106,5111,5112,5113,5116,5121,5123,5124,5127,5130,5134,5145,5146,5156,5158,5160,5163,5170,5175,5183,5193,5199,5200,5202,5204,5205,5208,5226,5230,5232,5233,5235,5236,5240,5255,5256,5259,5260,5261,5262,5265,5266,5282,5283,5285,5288,5298,5300,5303,5305,5315,5327,5328,5330,5333,5340,5343,5349,5355,5356,5360,5363,5364,5369,5375,5377,5379,5383,5386,5390,5404,5405,5406,5408,5409,5421,5424,5425,5427,5430,5438,5448,5461,5469,5471,5485,5488,5501,5502,5505,5508,5511,5512,5524,5526,5538,5547,5548,5555,5556,5558,5574,5578,5580,5583,5590,5594,5595,5600,5605,5610,5615,5617,5628,5631,5644,5645,5649,5651,5660,5661,5672,5676,5677,5681,5682,5683,5688,5700,5702,5708,5709,5718,5722,5724,5728,5730,5736,5738,5748,5749,5755,5764,5766,5781,5786,5788,5802,5806,5815,5822,5829,5837,5842,5845,5848,5864,5865,5880,5885,5888,5890,5893,5902,5908,5910,5912,5914,5920,5922,5924,5929,5930,5934,5940,5943,5946,5949,5950,5952,5974,5975,5982,5984,5985,5988,5990,5991,5993,5995,5996,6003,6010,6018,6026,6030,6038,6039,6042,6044,6052,6060,6069,6074,6078,6080,6084,6094,6095,6096,6108,6112,6114,6120,6122,6124,6132,6135,6138,6140,6147,6149,6164,6165,6168,6170,6171,6183,6185,6188,6194,6198,6205,6208,6210,6216,6222,6224,6225,6226,6230,6234,6236,6240,6246,6248,6250,6256,6258,6260,6261,6275,6276,6278,6281,6282,6283,6286,6288,6294,6298,6300,6301,6302,6308,6312,6313,6315,6316,6318,6326,6332,6334,6336,6344,6347,6348,6354,6355,6356,6366,6368,6369,6370,6374,6376,6384,6385,6387,6389,6395,6396,6397,6411,6412,6414,6416,6420,6422,6423,6427,6428,6439,6444,6450,6456,6468,6478,6480,6485,6486,6490,6498,6503,6504,6516,6521,6523,6525,6528,6532,6534,6535,6537,6550,6552,6553,6566,6569,6575,6576,6578,6580,6582,6585,6594,6600,6603,6613,6618,6623,6628,6640,6645,6652,6672,6675,6677,6683,6687,6695,6696,6700,6715,6716,6725,6726,6727,6728,6730,6733,6735,6736,6738,6740,6748,6752,6756,6762,6765,6770,6774,6784,6786,6788,6790,6792,6794,6798,6802,6808,6810,6820,6828,6830,6837,6838,6840,6844,6848,6865,6900,6911,6912,6916,6923,6924,6926,6936,6938,6941,6945,6946,6956,6967,6972,6976,6980,6995,6996,7002,7014,7020,7032,7035,7040,7050,7053,7056,7062,7063,7064,7065,7066,7068,7072,7077,7080,7083,7084,7095,7096,7098,7106,7114,7115,7116,7118,7124,7126,7133,7134,7142,7143,7147,7155,7160,7161,7164,7166,7175,7176,7178,7179,7180,7189,7200,7201,7202,7207,7209,7212,7213,7215,7217,7218,7223,7227,7228,7231,7236,7238,7242,7248,7259,7260,7263,7266,7267,7275,7276,7281,7288,7290,7296,7302,7308,7311,7312,7320,7325,7326,7330,7331,7332,7336,7338,7340,7344,7345,7348,7351,7353,7356,7357,7368,7369,7371,7374,7377,7383,7385,7386,7392,7395,7400,7407,7409,7410,7412,7413,7414,7416,7420,7422,7425,7428,7437,7448,7450,7454,7455,7462,7464,7467,7476,7482,7485,7487,7488,7491,7497,7500,7503,7506,7510,7519,7520,7524,7532,7539,7542,7545,7548,7549,7552,7556,7566,7572,7574,7583,7591,7595,7596,7601,7608,7615,7620,7621,7626,7632,7636,7641,7646,7647,7650,7654,7665,7668,7674,7675,7678,7682,7684,7685,7686,7688,7690,7695,7698,7708,7713,7720,7721,7734,7739,7742,7752,7756,7758,7759,7762,7770,7772,7778,7780,7781,7783,7792,7794,7795,7796,7797,7804,7814,7816,7819,7823,7824,7828,7831,7832,7833,7834,7836,7839,7845,7862,7876,7887,7892,7896,7900,7902,7904,7905,7910,7912,7915,7917,7920,7928,7937,7940,7941,7943,7956,7965,7966,7968,7972,7978,7990,7998,8000,8001,8015,8018,8020,8025,8026,8036,8038,8043,8048,8050,8051,8058,8060,8064,8066,8072,8079,8080,8083,8084,8086,8089,8090,8094,8096,8100,8104,8122,8132,8140,8144,8152,8154,8163,8164,8176,8179,8184,8188,8190,8193,8195,8204,8205,8208,8211,8215,8216,8218,8223,8225,8228,8230,8232,8244,8247,8256,8260,8262,8268,8271,8275,8276,8277,8280,8287,8290,8297,8299,8300,8302,8304,8309,8311,8324,8325,8334,8336,8340,8344,8350,8352,8355,8356,8360,8361,8362,8381,8384,8386,8394,8400,8407,8421,8424,8426,8428,8434,8435,8442,8448,8450,8454,8456,8460,8463,8465,8466,8474,8478,8480,8484,8488,8490,8492,8496,8501,8508,8514,8516,8522,8531,8534,8539,8551,8552,8558,8559,8560,8561,8565,8568,8570,8571,8574,8580,8582,8584,8587,8588,8590,8595,8600,8602,8604,8610,8617,8620,8628,8629,8630,8635,8640,8645,8646,8647,8648,8649,8650,8652,8653,8654,8657,8658,8659,8664,8665,8668,8671,8682,8687,8688,8692,8694,8709,8716,8722,8723,8724,8727,8728,8735,8736,8742,8750,8760,8766,8773,8777,8779,8784,8785,8787,8790,8792,8793,8796,8803,8808,8809,8814,8819,8820,8824,8826,8828,8832,8834,8841,8848,8850,8861,8864,8868,8870,8874,8875,8886,8888,8890,8892,8893,8897,8904,8912,8915,8918,8920,8922,8925,8927,8939,8940,8943,8946,8948,8956,8962,8964,8967,8968,8969,8974,8976,8985,8992,9003,9004,9005,9008,9014,9015,9016,9021,9024,9026,9027,9028,9030,9036,9037,9040,9044,9045,9048,9052,9054,9055,9056,9064,9065,9066,9068,9070,9072,9074,9075,9080,9084,9085,9088,9090,9096,9105,9107,9109,9114,9119,9120,9122,9125,9128,9131,9132,9133,9135,9137,9138,9141,9144,9147,9156,9163,9168,9180,9182,9183,9187,9191,9195,9198,9200,9205,9208,9210,9220,9224,9232,9234,9240,9242,9248,9249,9254,9255,9264,9267,9268,9269,9270,9273,9276,9279,9282,9288,9291,9292,9298,9300,9310,9318,9320,9322,9324,9325,9326,9327,9328,9331,9334,9338,9342,9344,9345,9352,9356,9372,9373,9375,9377,9378,9380,9382,9384,9387,9392,9396,9398,9404,9405,9408,9414,9423,9432,9435,9438,9445,9447,9449,9459,9460,9462,9474,9480,9482,9484,9488,9490,9492,9498,9504,9505,9506,9512,9516,9518,9519,9522,9524,9525,9528,9531,9537,9540,9543,9550,9552,9565,9570,9572,9574,9576,9578,9580,9585,9592,9594,9606,9608,9609,9610,9612,9614,9620,9622,9625,9626,9627,9630,9632,9639,9640,9642,9647,9666,9676,9678,9683,9688,9690,9696,9700,9704,9705,9720,9722,9724,9730,9735,9738,9748,9758,9762,9765,9767,9768,9770,9776,9777,9779,9784,9786,9795,9796,9798,9803,9804,9810,9821,9824,9828,9835,9838,9844,9846,9849,9852,9865,9867,9868,9870,9877,9888,9891,9894,9897,9898,9900,9903,9912,9914,9916,9919,9928,9932,9936,9939,9940,9946,9948,9951,9956,9958,9963,9972,9975,9981,9982,9984,9989,9990,9992,9996,9999,10006,10040,10041,10048,10050,10052,10062,10070,10071,10074,10084,10092,10094,10098,10112,10125,10128,10131,10136,10146,10148,10152,10155,10170,10173,10176,10185,10194,10200,10204,10208,10210,10224,10238,10240,10242,10252,10272,10276,10284,10288,10292,10311,10314,10315,10328,10332,10340,10344,10345,10350,10354,10355,10356,10362,10364,10365,10374,10376,10385,10394,10396,10404,10428,10434,10448,10451,10452,10458,10464,10468,10476,10480,10488,10495,10498,10502,10503,10515,10516,10530,10540,10550,10560,10566,10575,10584,10592,10593,10596,10602,10608,10611,10614,10617,10619,10629,10632,10633,10635,10640,10642,10644,10648,10652,10656,10660,10674,10680,10684,10688,10698,10701,10710,10713,10715,10716,10720,10722,10724,10728,10730,10731,10744,10752,10758,10760,10761,10775,10785,10791,10794,10796,10800,10812,10820,10824,10830,10844,10845,10848,10856,10860,10863,10868,10878,10880,10884,10888,10896,10900,10902,10904,10906,10908,10914,10916,10920,10924,10926,10935,10938,10944,10964,10974,10992,11002,11007,11008,11010,11016,11028,11043,11060,11061,11065,11080,11081,11088,11100,11103,11104,11106,11109,11112,11114,11116,11118,11124,11132,11142,11160,11165,11168,11169,11172,11175,11180,11187,11199,11200,11202,11214,11220,11232,11235,11244,11245,11256,11260,11264,11268,11275,11276,11284,11286,11292,11298,11304,11308,11318,11319,11322,11331,11348,11354,11360,11370,11372,11376,11390,11392,11395,11404,11405,11406,11412,11424,11426,11430,11435,11468,11478,11480,11484,11488,11490,11500,11505,11508,11517,11528,11529,11535,11536,11552,11556,11558,11564,11572,11574,11575,11578,11580,11585,11607,11610,11612,11620,11622,11628,11640,11660,11667,11688,11700,11704,11714,11724,11736,11748,11756,11764,11772,11775,11780,11792,11805,11832,11844,11846,11847,11853,11856,11860,11868,11872,11880,11890,11896,11910,11912,11924,11928,11936,11943,11944,11952,11956,11960,11964,11979,11980,11988,12004,12033,12040,12055,12064,12069,12072,12088,12090,12092,12108,12114,12120,12136,12144,12147,12150,12152,12153,12160,12168,12176,12180,12186,12212,12220,12231,12238,12242,12243,12248,12250,12254,12255,12256,12258,12260,12264,12267,12272,12278,12280,12290,12291,12292,12294,12297,12304,12306,12313,12320,12326,12327,12334,12335,12340,12355,12368,12375,12384,12390,12395,12402,12404,12418,12420,12423,12424,12428,12432,12436,12440,12452,12456,12458,12467,12468,12472,12476,12481,12486,12488,12500,12502,12504,12508,12516,12520,12523,12525,12532,12534,12537,12538,12542,12546,12552,12555,12568,12572,12574,12579,12584,12588,12594,12600,12620,12624,12632,12642,12644,12646,12650,12652,12654,12656,12668,12670,12680,12684,12687,12688,12692,12700,12704,12708,12715,12726,12738,12740,12744,12747,12750,12754,12755,12759,12762,12764,12776,12780,12784,12792,12794,12796,12800,12804,12806,12816,12822,12825,12836,12843,12855,12856,12858,12876,12878,12886,12888,12904,12909,12912,12914,12922,12928,12929,12940,12944,12948,12951,12952,12966,12969,12976,12999,13000,13002,13005,13010,13016,13023,13030,13040,13041,13048,13052,13056,13060,13064,13065,13075,13080,13088,13100,13104,13106,13116,13120,13122,13128,13131,13140,13145,13146,13150,13162,13164,13172,13173,13179,13186,13188,13197,13212,13220,13224,13226,13228,13230,13234,13236,13248,13250,13260,13270,13272,13276,13280,13288,13290,13302,13308,13312,13328,13336,13340,13344,13348,13350,13352,13356,13358,13360,13362,13366,13376,13384,13391,13394,13395,13406,13408,13410,13412,13419,13426,13444,13452,13455,13458,13461,13476,13479,13482,13498,13500,13508,13510,13512,13515,13516,13525,13528,13536,13538,13540,13545,13546,13548,13555,13566,13568,13570,13590,13594,13600,13608,13615,13616,13617,13625,13634,13650,13668,13671,13680,13684,13700,13716,13720,13734,13735,13760,13764,13778,13790,13796,13797,13802,13816,13824,13826,13828,13839,13842,13846,13848,13870,13884,13888,13890,13892,13898,13902,13905,13908,13928,13935,13940,13944,13952,13960,13965,13968,13974,13976,13980,13984,13986,14016,14020,14036,14040,14042,14043,14046,14060,14063,14064,14072,14076,14080,14086,14094,14098,14104,14115,14118,14119,14127,14136,14142,14144,14154,14157,14160,14168,14169,14188,14204,14205,14210,14220,14224,14240,14244,14248,14260,14265,14268,14271,14280,14284,14286,14292,14298,14300,14304,14316,14322,14328,14340,14376,14379,14380,14384,14388,14392,14394,14400,14405,14410,14412,14415,14418,14424,14432,14436,14442,14448,14450,14452,14454,14456,14460,14464,14476,14493,14496,14498,14512,14516,14525,14532,14535,14552,14554,14556,14562,14566,14574,14576,14578,14584,14585,14588,14592,14598,14607,14608,14610,14616,14620,14625,14628,14635,14636,14640,14651,14665,14676,14686,14700,14704,14720,14721,14728,14730,14735,14744,14749,14756,14760,14769,14770,14775,14778,14792,14798,14802,14808,14832,14833,14840,14842,14846,14856,14859,14864,14868,14884,14888,14892,14907,14908,14928,14940,14942,14943,14949,14968,14973,14975,14988,15000,15004,15005,15022,15030,15032,15033,15036,15044,15048,15057,15070,15074,15075,15078,15085,15090,15100,15108,15110,15120,15134,15136,15144,15156,15160,15162,15164,15168,15174,15176,15177,15178,15184,15186,15195,15198,15200,15208,15213,15218,15224,15228,15234,15236,15239,15240,15244,15256,15264,15270,15282,15285,15288,15292,15300,15302,15304,15315,15316,15320,15323,15324,15328,15330,15335,15337,15344,15346,15352,15354,15357,15360,15362,15366,15369,15370,15376,15378,15380,15384,15388,15396,15400,15405,15414,15416,15420,15424,15430,15432,15440,15447,15455,15460,15465,15492,15498,15512,15522,15524,15525,15528,15532,15536,15544,15545,15552,15558,15560,15568,15576,15580,15588,15591,15592,15594,15600,15610,15654,15656,15660,15665,15666,15672,15680,15695,15696,15705,15714,15720,15724,15738,15740,15766,15772,15780,15782,15789,15792,15794,15804,15806,15807,15810,15816,15822,15825,15830,15840,15845,15872,15880,15888,15900,15912,15915,15920,15925,15928,15930,15939,15942,15945,15964,15966,15972,15974,15978,15986,15988,15990,15992,16002,16008,16012,16016,16018,16022,16024,16026,16038,16046,16065,16071,16074,16080,16086,16092,16093,16104,16110,16114,16125,16126,16128,16130,16140,16142,16146,16148,16149,16152,16158,16160,16161,16164,16174,16180,16182,16188,16192,16194,16196,16198,16227,16230,16248,16254,16260,16264,16278,16284,16290,16295,16300,16303,16305,16310,16312,16318,16326,16331,16338,16350,16352,16353,16360,16362,16366,16368,16376,16377,16384,16394,16395,16398,16400,16407,16408,16412,16422,16425,16428,16431,16440,16448,16472,16484,16488,16490,16491,16496,16500,16506,16512,16521,16527,16528,16533,16548,16555,16556,16558,16563,16566,16572,16574,16588,16596,16600,16606,16614,16620,16639,16640,16656,16664,16670,16672,16674,16676,16680,16684,16686,16700,16702,16706,16716,16728,16735,16743,16744,16749,16752,16756,16758,16762,16779,16788,16800,16814,16815,16820,16824,16828,16830,16848,16849,16860,16875,16876,16882,16886,16893,16894,16896,16899,16911,16914,16920,16924,16926,16932,16935,16938,16945,16946,16948,16962,16976,16977,16983,16986,16988,16989,16990,16992,17004,17006,17008,17010,17012,17013,17019,17024,17025,17028,17031,17032,17046,17048,17049,17052,17055,17064,17066,17068,17070,17078,17080,17088,17090,17096,17098,17100,17104,17115,17118,17127,17128,17130,17136,17139,17142,17145,17152,17154,17163,17164,17170,17174,17176,17178,17180,17181,17187,17188,17192,17200,17202,17210,17211,17216,17220,17224,17234,17240,17242,17244,17250,17253,17256,17269,17276,17277,17280,17294,17296,17298,17311,17314,17316,17324,17328,17336,17337,17343,17352,17353,17366,17372,17382,17397,17412,17416,17418,17424,17430,17442,17446,17448,17451,17464,17469,17474,17478,17480,17484,17488,17496,17508,17512,17514,17516,17517,17523,17528,17544,17550,17562,17563,17565,17568,17574,17576,17580,17582,17584,17586,17594,17598,17610,17625,17631,17640,17645,17656,17658,17661,17662,17668,17670,17680,17685,17703,17704,17706,17715,17717,17730,17736,17748,17754,17760,17780,17782,17784,17790,17793,17796,17799,17800,17801,17808,17812,17814,17816,17817,17842,17843,17844,17846,17850,17853,17856,17862,17870,17871,17872,17874,17878,17890,17892,17896,17898,17904,17913,17916,17926,17928,17934,17940,17944,17956,17960,17962,17969,17970,17976,17984,17996,17997,17998,18000,18003,18004,18006,18009,18016,18020,18024,18025,18028,18030,18042,18060,18068,18081,18086,18092,18108,18116,18120,18126,18128,18129,18135,18141,18144,18147,18151,18158,18159,18160,18165,18171,18172,18175,18178,18179,18185,18189,18200,18207,18212,18213,18216,18225,18228,18231,18264,18266,18270,18282,18291,18296,18304,18312,18314,18318,18321,18328,18344,18348,18350,18356,18360,18363,18372,18384,18385,18390,18393,18402,18414,18415,18416,18417,18420,18422,18424,18430,18440,18447,18464,18468,18470,18471,18476,18478,18488,18489,18504,18510,18512,18520,18522,18526,18528,18540,18548,18552,18565,18567,18578,18585,18594,18596,18602,18604,18609,18618,18624,18627,18628,18630,18635,18648,18654,18655,18660,18672,18676,18678,18693,18696,18708,18710,18711,18712,18720,18728,18729,18732,18736,18742,18748,18750,18760,18762,18765,18768,18772,18774,18776,18786,18788,18792,18796,18798,18808,18809,18816,18820,18822,18824,18828,18830,18836,18844,18856,18860,18864,18867,18870,18872,18876,18880,18893,18910,18912,18914,18918,18924,18928,18936,18948,18949,18950,18954,18958,18963,18972,18980,18981,18984,18985,18986,18996,19000,19006,19018,19024,19038,19044,19053,19060,19064,19088,19089,19092,19095,19098,19100,19104,19107,19110,19113,19131,19143,19145,19146,19150,19168,19170,19188,19192,19196,19197,19198,19208,19215,19222,19224,19232,19236,19238,19242,19264,19272,19274,19275,19282,19285,19286,19288,19290,19296,19312,19313,19314,19320,19326,19328,19332,19344,19356,19362,19368,19380,19400,19401,19404,19432,19440,19458,19461,19464,19472,19476,19485,19490,19500,19509,19512,19518,19524,19527,19532,19535,19536,19542,19554,19560,19566,19570,19578,19584,19590,19592,19604,19607,19608,19610,19612,19614,19615,19625,19628,19632,19635,19640,19642,19650,19656,19665,19680,19698,19708,19710,19713,19722,19732,19733,19737,19746,19760,19764,19768,19774,19776,19780,19785,19795,19797,19804,19808,19810,19816,19817,19820,19824,19836,19840,19842,19845,19848,19858,19860,19863,19870,19892,19900,19905,19908,19914,19926,19936,19940,19944,19960,19964,19968,19970,19976,19978,19980,19988,19994,19996,20024,20043,20068,20070,20072,20075,20080,20088,20092,20100,20111,20115,20118,20120,20124,20132,20140,20160,20172,20175,20181,20187,20190,20199,20220,20230,20232,20240,20241,20250,20253,20256,20272,20286,20292,20293,20295,20298,20316,20334,20335,20352,20356,20382,20395,20400,20403,20408,20416,20424,20460,20464,20466,20480,20490,20493,20496,20512,20520,20526,20532,20535,20547,20553,20556,20560,20571,20573,20634,20640,20646,20650,20656,20658,20675,20676,20678,20688,20692,20696,20718,20728,20732,20734,20745,20752,20760,20763,20769,20770,20772,20783,20790,20800,20808,20817,20826,20832,20835,20840,20853,20860,20872,20874,20880,20886,20900,20907,20928,20943,20951,20970,20988,20995,21009,21020,21033,21035,21042,21044,21045,21048,21049,21072,21078,21080,21093,21096,21105,21115,21119,21120,21132,21140,21147,21150,21154,21174,21176,21177,21180,21190,21207,21215,21216,21219,21224,21240,21255,21256,21260,21276,21280,21288,21294,21296,21312,21320,21328,21330,21340,21342,21372,21375,21380,21384,21392,21410,21414,21420,21426,21447,21448,21450,21456,21462,21472,21474,21483,21486,21492,21504,21516,21528,21530,21546,21555,21558,21564,21576,21592,21600,21606,21610,21628,21630,21656,21657,21663,21664,21672,21690,21696,21711,21735,21745,21756,21760,21780,21783,21784,21807,21812,21816,21825,21832,21834,21836,21840,21843,21875,21906,21912,21920,21924,21931,21936,21944,21964,21966,21973,21978,21984,21987,21993,22001,22004,22014,22015,22024,22070,22071,22074,22085,22099,22105,22115,22116,22132,22144,22156,22160,22164,22175,22195,22210,22220,22221,22224,22225,22230,22232,22242,22255,22280,22281,22284,22293,22316,22329,22332,22337,22356,22370,22376,22377,22392,22404,22410,22428,22430,22431,22432,22446,22448,22450,22452,22463,22480,22488,22494,22496,22500,22524,22527,22530,22532,22536,22540,22544,22545,22548,22551,22555,22560,22563,22582,22599,22602,22604,22630,22659,22660,22672,22680,22686,22692,22694,22700,22715,22725,22728,22737,22740,22745,22752,22755,22760,22768,22770,22775,22776,22785,22797,22800,22808,22810,22818,22824,22825,22839,22848,22855,22857,22860,22863,22864,22875,22880,22884,22904,22923,22924,22926,22932,22938,22940,22945,22956,22959,22972,22976,22977,22992,23000,23010,23022,23024,23040,23052,23058,23060,23085,23088,23105,23109,23112,23114,23115,23118,23120,23121,23130,23136,23195,23200,23219,23220,23224,23233,23240,23245,23260,23283,23304,23307,23310,23313,23319,23320,23340,23344,23346,23361,23367,23375,23380,23397,23400,23406,23408,23412,23415,23416,23424,23428,23436,23439,23451,23457,23478,23485,23490,23496,23499,23502,23512,23520,23528,23538,23556,23568,23574,23577,23583,23588,23590,23598,23600,23604,23610,23615,23620,23624,23660,23664,23670,23688,23696,23706,23715,23744,23748,23760,23772,23796,23814,23820,23874,23877,23880,23891,23920,23925,23926,23934,23940,23943,23946,23947,23964,23965,23972,23975,23979,23980,23996,24003,24016,24024,24036,24042,24045,24059,24070,24088,24108,24122,24126,24132,24135,24138,24144,24150,24156,24159,24160,24170,24180,24184,24195,24206,24207,24235,24237,24240,24243,24246,24256,24264,24270,24276,24280,24288,24291,24297,24320,24330,24332,24339,24340,24348,24388,24390,24396,24399,24400,24402,24408,24412,24414,24420,24423,24435,24436,24444,24450,24462,24480,24489,24492,24500,24507,24525,24550,24555,24560,24568,24573,24576,24580,24584,24588,24605,24616,24626,24655,24660,24661,24681,24682,24684,24690,24705,24735,24736,24741,24744,24756,24760,24762,24768,24777,24798,24819,24824,24828,24836,24840,24844,24864,24885,24888,24896,24900,24921,24930,24936,24939,24948,24950,24952,24957,24960,24968,24990,25000,25004,25015,25028,25039,25050,25053,25056,25065,25080,25083,25085,25100,25101,25109,25110,25125,25136,25137,25140,25146,25151,25160,25164,25168,25170,25173,25191,25195,25206,25209,25212,25221,25224,25239,25240,25242,25248,25256,25275,25278,25287,25290,25296,25298,25320,25328,25344,25350,25353,25354,25356,25360,25362,25365,25376,25392,25428,25431,25464,25465,25467,25470,25473,25476,25480,25512,25515,25520,25524,25527,25533,25542,25552,25560,25580,25592,25600,25604,25605,25608,25620,25632,25636,25641,25644,25647,25648,25650,25662,25665,25668,25672,25677,25680,25686,25695,25710,25716,25719,25720,25722,25728,25734,25736,25740,25743,25768,25776,25779,25788,25794,25803,25815,25836,25840,25850,25860,25866,25870,25872,25890,25893,25896,25921,25929,25936,25948,25950,25970,25977,25986,25995,26001,26008,26010,26043,26052,26058,26064,26065,26072,26088,26096,26100,26109,26116,26118,26121,26128,26130,26131,26136,26145,26148,26163,26168,26169,26173,26178,26192,26194,26196,26205,26211,26215,26226,26232,26244,26248,26253,26259,26264,26271,26280,26285,26304,26322,26324,26325,26341,26352,26370,26376,26397,26400,26415,26424,26436,26451,26453,26463,26470,26475,26484,26487,26490,26502,26504,26508,26510,26512,26520,26529,26532,26536,26572,26584,26585,26586,26596,26598,26600,26616,26620,26646,26649,26652,26664,26667,26672,26676,26677,26682,26684,26688,26691,26698,26700,26703,26712,26730,26736,26742,26748,26751,26760,26768,26769,26788,26800,26808,26816,26820,26824,26831,26848,26850,26856,26860,26862,26868,26873,26888,26890,26898,26901,26908,26919,26922,26928,26945,26952,26955,26964,26965,26982,26985,26992,26995,27000,27006,27012,27020,27027,27036,27042,27048,27054,27060,27084,27117,27125,27138,27144,27146,27152,27153,27165,27180,27192,27195,27198,27224,27225,27234,27240,27256,27260,27264,27265,27285,27291,27295,27296,27310,27368,27377,27378,27384,27390,27395,27405,27408,27415,27424,27426,27433,27435,27440,27453,27456,27472,27477,27480,27482,27496,27510,27522,27525,27538,27543,27544,27552,27560,27561,27568,27600,27612,27615,27621,27622,27624,27632,27636,27645,27651,27654,27657,27663,27668,27685,27693,27696,27702,27706,27720,27725,27728,27732,27738,27744,27755,27756,27762,27765,27768,27775,27783,27798,27800,27805,27811,27812,27864,27876,27888,27900,27904,27912,27915,27920,27923,27948,27978,27984,27996,28017,28035,28038,28049,28055,28064,28080,28085,28095,28098,28105,28112,28120,28149,28150,28160,28172,28180,28188,28192,28200,28212,28224,28225,28231,28232,28235,28245,28251,28259,28260,28287,28296,28314,28320,28324,28329,28332,28335,28343,28372,28377,28396,28404,28432,28443,28448,28458,28461,28470,28504,28506,28512,28515,28518,28524,28525,28528,28532,28535,28546,28568,28576,28584,28593,28602,28610,28620,28623,28624,28635,28644,28668,28670,28680,28686,28696,28704,28707,28721,28732,28740,28746,28749,28768,28776,28780,28782,28792,28805,28812,28815,28816,28818,28836,28840,28845,28855,28865,28872,28875,28881,28885,28890,28902,28926,28935,28936,28938,28944,28945,28948,28952,28983,28986,29008,29010,29015,29025,29031,29032,29060,29061,29070,29076,29082,29088,29091,29106,29115,29130,29132,29136,29141,29144,29160,29166,29169,29172,29184,29190,29192,29204,29208,29210,29240,29244,29250,29252,29253,29255,29256,29262,29265,29272,29275,29277,29280,29288,29309,29312,29320,29325,29331,29332,29335,29344,29352,29365,29372,29384,29385,29404,29406,29412,29416,29436,29442,29457,29466,29484,29502,29517,29520,29530,29535,29540,29552,29560,29565,29574,29584,29588,29590,29625,29628,29640,29646,29649,29652,29670,29673,29682,29684,29694,29700,29715,29736,29748,29750,29755,29780,29792,29800,29805,29808,29820,29828,29832,29838,29840,29844,29870,29880,29886,29888,29892,29895,29896,29920,29922,29930,29939,29943,29944,29946,29955,29960,29965,29968,29979,29984,29985,29995,30000,30005,30008,30024,30032,30050,30054,30064,30072,30088,30092,30096,30125,30130,30160,30170,30200,30205,30212,30216,30224,30240,30248,30252,30258,30261,30270,30276,30294,30300,30324,30325,30330,30331,30338,30344,30348,30357,30366,30372,30375,30393,30394,30395,30400,30404,30408,30420,30425,30436,30456,30457,30465,30485,30492,30504,30506,30524,30527,30540,30572,30573,30582,30584,30600,30604,30609,30612,30624,30635,30653,30656,30672,30688,30690,30692,30702,30720,30726,30732,30744,30745,30760,30780,30792,30795,30800,30807,30810,30814,30832,30855,30892,30900,30905,30906,30912,30918,30936,30948,30954,30955,30960,30965,30976,31005,31023,31026,31040,31050,31056,31088,31092,31095,31120,31128,31136,31156,31164,31165,31184,31190,31200,31206,31218,31234,31240,31248,31254,31260,31280,31284,31285,31290,31296,31311,31318,31320,31332,31336,31338,31344,31346,31350,31385,31400,31404,31416,31424,31430,31448,31455,31465,31485,31507,31520,31521,31536,31540,31542,31555,31563,31572,31576,31608,31625,31638,31648,31654,31716,31728,31730,31732,31734,31740,31764,31766,31770,31776,31780,31788,31812,31824,31830,31865,31872,31875,31876,31878,31884,31885,31896,31905,31912,31935,31952,31956,31960,31962,31969,31984,31997,32025,32028,32032,32036,32046,32052,32056,32080,32084,32104,32112,32132,32144,32148,32152,32172,32175,32184,32185,32192,32193,32220,32236,32242,32255,32256,32260,32270,32288,32291,32298,32316,32336,32340,32360,32361,32368,32389,32400,32408,32438,32448,32454,32456,32464,32478,32508,32525,32528,32530,32540,32543,32550,32555,32556,32564,32580,32592,32605,32612,32620,32634,32643,32652,32656,32664,32670,32690,32697,32705,32720,32724,32725,32733,32754,32765,32766,32767,32768,32769,32775,32776,32780,32800,32808,32814,32816,32832,32838,32840,32848,32859,32877,32880,32892,32898,32904,32916,32922,32931,32940,32946,32952,32958,32984,32994,32995,32996,32998,33012,33018,33040,33044,33052,33060,33072,33075,33084,33088,33102,33104,33108,33128,33132,33138,33145,33174,33180,33190,33192,33198,33201,33208,33228,33240,33246,33252,33256,33260,33265,33272,33278,33291,33292,33327,33330,33348,33352,33370,33372,33375,33390,33397,33400,33408,33432,33445,33446,33468,33472,33474,33476,33505,33520,33534,33540,33543,33544,33560,33568,33570,33572,33582,33635,33644,33670,33672,33680,33685,33691,33696,33702,33715,33720,33735,33741,33756,33759,33768,33786,33832,33846,33884,33894,33896,33901,33904,33905,33912,33950,33952,33954,33960,33966,33978,34002,34004,34008,34016,34020,34024,34040,34056,34064,34065,34074,34096,34100,34101,34104,34110,34111,34125,34134,34135,34136,34145,34160,34164,34176,34181,34182,34192,34208,34216,34223,34237,34244,34245,34250,34254,34265,34272,34280,34304,34305,34316,34317,34326,34335,34355,34371,34380,34389,34392,34407,34432,34443,34456,34468,34482,34489,34500,34518,34525,34542,34550,34552,34556,34560,34568,34569,34584,34595,34600,34605,34608,34620,34622,34624,34628,34632,34670,34676,34680,34688,34696,34700,34752,34775,34790,34800,34805,34812,34820,34825,34830,34848,34856,34860,34874,34884,34892,34895,34914,34952,34955,34956,34968,34985,34998,35004,35008,35036,35055,35070,35082,35088,35091,35096,35100,35116,35120,35130,35136,35148,35156,35172,35189,35195,35238,35268,35272,35292,35296,35300,35304,35307,35320,35335,35336,35355,35370,35382,35396,35397,35400,35418,35420,35424,35430,35440,35455,35456,35472,35484,35505,35520,35532,35540,35552,35556,35560,35575,35577,35580,35590,35592,35595,35608,35616,35632,35651,35652,35680,35693,35695,35700,35704,35707,35714,35720,35728,35730,35742,35754,35760,35765,35778,35785,35790,35800,35802,35812,35815,35824,35826,35832,35838,35844,35845,35876,35890,35931,35936,35940,35952,35955,35956,35984,36009,36024,36032,36036,36045,36060,36075,36076,36090,36096,36112,36114,36115,36116,36120,36135,36148,36152,36184,36189,36192,36198,36210,36230,36232,36244,36260,36261,36264,36268,36270,36300,36324,36328,36351,36358,36360,36384,36388,36390,36392,36393,36400,36407,36424,36428,36444,36452,36456,36468,36470,36480,36498,36510,36520,36525,36530,36531,36533,36535,36575,36582,36592,36603,36608,36620,36621,36624,36628,36630,36642,36645,36648,36660,36665,36678,36694,36702,36711,36712,36728,36729,36736,36738,36740,36750,36775,36783,36792,36801,36810,36815,36828,36832,36840,36846,36855,36856,36858,36864,36865,36876,36884,36894,36900,36904,36905,36908,36912,36916,36927,36972,36975,36985,36990,37009,37016,37062,37074,37096,37098,37105,37107,37110,37112,37116,37125,37152,37176,37192,37196,37200,37204,37224,37226,37282,37290,37304,37305,37312,37320,37340,37345,37352,37359,37372,37374,37394,37410,37412,37425,37428,37429,37450,37460,37485,37488,37512,37548,37566,37569,37576,37584,37590,37593,37600,37602,37604,37608,37638,37648,37656,37665,37672,37681,37700,37702,37712,37722,37724,37728,37744,37752,37764,37768,37784,37786,37788,37793,37800,37827,37854,37864,37878,37890,37898,37900,37908,37919,37920,37935,37945,37952,37965,37975,37980,37986,37988,38005,38024,38025,38036,38052,38056,38065,38066,38088,38094,38097,38108,38112,38115,38136,38140,38148,38156,38176,38190,38204,38208,38232,38240,38241,38245,38250,38260,38276,38286,38290,38304,38336,38339,38340,38356,38368,38405,38408,38412,38423,38448,38495,38508,38512,38514,38516,38528,38536,38550,38560,38562,38574,38584,38592,38604,38610,38635,38640,38646,38648,38661,38664,38672,38676,38680,38688,38700,38704,38712,38730,38740,38742,38750,38755,38760,38792,38804,38808,38816,38824,38826,38838,38844,38855,38871,38872,38880,38910,38920,38935,38952,38964,38970,38972,38979,38990,39000,39006,39024,39040,39048,39072,39095,39096,39115,39116,39120,39123,39130,39132,39140,39144,39156,39176,39180,39185,39190,39200,39210,39214,39216,39220,39231,39240,39250,39270,39277,39280,39300,39304,39324,39325,39330,39348,39350,39366,39370,39378,39438,39448,39456,39510,39528,39540,39573,39588,39592,39604,39606,39635,39675,39684,39690,39692,39720,39776,39780,39788,39810,39816,39822,39840,39852,39858,39861,39864,39868,39870,39904,39914,39920,39928,39948,39978,39980,39984,39990,39996,40000,40010,40033,40040,40044,40075,40080,40086,40110,40120,40130,40158,40175,40188,40200,40203,40206,40215,40225,40232,40242,40248,40270,40278,40284,40285,40290,40293,40320,40344,40355,40390,40401,40404,40415,40428,40434,40460,40470,40474,40500,40528,40537,40545,40551,40565,40566,40600,40610,40656,40686,40690,40691,40698,40719,40740,40745,40752,40754,40755,40770,40789,40795,40806,40820,40824,40825,40836,40842,40851,40852,40872,40887,40896,40926,40930,40943,40944,40960,40968,40998,41020,41028,41034,41040,41041,41050,41067,41094,41112,41120,41121,41130,41145,41152,41170,41175,41178,41190,41193,41202,41238,41240,41244,41250,41256,41260,41264,41272,41274,41286,41312,41322,41346,41360,41368,41395,41398,41400,41412,41445,41447,41454,41466,41472,41481,41482,41488,41514,41526,41528,41530,41532,41544,41560,41565,41571,41587,41589,41592,41604,41610,41625,41636,41665,41675,41697,41699,41704,41728,41742,41744,41748,41772,41790,41816,41820,41838,41868,41904,41912,41916,41955,41970,41972,41975,41976,41985,42006,42014,42040,42048,42056,42065,42075,42096,42126,42128,42136,42144,42150,42152,42161,42165,42175,42203,42252,42273,42312,42315,42320,42328,42336,42368,42371,42420,42432,42435,42469,42497,42510,42516,42518,42534,42539,42560,42561,42570,42605,42608,42612,42615,42624,42630,42637,42644,42696,42720,42726,42755,42759,42768,42774,42808,42824,42828,42833,42870,42876,42880,42918,42945,42948,42960,42984,42994,43002,43025,43036,43040,43056,43080,43095,43104,43115,43120,43140,43141,43152,43155,43164,43188,43195,43200,43204,43215,43225,43240,43245,43265,43281,43284,43309,43316,43335,43344,43351,43365,43372,43380,43389,43398,43400,43410,43420,43450,43456,43496,43524,43526,43540,43552,43580,43582,43590,43592,43617,43640,43641,43659,43662,43665,43666,43670,43722,43730,43740,43744,43760,43764,43768,43790,43799,43820,43825,43848,43864,43866,43875,43876,43883,43884,43890,43950,43998,44004,44008,44009,44010,44016,44025,44030,44034,44045,44065,44080,44094,44128,44136,44160,44165,44172,44178,44184,44200,44233,44248,44260,44268,44270,44274,44325,44328,44335,44343,44345,44350,44355,44359,44366,44370,44376,44384,44397,44433,44440,44445,44451,44488,44499,44500,44502,44512,44530,44532,44535,44555,44560,44575,44577,44584,44590,44605,44611,44616,44618,44628,44639,44650,44660,44680,44685,44702,44705,44730,44765,44772,44775,44779,44784,44790,44795,44838,44842,44849,44892,44904,44910,44916,44930,44937,44944,44946,44955,44961,44965,44980,45000,45024,45025,45031,45048,45050,45060,45072,45073,45094,45101,45114,45135,45155,45160,45162,45192,45204,45225,45235,45240,45260,45264,45311,45328,45330,45339,45344,45353,45360,45367,45372,45381,45396,45400,45408,45414,45420,45432,45450,45472,45477,45528,45531,45560,45563,45570,45594,45606,45616,45632,45647,45648,45654,45670,45675,45688,45720,45730,45744,45765,45766,45801,45820,45822,45824,45846,45850,45856,45865,45920,45955,45976,45984,46016,46040,46044,46046,46056,46064,46065,46067,46074,46086,46112,46136,46150,46158,46160,46165,46179,46180,46184,46185,46192,46193,46195,46208,46215,46224,46230,46242,46264,46272,46280,46284,46291,46305,46323,46359,46361,46422,46431,46440,46473,46476,46485,46515,46520,46535,46571,46575,46584,46593,46602,46608,46613,46625,46626,46641,46648,46650,46662,46696,46705,46712,46746,46767,46773,46782,46790,46800,46840,46842,46854,46879,46880,46896,46932,46975,47022,47048,47052,47076,47088,47089,47120,47128,47133,47135,47136,47152,47175,47187,47200,47208,47216,47230,47235,47240,47241,47243,47248,47260,47264,47268,47274,47285,47310,47322,47336,47346,47350,47355,47382,47385,47394,47415,47416,47424,47430,47466,47480,47495,47545,47565,47574,47580,47610,47622,47646,47682,47688,47691,47695,47704,47719,47742,47745,47770,47782,47789,47790,47817,47859,47862,47886,47915,47922,47928,47946,47952,47955,47976,47997,48000,48020,48024,48034,48042,48048,48055,48062,48076,48080,48120,48136,48146,48168,48181,48195,48198,48228,48285,48288,48320,48324,48335,48352,48370,48372,48391,48426,48432,48433,48438,48447,48450,48460,48480,48495,48496,48517,48519,48524,48534,48582,48606,48630,48636,48656,48660,48672,48675,48680,48708,48713,48726,48735,48756,48780,48810,48820,48830,48835,48840,48845,48888,48909,48935,48965,48968,48996,49005,49024,49032,49042,49050,49080,49095,49098,49105,49112,49119,49140,49145,49146,49147,49176,49182,49190,49196,49200,49210,49230,49248,49272,49275,49287,49290,49293,49301,49304,49314,49326,49347,49350,49375,49378,49380,49422,49440,49441,49448,49455,49480,49495,49496,49497,49500,49518,49525,49536,49554,49560,49574,49590,49626,49630,49665,49686,49704,49707,49722,49758,49763,49792,49800,49812,49832,49842,49856,49875,49880,49896,49900,49910,49956,49960,49980,49992,50022,50031,50040,50048,50071,50082,50085,50106,50168,50184,50196,50220,50226,50256,50265,50309,50320,50328,50330,50352,50364,50376,50388,50421,50432,50440,50445,50456,50464,50470,50526,50550,50554,50571,50586,50616,50617,50631,50638,50652,50661,50694,50708,50722,50728,50750,50766,50778,50800,50827,50832,50834,50848,50922,50925,50934,50958,50960,50985,51066,51072,51093,51100,51104,51108,51129,51186,51198,51200,51237,51255,51264,51276,51289,51330,51359,51372,51394,51415,51416,51422,51426,51432,51435,51448,51453,51486,51492,51504,51520,51546,51552,51561,51570,51576,51640,51642,51667,51672,51690,51702,51723,51758,51768,51777,51804,51814,51824,51834,51870,51930,51940,51942,51948,51960,51992,52010,52026,52032,52038,52047,52052,52115,52152,52155,52164,52170,52173,52200,52280,52290,52317,52374,52398,52428,52440,52464,52494,52506,52518,52521,52551,52556,52584,52600,52608,52619,52632,52640,52647,52650,52740,52766,52776,52780,52787,52792,52800,52808,52812,52815,52829,52840,52842,52871,52872,52884,52920,52990,52992,53010,53032,53040,53046,53056,53081,53088,53091,53142,53208,53217,53235,53244,53263,53277,53298,53307,53320,53352,53360,53382,53388,53392,53397,53433,53442,53445,53490,53494,53496,53501,53508,53520,53522,53526,53529,53580,53595,53608,53622,53634,53656,53658,53676,53680,53690,53697,53712,53721,53739,53746,53748,53757,53784,53792,53809,53838,53840,53851,53856,53868,53886,53898,53958,53964,53968,53976,53982,54000,54066,54096,54126,54138,54145,54153,54168,54171,54176,54208,54215,54222,54229,54234,54288,54341,54352,54354,54366,54384,54396,54432,54450,54467,54477,54481,54486,54510,54516,54520,54540,54564,54586,54593,54607,54621,54624,54648,54675,54677,54720,54726,54732,54762,54783,54792,54801,54804,54828,54832,54848,54882,54912,54929,54954,54981,54992,55008,55014,55016,55032,55048,55062,55071,55083,55086,55097,55111,55116,55132,55140,55144,55160,55164,55197,55200,55242,55251,55269,55321,55332,55335,55342,55384,55398,55419,55428,55454,55472,55503,55518,55520,55539,55542,55572,55593,55611,55616,55647,55657,55664,55674,55678,55698,55704,55719,55736,55740,55748,55755,55769,55832,55853,55872,55881,55902,55904,55908,55923,55938,55980,55986,56028,56032,56034,56035,56049,56106,56124,56133,56154,56169,56200,56208,56217,56220,56231,56232,56238,56252,56256,56259,56274,56296,56301,56304,56322,56328,56358,56399,56436,56442,56454,56483,56484,56496,56512,56538,56546,56552,56553,56568,56584,56586,56616,56632,56637,56640,56665,56682,56696,56727,56735,56742,56756,56763,56790,56824,56826,56835,56856,56862,56868,56882,56904,56910,56912,56952,56958,56966,57001,57015,57024,57060,57078,57092,57132,57134,57138,57141,57192,57248,57249,57253,57264,57281,57294,57296,57304,57323,57330,57339,57357,57375,57392,57429,57435,57462,57474,57483,57504,57516,57544,57552,57624,57652,57722,57726,57743,57768,57771,57774,57778,57792,57816,57824,57848,57870,57888,57897,57906,57918,57930,57968,58024,58038,58044,58064,58074,58113,58121,58128,58135,58142,58149,58158,58176,58177,58182,58216,58224,58240,58256,58324,58331,58338,58416,58471,58492,58499,58504,58528,58536,58542,58583,58635,58644,58692,58698,58707,58722,58776,58786,58800,58806,58828,58835,58842,58854,58866,58869,58878,58896,58905,58919,58932,58961,58986,59010,59016,59024,59040,59058,59070,59072,59121,59136,59160,59171,59220,59256,59276,59320,59373,59394,59418,59444,59496,59504,59544,59562,59568,59574,59612,59616,59626,59628,59664,59688,59703,59733,59742,59745,59760,59801,59808,59826,59838,59840,59843,59850,59864,59868,59874,59878,59898,59910,59927,59949,59952,59967,59969,59970,59982,59992,59994,60018,60039,60123,60129,60130,60158,60200,60210,60246,60264,60272,60277,60300,60304,60312,60326,60352,60372,60384,60417,60424,60431,60448,60464,60472,60504,60515,60520,60560,60561,60576,60585,60592,60600,60606,60640,60651,60669,60683,60786,60809,60816,60822,60888,60900,60936,60944,60970,60977,61048,61056,61074,61117,61145,61200,61229,61272,61280,61281,61336,61348,61355,61368,61384,61390,61407,61432,61495,61524,61530,61552,61576,61624,61648,61656,61696,61712,61720,61754,61760,61789,61794,61839,61848,61880,61887,61920,61936,61950,61952,61960,61974,61985,62006,62019,62034,62048,62062,62091,62154,62176,62190,62200,62216,62232,62244,62288,62300,62328,62334,62342,62377,62442,62461,62504,62541,62595,62640,62703,62704,62712,62739,62748,62755,62766,62856,62916,62928,62973,62991,62992,63007,63014,63016,63032,63049,63063,63084,63126,63154,63264,63266,63279,63280,63288,63297,63301,63350,63368,63400,63416,63440,63464,63476,63544,63567,63568,63576,63581,63594,63595,63612,63630,63637,63656,63657,63666,63684,63791,63792,63816,63864,63873,63875,63903,63917,63927,64022,64029,64040,64053,64071,64072,64078,64120,64134,64144,64148,64179,64184,64188,64211,64295,64296,64314,64359,64386,64393,64400,64404,64413,64414,64449,64467,64566,64576,64611,64629,64664,64666,64680,64692,64710,64720,64736,64750,64808,64816,64818,64832,64834,64897,64904,64918,64944,65002,65008,65052,65070,65097,65112,65133,65156,65160,65187,65233,65240,65247,65277,65295,65303,65304,65401,65520,65544,65568,65592,65632,65646,65779,65808,65848,65870,65880,65888,65891,65997,66024,66122,66129,66157,66168,66177,66178,66213,66231,66249,66267,66276,66283,66297,66367,66480,66536,66577,66600,66624,66645,66647,66663,66688,66689,66696,66708,66738,66762,66780,66801,66815,66885,66888,66969,66997,67039,67074,67080,67081,67095,67102,67104,67122,67140,67176,67200,67212,67228,67240,67266,67302,67336,67340,67347,67382,67424,67428,67512,67552,67572,67576,67648,67656,67662,67664,67683,67688,67704,67808,67830,67837,67842,67856,67872,67879,67921,67928,67998,68008,68031,68064,68103,68124,68152,68159,68202,68229,68238,68256,68306,68313,68344,68400,68425,68453,68488,68496,68509,68520,68528,68551,68560,68579,68632,68640,68652,68663,68670,68688,68719,68720,68728,68760,68761,68775,68814,68873,69016,69027,69056,69069,69076,69112,69129,69132,69144,69160,69192,69209,69240,69291,69344,69356,69360,69370,69453,69468,69471,69475,69504,69517,69580,69608,69622,69636,69671,69696,69699,69723,69727,69786,69804,69816,69818,69848,69888,69894,69916,69952,69976,70040,70088,70192,70344,70384,70398,70456,70479,70520,70544,70632,70650,70659,70960,70965,70992,71001,71064,71072,71100,71118,71145,71226,71232,71235,71240,71288,71406,71416,71432,71448,71560,71595,71616,71672,71703,71730,71744,71748,71760,71784,71802,71816,71820,71864,71880,71937,71952,71991,72000,72054,72264,72296,72369,72520,72552,72608,72632,72684,72688,72747,72801,72837,72855,72981,73128,73208,73215,73216,73242,73248,73278,73377,73392,73431,73520,73536,73593,73647,73701,73712,73719,73880,73908,73912,73960,73962,74024,74061,74080,74096,74133,74142,74264,74268,74304,74320,74360,74424,74440,74496,74512,74556,74574,74624,74632,74673,74817,74872,74943,74952,74960,75032,75042,75072,75150,75177,75186,75192,75258,75312,75366,75375,75393,75411,75424,75429,75432,75537,75584,75600,75616,75640,75690,75726,75728,75762,75780,75798,75897,75951,75978,75992,76064,76068,76080,76113,76136,76167,76192,76194,76230,76257,76455,76527,76563,76653,76698,76752,76770,76779,76824,76856,76860,76932,76968,77022,77072,77085,77094,77104,77128,77208,77247,77272,77274,77337,77416,77440,77448,77454,77496,77562,77568,77580,77632,77652,77670,77680,77751,77796,77848,77922,77976,78048,78104,78128,78156,78168,78184,78256,78296,78327,78328,78336,78368,78381,78416,78456,78472,78480,78534,78552,78560,78561,78669,78704,78712,78808,78816,78822,78856,78912,78975,79016,79088,79104,79119,79136,79144,79164,79176,79209,79232,79254,79299,79353,79371,79424,79443,79479,79480,79569,79677,79696,79704,79712,79736,79785,79794,79812,79832,79960,79984,80028,80100,80280,80361,80712,80802,81027,81099,81216,81279,81342,81432,81468,81936,81954,82026,82197,82251,82305,82458,82521,82674,82683,82800,82809,82827,82917,83007,83034,83097,83259,83268,83412,83538,83664,83718,83736,83781,83826,83844,84015,84024,84087,84141,84168,84231,84240,84438,84618,84654,84672,84879,84942,84951,84969,85014,85023,85077,85104,85311,85464,85545,85662,85698,85806,85824,85833,85887,85923,85959,85977,86103,86283,86337,86436,86472,86850,86904,86949,87003,87066,87084,87129,87174,87264,87363,87372,87561,87597,87705,87768,87831,87948,88164,88173,88200,88254,88308,88371,88425,88569,88614,88659,88965,89316,89487,89550,89613,89667,89712,89730,89784,89793],\"xaxis\":\"x\",\"y\":[1,1,1,1,1,1,1,1,1,1,1,1,1,1,1,1,1,1,1,1,1,1,2,1,1,1,1,1,1,1,1,1,1,1,1,1,1,2,1,2,1,1,1,1,1,1,2,2,1,1,1,1,1,1,1,1,1,1,1,1,1,1,1,1,1,1,1,1,1,1,1,1,1,1,1,1,1,1,1,1,1,1,1,1,1,1,1,1,1,1,1,2,2,1,2,1,1,1,1,1,1,1,1,1,1,1,1,1,1,1,1,1,1,1,1,1,1,1,1,1,1,1,1,1,1,1,1,1,1,2,1,1,1,2,1,2,1,1,1,1,1,1,1,1,1,1,1,1,1,1,1,1,1,2,1,1,1,1,2,2,1,1,1,2,1,1,1,1,1,1,1,1,1,2,1,1,1,1,1,1,1,1,1,1,1,2,1,1,1,1,1,1,2,1,1,1,1,1,1,1,1,1,1,1,1,1,1,1,1,1,1,1,1,1,1,1,1,1,1,1,1,1,1,1,1,1,1,1,1,2,1,1,1,2,1,1,1,1,2,1,1,1,1,2,1,1,1,1,1,1,1,1,1,1,1,2,2,1,1,1,1,1,1,1,1,1,1,1,1,1,1,1,1,1,1,2,1,2,1,1,1,1,2,1,1,1,1,2,1,1,1,1,1,1,1,1,1,1,1,1,2,1,1,1,1,1,1,1,1,1,1,1,1,1,2,1,1,1,1,1,1,1,1,1,2,1,1,1,1,2,1,1,1,1,1,1,1,1,1,1,1,1,1,2,1,2,1,1,1,1,1,1,1,2,1,2,1,2,1,1,1,1,1,1,2,1,1,1,1,1,1,1,1,1,1,1,2,1,1,1,2,2,1,1,1,1,1,1,1,1,2,1,1,1,1,1,1,1,1,1,1,1,1,1,1,1,1,1,1,1,1,1,1,1,1,1,1,1,1,1,1,1,1,1,1,1,1,1,1,1,3,1,1,1,2,1,1,2,2,1,1,1,1,1,1,1,1,1,1,1,1,1,1,1,1,1,1,1,1,1,1,2,1,1,3,1,1,1,1,1,1,1,1,1,2,1,1,1,1,1,1,1,1,1,1,2,1,1,1,1,1,1,1,1,1,1,1,1,1,1,1,1,1,1,2,1,1,1,3,1,1,1,1,1,1,1,1,1,1,1,2,1,2,1,1,2,1,1,1,2,1,1,1,1,1,1,1,1,1,1,1,1,1,1,1,3,1,2,1,1,1,1,1,1,1,1,1,1,1,1,1,1,1,1,1,1,1,1,1,1,1,1,1,1,1,1,1,1,2,1,1,1,1,1,1,1,1,1,2,2,1,1,1,1,1,1,1,1,1,1,1,1,1,1,1,1,1,1,2,1,1,1,1,1,1,1,1,1,1,1,1,1,1,1,1,1,1,2,1,1,1,1,1,1,2,1,1,1,1,3,1,1,1,1,1,1,1,1,1,1,1,1,1,1,1,2,2,1,1,1,2,1,1,1,2,1,1,1,2,1,3,1,1,1,1,1,1,1,1,1,1,1,1,1,1,1,1,1,1,1,1,1,1,1,1,1,1,1,1,1,1,1,1,1,2,1,1,1,2,1,1,1,1,1,1,1,1,1,1,1,1,1,1,1,1,1,1,2,1,1,1,1,2,1,1,1,1,1,1,1,1,1,1,1,1,1,1,1,1,1,2,1,2,1,1,1,1,1,1,1,1,1,1,1,1,1,1,1,2,1,2,1,1,1,2,1,1,1,1,2,1,1,1,1,1,1,1,1,1,1,1,1,1,1,2,1,2,1,1,1,1,1,2,1,1,1,1,1,1,1,1,1,1,1,1,1,1,2,1,1,1,1,1,4,1,2,1,1,1,1,1,1,1,1,1,1,1,2,1,1,1,1,2,1,2,2,1,1,1,1,1,2,1,1,1,2,1,1,1,1,1,2,1,2,1,1,1,1,1,1,1,1,1,1,1,1,1,2,1,2,2,1,1,2,1,2,1,1,1,1,1,1,1,1,1,2,1,1,1,2,2,1,1,1,2,1,1,1,2,1,1,1,1,1,1,2,2,1,1,2,1,1,1,1,1,1,1,1,1,1,1,1,1,1,2,1,1,1,1,1,1,1,1,1,2,1,1,1,1,1,1,2,1,1,1,1,1,1,2,1,1,1,1,1,3,1,1,1,1,2,1,1,1,1,1,1,1,1,1,1,2,1,1,1,1,1,1,1,1,1,1,2,1,1,1,1,1,1,1,1,1,1,1,1,1,3,1,1,1,1,1,1,2,1,1,1,1,1,1,1,1,1,1,1,1,1,2,1,1,1,1,1,2,1,1,1,1,1,1,1,1,1,2,1,1,2,1,1,1,1,1,1,1,1,1,1,1,1,4,1,1,1,1,1,1,1,2,1,1,1,2,1,1,1,1,1,1,1,1,1,1,1,1,1,1,1,1,1,1,1,1,1,1,1,1,1,1,2,1,1,1,1,2,1,1,1,1,1,2,1,1,1,1,1,2,1,1,1,2,1,1,1,2,4,1,1,1,1,2,2,1,1,1,2,2,1,1,1,1,1,1,1,2,2,1,1,2,1,1,1,1,1,1,1,3,1,1,2,1,1,1,2,1,1,1,1,1,1,1,1,2,1,3,1,1,1,1,2,1,1,1,1,1,2,2,1,2,1,1,1,3,1,1,1,1,2,2,2,1,1,2,1,1,1,1,1,1,1,1,1,2,1,1,1,3,1,1,1,1,1,1,1,1,1,1,1,1,1,1,1,1,2,1,3,1,1,1,1,1,1,1,1,1,1,1,1,1,1,1,1,1,1,1,1,1,1,1,2,1,1,1,3,1,1,1,2,1,2,1,3,1,1,2,1,1,1,1,1,1,1,1,1,1,2,2,1,1,1,1,1,1,2,1,1,1,1,1,1,2,2,1,2,1,2,4,1,1,1,1,1,2,1,1,1,1,1,1,2,1,1,1,1,1,1,1,1,2,1,2,1,2,1,2,2,1,1,1,2,1,1,2,1,2,1,1,1,1,1,1,1,1,1,1,1,1,1,3,1,2,1,1,1,1,1,1,1,1,1,2,1,1,1,1,1,1,1,2,1,1,1,1,1,1,1,1,1,4,1,1,2,1,2,1,1,2,1,1,1,2,1,1,1,1,1,1,2,1,1,2,1,1,1,2,1,1,1,1,1,1,1,2,1,2,1,1,1,1,1,2,1,1,2,1,1,1,1,1,1,1,1,2,1,2,1,1,1,1,1,1,1,1,1,1,2,1,1,1,1,1,1,1,1,1,1,2,1,1,1,1,1,1,2,1,2,1,1,1,1,2,1,1,2,1,1,1,1,1,1,1,1,1,1,1,2,1,1,1,1,2,2,1,2,1,2,1,3,2,2,1,1,2,1,1,1,1,2,1,1,2,1,2,1,2,1,1,1,1,1,1,1,1,1,1,1,1,1,1,1,1,3,2,1,1,1,2,1,1,2,1,1,1,1,1,2,1,1,2,1,1,1,1,1,1,1,1,1,1,1,1,1,1,2,1,2,1,2,1,1,1,2,1,1,1,1,2,1,1,1,2,1,1,1,1,1,1,1,1,1,1,1,1,2,1,2,1,1,1,1,1,1,1,1,1,2,1,1,1,1,1,1,2,1,1,1,2,1,1,1,1,1,1,1,3,1,2,1,1,2,2,1,1,1,1,1,1,1,2,1,1,1,1,2,1,1,1,1,1,1,1,1,1,2,1,1,1,3,1,1,1,1,1,1,1,1,1,1,2,1,1,2,1,1,1,1,2,1,2,1,1,1,1,1,2,1,2,1,1,1,1,1,1,3,1,1,1,1,2,1,1,2,1,3,1,1,1,1,1,1,1,1,1,1,1,1,1,1,1,1,1,1,1,1,1,1,1,1,1,2,2,1,1,1,1,1,2,1,1,2,3,1,3,2,1,1,1,1,1,1,1,1,1,1,1,1,1,3,1,2,1,1,2,1,2,1,1,4,1,2,1,1,2,1,1,2,2,1,1,1,1,1,4,1,3,2,1,1,1,1,1,1,1,1,1,1,1,1,1,3,2,1,1,1,1,2,1,1,2,1,1,1,3,1,1,1,1,1,1,1,1,1,1,1,1,1,1,1,1,1,1,2,1,2,1,1,2,1,1,1,1,1,1,1,1,1,1,1,1,1,1,1,1,1,1,1,1,1,1,2,1,2,1,2,2,1,1,2,2,1,1,1,1,1,1,1,1,1,1,1,1,1,3,1,1,1,1,1,1,1,2,1,1,1,1,1,1,1,1,1,1,2,1,2,1,1,2,1,1,1,2,1,2,1,1,1,1,2,1,1,3,2,1,1,1,2,1,1,1,1,1,1,1,2,2,1,1,1,1,1,1,1,1,1,1,1,1,1,1,1,1,1,1,1,1,3,2,1,1,1,1,1,1,1,1,1,2,1,1,1,1,1,1,1,1,1,1,1,1,1,1,1,1,1,1,2,1,1,2,4,1,2,2,1,1,2,1,1,2,1,1,1,3,1,1,2,1,2,1,1,1,1,3,1,1,1,1,1,1,1,1,1,1,1,1,2,2,1,2,1,1,1,1,1,1,1,1,1,1,1,1,1,1,1,1,2,1,1,1,1,1,1,1,2,1,1,1,1,1,1,1,1,1,1,3,1,1,2,1,1,1,1,1,2,1,1,1,1,1,1,1,2,1,1,4,3,1,1,1,1,2,1,1,1,1,1,1,1,1,1,1,1,1,1,1,2,1,1,2,1,1,1,1,1,2,1,1,2,1,1,1,1,1,1,1,1,1,1,1,1,1,1,1,1,1,2,1,2,1,1,2,1,1,1,1,1,1,1,1,1,1,1,1,1,1,1,2,1,1,1,1,1,2,2,1,1,1,1,2,1,1,1,3,1,2,1,1,1,1,1,1,1,1,1,2,1,2,1,1,2,1,3,1,1,1,1,1,1,1,1,1,1,1,1,1,1,1,1,1,1,1,1,3,2,1,1,1,1,1,1,1,3,2,2,1,1,1,1,1,1,1,1,1,2,1,1,1,1,1,1,1,1,2,1,1,1,1,1,2,1,1,1,1,1,1,1,2,1,1,1,1,1,1,1,1,1,1,2,1,1,1,1,1,1,1,2,2,1,1,1,2,1,1,1,1,1,1,1,1,1,1,1,1,1,1,1,1,1,1,2,1,1,1,1,1,1,1,1,3,3,1,2,1,1,1,1,2,1,1,1,1,1,1,1,1,1,2,1,2,1,1,1,1,1,1,1,1,1,1,1,1,1,2,1,2,1,3,1,1,1,1,1,1,2,1,1,1,1,2,1,1,1,1,1,1,1,1,1,1,2,1,1,1,1,2,1,1,1,1,1,1,1,1,2,2,1,1,2,1,1,2,2,1,1,1,2,1,1,1,1,1,2,1,1,1,1,1,1,1,1,1,1,1,1,1,1,1,3,1,1,1,1,1,1,2,1,1,1,1,1,1,1,1,2,1,2,1,1,3,1,1,1,1,1,1,2,1,1,1,2,1,1,1,1,2,1,2,1,1,1,1,1,2,1,1,2,1,1,2,1,2,2,1,1,1,1,1,1,1,1,1,1,1,1,1,1,1,1,1,1,1,2,2,1,2,1,1,1,1,1,3,1,1,1,1,2,1,2,1,2,1,1,1,1,1,1,2,1,2,1,1,1,2,1,1,1,2,1,2,1,1,1,1,2,2,1,1,1,1,1,1,1,1,1,1,1,1,1,1,1,1,1,1,2,1,1,1,1,1,2,1,1,1,2,1,1,1,1,1,1,1,2,1,1,1,1,1,1,1,1,2,1,1,1,1,1,1,1,1,1,1,1,2,2,1,2,1,1,1,1,1,1,1,1,1,1,1,1,1,2,1,2,1,1,2,2,1,1,1,1,1,3,1,2,1,1,2,1,1,1,1,1,1,1,1,1,1,1,1,1,1,1,1,2,1,1,2,1,1,1,1,1,1,2,1,1,1,2,1,1,1,1,2,2,1,1,2,1,1,1,1,1,1,1,1,1,1,1,1,1,1,1,1,1,1,1,2,1,1,1,1,1,1,1,1,1,1,1,1,1,1,1,1,1,1,1,1,1,1,1,1,1,1,1,1,1,1,1,1,2,1,1,1,1,1,1,1,1,1,1,1,1,1,3,1,1,1,1,1,1,1,1,1,1,1,1,1,1,1,1,1,1,1,1,1,1,1,1,1,1,2,1,1,1,2,1,1,1,1,1,1,2,1,1,1,1,1,1,1,1,1,1,2,1,1,1,1,1,1,1,1,1,2,1,1,1,1,1,1,1,1,1,1,2,1,1,2,1,2,1,1,1,1,1,1,1,1,1,2,2,1,1,1,1,1,1,1,1,2,2,2,2,2,1,1,1,1,2,1,1,1,1,1,1,2,1,1,1,2,1,1,1,1,2,1,1,1,1,1,1,1,1,1,1,2,2,2,2,1,1,1,2,1,1,2,1,1,1,1,1,1,1,1,1,1,1,1,1,2,1,2,1,2,1,1,2,1,2,2,1,1,1,1,1,1,1,1,1,5,1,1,1,1,1,1,1,1,1,1,1,1,1,1,2,1,1,1,1,2,1,1,1,1,1,1,1,1,1,1,1,1,1,1,1,1,1,1,1,1,1,1,1,1,1,1,1,1,1,2,1,2,1,2,1,1,1,1,1,2,1,1,2,3,1,1,1,1,2,2,1,2,1,1,1,2,1,1,1,1,1,1,2,1,1,1,2,1,1,1,1,1,2,3,1,1,1,1,2,1,1,1,1,1,1,2,1,1,1,1,1,1,2,1,1,1,1,1,2,1,1,1,1,1,1,1,1,2,1,1,1,2,1,2,1,1,2,1,1,1,2,1,1,2,1,1,1,1,2,1,3,1,1,2,1,1,1,1,3,1,1,1,1,1,1,1,1,1,3,1,1,1,1,1,2,1,1,1,1,1,1,2,1,2,3,1,2,1,1,1,1,1,1,1,1,1,1,2,2,1,1,1,1,2,1,1,1,2,1,1,1,1,1,2,1,1,1,2,1,1,1,1,1,1,2,1,1,2,1,1,1,1,1,1,1,2,1,1,1,1,1,1,1,1,1,1,1,1,1,1,1,1,1,1,1,2,1,1,1,1,1,2,1,1,1,1,1,2,1,4,1,1,1,1,1,1,1,2,1,1,1,1,1,1,1,1,1,1,1,1,1,1,1,1,1,1,1,1,1,1,1,1,1,1,1,1,1,1,1,2,1,1,1,1,1,1,1,1,1,1,1,1,1,1,1,1,1,1,1,1,1,1,1,1,1,1,1,1,1,1,1,1,2,1,1,1,1,1,1,1,1,1,1,1,1,1,1,1,2,1,2,1,1,1,1,1,2,1,1,2,1,1,1,1,1,1,1,1,1,1,2,3,1,1,1,1,1,1,3,1,1,1,1,1,1,1,1,2,1,1,1,1,1,1,1,2,2,1,1,1,1,1,2,1,1,1,1,1,1,1,1,1,1,1,1,1,1,1,1,1,1,1,1,1,1,1,1,1,1,1,1,2,1,1,1,4,1,2,1,1,1,1,1,1,1,1,1,1,1,1,1,1,1,1,2,3,1,1,1,1,1,1,1,1,1,2,1,1,2,1,1,2,1,1,2,1,1,1,1,2,1,1,1,1,1,1,1,1,3,1,1,1,2,1,1,1,2,2,1,1,2,1,1,1,1,1,1,1,1,1,1,1,1,1,1,1,3,1,1,1,1,1,1,3,1,1,1,1,1,1,1,1,1,1,1,1,1,1,1,2,1,1,1,2,1,1,1,1,2,2,1,1,1,1,2,1,1,1,1,1,1,1,1,2,1,1,1,1,1,1,2,1,1,3,1,1,1,1,1,1,1,1,1,1,1,1,1,2,1,1,2,1,1,1,1,1,1,1,2,1,1,1,1,2,1,3,1,1,2,1,1,1,1,2,1,1,1,1,1,1,1,1,2,1,1,1,2,1,1,1,1,1,1,2,2,1,1,1,1,2,1,1,1,1,1,2,1,1,1,1,1,1,1,1,1,1,1,1,2,1,1,1,1,1,1,1,1,1,1,1,1,1,1,1,1,1,1,1,1,3,3,1,1,1,1,1,1,1,1,1,1,1,1,1,1,1,1,1,1,1,1,1,1,2,1,2,1,1,1,3,2,1,1,1,2,1,2,1,2,1,1,1,1,1,1,1,1,1,2,1,1,2,1,1,1,1,1,2,1,4,1,1,1,1,1,1,1,1,1,1,1,1,1,1,1,1,1,2,2,2,1,2,1,1,1,1,1,1,1,1,2,1,1,1,1,1,2,1,1,1,1,2,1,1,1,2,1,1,1,1,1,1,1,1,1,2,1,2,1,1,1,1,1,1,2,2,1,1,2,1,1,2,1,1,1,1,2,1,1,1,2,1,1,1,1,1,1,1,1,1,1,1,1,1,1,1,1,1,1,1,1,1,1,1,1,1,1,1,1,1,1,1,1,1,1,1,1,1,1,1,2,1,1,1,2,1,1,1,1,1,1,1,1,2,1,1,1,1,1,1,1,1,2,1,1,1,1,1,1,1,1,1,1,1,1,1,1,1,1,1,1,1,1,1,1,1,1,1,1,1,1,1,1,1,1,1,1,1,1,3,1,1,1,1,1,1,1,1,2,1,1,2,1,1,1,1,1,1,1,1,1,1,1,1,1,1,2,1,1,1,1,1,1,1,1,1,1,1,1,1,1,1,1,1,1,1,1,2,1,1,2,1,1,1,1,1,1,1,1,2,2,1,1,2,1,1,2,1,1,2,2,1,1,1,1,1,1,1,2,1,1,2,1,1,1,1,1,1,4,1,1,1,1,1,1,2,1,1,1,2,1,1,1,1,1,1,1,1,1,1,2,1,1,2,1,1,1,1,2,1,2,1,1,2,1,1,2,1,1,1,1,1,1,1,1,1,1,3,1,1,1,1,1,2,1,1,1,1,1,1,1,1,1,1,1,2,1,1,1,1,1,1,1,1,1,1,1,1,1,2,1,2,1,1,1,2,1,1,1,1,1,1,1,1,2,2,1,1,1,1,1,1,1,1,2,1,1,1,1,2,1,1,1,1,1,2,1,1,1,1,1,1,2,1,1,2,1,1,1,1,1,1,1,1,2,1,1,1,1,2,1,1,1,1,1,1,1,1,1,1,1,1,3,1,1,2,1,3,1,1,1,1,2,1,2,1,1,1,1,1,1,1,1,1,1,1,1,1,1,1,1,1,1,1,1,1,1,1,1,1,1,1,1,1,1,1,1,2,1,1,1,1,1,1,1,2,1,1,1,1,1,1,1,1,1,1,1,1,3,1,1,1,1,1,1,1,2,1,1,1,1,1,3,1,2,1,1,1,1,1,1,1,1,1,1,1,1,1,1,1,1,2,1,1,1,1,1,1,1,1,1,1,1,1,1,1,1,1,1,1,1,2,1,1,1,1,1,2,1,1,1,1,1,1,1,1,1,2,1,1,3,1,2,1,1,1,1,1,1,1,1,1,1,1,1,1,2,1,2,2,1,2,1,1,1,1,1,2,1,2,2,1,1,1,1,1,1,1,1,1,1,1,1,1,1,1,1,1,1,1,1,1,1,1,1,1,2,1,1,2,1,1,2,1,1,1,1,2,1,1,1,1,1,1,1,1,1,1,1,1,1,1,1,1,1,1,1,1,1,2,1,1,2,1,1,1,1,1,1,1,2,1,1,1,1,2,1,1,1,1,1,1,1,2,1,1,1,1,1,1,1,1,1,1,1,2,1,1,1,1,1,1,1,1,1,1,1,1,1,1,1,1,1,1,1,1,1,1,1,1,1,1,1,1,3,1,1,1,1,1,1,1,1,1,1,2,1,1,1,2,1,1,1,1,1,1,1,1,1,2,1,1,1,1,1,1,1,1,1,1,2,1,1,1,1,1,1,1,1,1,1,1,1,1,1,1,2,1,1,1,1,2,1,1,2,1,2,1,1,1,1,1,1,1,1,2,1,1,1,1,1,1,1,1,1,1,1,1,1,1,1,1,1,1,1,2,1,2,1,1,1,1,1,1,1,1,1,1,2,1,2,1,1,1,1,1,2,1,1,1,1,1,1,1,1,1,1,1,1,1,1,1,2,1,2,1,1,1,1,1,3,1,1,1,2,1,1,1,1,1,1,2,1,2,1,1,1,1,1,1,2,1,1,1,1,1,1,1,1,1,1,1,2,1,1,1,1,2,1,1,2,1,1,2,1,1,2,1,1,2,1,1,1,1,2,1,1,1,1,1,1,1,1,1,1,1,1,1,2,1,1,1,1,1,2,1,1,1,1,1,1,1,4,1,1,1,1,1,1,1,1,1,1,1,1,1,1,1,1,1,1,1,3,1,1,1,1,1,1,1,1,2,1,1,1,1,1,2,1,2,2,1,1,1,1,1,1,1,1,1,1,1,1,1,1,1,1,1,1,2,2,1,1,1,2,1,1,1,2,2,1,1,1,1,1,1,1,2,1,1,2,1,1,1,1,1,1,1,1,1,1,2,1,2,2,1,1,1,1,1,1,1,1,1,1,1,1,1,1,4,1,1,1,1,2,3,1,2,1,1,3,1,1,1,1,1,1,1,1,1,1,1,1,1,1,1,1,1,1,1,1,1,1,1,1,1,1,1,1,1,1,1,1,1,1,1,1,1,1,3,1,1,2,1,1,1,1,2,1,1,1,1,1,1,1,1,1,1,1,1,1,1,1,1,1,1,1,1,2,1,1,1,1,1,1,1,1,1,1,1,1,1,2,1,1,1,1,1,2,2,1,1,2,1,1,1,2,1,2,1,1,2,2,1,1,1,1,1,1,1,1,1,1,1,1,1,1,1,1,1,1,1,1,1,1,1,1,1,1,2,1,1,1,1,1,1,1,1,1,1,2,1,1,1,1,1,1,1,1,1,1,1,1,1,2,1,1,1,1,1,1,1,1,1,1,2,1,1,1,1,1,1,1,1,1,1,1,1,1,1,1,1,1,1,1,1,1,1,1,1,1,1,1,1,1,1,1,1,1,3,1,2,1,3,1,1,2,1,1,1,1,1,1,1,1,1,2,1,2,1,1,1,1,1,1,1,1,1,1,1,1,1,1,1,1,1,1,1,1,1,1,1,1,1,1,2,1,1,1,1,1,1,1,1,1,1,1,1,1,1,1,1,1,1,1,1,1,1,1,1,1,1,1,1,1,1,1,1,1,1,1,1,2,1,1,2,1,1,1,1,1,1,1,1,2,1,1,1,1,1,1,2,1,1,1,1,1,1,1,2,1,1,1,1,2,1,1,3,1,1,2,1,1,2,1,1,1,1,1,1,1,1,1,1,2,1,1,1,1,1,1,1,1,1,1,1,1,2,1,1,1,1,1,2,1,1,2,1,1,1,1,1,1,1,1,1,1,1,1,1,1,1,1,1,2,1,1,1,1,1,1,1,1,1,1,1,1,1,1,1,1,1,1,1,1,1,1,1,1,1,2,1,1,2,1,1,2,1,1,1,1,1,1,1,1,1,1,1,1,1,1,1,1,1,1,1,1,1,1,3,1,1,1,1,1,1,1,1,1,1,1,1,1,1,1,1,1,2,2,1,1,1,1,1,1,1,1,2,1,1,1,1,2,1,1,1,1,1,1,1,2,1,1,1,1,1,1,1,1,1,2,1,1,2,1,1,1,1,1,1,1,1,1,1,1,1,1,2,1,2,1,1,1,1,2,1,1,1,1,1,1,1,1,1,1,1,1,1,1,1,1,1,1,1,3,2,1,1,2,1,1,2,1,1,1,1,1,1,1,1,1,1,1,2,2,1,1,1,1,1,1,1,1,2,1,1,1,1,1,1,1,1,1,1,1,1,1,1,1,2,1,1,2,1,1,1,1,1,1,1,1,1,1,1,1,1,1,1,1,1,1,2,1,1,1,1,1,1,1,1,1,1,1,2,1,1,1,1,1,1,1,2,2,1,1,1,1,1,1,1,1,1,1,1,1,1,1,1,1,1,1,1,2,1,1,1,1,1,2,1,1,2,1,1,1,1,1,1,1,1,1,1,1,1,1,1,1,1,1,1,1,1,1,1,2,1,1,2,1,1,1,1,1,1,1,1,1,1,2,1,1,1,1,1,1,1,1,1,1,1,1,1,1,1,1,1,1,1,1,1,1,1,1,1,1,1,1,1,1,1,1,1,1,1,1,1,1,1,1,1,1,1,1,1,1,1,1,1,1,1,1,1,1,1,1,1,1,1,1,1,1,1,1,1,1,1,1,1,1,1,1,1,1,1,1,1,1,2,1,1,1,1,1,1,1,1,1,1,1,1,1,1,1,1,2,1,2,1,3,1,1,1,1,1,1,1,1,1,1,1,1,2,2,1,1,1,1,1,3,1,1,2,1,1,1,2,1,1,1,1,2,1,1,1,2,1,1,1,1,2,1,1,1,1,1,1,1,2,1,1,1,1,1,1,1,1,1,1,1,1,2,1,1,1,1,1,1,1,1,1,1,1,1,1,1,1,1,2,1,1,2,1,1,1,1,1,1,1,1,1,1,1,1,1,1,1,1,2,1,1,1,2,1,1,1,2,1,1,1,1,2,1,1,1,1,1,2,2,1,1,1,1,1,1,1,1,1,1,2,1,1,1,1,1,1,1,1,1,2,1,2,1,1,1,1,1,2,1,1,1,2,1,1,2,2,1,1,1,1,1,1,1,1,1,1,1,2,1,1,1,1,1,1,1,1,1,2,1,1,1,1,1,1,1,1,1,1,1,1,1,1,1,1,1,1,2,1,1,1,1,2,1,1,1,1,1,1,1,1,1,1,1,1,2,1,1,2,1,1,1,1,2,1,2,1,1,1,1,1,1,1,1,1,1,2,1,2,1,1,1,1,1,1,1,1,1,1,1,2,1,1,1,1,1,1,1,1,1,1,1,1,1,1,1,1,1,1,2,1,1,1,1,1,1,1,1,1,1,1,1,1,1,1,1,2,1,1,1,1,1,4,1,1,1,1,1,1,2,1,1,1,1,1,1,1,1,1,1,1,1,1,1,1,1,1,1,1,1,1,1,2,1,1,1,1,1,1,1,1,2,1,1,1,1,1,1,1,1,1,1,1,1,1,1,1,1,1,1,1,1,1,1,1,1,1,1,1,2,2,1,1,1,1,1,1,1,1,2,1,1,1,1,1,1,1,1,1,1,1,1,1,1,1,1,1,1,1,1,1,1,1,1,1,1,1,1,1,1,1,1,1,1,1,1,1,1,1,1,1,1,1,1,1,1,1,1,1,1,1,1,1,1,1,1,1,1,1,1,1,1,1,1,1,1,2,1,1,1,2,1,1,1,1,1,1,1,1,1,1,1,1,1,1,1,1,1,1,1,1,1,1,1,1,1,1,2,1,1,1,1,2,1,1,1,1,1,1,1,1,1,2,1,2,1,1,1,1,1,1,1,1,1,1,1,1,1,1,1,1,1,1,2,2,1,1,1,2,1,1,1,1,1,1,1,1,1,1,2,2,1,1,1,1,1,1,1,1,1,1,2,1,1,1,1,1,1,1,1,1,1,1,1,1,1,1,1,1,1,1,1,1,1,1,1,1,1,1,1,1,2,1,1,1,1,1,1,1,1,1,1,1,1,1,1,1,1,1,1,2,1,1,1,1,1,1,1,1,1,1,2,1,1,1,1,1,1,1,1,1,1,1,1,1,1,1,1,1,1,1,1,1,2,1,1,1,1,1,1,2,1,1,1,1,1,1,1,1,1,1,1,1,1,1,1,2,1,1,2,3,1,2,1,1,1,1,1,1,1,1,1,1,2,1,1,2,1,1,1,1,1,1,1,1,1,1,1,1,1,1,1,1,1,1,1,1,1,1,2,1,1,1,3,1,1,1,1,3,1,1,1,1,1,1,1,1,1,1,1,2,1,1,1,1,1,1,1,1,1,1,1,1,1,1,1,1,1,1,1,1,1,1,1,1,1,1,1,1,1,1,1,1,1,1,1,1,1,1,1,1,1,1,1,1,1,1,1,1,1,1,1,1,2,1,1,1,1,1,1,1,1,1,1,1,1,1,1,1,1,1,1,1,1,1,1,2,2,1,1,1,1,1,1,1,1,1,1,1,1,1,1,1,1,1,1,1,1,1,1,1,1,1,1,1,1,1,1,1,1,1,1,1,1,1,1,1,1,1,1,1,1,1,1,1,1,1,1,1,1,1,1,1,1,1,1,2,1,1,1,1,1,1,1,1,1,1,1,1,1,1,1,1,1,1,1,1,1,1,2,1,2,1,1,1,1,1,1,1,1,1,1,1,2,1,1,1,1,1,1,1,1,1,1,1,1,1,1,2,1,3,1,1,1,1,2,2,1,1,1,2,1,1,1,1,2,1,1,1,1,1,1,3,1,1,1,1,1,1,1,1,1,2,1,1,1,2,1,1,1,1,2,1,1,1,2,1,2,2,1,1,1,1,1,1,3,1,1,1,2,2,1,1,1,1,1,1,1,1,1,2,1,2,1,1,3,1,1,1,2,1,1,1,1,1,1,1,1,1,1,1,1,1,1,1,1,2,1,2,1,1,1,1,1,1,2,1,1,1,1,1,1,1,1,1,1,1,1,1,1,1,1,1,1,1,1,1,1,1,1,1,1,1,1,1,1,1,1,1,1,1,2,1,1,1,2,1,1,1,1,1,1,1,1,1,1,1,1,1,1,1,1,1,1,1,1,1,1,1,1,1,1,2,3,1,1,1,2,3,1,1,1,1,1,1,1,1,1,1,1,1,1,1,1,1,1,1,1,1,1,1,1,1,1,1,1,1,1,1,1,1,1,1,1,1,1,1,2,1,1,1,1,1,1,1,1,1,1,2,1,1,1,1,1,1,2,1,1,1,1,1,1,1,1,1,1,1,1,1,1,1,1,1,1,1,1,1,1,1,1,1,1,1,2,1,1,1,1,1,1,1,1,1,1,1,3,1,2,1,1,1,1,1,1,1,2,1,1,1,1,1,1,1,1,1,1,1,1,2,1,1,1,1,2,1,1,1,1,1,1,1,1,2,1,1,1,2,1,1,2,1,1,1,1,1,2,1,1,2,1,1,2,1,1,1,1,1,1,1,1,1,1,1,1,1,1,1,1,1,1,1,1,1,1,1,1,1,1,1,1,1,2,1,1,1,1,1,1,2,1,1,1,1,1,2,1,1,1,1,1,1,2,1,1,1,1,1,1,1,2,1,1,1,1,1,1,1,1,1,1,1,1,1,2,1,1,1,1,1,1,1,1,1,1,1,1,1,1,1,2,1,1,1,1,1,1,1,1,2,1,1,1,1,1,1,1,1,1,1,1,1,1,2,1,1,1,1,2,1,1,1,1,1,1,1,2,1,1,1,1,1,1,1,1,1,1,1,1,1,1,1,1,1,1,1,1,1,1,1,1,2,1,1,1,1,1,1,1,1,1,1,1,1,1,1,1,1,1,1,2,2,1,1,1,1,1,1,1,1,1,1,1,1,1,1,1,1,1,1,1,1,1,1,1,1,1,1,1,1,2,1,1,1,1,1,1,1,1,1,1,1,1,1,1,1,1,2,1,1,1,1,3,1,1,1,2,1,1,1,1,1,1,1,1,1,1,1,1,1,1,1,1,1,1,1,1,1,1,1,1,1,1,1,1,1,1,1,1,1,1,1,2,1,1,1,1,2,1,1,1,1,1,1,1,1,1,1,1,1,1,1,1,1,1,1,1,1,1,1,1,1,1,1,1,1,1,1,2,2,1,1,1,1,1,2,1,1,2,1,1,1,1,1,1,1,1,1,1,1,1,1,1,2,1,1,1,1,1,1,1,1,1,1,1,2,1,2,1,1,1,1,1,1,1,1,1,2,2,1,1,1,1,1,3,1,2,1,1,1,1,1,1,1,3,1,1,1,1,1,1,1,1,1,1,1,1,1,1,1,1,1,1,1,1,1,1,1,1,1,1,1,2,1,1,1,1,1,1,1,1,1,1,1,1,1,1,1,1,1,1,1,1,1,1,1,1,1,1,1,1,1,1,1,1,1,1,1,1,1,1,1,1,1,1,1,1,1,1,1,1,1,1,1,1,1,1,1,1,1,1,1,1,1,1,1,1,1,1,1,1,1,1,1,1,1,1,1,1,1,1,1,1,1,1,1,1,1,1,1,1,1,1,3,1,1,1,1,1,1,1,1,1,1,1,1,1,1,1,1,1,1,1,1,1,1,1,2,1,1,1,1,1,1,1,1,1,1,1,1,1,1,1,1,1,1,1,1,1,1,1,1,1,1,1,1,1,1,1,1,1,1,2,1,1,1,1,1,1,1,3,1,1,1,1,1,1,1,1,1,1,1,1,1,1,1,1,1,1,1,1,1,1,1,1,1,1,1,1,2,1,1,1,1,1,1,1,1,2,1,1,1,1,1,1,1,1,1,1,1,1,1,1,1,1,1,1,1,1,1,1,1,1,1,1,1,1,2,1,1,1,1,1,1,1,1,1,1,1,1,1,1,1,1,1,1,2,1,1,1,1,2,1,1,1,1,3,1,1,1,1,1,1,1,1,1,1,2,1,1,1,1,1,1,1,1,1,1,1,1,1,1,1,1,1,1,1,1,1,1,1,1,1,1,1,1,1,1,1,1,1,1,1,1,1,2,1,1,1,1,1,1,1,1,1,1,1,1,2,1,1,2,1,1,2,1,2,1,1,1,1,1,1,1,1,1,1,1,2,1,1,1,1,2,1,1,1,1,1,1,1,1,1,1,1,1,2,1,1,1,1,1,1,1,1,1,1,1,2,1,1,1,1,1,1,1,1,1,1,1,1,1,1,1,1,2,1,1,1,1,1,1,2,1,1,1,1,1,1,1,1,1,1,1,1,1,1,1,1,1,1,1,1,1,1,1,1,1,1,1,1,1,1,1,1,1,1,1,1,1,1,1,1,1,1,1,1,1,1,1,2,1,1,1,1,1,1,1,1,1,1,1,1,1,1,1,1,2,1,1,2,1,1,1,1,1,1,1,1,1,1,1,1,1,1,1,1,1,1,1,1,1,1,1,2,1,1,1,1,1,1,1,1,1,1,2,1,1,1,1,1,1,1,1,1,1,1,1,1,1,1,1,1,1,1,1,1,1,1,1,1,1,1,1,1,1,1,1,1,1,1,1,1,1,1,1,2,1,2,1,1,1,1,1,1,1,1,1,1,2,1,1,1,1,1,1,1,1,1,1,1,1,1,1,1,1,1,1,1,1,1,1,2,1,1,1,1,1,1,3,1,1,1,1,1,1,1,1,1,2,1,1,1,2,1,1,1,2,1,1,1,1,1,1,1,1,1,1,1,1,1,1,1,1,1,1,1,1,1,1,1,1,1,1,1,1,1,1,1,2,1,1,1,1,1,1,1,1,1,1,1,1,1,1,1,1,1,1,1,1,1,1,1,1,1,1,1,1,1,1,1,1,1,1,1,2,1,1,1,1,1,1,1,1,1,1,1,1,1,2,1,1,1,1,1,1,1,1,1,1,1,1,1,1,1,1,1,1,1,1,1,1,1,2,1,1,1,2,1,1,1,1,1,1,1,1,1,1,1,1,1,1,2,1,1,1,2,1,1,2,1,1,1,1,1,1,1,1,1,1,1,1,1,1,1,1,1,1,1,1,1,1,1,1,1,1,1,1,1,1,1,1,2,1,1,1,2,1,1,1,1,1,1,1,1,1,1,1,1,1,1,1,1,1,1,1,1,1],\"yaxis\":\"y\",\"type\":\"histogram\"},{\"alignmentgroup\":\"True\",\"bingroup\":\"x\",\"histfunc\":\"sum\",\"hovertemplate\":\"Churn=Yes\\u003cbr\\u003eCustomerLifetimeValue=%{x}\\u003cbr\\u003esum of Count=%{y}\\u003cextra\\u003e\\u003c\\u002fextra\\u003e\",\"legendgroup\":\"Yes\",\"marker\":{\"color\":\"red\",\"pattern\":{\"shape\":\"\"}},\"name\":\"Yes\",\"offsetgroup\":\"Yes\",\"orientation\":\"v\",\"showlegend\":true,\"x\":[1027,1050,1066,1125,1141,1155,1383,1473,1523,1544,1608,1742,1829,1857,2013,2040,2192,2203,2245,2289,2294,2336,2394,2478,2606,2711,2871,2980,3038,3051,3052,3062,3082,3107,3142,3156,3246,3298,3313,3348,3408,3442,3508,3524,3532,3687,3804,3888,3944,4012,4048,4095,4134,4209,4237,4305,4325,4389,4496,4526,4551,4635,4728,4786,4836,5020,5033,5096,5131,5133,5175,5224,5270,5271,5280,5335,5380,5397,5414,5436,5531,5574,5588,5716,5729,5775,5804,5817,5857,5866,5868,5914,5916,5959,5984,5998,6000,6020,6052,6062,6116,6180,6231,6270,6326,6354,6395,6442,6468,6580,6582,6585,6596,6645,6674,6772,6792,6804,6852,6872,6878,6895,6900,6942,6962,6972,7000,7028,7052,7092,7146,7156,7161,7172,7217,7218,7224,7269,7278,7296,7308,7340,7350,7360,7365,7380,7398,7420,7450,7452,7470,7480,7486,7487,7566,7581,7586,7610,7702,7713,7720,7754,7836,7890,7903,7918,7926,7950,7962,7986,8000,8047,8053,8058,8067,8102,8157,8226,8235,8264,8271,8309,8429,8491,8502,8520,8532,8576,8592,8638,8674,8688,8744,8745,8772,8777,8790,8892,8895,8936,9054,9060,9124,9136,9148,9233,9260,9270,9275,9288,9296,9317,9329,9345,9480,9484,9527,9532,9534,9612,9648,9690,9693,9742,9755,9772,9864,9900,9902,9915,9936,9945,9946,9964,9972,9975,9978,9998,10002,10040,10056,10134,10143,10154,10155,10170,10185,10240,10260,10262,10264,10299,10488,10568,10572,10612,10616,10702,10888,10912,10915,11008,11026,11065,11088,11104,11127,11148,11258,11292,11372,11484,11529,11532,11601,11680,11704,11852,11910,11914,11992,12032,12040,12120,12210,12216,12230,12252,12369,12456,12616,12630,12639,12645,12762,12810,13006,13014,13072,13101,13140,13200,13208,13239,13300,13365,13376,13419,13440,13465,13608,13652,13658,13660,13672,13692,13731,13745,13746,13876,13887,13888,13916,13942,13960,14016,14076,14134,14211,14238,14270,14292,14304,14355,14370,14388,14400,14427,14434,14468,14469,14480,14502,14619,14660,14690,14808,14934,14936,14961,14979,14986,15068,15075,15087,15092,15098,15264,15314,15338,15354,15379,15430,15440,15444,15630,15664,15792,15988,16004,16020,16110,16170,16192,16227,16372,16416,16426,16429,16443,16480,16500,16530,16569,16740,16864,16926,16929,16976,16992,16996,17064,17091,17116,17208,17220,17244,17394,17464,17488,17500,17504,17648,17676,17784,17816,17828,17832,17948,17966,17991,18060,18120,18186,18228,18300,18324,18380,18445,18476,18536,18546,18548,18556,18615,18666,18730,18792,18864,18918,18942,18960,18978,19052,19167,19204,19264,19418,19444,19446,19518,19641,19648,19764,19812,19899,19944,19945,20034,20097,20180,20200,20208,20390,20492,20529,20544,20550,20562,20583,20713,20739,20745,20775,20787,20790,20848,20850,20870,20874,20916,20932,20984,21098,21156,21264,21282,21315,21581,21600,21705,21717,21732,21777,21852,22044,22085,22140,22152,22224,22233,22312,22316,22424,22480,22505,22548,22631,22728,23010,23064,23142,23196,23211,23219,23295,23348,23415,23428,23432,23450,23590,23634,23688,23695,23748,23875,24000,24160,24228,24241,24245,24264,24388,24525,24552,24600,24632,24682,24816,24867,24894,25038,25065,25070,25081,25170,25248,25328,25432,25704,25716,25767,25776,25856,25965,26136,26172,26244,26593,26595,26661,26700,26805,26884,27012,27057,27093,27132,27162,27184,27188,27204,27306,27366,27630,27636,27680,27728,27804,27849,27936,27993,27999,28026,28088,28113,28125,28176,28208,28210,28272,28275,28284,28290,28296,28473,28482,28665,28947,29056,29060,29082,29178,29184,29220,29259,29264,29330,29424,29440,29590,29600,29616,29730,29748,29812,29865,30132,30184,30360,30436,30440,30450,30550,30569,30630,30646,30789,30824,30912,31014,31092,31098,31122,31194,31240,31375,31556,31599,31748,31977,32088,32188,32202,32214,32335,32424,32448,32560,32607,32620,32624,32652,32728,32790,32840,32880,32948,32960,32994,33025,33085,33132,33236,33244,33292,33345,33610,33624,33728,33774,33912,33985,34020,34029,34032,34100,34236,34396,34398,34444,34660,34688,34780,34808,34964,34965,35056,35096,35175,35200,35215,35308,35487,35610,35676,35700,35764,35770,35800,36024,36056,36090,36110,36380,36408,36476,36498,36612,36720,36728,36798,36824,36895,37107,37121,37210,37220,37240,37275,37278,37350,37380,37674,37752,37816,37824,37836,38290,38313,38328,38588,38647,38925,39024,39120,39141,39312,39405,39558,39571,39690,39708,39771,39820,39856,40033,40048,40112,40350,40473,40502,40560,40824,40932,40943,41232,41272,41466,41736,41741,41790,41805,42570,42670,42770,42777,42800,42868,42896,43020,43025,43254,43458,43505,43656,43729,43740,43743,44002,44095,44238,44442,44505,44628,44821,44950,45056,45198,45220,45385,45458,45600,45900,45912,45920,45927,45955,45968,45978,46123,46207,46278,46305,46525,46535,46851,46896,46914,47106,47208,47214,47334,47601,47817,48168,48237,48570,48594,48867,48888,48895,48968,48985,49028,49236,49322,49360,49385,49392,49416,49430,49644,50184,50435,50454,50610,50778,50925,50968,51129,51226,51288,51630,51654,51669,51968,51975,52056,52080,52122,52248,52416,52465,52542,52576,52596,52980,53046,53221,53232,53739,53838,54060,54208,54282,54324,54552,54696,54720,55168,55264,55308,55368,55476,55503,56022,56080,56096,56610,56744,56844,57168,57402,57504,57778,57897,57912,57924,58110,58404,58434,58552,58572,58977,59339,59526,59646,59801,59805,59823,60452,60672,60993,61229,61641,61936,62176,62643,62678,62713,62874,62944,63261,63351,63536,63846,64044,64704,64755,65079,65224,65352,65415,65784,65884,66528,66570,66647,66829,66843,66951,67080,67368,67428,67464,67488,67815,67872,68187,68908,69024,69132,69440,69615,69741,71028,71488,72378,72384,73048,73472,73539,74151,74248,74520,75600,75800,76608,76952,77704,79191,79452,79713,80388,81963,83358,86202,86850,87930,89091,89586],\"xaxis\":\"x\",\"y\":[1,1,1,1,1,1,1,1,1,1,1,1,1,1,1,1,1,1,1,1,1,1,1,1,1,1,1,1,1,1,1,1,1,1,1,1,1,1,1,1,1,1,1,1,1,1,1,1,1,1,1,1,1,1,1,1,1,1,1,1,1,1,1,1,1,1,1,1,1,1,1,1,1,1,1,1,1,1,1,1,1,1,1,1,1,1,1,1,1,1,1,1,1,1,1,1,2,1,1,1,1,2,1,1,1,1,1,1,1,1,1,1,1,1,1,1,1,1,1,1,1,1,1,1,1,1,1,2,1,1,1,1,1,1,1,1,1,1,1,1,1,1,1,1,1,1,1,1,1,1,1,1,1,1,1,1,1,1,1,1,1,1,1,1,1,1,1,1,1,1,2,1,1,1,1,1,1,1,1,1,1,1,1,1,1,1,1,1,1,1,1,1,1,1,1,1,2,1,1,1,1,1,1,1,1,1,1,1,1,1,1,1,1,1,1,1,1,1,1,1,1,1,1,1,1,1,1,1,1,1,1,1,1,1,1,1,1,1,1,1,1,1,1,1,1,1,1,1,2,1,1,1,1,1,1,1,1,1,1,1,1,1,1,1,1,1,1,1,1,1,1,1,1,1,1,1,1,1,1,1,1,1,1,1,1,1,1,1,1,1,1,1,1,1,1,1,1,1,1,1,1,1,1,1,1,1,1,1,1,1,1,1,1,1,1,1,1,1,1,1,1,1,1,1,1,1,1,1,1,1,1,1,1,1,1,1,1,1,1,1,1,1,1,1,1,1,2,1,1,1,1,1,1,1,1,1,1,1,1,1,1,1,1,1,1,1,1,1,1,1,1,1,1,1,1,1,1,1,1,1,1,1,1,1,2,2,1,1,1,1,1,1,1,1,1,1,1,1,1,1,1,1,1,1,1,1,1,1,1,1,1,1,1,1,1,1,1,1,1,1,1,1,1,1,1,1,1,1,1,1,1,1,1,1,1,1,1,1,1,1,1,1,1,1,1,1,1,1,1,1,1,1,1,1,1,1,1,1,1,1,1,1,1,1,1,1,1,1,1,1,1,1,1,1,1,1,1,1,1,1,1,1,1,1,1,1,1,1,1,1,1,1,1,1,1,1,1,1,1,1,1,1,1,1,1,1,1,1,1,1,1,1,2,1,1,1,1,1,1,1,1,1,1,1,1,1,1,1,1,1,1,1,1,1,1,1,1,1,1,1,1,1,1,1,1,1,1,1,1,1,1,1,1,1,1,2,1,1,1,1,1,1,1,1,1,1,1,1,1,1,1,1,1,1,1,1,1,1,1,1,1,1,1,1,1,1,1,1,1,1,1,1,1,1,1,1,1,1,2,1,1,1,1,1,1,1,1,1,1,1,1,1,1,1,1,1,1,1,1,1,1,1,1,1,1,1,1,1,1,1,1,1,1,1,1,1,1,1,1,1,1,1,1,1,1,1,1,1,1,1,1,1,1,1,1,1,1,1,1,1,1,1,1,1,1,1,1,1,1,1,1,1,1,1,2,1,1,1,1,1,1,1,1,1,1,1,1,1,1,1,1,1,1,1,1,1,1,1,2,1,1,1,1,1,1,1,1,1,1,1,1,1,1,1,1,1,1,1,1,1,1,1,1,1,1,1,1,1,1,1,1,1,1,1,1,1,1,1,1,1,1,1,1,1,1,1,1,1,1,1,1,1,1,1,1,1,1,1,1,1,1,1,1,1,1,1,1,1,1,1,1,1,1,1,1,1,1,1,1,1,1,1,1,1,1,1,1,1,1,1,1,1,1,1,1,1,1,1,1,1,1,1,1,1,1,1,1,1,1,1,1,1,1,1,1,1,1,1,1,1,1,1,1,1,1,1,1,1,1,1,1,1,1,1,1,1,1,1,1,1,1,1,1,1,1,1,1,1,1,1,1,1,1,1,1,1,1,1,1,1,1,1,1,1,1,1,1,1,1,1,1,1,1,1,1,1,1,1,1,1,1,1,1,1,1,1,1,1,1,1,1,1,1,1,1,1,1,1,1,1,1,1,1,1,1,1,1,1,1,1,1,1,1,1,1,1,1,1,1,1,1,1,1,1,1,1,1,1,1,1,1,1,1,1,1,1,1,1,1,1,1,1,1,1,1,1,1,1,1,1,1,1,1,1,1,1,1,1,1,1,1,1,1],\"yaxis\":\"y\",\"type\":\"histogram\"}],                        {\"template\":{\"data\":{\"histogram2dcontour\":[{\"type\":\"histogram2dcontour\",\"colorbar\":{\"outlinewidth\":0,\"ticks\":\"\"},\"colorscale\":[[0.0,\"#0d0887\"],[0.1111111111111111,\"#46039f\"],[0.2222222222222222,\"#7201a8\"],[0.3333333333333333,\"#9c179e\"],[0.4444444444444444,\"#bd3786\"],[0.5555555555555556,\"#d8576b\"],[0.6666666666666666,\"#ed7953\"],[0.7777777777777778,\"#fb9f3a\"],[0.8888888888888888,\"#fdca26\"],[1.0,\"#f0f921\"]]}],\"choropleth\":[{\"type\":\"choropleth\",\"colorbar\":{\"outlinewidth\":0,\"ticks\":\"\"}}],\"histogram2d\":[{\"type\":\"histogram2d\",\"colorbar\":{\"outlinewidth\":0,\"ticks\":\"\"},\"colorscale\":[[0.0,\"#0d0887\"],[0.1111111111111111,\"#46039f\"],[0.2222222222222222,\"#7201a8\"],[0.3333333333333333,\"#9c179e\"],[0.4444444444444444,\"#bd3786\"],[0.5555555555555556,\"#d8576b\"],[0.6666666666666666,\"#ed7953\"],[0.7777777777777778,\"#fb9f3a\"],[0.8888888888888888,\"#fdca26\"],[1.0,\"#f0f921\"]]}],\"heatmap\":[{\"type\":\"heatmap\",\"colorbar\":{\"outlinewidth\":0,\"ticks\":\"\"},\"colorscale\":[[0.0,\"#0d0887\"],[0.1111111111111111,\"#46039f\"],[0.2222222222222222,\"#7201a8\"],[0.3333333333333333,\"#9c179e\"],[0.4444444444444444,\"#bd3786\"],[0.5555555555555556,\"#d8576b\"],[0.6666666666666666,\"#ed7953\"],[0.7777777777777778,\"#fb9f3a\"],[0.8888888888888888,\"#fdca26\"],[1.0,\"#f0f921\"]]}],\"heatmapgl\":[{\"type\":\"heatmapgl\",\"colorbar\":{\"outlinewidth\":0,\"ticks\":\"\"},\"colorscale\":[[0.0,\"#0d0887\"],[0.1111111111111111,\"#46039f\"],[0.2222222222222222,\"#7201a8\"],[0.3333333333333333,\"#9c179e\"],[0.4444444444444444,\"#bd3786\"],[0.5555555555555556,\"#d8576b\"],[0.6666666666666666,\"#ed7953\"],[0.7777777777777778,\"#fb9f3a\"],[0.8888888888888888,\"#fdca26\"],[1.0,\"#f0f921\"]]}],\"contourcarpet\":[{\"type\":\"contourcarpet\",\"colorbar\":{\"outlinewidth\":0,\"ticks\":\"\"}}],\"contour\":[{\"type\":\"contour\",\"colorbar\":{\"outlinewidth\":0,\"ticks\":\"\"},\"colorscale\":[[0.0,\"#0d0887\"],[0.1111111111111111,\"#46039f\"],[0.2222222222222222,\"#7201a8\"],[0.3333333333333333,\"#9c179e\"],[0.4444444444444444,\"#bd3786\"],[0.5555555555555556,\"#d8576b\"],[0.6666666666666666,\"#ed7953\"],[0.7777777777777778,\"#fb9f3a\"],[0.8888888888888888,\"#fdca26\"],[1.0,\"#f0f921\"]]}],\"surface\":[{\"type\":\"surface\",\"colorbar\":{\"outlinewidth\":0,\"ticks\":\"\"},\"colorscale\":[[0.0,\"#0d0887\"],[0.1111111111111111,\"#46039f\"],[0.2222222222222222,\"#7201a8\"],[0.3333333333333333,\"#9c179e\"],[0.4444444444444444,\"#bd3786\"],[0.5555555555555556,\"#d8576b\"],[0.6666666666666666,\"#ed7953\"],[0.7777777777777778,\"#fb9f3a\"],[0.8888888888888888,\"#fdca26\"],[1.0,\"#f0f921\"]]}],\"mesh3d\":[{\"type\":\"mesh3d\",\"colorbar\":{\"outlinewidth\":0,\"ticks\":\"\"}}],\"scatter\":[{\"fillpattern\":{\"fillmode\":\"overlay\",\"size\":10,\"solidity\":0.2},\"type\":\"scatter\"}],\"parcoords\":[{\"type\":\"parcoords\",\"line\":{\"colorbar\":{\"outlinewidth\":0,\"ticks\":\"\"}}}],\"scatterpolargl\":[{\"type\":\"scatterpolargl\",\"marker\":{\"colorbar\":{\"outlinewidth\":0,\"ticks\":\"\"}}}],\"bar\":[{\"error_x\":{\"color\":\"#2a3f5f\"},\"error_y\":{\"color\":\"#2a3f5f\"},\"marker\":{\"line\":{\"color\":\"#E5ECF6\",\"width\":0.5},\"pattern\":{\"fillmode\":\"overlay\",\"size\":10,\"solidity\":0.2}},\"type\":\"bar\"}],\"scattergeo\":[{\"type\":\"scattergeo\",\"marker\":{\"colorbar\":{\"outlinewidth\":0,\"ticks\":\"\"}}}],\"scatterpolar\":[{\"type\":\"scatterpolar\",\"marker\":{\"colorbar\":{\"outlinewidth\":0,\"ticks\":\"\"}}}],\"histogram\":[{\"marker\":{\"pattern\":{\"fillmode\":\"overlay\",\"size\":10,\"solidity\":0.2}},\"type\":\"histogram\"}],\"scattergl\":[{\"type\":\"scattergl\",\"marker\":{\"colorbar\":{\"outlinewidth\":0,\"ticks\":\"\"}}}],\"scatter3d\":[{\"type\":\"scatter3d\",\"line\":{\"colorbar\":{\"outlinewidth\":0,\"ticks\":\"\"}},\"marker\":{\"colorbar\":{\"outlinewidth\":0,\"ticks\":\"\"}}}],\"scattermapbox\":[{\"type\":\"scattermapbox\",\"marker\":{\"colorbar\":{\"outlinewidth\":0,\"ticks\":\"\"}}}],\"scatterternary\":[{\"type\":\"scatterternary\",\"marker\":{\"colorbar\":{\"outlinewidth\":0,\"ticks\":\"\"}}}],\"scattercarpet\":[{\"type\":\"scattercarpet\",\"marker\":{\"colorbar\":{\"outlinewidth\":0,\"ticks\":\"\"}}}],\"carpet\":[{\"aaxis\":{\"endlinecolor\":\"#2a3f5f\",\"gridcolor\":\"white\",\"linecolor\":\"white\",\"minorgridcolor\":\"white\",\"startlinecolor\":\"#2a3f5f\"},\"baxis\":{\"endlinecolor\":\"#2a3f5f\",\"gridcolor\":\"white\",\"linecolor\":\"white\",\"minorgridcolor\":\"white\",\"startlinecolor\":\"#2a3f5f\"},\"type\":\"carpet\"}],\"table\":[{\"cells\":{\"fill\":{\"color\":\"#EBF0F8\"},\"line\":{\"color\":\"white\"}},\"header\":{\"fill\":{\"color\":\"#C8D4E3\"},\"line\":{\"color\":\"white\"}},\"type\":\"table\"}],\"barpolar\":[{\"marker\":{\"line\":{\"color\":\"#E5ECF6\",\"width\":0.5},\"pattern\":{\"fillmode\":\"overlay\",\"size\":10,\"solidity\":0.2}},\"type\":\"barpolar\"}],\"pie\":[{\"automargin\":true,\"type\":\"pie\"}]},\"layout\":{\"autotypenumbers\":\"strict\",\"colorway\":[\"#636efa\",\"#EF553B\",\"#00cc96\",\"#ab63fa\",\"#FFA15A\",\"#19d3f3\",\"#FF6692\",\"#B6E880\",\"#FF97FF\",\"#FECB52\"],\"font\":{\"color\":\"#2a3f5f\"},\"hovermode\":\"closest\",\"hoverlabel\":{\"align\":\"left\"},\"paper_bgcolor\":\"white\",\"plot_bgcolor\":\"#E5ECF6\",\"polar\":{\"bgcolor\":\"#E5ECF6\",\"angularaxis\":{\"gridcolor\":\"white\",\"linecolor\":\"white\",\"ticks\":\"\"},\"radialaxis\":{\"gridcolor\":\"white\",\"linecolor\":\"white\",\"ticks\":\"\"}},\"ternary\":{\"bgcolor\":\"#E5ECF6\",\"aaxis\":{\"gridcolor\":\"white\",\"linecolor\":\"white\",\"ticks\":\"\"},\"baxis\":{\"gridcolor\":\"white\",\"linecolor\":\"white\",\"ticks\":\"\"},\"caxis\":{\"gridcolor\":\"white\",\"linecolor\":\"white\",\"ticks\":\"\"}},\"coloraxis\":{\"colorbar\":{\"outlinewidth\":0,\"ticks\":\"\"}},\"colorscale\":{\"sequential\":[[0.0,\"#0d0887\"],[0.1111111111111111,\"#46039f\"],[0.2222222222222222,\"#7201a8\"],[0.3333333333333333,\"#9c179e\"],[0.4444444444444444,\"#bd3786\"],[0.5555555555555556,\"#d8576b\"],[0.6666666666666666,\"#ed7953\"],[0.7777777777777778,\"#fb9f3a\"],[0.8888888888888888,\"#fdca26\"],[1.0,\"#f0f921\"]],\"sequentialminus\":[[0.0,\"#0d0887\"],[0.1111111111111111,\"#46039f\"],[0.2222222222222222,\"#7201a8\"],[0.3333333333333333,\"#9c179e\"],[0.4444444444444444,\"#bd3786\"],[0.5555555555555556,\"#d8576b\"],[0.6666666666666666,\"#ed7953\"],[0.7777777777777778,\"#fb9f3a\"],[0.8888888888888888,\"#fdca26\"],[1.0,\"#f0f921\"]],\"diverging\":[[0,\"#8e0152\"],[0.1,\"#c51b7d\"],[0.2,\"#de77ae\"],[0.3,\"#f1b6da\"],[0.4,\"#fde0ef\"],[0.5,\"#f7f7f7\"],[0.6,\"#e6f5d0\"],[0.7,\"#b8e186\"],[0.8,\"#7fbc41\"],[0.9,\"#4d9221\"],[1,\"#276419\"]]},\"xaxis\":{\"gridcolor\":\"white\",\"linecolor\":\"white\",\"ticks\":\"\",\"title\":{\"standoff\":15},\"zerolinecolor\":\"white\",\"automargin\":true,\"zerolinewidth\":2},\"yaxis\":{\"gridcolor\":\"white\",\"linecolor\":\"white\",\"ticks\":\"\",\"title\":{\"standoff\":15},\"zerolinecolor\":\"white\",\"automargin\":true,\"zerolinewidth\":2},\"scene\":{\"xaxis\":{\"backgroundcolor\":\"#E5ECF6\",\"gridcolor\":\"white\",\"linecolor\":\"white\",\"showbackground\":true,\"ticks\":\"\",\"zerolinecolor\":\"white\",\"gridwidth\":2},\"yaxis\":{\"backgroundcolor\":\"#E5ECF6\",\"gridcolor\":\"white\",\"linecolor\":\"white\",\"showbackground\":true,\"ticks\":\"\",\"zerolinecolor\":\"white\",\"gridwidth\":2},\"zaxis\":{\"backgroundcolor\":\"#E5ECF6\",\"gridcolor\":\"white\",\"linecolor\":\"white\",\"showbackground\":true,\"ticks\":\"\",\"zerolinecolor\":\"white\",\"gridwidth\":2}},\"shapedefaults\":{\"line\":{\"color\":\"#2a3f5f\"}},\"annotationdefaults\":{\"arrowcolor\":\"#2a3f5f\",\"arrowhead\":0,\"arrowwidth\":1},\"geo\":{\"bgcolor\":\"white\",\"landcolor\":\"#E5ECF6\",\"subunitcolor\":\"white\",\"showland\":true,\"showlakes\":true,\"lakecolor\":\"white\"},\"title\":{\"x\":0.05},\"mapbox\":{\"style\":\"light\"}}},\"xaxis\":{\"anchor\":\"y\",\"domain\":[0.0,1.0],\"title\":{\"text\":\"CustomerLifetimeValue\"}},\"yaxis\":{\"anchor\":\"x\",\"domain\":[0.0,1.0],\"title\":{\"text\":\"sum of Count\"}},\"legend\":{\"title\":{\"text\":\"Churn\"},\"tracegroupgap\":0},\"title\":{\"text\":\"Churn rate frequency to CustomerLifetimeValue distribution\"},\"barmode\":\"relative\"},                        {\"responsive\": true}                    ).then(function(){\n",
       "                            \n",
       "var gd = document.getElementById('5b08c7f0-83eb-4137-b59b-f4bb94ff9fdb');\n",
       "var x = new MutationObserver(function (mutations, observer) {{\n",
       "        var display = window.getComputedStyle(gd).display;\n",
       "        if (!display || display === 'none') {{\n",
       "            console.log([gd, 'removed!']);\n",
       "            Plotly.purge(gd);\n",
       "            observer.disconnect();\n",
       "        }}\n",
       "}});\n",
       "\n",
       "// Listen for the removal of the full notebook cells\n",
       "var notebookContainer = gd.closest('#notebook-container');\n",
       "if (notebookContainer) {{\n",
       "    x.observe(notebookContainer, {childList: true});\n",
       "}}\n",
       "\n",
       "// Listen for the clearing of the current output cell\n",
       "var outputEl = gd.closest('.output');\n",
       "if (outputEl) {{\n",
       "    x.observe(outputEl, {childList: true});\n",
       "}}\n",
       "\n",
       "                        })                };                });            </script>        </div>"
      ]
     },
     "metadata": {},
     "output_type": "display_data"
    }
   ],
   "source": [
    "hist('CustomerLifetimeValue')"
   ]
  },
  {
   "cell_type": "code",
   "execution_count": 17,
   "id": "711b1028",
   "metadata": {
    "execution": {
     "iopub.execute_input": "2024-03-20T08:19:16.003542Z",
     "iopub.status.busy": "2024-03-20T08:19:16.002669Z",
     "iopub.status.idle": "2024-03-20T08:19:16.070979Z",
     "shell.execute_reply": "2024-03-20T08:19:16.069605Z"
    },
    "papermill": {
     "duration": 0.088068,
     "end_time": "2024-03-20T08:19:16.073359",
     "exception": false,
     "start_time": "2024-03-20T08:19:15.985291",
     "status": "completed"
    },
    "tags": []
   },
   "outputs": [
    {
     "data": {
      "text/html": [
       "<div>                            <div id=\"bf454104-4a86-404a-9337-c8e176d64768\" class=\"plotly-graph-div\" style=\"height:525px; width:100%;\"></div>            <script type=\"text/javascript\">                require([\"plotly\"], function(Plotly) {                    window.PLOTLYENV=window.PLOTLYENV || {};                                    if (document.getElementById(\"bf454104-4a86-404a-9337-c8e176d64768\")) {                    Plotly.newPlot(                        \"bf454104-4a86-404a-9337-c8e176d64768\",                        [{\"alignmentgroup\":\"True\",\"bingroup\":\"x\",\"histfunc\":\"sum\",\"hovertemplate\":\"Churn=No\\u003cbr\\u003eCreditScore=%{x}\\u003cbr\\u003esum of Count=%{y}\\u003cextra\\u003e\\u003c\\u002fextra\\u003e\",\"legendgroup\":\"No\",\"marker\":{\"color\":\"green\",\"pattern\":{\"shape\":\"\"}},\"name\":\"No\",\"offsetgroup\":\"No\",\"orientation\":\"v\",\"showlegend\":true,\"x\":[500,501,502,503,504,505,506,507,508,509,510,511,512,513,514,515,516,517,518,519,520,521,522,523,524,525,526,527,528,529,530,531,532,533,534,535,536,537,538,539,540,541,542,543,544,545,546,547,548,549,550,551,552,553,554,555,556,557,558,559,560,561,562,563,564,565,566,567,568,569,570,571,572,573,574,575,576,577,578,579,580,581,582,583,584,585,586,587,588,589,590,591,592,593,594,595,596,597,598,599,600,601,602,603,604,605,606,607,608,609,610,611,612,613,614,615,616,617,618,619,620,621,622,623,624,625,626,627,628,629,630,631,632,633,634,635,636,637,638,639,640,641,642,643,644,645,646,647,648,649,650,651,652,653,654,655,656,657,658,659,660,661,662,663,664,665,666,667,668,669,670,671,672,673,674,675,676,677,678,679,680,681,682,683,684,685,686,687,688,689,690,691,692,693,694,695,696,697,698,699,700,701,702,703,704,705,706,707,708,709,710,711,712,713,714,715,716,717,718,719,720,721,722,723,724,725,726,727,728,729,730,731,732,733,734,735,736,737,738,739,740,741,742,743,744,745,746,747,748,749,750,751,752,753,754,755,756,757,758,759,760,761,762,763,764,765,766,767,768,769,770,771,772,773,774,775,776,777,778,779,780,781,782,783,784,785,786,787,788,789,790,791,792,793,794,795,796,797,798,799],\"xaxis\":\"x\",\"y\":[33,24,25,31,23,29,25,38,30,38,16,32,40,36,40,38,34,33,30,29,35,21,35,24,28,30,30,36,27,35,38,33,22,28,25,34,26,37,24,24,32,33,29,33,27,32,31,29,31,36,30,32,34,30,34,26,34,29,30,26,29,33,32,24,35,32,39,35,41,26,34,32,31,28,26,23,38,40,28,31,32,24,35,28,27,37,39,32,35,27,26,25,26,23,32,27,33,26,20,25,20,30,34,26,28,34,38,31,21,28,41,47,37,27,31,36,26,22,25,37,33,27,27,18,30,27,18,33,25,23,23,26,37,38,32,32,35,32,27,25,26,37,34,28,34,42,26,22,32,31,25,35,29,31,25,34,26,33,29,23,31,28,17,27,27,34,29,34,24,21,22,38,36,27,31,38,29,28,35,40,19,37,28,30,31,39,30,27,29,26,33,29,28,32,30,31,28,26,32,21,32,43,27,33,26,25,24,24,32,26,34,27,28,37,35,37,30,32,26,39,32,22,27,28,25,34,30,38,25,28,35,33,25,34,28,26,24,24,32,33,29,35,36,28,39,36,23,25,31,31,34,31,22,30,38,29,23,31,37,25,28,36,35,26,35,28,18,27,34,27,39,30,29,35,34,33,35,33,28,32,28,33,28,19,32,23,31,25,27,35,20,26,36,36,26,27,32,31,23,29],\"yaxis\":\"y\",\"type\":\"histogram\"},{\"alignmentgroup\":\"True\",\"bingroup\":\"x\",\"histfunc\":\"sum\",\"hovertemplate\":\"Churn=Yes\\u003cbr\\u003eCreditScore=%{x}\\u003cbr\\u003esum of Count=%{y}\\u003cextra\\u003e\\u003c\\u002fextra\\u003e\",\"legendgroup\":\"Yes\",\"marker\":{\"color\":\"red\",\"pattern\":{\"shape\":\"\"}},\"name\":\"Yes\",\"offsetgroup\":\"Yes\",\"orientation\":\"v\",\"showlegend\":true,\"x\":[501,502,503,504,505,506,507,508,509,510,511,512,513,514,515,516,517,518,519,520,521,522,523,524,525,526,527,528,529,530,531,532,533,534,535,536,537,538,539,540,541,542,543,544,545,546,547,548,549,550,551,552,553,554,555,556,557,558,559,560,561,562,563,564,565,566,567,568,569,570,571,572,573,574,576,577,578,579,580,581,582,583,584,585,586,587,588,589,590,591,592,593,594,595,596,597,598,599,600,601,602,603,604,605,606,607,608,609,610,611,612,613,614,616,617,618,619,620,621,622,623,624,625,626,627,628,629,630,631,632,633,634,635,636,637,638,639,640,641,642,643,644,645,646,647,648,649,650,651,652,653,654,655,656,657,658,659,660,661,662,663,664,665,666,667,668,669,670,671,672,674,675,676,677,678,679,680,681,682,683,684,685,686,687,688,689,690,691,692,694,695,696,697,698,699,700,701,702,703,704,705,706,707,708,709,710,711,712,713,714,715,716,717,718,719,720,721,722,723,724,726,727,728,729,730,731,732,733,735,736,737,738,739,741,742,743,744,745,746,747,748,749,750,751,752,753,754,755,756,757,758,759,760,761,762,763,764,765,766,767,768,769,770,771,772,773,774,775,776,777,778,779,780,781,782,783,784,785,786,787,788,789,790,791,792,793,794,795,796,798,799],\"xaxis\":\"x\",\"y\":[4,4,7,1,3,3,3,2,5,4,1,7,2,5,1,5,6,5,1,5,1,2,7,4,1,1,4,1,1,1,3,2,4,4,3,3,4,3,2,2,6,5,3,1,5,5,6,2,6,4,1,2,4,3,4,2,2,4,3,4,5,4,3,5,2,6,3,5,2,4,5,2,4,2,4,4,3,3,1,5,1,3,3,2,5,3,2,2,2,1,3,5,2,5,3,1,2,2,2,3,3,4,5,3,2,4,5,3,3,6,3,4,4,2,4,5,2,2,4,4,2,1,2,3,4,2,3,4,4,4,5,3,4,2,3,2,4,4,2,4,3,5,4,2,2,5,2,3,3,2,1,5,6,2,3,3,6,4,3,4,5,3,5,3,3,4,3,4,1,2,1,5,3,1,5,4,5,2,4,6,3,5,3,2,4,2,1,3,4,1,4,2,2,3,4,2,1,2,2,5,2,8,1,5,3,3,4,4,3,3,2,1,4,5,4,5,4,1,4,3,4,3,1,2,2,5,3,7,4,2,1,4,4,2,2,5,5,6,6,2,2,6,2,4,8,6,1,3,11,3,4,4,1,4,3,2,2,5,6,4,3,3,1,4,6,4,6,2,2,4,1,2,2,8,2,3,2,8,3,2,2,8,2,4,4,5,3,4,2,2,4],\"yaxis\":\"y\",\"type\":\"histogram\"}],                        {\"template\":{\"data\":{\"histogram2dcontour\":[{\"type\":\"histogram2dcontour\",\"colorbar\":{\"outlinewidth\":0,\"ticks\":\"\"},\"colorscale\":[[0.0,\"#0d0887\"],[0.1111111111111111,\"#46039f\"],[0.2222222222222222,\"#7201a8\"],[0.3333333333333333,\"#9c179e\"],[0.4444444444444444,\"#bd3786\"],[0.5555555555555556,\"#d8576b\"],[0.6666666666666666,\"#ed7953\"],[0.7777777777777778,\"#fb9f3a\"],[0.8888888888888888,\"#fdca26\"],[1.0,\"#f0f921\"]]}],\"choropleth\":[{\"type\":\"choropleth\",\"colorbar\":{\"outlinewidth\":0,\"ticks\":\"\"}}],\"histogram2d\":[{\"type\":\"histogram2d\",\"colorbar\":{\"outlinewidth\":0,\"ticks\":\"\"},\"colorscale\":[[0.0,\"#0d0887\"],[0.1111111111111111,\"#46039f\"],[0.2222222222222222,\"#7201a8\"],[0.3333333333333333,\"#9c179e\"],[0.4444444444444444,\"#bd3786\"],[0.5555555555555556,\"#d8576b\"],[0.6666666666666666,\"#ed7953\"],[0.7777777777777778,\"#fb9f3a\"],[0.8888888888888888,\"#fdca26\"],[1.0,\"#f0f921\"]]}],\"heatmap\":[{\"type\":\"heatmap\",\"colorbar\":{\"outlinewidth\":0,\"ticks\":\"\"},\"colorscale\":[[0.0,\"#0d0887\"],[0.1111111111111111,\"#46039f\"],[0.2222222222222222,\"#7201a8\"],[0.3333333333333333,\"#9c179e\"],[0.4444444444444444,\"#bd3786\"],[0.5555555555555556,\"#d8576b\"],[0.6666666666666666,\"#ed7953\"],[0.7777777777777778,\"#fb9f3a\"],[0.8888888888888888,\"#fdca26\"],[1.0,\"#f0f921\"]]}],\"heatmapgl\":[{\"type\":\"heatmapgl\",\"colorbar\":{\"outlinewidth\":0,\"ticks\":\"\"},\"colorscale\":[[0.0,\"#0d0887\"],[0.1111111111111111,\"#46039f\"],[0.2222222222222222,\"#7201a8\"],[0.3333333333333333,\"#9c179e\"],[0.4444444444444444,\"#bd3786\"],[0.5555555555555556,\"#d8576b\"],[0.6666666666666666,\"#ed7953\"],[0.7777777777777778,\"#fb9f3a\"],[0.8888888888888888,\"#fdca26\"],[1.0,\"#f0f921\"]]}],\"contourcarpet\":[{\"type\":\"contourcarpet\",\"colorbar\":{\"outlinewidth\":0,\"ticks\":\"\"}}],\"contour\":[{\"type\":\"contour\",\"colorbar\":{\"outlinewidth\":0,\"ticks\":\"\"},\"colorscale\":[[0.0,\"#0d0887\"],[0.1111111111111111,\"#46039f\"],[0.2222222222222222,\"#7201a8\"],[0.3333333333333333,\"#9c179e\"],[0.4444444444444444,\"#bd3786\"],[0.5555555555555556,\"#d8576b\"],[0.6666666666666666,\"#ed7953\"],[0.7777777777777778,\"#fb9f3a\"],[0.8888888888888888,\"#fdca26\"],[1.0,\"#f0f921\"]]}],\"surface\":[{\"type\":\"surface\",\"colorbar\":{\"outlinewidth\":0,\"ticks\":\"\"},\"colorscale\":[[0.0,\"#0d0887\"],[0.1111111111111111,\"#46039f\"],[0.2222222222222222,\"#7201a8\"],[0.3333333333333333,\"#9c179e\"],[0.4444444444444444,\"#bd3786\"],[0.5555555555555556,\"#d8576b\"],[0.6666666666666666,\"#ed7953\"],[0.7777777777777778,\"#fb9f3a\"],[0.8888888888888888,\"#fdca26\"],[1.0,\"#f0f921\"]]}],\"mesh3d\":[{\"type\":\"mesh3d\",\"colorbar\":{\"outlinewidth\":0,\"ticks\":\"\"}}],\"scatter\":[{\"fillpattern\":{\"fillmode\":\"overlay\",\"size\":10,\"solidity\":0.2},\"type\":\"scatter\"}],\"parcoords\":[{\"type\":\"parcoords\",\"line\":{\"colorbar\":{\"outlinewidth\":0,\"ticks\":\"\"}}}],\"scatterpolargl\":[{\"type\":\"scatterpolargl\",\"marker\":{\"colorbar\":{\"outlinewidth\":0,\"ticks\":\"\"}}}],\"bar\":[{\"error_x\":{\"color\":\"#2a3f5f\"},\"error_y\":{\"color\":\"#2a3f5f\"},\"marker\":{\"line\":{\"color\":\"#E5ECF6\",\"width\":0.5},\"pattern\":{\"fillmode\":\"overlay\",\"size\":10,\"solidity\":0.2}},\"type\":\"bar\"}],\"scattergeo\":[{\"type\":\"scattergeo\",\"marker\":{\"colorbar\":{\"outlinewidth\":0,\"ticks\":\"\"}}}],\"scatterpolar\":[{\"type\":\"scatterpolar\",\"marker\":{\"colorbar\":{\"outlinewidth\":0,\"ticks\":\"\"}}}],\"histogram\":[{\"marker\":{\"pattern\":{\"fillmode\":\"overlay\",\"size\":10,\"solidity\":0.2}},\"type\":\"histogram\"}],\"scattergl\":[{\"type\":\"scattergl\",\"marker\":{\"colorbar\":{\"outlinewidth\":0,\"ticks\":\"\"}}}],\"scatter3d\":[{\"type\":\"scatter3d\",\"line\":{\"colorbar\":{\"outlinewidth\":0,\"ticks\":\"\"}},\"marker\":{\"colorbar\":{\"outlinewidth\":0,\"ticks\":\"\"}}}],\"scattermapbox\":[{\"type\":\"scattermapbox\",\"marker\":{\"colorbar\":{\"outlinewidth\":0,\"ticks\":\"\"}}}],\"scatterternary\":[{\"type\":\"scatterternary\",\"marker\":{\"colorbar\":{\"outlinewidth\":0,\"ticks\":\"\"}}}],\"scattercarpet\":[{\"type\":\"scattercarpet\",\"marker\":{\"colorbar\":{\"outlinewidth\":0,\"ticks\":\"\"}}}],\"carpet\":[{\"aaxis\":{\"endlinecolor\":\"#2a3f5f\",\"gridcolor\":\"white\",\"linecolor\":\"white\",\"minorgridcolor\":\"white\",\"startlinecolor\":\"#2a3f5f\"},\"baxis\":{\"endlinecolor\":\"#2a3f5f\",\"gridcolor\":\"white\",\"linecolor\":\"white\",\"minorgridcolor\":\"white\",\"startlinecolor\":\"#2a3f5f\"},\"type\":\"carpet\"}],\"table\":[{\"cells\":{\"fill\":{\"color\":\"#EBF0F8\"},\"line\":{\"color\":\"white\"}},\"header\":{\"fill\":{\"color\":\"#C8D4E3\"},\"line\":{\"color\":\"white\"}},\"type\":\"table\"}],\"barpolar\":[{\"marker\":{\"line\":{\"color\":\"#E5ECF6\",\"width\":0.5},\"pattern\":{\"fillmode\":\"overlay\",\"size\":10,\"solidity\":0.2}},\"type\":\"barpolar\"}],\"pie\":[{\"automargin\":true,\"type\":\"pie\"}]},\"layout\":{\"autotypenumbers\":\"strict\",\"colorway\":[\"#636efa\",\"#EF553B\",\"#00cc96\",\"#ab63fa\",\"#FFA15A\",\"#19d3f3\",\"#FF6692\",\"#B6E880\",\"#FF97FF\",\"#FECB52\"],\"font\":{\"color\":\"#2a3f5f\"},\"hovermode\":\"closest\",\"hoverlabel\":{\"align\":\"left\"},\"paper_bgcolor\":\"white\",\"plot_bgcolor\":\"#E5ECF6\",\"polar\":{\"bgcolor\":\"#E5ECF6\",\"angularaxis\":{\"gridcolor\":\"white\",\"linecolor\":\"white\",\"ticks\":\"\"},\"radialaxis\":{\"gridcolor\":\"white\",\"linecolor\":\"white\",\"ticks\":\"\"}},\"ternary\":{\"bgcolor\":\"#E5ECF6\",\"aaxis\":{\"gridcolor\":\"white\",\"linecolor\":\"white\",\"ticks\":\"\"},\"baxis\":{\"gridcolor\":\"white\",\"linecolor\":\"white\",\"ticks\":\"\"},\"caxis\":{\"gridcolor\":\"white\",\"linecolor\":\"white\",\"ticks\":\"\"}},\"coloraxis\":{\"colorbar\":{\"outlinewidth\":0,\"ticks\":\"\"}},\"colorscale\":{\"sequential\":[[0.0,\"#0d0887\"],[0.1111111111111111,\"#46039f\"],[0.2222222222222222,\"#7201a8\"],[0.3333333333333333,\"#9c179e\"],[0.4444444444444444,\"#bd3786\"],[0.5555555555555556,\"#d8576b\"],[0.6666666666666666,\"#ed7953\"],[0.7777777777777778,\"#fb9f3a\"],[0.8888888888888888,\"#fdca26\"],[1.0,\"#f0f921\"]],\"sequentialminus\":[[0.0,\"#0d0887\"],[0.1111111111111111,\"#46039f\"],[0.2222222222222222,\"#7201a8\"],[0.3333333333333333,\"#9c179e\"],[0.4444444444444444,\"#bd3786\"],[0.5555555555555556,\"#d8576b\"],[0.6666666666666666,\"#ed7953\"],[0.7777777777777778,\"#fb9f3a\"],[0.8888888888888888,\"#fdca26\"],[1.0,\"#f0f921\"]],\"diverging\":[[0,\"#8e0152\"],[0.1,\"#c51b7d\"],[0.2,\"#de77ae\"],[0.3,\"#f1b6da\"],[0.4,\"#fde0ef\"],[0.5,\"#f7f7f7\"],[0.6,\"#e6f5d0\"],[0.7,\"#b8e186\"],[0.8,\"#7fbc41\"],[0.9,\"#4d9221\"],[1,\"#276419\"]]},\"xaxis\":{\"gridcolor\":\"white\",\"linecolor\":\"white\",\"ticks\":\"\",\"title\":{\"standoff\":15},\"zerolinecolor\":\"white\",\"automargin\":true,\"zerolinewidth\":2},\"yaxis\":{\"gridcolor\":\"white\",\"linecolor\":\"white\",\"ticks\":\"\",\"title\":{\"standoff\":15},\"zerolinecolor\":\"white\",\"automargin\":true,\"zerolinewidth\":2},\"scene\":{\"xaxis\":{\"backgroundcolor\":\"#E5ECF6\",\"gridcolor\":\"white\",\"linecolor\":\"white\",\"showbackground\":true,\"ticks\":\"\",\"zerolinecolor\":\"white\",\"gridwidth\":2},\"yaxis\":{\"backgroundcolor\":\"#E5ECF6\",\"gridcolor\":\"white\",\"linecolor\":\"white\",\"showbackground\":true,\"ticks\":\"\",\"zerolinecolor\":\"white\",\"gridwidth\":2},\"zaxis\":{\"backgroundcolor\":\"#E5ECF6\",\"gridcolor\":\"white\",\"linecolor\":\"white\",\"showbackground\":true,\"ticks\":\"\",\"zerolinecolor\":\"white\",\"gridwidth\":2}},\"shapedefaults\":{\"line\":{\"color\":\"#2a3f5f\"}},\"annotationdefaults\":{\"arrowcolor\":\"#2a3f5f\",\"arrowhead\":0,\"arrowwidth\":1},\"geo\":{\"bgcolor\":\"white\",\"landcolor\":\"#E5ECF6\",\"subunitcolor\":\"white\",\"showland\":true,\"showlakes\":true,\"lakecolor\":\"white\"},\"title\":{\"x\":0.05},\"mapbox\":{\"style\":\"light\"}}},\"xaxis\":{\"anchor\":\"y\",\"domain\":[0.0,1.0],\"title\":{\"text\":\"CreditScore\"}},\"yaxis\":{\"anchor\":\"x\",\"domain\":[0.0,1.0],\"title\":{\"text\":\"sum of Count\"}},\"legend\":{\"title\":{\"text\":\"Churn\"},\"tracegroupgap\":0},\"title\":{\"text\":\"Churn rate frequency to CreditScore distribution\"},\"barmode\":\"relative\"},                        {\"responsive\": true}                    ).then(function(){\n",
       "                            \n",
       "var gd = document.getElementById('bf454104-4a86-404a-9337-c8e176d64768');\n",
       "var x = new MutationObserver(function (mutations, observer) {{\n",
       "        var display = window.getComputedStyle(gd).display;\n",
       "        if (!display || display === 'none') {{\n",
       "            console.log([gd, 'removed!']);\n",
       "            Plotly.purge(gd);\n",
       "            observer.disconnect();\n",
       "        }}\n",
       "}});\n",
       "\n",
       "// Listen for the removal of the full notebook cells\n",
       "var notebookContainer = gd.closest('#notebook-container');\n",
       "if (notebookContainer) {{\n",
       "    x.observe(notebookContainer, {childList: true});\n",
       "}}\n",
       "\n",
       "// Listen for the clearing of the current output cell\n",
       "var outputEl = gd.closest('.output');\n",
       "if (outputEl) {{\n",
       "    x.observe(outputEl, {childList: true});\n",
       "}}\n",
       "\n",
       "                        })                };                });            </script>        </div>"
      ]
     },
     "metadata": {},
     "output_type": "display_data"
    }
   ],
   "source": [
    "hist('CreditScore')"
   ]
  },
  {
   "cell_type": "code",
   "execution_count": 18,
   "id": "8c1b20b9",
   "metadata": {
    "execution": {
     "iopub.execute_input": "2024-03-20T08:19:16.105092Z",
     "iopub.status.busy": "2024-03-20T08:19:16.104121Z",
     "iopub.status.idle": "2024-03-20T08:19:16.180213Z",
     "shell.execute_reply": "2024-03-20T08:19:16.179061Z"
    },
    "papermill": {
     "duration": 0.095048,
     "end_time": "2024-03-20T08:19:16.182855",
     "exception": false,
     "start_time": "2024-03-20T08:19:16.087807",
     "status": "completed"
    },
    "tags": []
   },
   "outputs": [
    {
     "data": {
      "text/html": [
       "<div>                            <div id=\"b57b8506-f7d9-40fc-8585-54306d75b499\" class=\"plotly-graph-div\" style=\"height:525px; width:100%;\"></div>            <script type=\"text/javascript\">                require([\"plotly\"], function(Plotly) {                    window.PLOTLYENV=window.PLOTLYENV || {};                                    if (document.getElementById(\"b57b8506-f7d9-40fc-8585-54306d75b499\")) {                    Plotly.newPlot(                        \"b57b8506-f7d9-40fc-8585-54306d75b499\",                        [{\"alignmentgroup\":\"True\",\"bingroup\":\"x\",\"histfunc\":\"sum\",\"hovertemplate\":\"Churn=No\\u003cbr\\u003eEstimatedSalary=%{x}\\u003cbr\\u003esum of Count=%{y}\\u003cextra\\u003e\\u003c\\u002fextra\\u003e\",\"legendgroup\":\"No\",\"marker\":{\"color\":\"green\",\"pattern\":{\"shape\":\"\"}},\"name\":\"No\",\"offsetgroup\":\"No\",\"orientation\":\"v\",\"showlegend\":true,\"x\":[30002,30008,30010,30014,30025,30026,30029,30038,30040,30047,30075,30085,30088,30098,30099,30107,30120,30125,30130,30136,30147,30148,30150,30165,30173,30187,30194,30205,30209,30221,30227,30243,30249,30266,30268,30280,30281,30292,30293,30310,30331,30352,30356,30368,30371,30373,30410,30440,30443,30449,30456,30483,30507,30533,30558,30561,30568,30580,30598,30601,30606,30613,30617,30627,30630,30633,30640,30645,30658,30661,30670,30679,30688,30693,30729,30738,30740,30754,30766,30769,30771,30783,30801,30805,30807,30810,30871,30872,30881,30897,30902,30909,30914,30930,30942,30956,30983,30993,30996,31007,31028,31029,31039,31044,31048,31062,31072,31092,31100,31104,31112,31115,31117,31118,31132,31140,31141,31149,31158,31172,31191,31192,31200,31203,31212,31217,31227,31244,31247,31262,31264,31272,31281,31291,31292,31296,31310,31311,31338,31341,31342,31350,31357,31376,31383,31385,31396,31399,31408,31409,31431,31433,31435,31438,31442,31461,31477,31485,31504,31523,31526,31529,31531,31534,31536,31544,31546,31551,31558,31564,31577,31606,31610,31613,31615,31616,31621,31628,31634,31636,31639,31653,31657,31658,31676,31686,31690,31691,31698,31726,31732,31733,31734,31743,31755,31771,31775,31789,31791,31804,31811,31813,31817,31818,31823,31858,31859,31884,31889,31890,31894,31898,31902,31905,31909,31917,31927,31947,31973,31988,31989,31996,31997,32001,32004,32007,32011,32017,32021,32022,32030,32042,32043,32045,32055,32059,32061,32065,32066,32067,32069,32077,32080,32083,32087,32089,32095,32100,32102,32117,32135,32140,32142,32145,32149,32151,32161,32170,32171,32183,32185,32210,32214,32219,32225,32232,32236,32237,32241,32291,32295,32301,32303,32308,32310,32314,32326,32352,32355,32368,32373,32412,32415,32427,32443,32460,32467,32470,32471,32472,32474,32478,32497,32503,32531,32577,32585,32587,32599,32601,32610,32611,32612,32615,32632,32635,32667,32680,32686,32691,32699,32700,32710,32716,32725,32728,32738,32743,32753,32757,32775,32779,32791,32806,32808,32816,32859,32867,32871,32883,32923,32926,32935,32943,32944,32951,32953,32959,32980,32990,33002,33024,33025,33032,33036,33037,33039,33040,33042,33043,33062,33074,33075,33079,33089,33097,33105,33122,33147,33152,33162,33163,33169,33181,33201,33202,33203,33216,33218,33224,33243,33252,33259,33263,33267,33269,33276,33277,33298,33302,33305,33307,33334,33342,33346,33348,33353,33359,33360,33362,33363,33369,33370,33375,33380,33385,33405,33445,33446,33450,33458,33460,33466,33468,33471,33492,33497,33530,33537,33538,33555,33563,33572,33586,33596,33597,33610,33641,33645,33648,33662,33667,33675,33679,33680,33684,33687,33692,33707,33729,33732,33741,33756,33758,33762,33766,33778,33781,33783,33796,33806,33810,33811,33812,33823,33824,33834,33835,33857,33858,33863,33868,33872,33877,33886,33890,33920,33922,33927,33928,33973,33998,34000,34005,34025,34026,34027,34030,34034,34038,34062,34067,34071,34073,34097,34098,34102,34108,34122,34135,34139,34153,34164,34165,34169,34171,34177,34185,34187,34191,34203,34209,34220,34231,34233,34235,34242,34245,34247,34251,34261,34264,34268,34290,34294,34308,34312,34319,34336,34342,34356,34366,34370,34371,34391,34398,34409,34411,34412,34428,34431,34453,34458,34470,34476,34483,34494,34509,34512,34529,34531,34536,34540,34553,34555,34566,34573,34584,34586,34595,34633,34646,34674,34690,34692,34695,34702,34754,34759,34765,34778,34780,34783,34786,34791,34793,34796,34800,34803,34809,34815,34828,34833,34837,34839,34850,34852,34856,34864,34880,34882,34895,34898,34905,34910,34915,34916,34920,34921,34923,34932,34951,34959,34960,34964,34977,34994,34995,34999,35001,35018,35021,35080,35083,35084,35088,35102,35135,35160,35167,35172,35183,35186,35187,35188,35194,35201,35204,35206,35221,35231,35234,35238,35242,35246,35248,35257,35265,35267,35269,35271,35277,35281,35282,35287,35290,35296,35313,35319,35331,35332,35377,35384,35395,35398,35405,35407,35413,35425,35434,35441,35453,35455,35470,35472,35475,35480,35483,35496,35497,35502,35506,35511,35515,35516,35565,35568,35578,35580,35590,35592,35593,35606,35607,35608,35612,35621,35633,35648,35653,35654,35660,35666,35676,35683,35686,35688,35695,35702,35721,35724,35728,35732,35755,35778,35785,35801,35808,35814,35815,35826,35840,35841,35842,35849,35856,35868,35878,35880,35886,35889,35891,35893,35894,35902,35923,35925,35927,35935,35940,35949,35975,35977,35993,36007,36013,36026,36045,36069,36087,36125,36128,36146,36149,36154,36159,36171,36174,36178,36198,36214,36227,36233,36239,36243,36258,36269,36271,36276,36300,36304,36310,36319,36327,36328,36331,36343,36346,36358,36365,36366,36371,36375,36376,36377,36390,36401,36403,36407,36430,36431,36445,36461,36464,36474,36475,36481,36484,36492,36499,36531,36532,36535,36542,36560,36562,36568,36586,36607,36612,36619,36622,36623,36636,36642,36654,36671,36680,36685,36687,36688,36698,36710,36714,36721,36726,36740,36742,36745,36752,36758,36759,36761,36762,36777,36778,36788,36793,36800,36816,36831,36849,36850,36863,36867,36877,36879,36897,36898,36901,36907,36909,36910,36935,36937,36952,36953,36963,36966,36984,37000,37005,37006,37009,37014,37015,37022,37029,37039,37046,37050,37062,37068,37096,37098,37100,37101,37110,37111,37133,37142,37153,37159,37172,37173,37175,37179,37192,37208,37213,37224,37235,37236,37248,37250,37253,37254,37256,37285,37295,37296,37312,37341,37356,37360,37371,37399,37402,37408,37415,37421,37429,37435,37437,37444,37447,37452,37463,37477,37481,37482,37489,37499,37512,37535,37541,37549,37551,37558,37560,37566,37581,37587,37613,37615,37625,37630,37652,37656,37662,37669,37670,37673,37678,37683,37687,37694,37700,37704,37716,37720,37723,37736,37739,37759,37761,37776,37778,37780,37787,37790,37795,37808,37838,37852,37860,37866,37896,37903,37912,37914,37920,37927,37937,37943,37955,37957,37967,37980,37982,38000,38029,38047,38049,38067,38071,38072,38078,38081,38087,38111,38112,38120,38126,38127,38129,38131,38142,38143,38147,38148,38151,38164,38184,38190,38221,38223,38225,38239,38249,38278,38287,38300,38301,38304,38321,38328,38339,38344,38348,38349,38360,38369,38376,38385,38391,38400,38414,38424,38425,38431,38445,38456,38460,38462,38466,38471,38485,38493,38502,38504,38508,38513,38516,38524,38531,38534,38536,38549,38550,38552,38553,38554,38555,38564,38574,38585,38590,38595,38602,38609,38615,38618,38646,38654,38664,38668,38679,38697,38709,38718,38722,38724,38734,38735,38767,38772,38781,38782,38797,38799,38801,38817,38821,38846,38871,38872,38874,38879,38900,38908,38916,38920,38925,38928,38929,38934,38962,38973,38979,39001,39008,39015,39020,39038,39047,39050,39054,39066,39075,39076,39087,39094,39109,39113,39116,39118,39120,39126,39127,39141,39142,39148,39156,39165,39172,39174,39178,39179,39180,39184,39186,39191,39196,39200,39205,39210,39211,39213,39216,39217,39234,39243,39244,39248,39250,39257,39266,39267,39272,39282,39300,39301,39324,39331,39334,39340,39382,39406,39421,39426,39428,39433,39453,39476,39477,39480,39483,39484,39498,39510,39519,39522,39536,39556,39564,39576,39592,39601,39613,39628,39634,39642,39675,39685,39693,39698,39706,39707,39708,39713,39721,39722,39735,39754,39772,39781,39805,39816,39817,39822,39824,39837,39850,39862,39883,39891,39894,39910,39927,39941,39952,39953,39972,39973,39974,39977,39990,40009,40018,40033,40035,40037,40038,40043,40051,40071,40081,40083,40096,40099,40100,40113,40115,40121,40128,40135,40156,40159,40161,40170,40172,40173,40174,40179,40181,40186,40199,40212,40217,40232,40233,40236,40241,40266,40271,40275,40278,40281,40286,40291,40307,40309,40315,40320,40325,40327,40339,40344,40375,40382,40385,40387,40391,40404,40414,40420,40423,40450,40452,40471,40476,40478,40488,40502,40505,40516,40517,40533,40536,40537,40549,40559,40580,40581,40586,40588,40593,40598,40600,40601,40622,40638,40646,40655,40687,40689,40714,40747,40749,40753,40758,40759,40761,40764,40771,40774,40775,40788,40789,40798,40809,40814,40833,40839,40853,40854,40860,40866,40868,40897,40917,40928,40945,40952,40953,40955,40965,40976,40992,40995,41007,41038,41048,41050,41054,41064,41090,41121,41123,41161,41166,41172,41182,41197,41231,41243,41247,41254,41258,41261,41275,41276,41277,41281,41288,41291,41304,41311,41319,41320,41324,41325,41326,41327,41330,41338,41344,41345,41352,41356,41366,41379,41385,41398,41423,41429,41432,41436,41437,41441,41450,41451,41454,41478,41481,41482,41485,41487,41495,41503,41507,41521,41532,41539,41552,41582,41584,41609,41611,41632,41640,41649,41652,41653,41658,41677,41692,41695,41702,41705,41714,41716,41718,41744,41754,41763,41764,41769,41782,41794,41800,41802,41804,41810,41817,41825,41826,41841,41843,41845,41851,41859,41867,41871,41894,41907,41913,41923,41928,41930,41939,41953,41967,41972,41988,41993,41994,42003,42017,42022,42044,42045,42050,42062,42065,42081,42083,42100,42117,42146,42150,42151,42165,42166,42200,42207,42219,42228,42231,42232,42235,42237,42239,42241,42247,42263,42267,42268,42281,42287,42289,42295,42299,42302,42319,42333,42335,42337,42344,42348,42362,42377,42385,42398,42409,42410,42416,42417,42426,42441,42451,42461,42465,42477,42478,42480,42491,42505,42506,42508,42511,42523,42529,42530,42569,42574,42578,42588,42610,42618,42623,42627,42630,42641,42649,42653,42658,42665,42666,42667,42669,42673,42685,42689,42693,42718,42725,42729,42737,42754,42757,42760,42767,42785,42802,42810,42811,42820,42823,42830,42838,42842,42852,42857,42862,42869,42873,42877,42892,42905,42907,42912,42920,42926,42928,42945,42953,42957,42958,42967,42984,42985,42988,43006,43010,43023,43036,43044,43047,43049,43058,43068,43074,43079,43085,43091,43112,43119,43127,43147,43151,43157,43163,43164,43167,43168,43180,43181,43184,43186,43187,43211,43221,43224,43248,43266,43268,43276,43294,43300,43305,43322,43323,43328,43329,43330,43334,43342,43344,43352,43353,43388,43389,43398,43399,43412,43415,43425,43427,43431,43440,43446,43453,43454,43469,43473,43485,43486,43487,43495,43500,43503,43510,43525,43527,43531,43543,43559,43568,43578,43588,43596,43598,43609,43611,43643,43672,43675,43681,43685,43727,43751,43755,43773,43777,43783,43785,43789,43799,43801,43803,43808,43827,43830,43851,43862,43886,43901,43902,43910,43917,43931,43945,43947,43956,43967,43981,43986,43989,43991,43992,44027,44040,44056,44070,44076,44081,44087,44088,44097,44101,44102,44108,44115,44119,44127,44138,44139,44148,44167,44192,44198,44213,44219,44242,44263,44265,44287,44290,44293,44297,44303,44309,44315,44325,44328,44344,44354,44365,44372,44373,44376,44393,44396,44397,44402,44407,44425,44440,44449,44450,44456,44465,44501,44502,44528,44537,44541,44548,44562,44564,44577,44582,44586,44589,44593,44595,44596,44600,44640,44658,44661,44662,44668,44688,44696,44698,44717,44719,44720,44725,44726,44730,44735,44738,44741,44751,44756,44757,44761,44770,44788,44791,44799,44800,44808,44824,44828,44840,44850,44852,44858,44859,44860,44865,44880,44885,44895,44905,44910,44919,44920,44926,44929,44933,44938,44944,44966,45005,45009,45024,45030,45032,45033,45036,45038,45046,45061,45067,45075,45084,45115,45117,45134,45139,45150,45154,45165,45166,45201,45211,45254,45269,45279,45312,45320,45322,45323,45326,45336,45347,45353,45367,45371,45382,45385,45388,45395,45397,45400,45408,45419,45420,45428,45436,45443,45446,45449,45451,45456,45467,45473,45474,45484,45485,45488,45497,45511,45520,45521,45535,45540,45549,45561,45564,45568,45578,45587,45590,45603,45607,45629,45640,45646,45647,45656,45659,45664,45665,45672,45678,45691,45707,45715,45719,45722,45726,45730,45740,45744,45764,45765,45769,45770,45773,45776,45787,45793,45806,45807,45813,45830,45854,45855,45856,45860,45861,45869,45871,45893,45897,45908,45910,45921,45924,45929,45935,45936,45948,45966,45967,45998,46007,46010,46025,46026,46038,46050,46055,46065,46079,46106,46112,46114,46123,46135,46136,46142,46156,46164,46177,46194,46195,46204,46221,46228,46239,46242,46244,46248,46256,46257,46258,46262,46271,46273,46296,46317,46324,46329,46330,46344,46351,46359,46364,46372,46385,46387,46390,46392,46413,46415,46424,46439,46445,46453,46455,46466,46467,46480,46493,46504,46507,46509,46527,46537,46538,46539,46544,46556,46570,46573,46575,46580,46583,46586,46600,46603,46608,46623,46636,46637,46650,46660,46665,46668,46677,46691,46697,46699,46705,46711,46716,46720,46748,46751,46758,46766,46775,46776,46782,46787,46805,46806,46813,46817,46821,46825,46841,46857,46864,46865,46868,46871,46880,46882,46887,46890,46896,46919,46935,46936,46942,46944,46953,46961,46971,46976,46977,46980,46984,46994,46996,47004,47017,47020,47026,47028,47041,47051,47059,47062,47067,47076,47083,47087,47099,47106,47121,47127,47128,47135,47150,47156,47157,47161,47171,47199,47202,47217,47228,47259,47260,47266,47287,47290,47299,47305,47315,47322,47323,47328,47335,47340,47347,47358,47365,47370,47371,47378,47390,47399,47404,47418,47427,47429,47434,47447,47449,47452,47464,47489,47491,47498,47522,47528,47542,47547,47558,47564,47569,47582,47591,47595,47603,47604,47616,47625,47652,47654,47664,47666,47673,47678,47692,47693,47700,47705,47714,47717,47733,47744,47745,47760,47763,47769,47773,47804,47812,47820,47824,47825,47828,47831,47836,47850,47852,47853,47869,47889,47908,47910,47913,47934,47939,47942,47943,47951,47955,47957,47958,47967,47973,47974,47979,47997,48010,48012,48016,48025,48069,48085,48090,48123,48135,48139,48143,48153,48156,48164,48166,48167,48168,48173,48178,48184,48189,48200,48203,48205,48209,48214,48219,48233,48235,48236,48243,48252,48253,48262,48272,48274,48281,48282,48287,48288,48290,48295,48299,48305,48360,48369,48372,48385,48416,48419,48433,48434,48440,48445,48448,48455,48466,48480,48485,48496,48502,48505,48508,48523,48525,48535,48557,48593,48611,48613,48632,48639,48645,48647,48654,48655,48663,48680,48699,48712,48727,48729,48732,48745,48759,48763,48766,48768,48785,48810,48811,48835,48840,48856,48876,48882,48903,48907,48908,48921,48923,48927,48929,48936,48937,48947,48949,48955,48963,48966,48972,48975,48985,48999,49032,49033,49037,49041,49044,49049,49053,49069,49084,49095,49103,49119,49123,49129,49130,49136,49140,49157,49169,49170,49171,49173,49176,49190,49207,49213,49223,49224,49234,49236,49246,49249,49253,49255,49259,49267,49292,49318,49320,49321,49327,49333,49343,49344,49357,49363,49421,49425,49436,49440,49445,49470,49473,49474,49475,49486,49491,49500,49510,49515,49523,49525,49539,49540,49544,49545,49549,49567,49569,49571,49573,49578,49582,49590,49593,49595,49597,49603,49610,49612,49616,49619,49631,49632,49642,49645,49646,49652,49677,49689,49691,49695,49698,49706,49709,49722,49733,49743,49747,49748,49755,49760,49763,49769,49780,49787,49798,49806,49809,49828,49829,49842,49846,49847,49848,49866,49887,49889,49896,49904,49909,49921,49922,49924,49935,49940,49941,49946,49948,49952,49972,49973,49978,49982,49999,50016,50018,50022,50041,50043,50055,50056,50063,50065,50069,50074,50075,50076,50112,50115,50116,50139,50141,50148,50149,50151,50154,50156,50157,50164,50167,50181,50197,50202,50221,50222,50223,50224,50226,50240,50250,50254,50261,50263,50264,50282,50287,50296,50308,50344,50348,50360,50368,50373,50377,50380,50388,50390,50396,50410,50416,50417,50435,50439,50442,50444,50449,50458,50461,50474,50486,50504,50509,50523,50531,50533,50536,50544,50563,50565,50567,50568,50569,50582,50589,50600,50616,50622,50638,50639,50641,50642,50652,50653,50664,50665,50678,50684,50695,50707,50710,50736,50743,50770,50800,50804,50812,50822,50841,50873,50877,50879,50904,50913,50924,50925,50934,50935,50936,50938,50941,50967,50968,50984,50991,51000,51007,51018,51019,51022,51026,51051,51056,51057,51058,51070,51073,51086,51088,51104,51124,51134,51145,51155,51158,51167,51171,51172,51173,51174,51184,51193,51200,51204,51206,51226,51228,51248,51253,51257,51259,51261,51270,51277,51288,51296,51306,51315,51318,51329,51333,51335,51338,51339,51342,51344,51354,51365,51374,51380,51391,51392,51415,51416,51426,51433,51440,51447,51469,51470,51481,51492,51505,51512,51514,51521,51527,51554,51557,51565,51570,51573,51577,51579,51583,51607,51621,51630,51631,51639,51641,51657,51676,51685,51689,51694,51696,51702,51706,51707,51709,51710,51745,51758,51763,51764,51786,51792,51815,51816,51821,51823,51830,51833,51840,51845,51849,51856,51866,51873,51875,51881,51886,51887,51906,51911,51929,51932,51933,51950,51952,51968,51972,51974,51987,51993,51996,51997,51999,52007,52008,52025,52039,52050,52068,52072,52077,52078,52083,52085,52090,52093,52103,52104,52107,52138,52147,52150,52153,52157,52159,52165,52184,52187,52188,52194,52197,52215,52222,52224,52227,52231,52245,52248,52254,52262,52277,52279,52283,52303,52331,52334,52362,52370,52380,52383,52386,52391,52397,52406,52407,52412,52418,52421,52431,52441,52463,52464,52488,52491,52508,52516,52517,52523,52529,52532,52559,52560,52562,52585,52592,52596,52600,52609,52611,52643,52652,52654,52665,52678,52679,52709,52710,52727,52732,52770,52773,52774,52784,52785,52789,52794,52799,52812,52815,52824,52830,52834,52842,52857,52860,52867,52874,52881,52882,52907,52911,52914,52917,52919,52921,52924,52936,52941,52971,52986,53004,53012,53015,53022,53043,53070,53074,53076,53079,53084,53086,53087,53105,53120,53127,53139,53144,53157,53158,53162,53181,53194,53198,53199,53201,53216,53217,53222,53224,53247,53248,53254,53262,53263,53271,53294,53304,53311,53312,53318,53320,53332,53334,53352,53356,53358,53368,53378,53385,53386,53399,53402,53411,53413,53422,53431,53437,53438,53454,53468,53483,53490,53497,53499,53505,53509,53516,53520,53521,53534,53559,53567,53572,53575,53580,53600,53602,53614,53618,53620,53625,53633,53641,53645,53652,53654,53664,53670,53676,53679,53680,53681,53701,53711,53714,53720,53741,53742,53747,53755,53759,53761,53769,53774,53777,53781,53792,53804,53805,53813,53815,53825,53827,53835,53846,53859,53860,53880,53890,53894,53896,53908,53916,53923,53930,53942,53959,53961,53963,53966,53975,53984,53992,54015,54024,54026,54034,54041,54043,54048,54056,54064,54073,54081,54106,54115,54121,54122,54129,54144,54146,54150,54158,54168,54178,54199,54209,54212,54219,54222,54223,54228,54229,54232,54270,54273,54285,54288,54303,54317,54320,54322,54344,54349,54355,54386,54395,54397,54421,54425,54430,54434,54442,54446,54449,54451,54453,54458,54465,54489,54531,54541,54543,54544,54574,54586,54589,54592,54597,54598,54601,54606,54607,54610,54615,54622,54626,54628,54634,54636,54638,54649,54656,54670,54671,54711,54718,54722,54726,54730,54731,54732,54734,54735,54737,54743,54750,54757,54772,54776,54779,54783,54785,54787,54789,54799,54816,54821,54822,54825,54844,54859,54867,54871,54888,54890,54896,54904,54910,54913,54921,54946,54947,54964,54980,54982,54987,54993,55025,55034,55035,55068,55071,55072,55078,55089,55096,55104,55105,55114,55117,55125,55136,55143,55153,55169,55171,55185,55186,55191,55196,55201,55210,55212,55225,55229,55230,55232,55238,55246,55247,55250,55259,55290,55301,55302,55306,55307,55317,55321,55342,55355,55369,55373,55377,55378,55401,55403,55408,55415,55416,55424,55436,55439,55440,55445,55455,55460,55463,55479,55494,55507,55516,55517,55526,55528,55534,55547,55557,55558,55561,55565,55569,55576,55577,55581,55588,55596,55597,55615,55627,55628,55629,55650,55652,55659,55666,55681,55682,55693,55694,55699,55717,55721,55745,55746,55750,55755,55760,55761,55764,55769,55778,55782,55805,55809,55819,55826,55833,55837,55843,55870,55880,55884,55908,55917,55931,55948,55949,55950,55955,55963,55978,55988,55994,55998,56009,56011,56021,56023,56033,56041,56048,56049,56053,56068,56074,56079,56081,56084,56096,56104,56109,56110,56122,56125,56150,56151,56152,56155,56161,56175,56177,56179,56187,56196,56197,56198,56209,56212,56223,56233,56249,56250,56263,56264,56268,56274,56294,56297,56299,56307,56308,56311,56314,56318,56329,56333,56346,56352,56361,56364,56368,56374,56393,56402,56408,56413,56416,56436,56442,56455,56457,56458,56460,56461,56462,56464,56471,56472,56478,56482,56499,56534,56535,56544,56551,56552,56557,56567,56573,56576,56599,56604,56605,56614,56628,56633,56643,56666,56668,56672,56673,56695,56700,56703,56714,56737,56742,56747,56749,56760,56768,56812,56815,56818,56823,56832,56834,56841,56849,56870,56880,56884,56894,56900,56902,56903,56906,56919,56946,56952,56954,56982,56987,57000,57001,57007,57012,57014,57023,57024,57026,57034,57038,57051,57052,57064,57074,57077,57079,57100,57102,57112,57117,57127,57158,57164,57171,57178,57192,57202,57232,57239,57240,57242,57257,57260,57262,57268,57281,57287,57289,57294,57296,57298,57304,57305,57312,57319,57338,57344,57354,57370,57375,57378,57390,57396,57403,57408,57430,57435,57455,57472,57485,57491,57492,57495,57507,57510,57526,57532,57541,57586,57588,57599,57627,57635,57642,57650,57662,57679,57701,57738,57752,57755,57764,57769,57773,57782,57795,57803,57805,57819,57820,57841,57843,57856,57867,57879,57891,57914,57941,57946,57948,57955,57957,57978,57979,58002,58005,58013,58022,58023,58026,58033,58054,58068,58081,58092,58094,58100,58108,58117,58120,58122,58129,58162,58166,58170,58179,58183,58188,58198,58208,58210,58233,58241,58250,58265,58284,58300,58309,58316,58324,58328,58334,58339,58345,58353,58357,58358,58373,58377,58386,58420,58454,58470,58471,58475,58480,58484,58489,58500,58515,58536,58537,58539,58547,58548,58558,58571,58575,58580,58581,58583,58585,58587,58591,58603,58604,58606,58609,58612,58660,58663,58680,58705,58724,58727,58736,58746,58755,58757,58760,58761,58764,58768,58782,58784,58792,58794,58799,58801,58809,58837,58856,58859,58870,58873,58876,58884,58888,58895,58901,58905,58911,58914,58915,58932,58937,58940,58944,58948,58953,58954,58961,58974,58982,59008,59025,59038,59044,59046,59048,59053,59058,59060,59075,59080,59085,59088,59094,59096,59100,59104,59124,59125,59131,59150,59152,59157,59162,59172,59175,59178,59179,59185,59195,59200,59207,59210,59211,59214,59220,59230,59233,59237,59248,59250,59251,59283,59284,59303,59310,59311,59319,59325,59333,59349,59355,59374,59382,59386,59390,59395,59399,59418,59420,59442,59452,59456,59459,59460,59462,59464,59466,59467,59468,59476,59480,59494,59500,59513,59522,59527,59532,59547,59550,59560,59578,59592,59622,59633,59640,59666,59672,59686,59688,59695,59708,59722,59723,59729,59731,59743,59775,59791,59797,59799,59804,59806,59822,59829,59837,59840,59842,59846,59847,59853,59854,59858,59872,59875,59897,59917,59920,59924,59928,59930,59941,59951,59958,59970,59998,60003,60012,60015,60033,60034,60052,60055,60058,60067,60078,60086,60087,60099,60100,60106,60107,60110,60117,60118,60127,60131,60134,60141,60148,60149,60156,60158,60171,60177,60179,60188,60201,60202,60206,60218,60231,60235,60236,60258,60268,60269,60281,60286,60292,60314,60366,60367,60369,60378,60393,60413,60427,60439,60450,60469,60470,60496,60498,60504,60507,60531,60550,60566,60574,60579,60586,60603,60606,60612,60621,60638,60651,60671,60701,60704,60710,60711,60718,60727,60741,60748,60762,60765,60770,60775,60779,60796,60805,60808,60815,60836,60859,60864,60867,60871,60875,60876,60880,60882,60887,60894,60923,60944,60976,60992,60995,61013,61020,61025,61082,61096,61101,61111,61117,61122,61132,61147,61163,61169,61181,61192,61195,61198,61204,61205,61213,61220,61247,61257,61262,61274,61293,61304,61313,61325,61328,61331,61334,61345,61348,61353,61364,61391,61404,61415,61421,61425,61428,61429,61431,61452,61453,61461,61464,61474,61477,61480,61483,61490,61505,61515,61525,61526,61536,61553,61560,61571,61576,61581,61592,61598,61611,61618,61623,61627,61663,61664,61672,61693,61694,61695,61698,61704,61711,61713,61716,61727,61752,61753,61756,61765,61771,61772,61795,61819,61825,61831,61845,61846,61856,61863,61868,61880,61884,61885,61890,61891,61892,61896,61900,61908,61909,61911,61920,61926,61934,61961,61967,61980,61996,62010,62012,62039,62040,62047,62053,62054,62066,62068,62069,62071,62074,62077,62084,62085,62086,62099,62106,62116,62138,62144,62148,62152,62187,62206,62210,62242,62249,62252,62258,62268,62279,62292,62315,62325,62329,62346,62347,62348,62353,62357,62360,62361,62376,62382,62383,62387,62405,62406,62416,62417,62421,62424,62441,62448,62457,62478,62493,62499,62504,62512,62515,62522,62527,62536,62539,62543,62556,62562,62571,62572,62596,62603,62607,62611,62612,62613,62622,62627,62628,62643,62644,62653,62665,62667,62684,62697,62698,62700,62704,62707,62716,62719,62743,62751,62752,62768,62779,62781,62793,62818,62839,62846,62852,62861,62863,62871,62880,62881,62900,62907,62911,62914,62918,62922,62925,62931,62941,62951,62966,62976,62985,62990,63000,63007,63012,63014,63017,63020,63034,63037,63044,63077,63082,63086,63112,63120,63124,63129,63132,63161,63196,63204,63215,63219,63238,63257,63290,63296,63303,63311,63312,63317,63318,63319,63320,63323,63344,63350,63354,63369,63379,63393,63395,63398,63403,63406,63412,63416,63418,63433,63436,63440,63446,63470,63472,63486,63492,63494,63498,63500,63520,63528,63533,63534,63538,63543,63550,63557,63571,63575,63576,63592,63595,63605,63611,63621,63623,63625,63627,63632,63643,63650,63676,63681,63684,63719,63737,63751,63757,63758,63761,63785,63786,63799,63809,63823,63826,63841,63846,63850,63851,63853,63864,63885,63895,63911,63919,63927,63928,63957,63959,63971,63976,63983,63999,64002,64003,64010,64011,64021,64045,64053,64055,64072,64084,64093,64121,64131,64149,64150,64151,64159,64160,64176,64185,64194,64204,64207,64226,64228,64233,64236,64237,64251,64255,64263,64265,64273,64279,64280,64286,64298,64312,64315,64341,64345,64357,64362,64368,64371,64378,64380,64383,64385,64392,64401,64408,64414,64417,64422,64424,64466,64469,64473,64480,64489,64490,64492,64497,64499,64501,64512,64545,64550,64564,64577,64587,64588,64596,64614,64621,64654,64656,64668,64670,64676,64683,64685,64689,64690,64691,64702,64708,64712,64717,64722,64726,64727,64732,64737,64747,64777,64781,64783,64793,64807,64831,64842,64860,64862,64865,64868,64870,64884,64889,64891,64898,64922,64924,64933,64955,64970,65007,65008,65011,65026,65033,65037,65042,65044,65055,65064,65075,65081,65097,65098,65116,65121,65124,65147,65155,65160,65165,65172,65173,65183,65196,65206,65219,65230,65232,65245,65249,65260,65262,65268,65272,65278,65289,65311,65324,65330,65339,65341,65346,65353,65363,65369,65392,65393,65409,65434,65435,65444,65452,65454,65463,65472,65476,65478,65482,65495,65502,65505,65526,65530,65531,65534,65538,65543,65549,65560,65576,65583,65590,65592,65593,65601,65612,65620,65623,65624,65635,65639,65661,65663,65671,65677,65680,65693,65695,65704,65709,65739,65775,65809,65812,65813,65816,65824,65826,65838,65851,65869,65876,65886,65887,65890,65896,65913,65915,65919,65929,65938,65939,65948,65949,65953,65996,65998,66018,66028,66029,66047,66055,66061,66079,66094,66097,66099,66104,66109,66111,66116,66122,66124,66126,66134,66135,66142,66145,66148,66167,66169,66174,66175,66177,66180,66188,66189,66193,66195,66198,66201,66204,66213,66224,66229,66248,66259,66260,66261,66263,66274,66275,66288,66302,66308,66310,66315,66323,66324,66331,66337,66346,66366,66383,66384,66387,66397,66404,66412,66425,66434,66439,66442,66444,66450,66451,66464,66469,66483,66487,66489,66528,66530,66533,66538,66546,66569,66571,66585,66601,66604,66606,66607,66631,66640,66654,66671,66677,66681,66685,66686,66691,66709,66710,66713,66736,66750,66758,66774,66784,66788,66791,66803,66804,66806,66811,66812,66823,66828,66836,66842,66859,66868,66870,66877,66903,66922,66928,66941,66943,66949,66954,66955,66972,66979,66985,67002,67029,67035,67058,67060,67065,67073,67077,67084,67085,67099,67115,67121,67128,67141,67148,67156,67161,67162,67166,67170,67171,67179,67195,67207,67211,67216,67246,67272,67290,67340,67379,67380,67384,67387,67391,67406,67417,67420,67432,67447,67453,67458,67459,67462,67476,67480,67481,67489,67496,67508,67516,67528,67530,67533,67542,67551,67553,67562,67566,67580,67584,67597,67600,67602,67620,67625,67637,67644,67655,67664,67666,67680,67685,67708,67718,67721,67727,67738,67745,67751,67782,67786,67799,67810,67830,67848,67851,67857,67863,67869,67877,67878,67881,67909,67919,67924,67929,67930,67939,67947,67957,67958,67971,67981,67982,67985,67992,68009,68014,68024,68026,68031,68034,68043,68054,68060,68073,68119,68128,68144,68156,68168,68178,68184,68187,68201,68210,68217,68231,68234,68237,68239,68247,68259,68263,68281,68288,68296,68298,68300,68312,68313,68314,68324,68327,68342,68346,68359,68366,68390,68401,68402,68408,68414,68415,68419,68432,68433,68435,68446,68454,68459,68521,68532,68533,68539,68550,68557,68560,68566,68582,68588,68591,68596,68603,68609,68616,68617,68635,68638,68646,68658,68661,68673,68674,68677,68680,68685,68691,68693,68698,68701,68707,68716,68717,68723,68732,68748,68752,68761,68770,68789,68791,68802,68804,68812,68819,68820,68823,68831,68833,68840,68865,68866,68871,68890,68897,68909,68922,68923,68933,68935,68961,68984,69007,69012,69016,69041,69044,69049,69050,69056,69059,69065,69071,69076,69093,69107,69112,69127,69128,69141,69146,69150,69154,69188,69197,69198,69202,69204,69206,69210,69221,69229,69235,69250,69252,69272,69288,69289,69299,69312,69320,69342,69345,69356,69371,69385,69389,69394,69403,69405,69415,69427,69428,69443,69452,69457,69460,69464,69466,69475,69483,69487,69490,69498,69524,69525,69530,69532,69533,69537,69543,69553,69558,69562,69565,69569,69582,69592,69606,69614,69615,69620,69624,69655,69657,69658,69665,69674,69680,69682,69688,69690,69692,69698,69711,69733,69738,69740,69750,69755,69756,69757,69774,69778,69780,69791,69792,69795,69807,69808,69811,69821,69827,69834,69847,69849,69850,69854,69862,69867,69879,69886,69892,69920,69970,69971,69978,69986,69991,70003,70017,70027,70028,70030,70035,70037,70068,70070,70074,70098,70113,70126,70135,70143,70147,70150,70153,70160,70171,70175,70183,70203,70204,70217,70221,70222,70226,70229,70246,70259,70264,70265,70268,70301,70305,70307,70311,70312,70316,70318,70322,70326,70329,70335,70340,70341,70356,70361,70369,70375,70384,70394,70397,70400,70407,70422,70434,70435,70446,70457,70461,70462,70467,70468,70480,70504,70507,70512,70528,70539,70548,70553,70566,70567,70594,70597,70603,70612,70627,70628,70634,70654,70693,70731,70740,70759,70763,70767,70772,70774,70797,70824,70835,70850,70856,70857,70865,70909,70910,70914,70918,70923,70926,70927,70936,70938,70954,70955,70965,70994,71022,71042,71046,71051,71069,71127,71128,71136,71138,71160,71172,71175,71181,71183,71188,71199,71215,71216,71218,71232,71234,71244,71252,71254,71263,71265,71274,71281,71287,71290,71292,71298,71305,71308,71325,71336,71349,71352,71366,71367,71375,71379,71380,71395,71405,71422,71424,71427,71428,71434,71435,71437,71447,71457,71464,71473,71476,71477,71481,71486,71490,71491,71508,71511,71516,71533,71546,71547,71548,71561,71567,71571,71577,71606,71616,71618,71621,71626,71632,71644,71646,71647,71658,71666,71671,71673,71682,71683,71685,71688,71691,71698,71706,71708,71723,71726,71728,71729,71740,71752,71755,71768,71769,71774,71786,71790,71810,71811,71812,71817,71822,71825,71835,71837,71839,71844,71851,71852,71856,71867,71875,71889,71900,71907,71908,71914,71941,71942,71947,71948,71949,71975,71982,71983,71985,72021,72025,72029,72033,72040,72046,72050,72051,72052,72065,72078,72086,72095,72108,72124,72132,72133,72150,72154,72169,72238,72248,72252,72264,72273,72279,72284,72288,72295,72297,72298,72300,72301,72308,72325,72331,72345,72351,72358,72364,72366,72371,72386,72394,72415,72416,72420,72421,72422,72430,72442,72452,72461,72465,72470,72475,72497,72504,72511,72521,72529,72537,72541,72543,72547,72554,72560,72565,72568,72574,72606,72616,72617,72630,72636,72640,72646,72649,72653,72673,72686,72688,72689,72691,72694,72719,72721,72723,72726,72732,72744,72746,72753,72765,72768,72776,72803,72805,72812,72821,72837,72839,72852,72861,72864,72865,72869,72871,72875,72878,72886,72889,72892,72894,72898,72921,72931,72946,72957,72961,72977,72995,72999,73000,73002,73013,73022,73030,73034,73050,73056,73058,73064,73079,73100,73124,73140,73141,73144,73146,73166,73169,73170,73181,73182,73183,73184,73186,73187,73188,73194,73215,73217,73224,73240,73251,73261,73266,73275,73283,73288,73297,73322,73328,73338,73341,73344,73352,73358,73367,73373,73375,73377,73379,73381,73394,73401,73423,73438,73457,73461,73485,73487,73499,73514,73526,73537,73545,73558,73564,73565,73582,73616,73622,73635,73638,73641,73659,73664,73673,73702,73709,73710,73722,73725,73734,73744,73750,73770,73784,73789,73792,73794,73805,73807,73816,73822,73839,73846,73850,73905,73929,73935,73944,73951,73954,73957,73959,73963,73969,73977,73980,73982,74000,74003,74008,74012,74013,74019,74021,74034,74050,74069,74078,74087,74092,74093,74103,74108,74115,74121,74122,74123,74131,74135,74136,74156,74161,74166,74182,74195,74213,74216,74225,74238,74239,74241,74250,74263,74268,74275,74279,74282,74294,74295,74299,74315,74318,74320,74327,74332,74347,74353,74356,74373,74382,74392,74394,74412,74424,74429,74430,74434,74438,74447,74449,74458,74475,74491,74498,74501,74509,74511,74520,74525,74530,74544,74553,74561,74565,74567,74573,74575,74578,74580,74591,74597,74598,74608,74620,74633,74639,74640,74660,74669,74678,74699,74703,74730,74737,74744,74745,74747,74755,74766,74767,74777,74784,74793,74796,74797,74803,74805,74816,74824,74826,74830,74832,74836,74838,74841,74860,74863,74870,74877,74891,74899,74900,74914,74924,74934,74938,74943,74945,74949,74963,74973,74977,74985,74995,75039,75043,75054,75055,75058,75087,75092,75099,75124,75160,75164,75166,75174,75177,75187,75224,75237,75243,75245,75252,75256,75261,75263,75276,75283,75291,75295,75308,75313,75330,75341,75342,75354,75362,75363,75371,75376,75377,75384,75393,75435,75441,75446,75449,75452,75472,75474,75519,75542,75545,75547,75565,75567,75575,75582,75585,75597,75598,75603,75604,75612,75614,75639,75646,75652,75659,75660,75670,75683,75684,75688,75690,75697,75698,75704,75711,75713,75720,75722,75726,75731,75732,75750,75757,75765,75766,75793,75794,75802,75805,75806,75811,75822,75825,75828,75834,75838,75842,75845,75848,75850,75858,75862,75870,75871,75875,75877,75879,75899,75911,75929,75942,75945,75953,75960,75968,75985,75990,75996,76015,76017,76026,76035,76037,76039,76043,76049,76068,76074,76084,76089,76093,76096,76101,76106,76114,76115,76121,76140,76142,76144,76150,76154,76166,76194,76206,76209,76229,76235,76239,76242,76246,76255,76258,76268,76285,76292,76320,76323,76327,76343,76356,76360,76376,76378,76406,76437,76451,76454,76475,76476,76482,76517,76520,76523,76525,76532,76538,76559,76580,76587,76590,76595,76608,76626,76631,76654,76659,76674,76678,76682,76688,76694,76702,76713,76715,76718,76727,76737,76752,76756,76776,76779,76788,76817,76836,76846,76849,76857,76870,76906,76911,76913,76914,76919,76935,76957,76959,76962,76964,76973,76990,76991,77001,77003,77030,77042,77054,77061,77070,77080,77089,77090,77098,77107,77110,77121,77124,77135,77143,77144,77147,77148,77149,77173,77193,77202,77230,77234,77236,77243,77246,77279,77281,77283,77284,77285,77288,77290,77296,77298,77302,77306,77320,77329,77336,77342,77343,77347,77353,77363,77364,77365,77379,77382,77383,77385,77391,77452,77459,77461,77468,77472,77477,77478,77481,77488,77496,77507,77523,77527,77531,77553,77568,77575,77578,77590,77593,77602,77607,77612,77624,77625,77626,77628,77630,77641,77694,77709,77711,77717,77723,77741,77742,77770,77773,77774,77779,77781,77805,77813,77818,77827,77857,77859,77865,77878,77888,77901,77913,77914,77928,77930,77932,77938,77951,77955,77961,77965,77975,77991,77998,78005,78007,78015,78033,78041,78042,78045,78053,78058,78110,78113,78131,78146,78147,78159,78176,78179,78183,78186,78211,78217,78225,78239,78245,78247,78261,78264,78268,78272,78289,78290,78293,78301,78318,78324,78325,78326,78344,78353,78375,78376,78377,78381,78384,78388,78391,78396,78407,78410,78412,78414,78419,78421,78424,78429,78430,78456,78483,78488,78511,78512,78517,78527,78532,78537,78542,78560,78580,78593,78606,78616,78628,78630,78635,78637,78639,78645,78658,78659,78664,78674,78700,78712,78715,78717,78728,78732,78736,78737,78740,78741,78743,78750,78755,78765,78776,78778,78779,78781,78785,78792,78799,78811,78813,78831,78841,78846,78847,78849,78863,78864,78874,78885,78889,78902,78925,78938,78946,78948,78950,78961,78970,79006,79009,79014,79020,79030,79032,79040,79056,79070,79103,79110,79126,79132,79136,79155,79162,79172,79173,79174,79184,79191,79195,79199,79203,79215,79223,79227,79236,79242,79247,79253,79258,79274,79278,79286,79294,79319,79325,79327,79336,79337,79348,79350,79356,79360,79364,79376,79379,79387,79388,79401,79415,79419,79420,79433,79440,79455,79463,79469,79504,79505,79506,79513,79515,79518,79532,79539,79544,79546,79549,79554,79557,79566,79570,79571,79600,79607,79617,79621,79625,79630,79641,79644,79650,79662,79666,79698,79706,79712,79718,79722,79728,79746,79750,79764,79768,79773,79789,79814,79827,79848,79852,79868,79875,79877,79879,79890,79894,79901,79902,79922,79923,79927,79935,79945,79946,79952,79958,79959,79966,79968,79988,79995,80019,80021,80040,80083,80087,80091,80108,80112,80115,80126,80128,80134,80147,80167,80174,80178,80200,80202,80204,80210,80213,80237,80246,80273,80281,80331,80334,80338,80341,80343,80359,80362,80372,80387,80394,80396,80401,80402,80404,80414,80419,80424,80429,80434,80439,80443,80457,80461,80468,80472,80482,80492,80508,80514,80515,80520,80521,80531,80541,80555,80558,80579,80585,80592,80594,80607,80616,80664,80676,80695,80707,80713,80715,80720,80727,80729,80750,80759,80765,80776,80778,80790,80802,80807,80816,80828,80834,80840,80850,80855,80867,80892,80893,80907,80921,80923,80938,80946,80954,80964,80968,80974,80978,80995,81004,81017,81023,81027,81032,81036,81047,81060,81065,81079,81084,81093,81095,81111,81113,81116,81126,81149,81158,81165,81168,81172,81176,81178,81181,81184,81195,81202,81206,81222,81231,81232,81235,81254,81256,81262,81265,81267,81270,81282,81290,81298,81306,81325,81338,81345,81353,81354,81366,81376,81392,81407,81416,81427,81428,81439,81450,81464,81470,81471,81477,81488,81502,81516,81519,81534,81537,81538,81540,81575,81580,81584,81592,81595,81597,81598,81606,81614,81620,81632,81642,81658,81663,81670,81674,81690,81693,81706,81725,81745,81751,81771,81790,81793,81796,81809,81811,81818,81837,81839,81840,81854,81861,81866,81882,81890,81899,81901,81908,81916,81943,81948,81954,81961,81973,81987,81995,81997,82005,82015,82020,82023,82025,82031,82035,82038,82044,82046,82047,82061,82066,82087,82089,82093,82109,82120,82159,82173,82179,82184,82190,82194,82195,82201,82219,82221,82227,82231,82243,82257,82311,82314,82320,82321,82324,82325,82327,82328,82329,82330,82343,82348,82364,82385,82390,82394,82400,82403,82411,82445,82452,82462,82466,82474,82484,82489,82496,82521,82527,82528,82529,82572,82577,82580,82591,82614,82618,82625,82638,82645,82647,82664,82667,82669,82679,82684,82705,82709,82715,82717,82731,82740,82761,82766,82768,82775,82779,82799,82804,82813,82818,82819,82825,82857,82858,82876,82883,82890,82896,82905,82909,82916,82921,82929,82931,82936,82937,82963,82969,82981,82982,82985,82991,82992,82994,83006,83025,83029,83034,83037,83042,83046,83047,83050,83055,83064,83072,83074,83093,83111,83116,83120,83129,83133,83135,83145,83147,83156,83169,83186,83197,83204,83216,83217,83237,83239,83254,83258,83262,83264,83267,83268,83288,83290,83293,83302,83311,83326,83342,83343,83346,83348,83355,83356,83364,83365,83370,83371,83372,83392,83409,83416,83421,83425,83426,83428,83429,83437,83447,83453,83463,83468,83469,83488,83505,83520,83521,83530,83536,83541,83551,83572,83594,83605,83606,83618,83628,83632,83634,83638,83641,83658,83677,83691,83698,83702,83732,83752,83759,83761,83788,83796,83803,83804,83809,83814,83831,83856,83861,83875,83886,83895,83896,83900,83902,83904,83918,83928,83957,83971,83979,83982,83983,83984,83987,83993,84002,84014,84023,84026,84029,84032,84071,84074,84082,84088,84107,84111,84112,84126,84128,84148,84155,84168,84175,84184,84187,84191,84226,84262,84277,84289,84290,84292,84297,84327,84333,84337,84350,84369,84379,84382,84395,84398,84405,84415,84429,84431,84447,84448,84449,84460,84493,84501,84504,84507,84509,84528,84543,84566,84570,84613,84614,84615,84628,84635,84636,84638,84651,84660,84681,84682,84683,84689,84698,84714,84748,84759,84764,84775,84785,84787,84796,84801,84804,84809,84819,84824,84826,84827,84828,84830,84833,84846,84848,84867,84881,84885,84890,84892,84900,84902,84905,84920,84922,84924,84925,84927,84932,84934,84938,84940,84952,84956,84967,84975,84978,84991,84998,85000,85007,85016,85019,85029,85030,85041,85042,85053,85071,85074,85076,85081,85090,85101,85103,85105,85110,85118,85131,85139,85146,85156,85158,85160,85170,85177,85193,85198,85199,85200,85201,85205,85206,85213,85227,85229,85247,85261,85264,85282,85285,85292,85294,85303,85305,85306,85330,85335,85341,85360,85364,85367,85371,85372,85376,85386,85398,85409,85410,85419,85433,85434,85455,85456,85458,85459,85463,85475,85476,85480,85484,85485,85492,85498,85518,85521,85529,85533,85535,85538,85544,85546,85550,85560,85565,85566,85579,85582,85612,85613,85618,85620,85624,85631,85641,85645,85652,85655,85659,85673,85674,85691,85694,85696,85700,85702,85715,85716,85717,85740,85750,85753,85765,85769,85775,85780,85784,85786,85790,85799,85801,85830,85842,85847,85854,85865,85869,85884,85903,85908,85912,85929,85934,85937,85942,85944,85945,85952,85957,85963,85977,85988,85993,86009,86022,86024,86025,86028,86038,86039,86044,86052,86059,86063,86065,86066,86068,86100,86115,86119,86121,86126,86134,86148,86150,86167,86169,86170,86178,86192,86218,86224,86230,86232,86239,86242,86245,86259,86270,86271,86275,86279,86284,86291,86297,86301,86320,86325,86348,86363,86370,86379,86381,86402,86410,86422,86424,86431,86439,86440,86446,86459,86478,86481,86491,86499,86502,86510,86540,86542,86549,86558,86566,86573,86588,86598,86612,86621,86625,86633,86661,86664,86665,86685,86689,86705,86707,86722,86723,86725,86733,86741,86742,86744,86753,86771,86779,86780,86781,86790,86796,86800,86803,86812,86828,86831,86832,86841,86861,86867,86897,86902,86903,86908,86915,86919,86933,86936,86940,86951,86970,86971,86989,86998,87011,87016,87044,87047,87070,87074,87110,87113,87118,87120,87128,87133,87135,87176,87183,87184,87191,87200,87203,87205,87215,87220,87238,87239,87262,87272,87284,87286,87296,87298,87301,87302,87306,87312,87322,87324,87327,87328,87333,87334,87342,87348,87365,87366,87387,87392,87398,87399,87402,87403,87413,87422,87431,87446,87447,87451,87456,87459,87473,87482,87484,87509,87511,87512,87513,87516,87522,87525,87534,87538,87552,87562,87564,87565,87567,87586,87589,87595,87615,87621,87626,87635,87651,87653,87675,87676,87681,87685,87687,87690,87706,87718,87725,87729,87735,87738,87741,87751,87758,87761,87772,87778,87779,87788,87799,87810,87811,87813,87816,87852,87868,87871,87878,87885,87886,87904,87934,87936,87940,87941,87942,87945,87970,87976,87983,87996,88007,88019,88020,88038,88046,88048,88049,88050,88053,88062,88064,88071,88075,88076,88084,88095,88103,88106,88117,88122,88125,88133,88134,88138,88154,88165,88172,88184,88215,88239,88247,88251,88252,88259,88260,88280,88282,88291,88298,88299,88302,88308,88313,88317,88318,88319,88326,88329,88331,88333,88334,88355,88358,88381,88382,88405,88416,88443,88459,88474,88476,88477,88479,88486,88493,88499,88504,88505,88512,88513,88519,88533,88537,88539,88557,88579,88593,88598,88599,88611,88614,88621,88623,88624,88627,88661,88666,88672,88673,88689,88690,88701,88706,88719,88725,88729,88747,88758,88761,88776,88783,88784,88785,88798,88801,88802,88803,88807,88808,88813,88817,88823,88832,88839,88843,88847,88861,88864,88865,88866,88873,88886,88915,88928,88936,88937,88955,88957,88963,88970,88973,88977,88978,88979,88983,89000,89013,89021,89044,89061,89068,89081,89086,89097,89101,89104,89110,89111,89118,89121,89126,89137,89138,89147,89158,89159,89161,89162,89163,89166,89198,89203,89214,89216,89218,89226,89232,89244,89248,89252,89253,89257,89265,89290,89291,89305,89320,89327,89332,89337,89347,89353,89367,89385,89386,89392,89419,89420,89421,89425,89427,89434,89445,89457,89458,89481,89497,89509,89510,89522,89536,89565,89600,89602,89604,89605,89614,89627,89640,89655,89665,89686,89694,89709,89723,89733,89754,89777,89785,89806,89809,89815,89823,89828,89835,89838,89851,89854,89877,89880,89892,89901,89911,89941,89972,89978,89990,89997,90013,90061,90067,90075,90080,90094,90103,90110,90116,90124,90154,90171,90177,90178,90179,90182,90214,90215,90231,90238,90241,90243,90245,90246,90254,90279,90295,90308,90310,90318,90323,90327,90328,90341,90347,90365,90366,90369,90376,90380,90384,90385,90390,90397,90412,90414,90417,90420,90421,90424,90428,90451,90476,90477,90486,90489,90493,90504,90519,90542,90551,90553,90558,90564,90583,90585,90587,90591,90592,90596,90628,90631,90650,90660,90661,90673,90675,90683,90690,90694,90696,90698,90707,90708,90733,90739,90747,90760,90777,90781,90785,90793,90794,90797,90809,90811,90814,90832,90839,90843,90863,90867,90875,90878,90884,90893,90895,90900,90914,90916,90918,90930,90932,90933,90947,90948,90950,90953,90956,90977,90993,91000,91006,91019,91020,91026,91034,91036,91047,91059,91074,91078,91086,91099,91102,91104,91111,91119,91124,91140,91145,91174,91181,91184,91186,91210,91222,91229,91232,91245,91249,91267,91272,91273,91277,91281,91293,91305,91309,91316,91317,91318,91321,91322,91327,91346,91347,91348,91350,91357,91360,91362,91368,91374,91397,91398,91400,91404,91407,91411,91420,91430,91439,91440,91451,91454,91468,91479,91485,91503,91507,91518,91524,91530,91531,91536,91544,91546,91553,91558,91563,91564,91580,91587,91600,91609,91617,91618,91636,91649,91657,91662,91678,91686,91687,91699,91701,91725,91733,91736,91737,91742,91753,91758,91766,91775,91812,91826,91850,91855,91864,91880,91900,91901,91918,91929,91931,91934,91938,91945,91950,91968,91970,91973,91979,91983,91984,91988,91989,91991,91995,92000,92002,92013,92014,92027,92045,92051,92061,92075,92085,92105,92110,92112,92117,92120,92127,92137,92138,92143,92146,92153,92154,92156,92182,92186,92188,92213,92214,92223,92226,92228,92229,92242,92254,92263,92268,92271,92273,92274,92279,92292,92301,92302,92325,92340,92345,92353,92354,92359,92370,92372,92376,92394,92395,92399,92410,92426,92428,92431,92433,92449,92467,92468,92473,92478,92480,92486,92499,92500,92507,92524,92536,92555,92564,92565,92572,92575,92583,92596,92600,92601,92603,92612,92625,92628,92631,92632,92636,92647,92661,92688,92691,92698,92700,92707,92711,92717,92724,92741,92760,92775,92778,92783,92784,92785,92788,92789,92794,92797,92801,92808,92812,92816,92830,92838,92843,92852,92853,92858,92864,92891,92895,92916,92917,92927,92928,92941,92959,92962,92968,92980,92988,92992,92998,93001,93006,93021,93023,93028,93029,93040,93044,93048,93059,93061,93087,93089,93095,93109,93119,93137,93150,93155,93163,93185,93199,93200,93205,93207,93217,93226,93228,93241,93252,93254,93260,93301,93306,93311,93313,93325,93330,93340,93344,93354,93355,93358,93379,93381,93388,93389,93395,93420,93422,93426,93435,93438,93456,93464,93468,93469,93470,93479,93497,93499,93507,93511,93512,93539,93544,93556,93607,93609,93612,93614,93615,93624,93636,93651,93652,93655,93669,93672,93686,93687,93699,93705,93718,93720,93725,93729,93743,93746,93764,93774,93779,93791,93801,93812,93816,93826,93840,93841,93843,93866,93871,93875,93879,93881,93884,93885,93892,93898,93909,93920,93926,93930,93944,93953,93957,93968,93991,93993,94018,94023,94030,94033,94042,94053,94055,94060,94067,94071,94077,94080,94087,94091,94092,94099,94101,94119,94134,94135,94137,94151,94165,94170,94172,94181,94186,94199,94203,94205,94224,94233,94237,94246,94247,94248,94249,94275,94276,94288,94300,94308,94312,94317,94318,94321,94325,94332,94333,94347,94353,94355,94367,94370,94373,94379,94381,94383,94393,94397,94411,94415,94416,94417,94433,94435,94447,94463,94464,94467,94475,94510,94514,94517,94520,94531,94540,94541,94547,94552,94571,94577,94589,94599,94600,94627,94637,94645,94650,94681,94684,94687,94691,94694,94695,94703,94706,94708,94717,94728,94731,94738,94755,94761,94773,94800,94801,94806,94809,94829,94833,94838,94839,94841,94850,94855,94863,94870,94873,94901,94915,94926,94934,94977,94993,94996,94999,95000,95004,95006,95008,95010,95012,95017,95019,95021,95033,95047,95105,95107,95124,95132,95158,95164,95166,95171,95181,95206,95208,95211,95213,95215,95225,95227,95230,95239,95245,95251,95257,95258,95272,95277,95279,95282,95283,95288,95291,95301,95308,95318,95338,95345,95349,95351,95363,95384,95392,95405,95449,95457,95472,95478,95482,95484,95489,95495,95503,95511,95526,95531,95532,95535,95537,95560,95565,95568,95585,95588,95590,95597,95611,95620,95621,95627,95631,95640,95643,95672,95674,95679,95681,95682,95704,95705,95715,95723,95728,95732,95733,95746,95750,95758,95767,95773,95775,95779,95780,95795,95812,95813,95815,95830,95832,95839,95848,95852,95861,95876,95887,95896,95905,95939,95945,95964,95980,95988,96003,96035,96040,96045,96057,96063,96069,96071,96076,96090,96093,96097,96099,96100,96102,96106,96107,96112,96124,96126,96138,96143,96149,96151,96155,96159,96164,96167,96174,96181,96184,96223,96235,96245,96253,96255,96258,96265,96267,96271,96289,96295,96299,96315,96322,96341,96344,96346,96349,96359,96367,96373,96375,96387,96395,96396,96397,96405,96409,96417,96446,96453,96457,96470,96473,96486,96491,96493,96503,96511,96514,96523,96526,96529,96541,96545,96546,96553,96554,96556,96560,96576,96577,96604,96610,96613,96626,96635,96638,96650,96656,96674,96690,96696,96713,96715,96720,96729,96733,96739,96747,96753,96762,96763,96770,96772,96789,96796,96797,96801,96802,96803,96808,96825,96829,96830,96833,96870,96877,96888,96889,96892,96893,96902,96917,96940,96959,96965,96967,96975,97010,97011,97019,97027,97051,97060,97065,97070,97072,97099,97109,97121,97124,97130,97132,97138,97150,97156,97159,97172,97194,97197,97203,97208,97232,97236,97271,97292,97336,97338,97353,97355,97362,97364,97367,97369,97370,97371,97378,97380,97390,97393,97405,97432,97433,97434,97451,97454,97467,97480,97484,97488,97496,97511,97524,97527,97530,97533,97534,97543,97546,97551,97563,97564,97569,97591,97596,97602,97604,97613,97616,97650,97654,97658,97662,97669,97685,97698,97705,97728,97738,97743,97754,97759,97760,97762,97764,97768,97801,97804,97805,97822,97824,97831,97840,97850,97857,97867,97879,97888,97890,97891,97897,97914,97917,97922,97924,97942,97966,97969,97982,97995,97996,98002,98014,98015,98017,98022,98047,98051,98056,98075,98086,98093,98094,98097,98114,98118,98119,98129,98144,98151,98156,98168,98178,98185,98195,98231,98254,98255,98265,98268,98299,98303,98314,98335,98339,98376,98379,98381,98396,98401,98406,98415,98421,98437,98444,98447,98449,98456,98465,98466,98484,98494,98529,98537,98549,98557,98581,98597,98603,98604,98605,98614,98617,98626,98632,98642,98643,98659,98661,98671,98678,98682,98692,98701,98711,98714,98725,98731,98734,98741,98747,98748,98755,98766,98769,98770,98774,98776,98782,98794,98804,98810,98843,98844,98852,98857,98871,98878,98887,98900,98904,98911,98914,98918,98932,98946,98947,98948,98990,98991,98993,99006,99021,99022,99032,99040,99041,99046,99051,99052,99067,99072,99086,99121,99124,99130,99145,99154,99156,99158,99162,99170,99175,99177,99180,99189,99204,99225,99228,99230,99232,99236,99239,99265,99275,99276,99283,99291,99298,99307,99313,99314,99329,99335,99356,99366,99368,99370,99372,99373,99389,99396,99400,99404,99419,99420,99431,99442,99456,99457,99467,99469,99470,99477,99478,99483,99484,99493,99496,99499,99509,99513,99526,99533,99535,99539,99544,99554,99566,99577,99590,99591,99601,99612,99627,99653,99659,99660,99669,99682,99683,99685,99688,99697,99706,99719,99728,99735,99743,99747,99764,99784,99788,99793,99799,99802,99812,99825,99828,99858,99872,99877,99892,99899,99901,99902,99909,99911,99930,99939,99953,99962,99967,99993,99997],\"xaxis\":\"x\",\"y\":[1,1,1,1,1,1,1,1,1,1,1,1,1,1,1,1,2,1,1,1,1,1,1,1,1,1,1,2,1,1,1,1,1,1,1,1,1,1,1,1,1,1,1,2,1,1,1,1,1,1,1,1,1,1,1,1,1,1,1,1,2,1,1,1,1,1,1,1,1,1,1,1,1,1,1,1,1,1,1,1,1,1,1,1,1,1,1,1,1,1,1,1,1,1,1,1,1,1,1,1,1,1,1,1,1,1,1,1,1,1,1,1,1,1,1,1,2,1,1,1,1,1,1,1,1,1,2,2,1,1,1,1,1,2,1,1,1,1,1,1,2,2,1,1,1,1,1,1,1,1,1,1,1,1,1,1,1,1,1,1,1,1,2,1,1,1,1,1,1,1,1,2,1,1,1,1,1,1,1,1,1,2,1,1,1,1,1,1,1,1,1,1,1,1,1,1,1,1,1,1,1,1,1,1,1,1,1,1,1,1,1,1,1,1,1,1,1,1,1,1,1,1,1,1,1,1,1,1,1,1,2,1,2,1,1,1,1,1,1,1,1,1,1,1,1,1,1,1,1,1,1,1,1,1,1,1,1,1,1,1,1,2,1,1,1,2,1,1,1,1,1,1,1,1,1,1,1,1,1,1,1,1,1,2,1,1,1,1,1,1,1,2,1,1,1,1,1,1,1,1,1,1,1,1,2,1,1,1,2,1,1,1,1,1,1,1,1,1,1,1,1,1,1,2,1,1,1,1,1,1,1,1,1,1,1,1,1,1,1,1,1,1,1,1,1,2,1,1,1,1,1,1,1,2,1,1,1,1,1,1,1,1,1,1,1,1,1,1,1,1,1,1,1,1,1,1,1,1,1,1,1,1,1,1,1,1,1,1,1,1,1,1,1,1,1,1,1,1,1,1,1,1,1,1,1,1,1,1,1,1,1,1,1,1,1,1,1,1,1,1,1,1,1,1,1,1,1,1,1,1,1,1,1,1,1,1,1,1,1,1,1,1,1,1,1,1,1,1,1,1,1,1,1,1,1,1,1,1,1,2,1,1,1,3,1,1,1,1,1,1,1,1,1,1,1,1,1,1,1,1,1,1,1,1,1,1,1,1,1,1,1,1,1,1,1,1,1,1,1,2,1,1,1,1,1,1,1,2,1,1,1,1,1,1,1,1,1,1,1,1,1,1,1,1,1,1,1,1,1,1,1,1,1,1,1,1,1,1,1,2,1,1,1,1,1,3,1,1,1,1,1,1,1,1,1,1,1,1,1,1,1,1,1,1,1,1,1,1,1,1,1,1,1,1,1,1,2,1,1,1,1,1,1,1,1,1,1,1,1,1,1,1,1,1,1,1,1,1,1,1,1,1,1,1,1,1,1,1,1,1,1,1,1,1,1,1,1,1,2,2,1,1,1,1,1,1,1,1,1,1,1,2,1,1,1,1,1,1,1,1,1,1,1,1,1,1,1,1,1,1,1,2,1,1,1,1,1,1,1,1,1,2,1,1,1,1,1,1,1,1,1,1,1,1,1,1,1,1,1,1,1,1,1,3,1,1,1,2,1,2,1,1,1,1,1,1,1,1,1,1,1,1,1,1,1,1,1,1,1,1,1,1,1,2,1,1,1,1,1,1,1,1,1,1,1,1,1,1,1,1,1,1,1,1,1,1,2,1,1,1,1,1,1,1,1,1,1,1,1,1,1,1,1,1,1,2,1,1,1,1,1,1,1,1,1,1,1,1,2,1,1,1,2,1,1,1,1,1,1,1,1,1,1,1,1,2,1,1,1,1,1,1,1,1,1,1,1,1,1,1,2,1,1,2,1,1,1,1,1,1,1,2,1,1,1,1,1,1,1,1,1,1,1,1,1,1,1,1,1,1,1,1,1,2,1,1,1,1,1,1,1,1,1,1,1,1,1,1,1,1,1,1,1,1,1,1,1,1,1,2,1,1,1,1,1,1,1,1,1,1,1,1,1,1,1,1,1,2,1,1,1,1,1,2,1,1,1,1,1,1,1,1,1,1,1,1,1,1,1,1,1,1,1,1,1,1,1,1,1,1,2,1,1,1,1,1,1,1,1,1,1,1,2,1,1,1,1,1,1,1,1,1,1,1,1,1,1,1,1,1,1,1,1,1,2,1,1,1,1,1,1,1,1,1,1,1,1,1,2,1,1,1,1,1,1,1,1,1,2,1,1,1,1,1,1,1,1,1,1,1,1,1,1,1,1,1,1,1,1,1,1,1,1,1,1,1,1,1,1,1,1,1,1,1,1,1,1,1,1,1,1,1,1,1,1,1,1,1,1,1,1,1,1,1,1,1,1,1,1,1,1,1,1,1,1,1,1,1,1,1,1,1,1,1,1,1,1,1,1,1,1,1,1,1,1,1,1,1,1,1,1,1,1,1,1,1,1,1,1,1,1,1,1,1,1,1,1,1,1,1,1,1,1,1,1,1,1,1,1,1,1,1,1,1,1,1,1,2,1,1,1,1,1,1,1,1,1,1,1,1,1,1,1,1,1,1,1,1,1,1,1,1,1,2,1,1,1,1,1,1,1,1,1,1,1,1,1,2,1,1,1,1,1,1,1,1,1,1,1,1,1,1,1,1,1,1,1,1,1,1,1,1,1,1,1,1,1,1,1,1,2,2,1,1,1,1,1,1,1,1,1,1,1,2,1,1,1,1,1,1,1,2,1,1,2,1,1,1,1,1,1,1,1,1,1,1,1,1,1,1,1,1,1,1,1,1,1,1,1,1,1,1,1,1,1,1,1,1,1,1,1,1,1,1,1,1,1,1,1,1,1,2,1,1,1,2,1,1,1,1,1,1,1,1,1,1,1,1,1,1,1,1,2,1,1,1,1,1,1,1,2,1,1,1,1,1,1,1,1,1,1,1,1,1,1,1,1,1,1,1,1,1,1,1,1,1,1,1,1,1,1,1,1,1,1,1,1,1,1,1,1,1,1,1,1,1,1,1,1,1,1,1,1,1,1,1,1,2,1,1,1,1,1,1,1,1,1,1,1,1,1,1,1,1,1,1,1,1,1,1,1,1,1,1,1,1,1,1,1,1,2,1,1,1,1,1,1,1,1,1,1,1,1,1,1,1,1,1,2,1,1,1,1,1,1,1,1,1,1,2,1,1,1,1,1,1,1,1,1,1,1,1,1,1,1,1,1,1,1,1,1,1,1,1,1,1,1,1,1,1,1,1,1,1,1,1,1,1,1,1,1,1,1,1,2,1,1,1,1,1,1,1,1,1,1,1,1,1,1,1,1,1,1,1,1,1,1,1,1,1,1,1,1,1,2,1,1,1,2,1,2,1,1,1,1,1,1,2,1,1,1,1,2,1,1,1,1,1,1,1,1,1,1,1,1,1,1,1,1,1,1,2,1,1,1,1,1,2,1,1,1,1,1,1,1,1,1,2,1,1,1,1,1,1,1,1,1,1,1,1,1,1,1,1,1,1,1,1,1,1,1,1,1,1,2,1,2,1,1,1,1,1,1,1,1,2,1,1,1,1,1,1,1,1,1,1,1,1,1,1,1,1,1,2,1,1,1,1,1,1,1,1,1,2,1,1,1,1,1,1,1,1,1,1,1,1,1,1,1,1,2,1,2,1,1,1,1,1,1,1,1,2,1,1,1,1,1,1,1,1,1,1,2,1,1,1,1,1,1,1,1,1,1,1,2,1,1,1,1,1,2,1,1,1,1,1,1,1,1,1,1,1,1,1,1,1,1,2,1,1,1,1,1,1,1,1,1,1,1,1,1,1,1,1,1,1,1,1,1,1,1,1,1,1,1,1,2,1,1,1,1,2,1,1,1,1,1,2,2,1,1,1,1,1,1,1,2,2,1,1,1,1,2,2,1,1,1,1,1,2,1,1,1,2,1,1,1,1,1,1,1,1,2,1,1,1,1,1,1,1,1,1,1,1,1,1,1,1,1,1,2,1,1,1,2,1,1,1,1,1,1,1,1,1,1,1,1,1,1,1,1,1,1,1,1,1,1,1,2,1,2,1,1,2,1,1,2,1,1,1,1,1,1,1,1,1,1,1,1,1,1,1,1,1,1,1,1,1,1,1,1,1,2,1,1,1,1,1,2,1,1,1,1,1,1,1,1,2,1,1,1,1,1,1,1,1,1,1,1,1,1,1,1,1,1,1,1,1,1,1,2,1,1,1,1,1,1,1,1,1,1,1,1,1,1,2,1,1,1,1,2,1,1,1,2,1,1,1,1,1,1,1,1,1,1,1,1,1,1,1,1,1,1,1,1,1,1,1,1,1,1,1,1,2,1,1,1,1,1,1,1,1,2,1,1,2,1,1,1,1,2,1,1,1,1,1,1,1,1,1,1,1,1,1,1,1,1,1,1,1,1,1,1,1,1,1,1,1,1,1,1,1,1,1,1,1,1,1,1,1,1,1,1,1,1,1,1,1,1,1,1,2,1,1,1,1,1,1,1,1,1,1,1,1,1,1,1,1,1,1,1,1,1,1,1,1,1,1,2,1,2,1,1,1,1,1,1,1,1,1,1,1,1,1,1,1,2,1,2,1,1,1,1,1,1,1,1,1,1,1,1,1,1,1,1,2,1,1,1,1,1,1,1,1,1,1,1,1,1,1,1,1,1,1,1,1,2,1,1,1,1,1,1,1,1,1,1,1,1,1,1,1,1,2,1,1,1,1,1,1,1,1,1,1,1,1,1,1,1,1,1,1,1,1,1,1,1,1,1,1,1,1,1,1,1,1,1,1,1,1,2,1,1,1,1,1,1,1,1,1,1,1,1,1,1,1,1,1,1,1,1,1,1,1,1,1,1,1,1,1,1,1,1,1,1,1,2,1,1,1,1,2,1,1,1,1,1,1,1,1,1,1,1,1,1,1,1,2,1,1,1,1,1,1,1,1,1,1,1,1,1,1,1,1,1,1,1,1,2,1,1,1,1,1,1,1,1,1,1,1,1,1,1,1,1,1,1,1,1,1,1,1,1,1,1,3,1,1,2,2,1,1,1,1,1,1,2,1,1,1,1,1,1,1,1,1,1,1,1,1,1,1,1,1,2,2,1,1,1,1,2,1,1,1,1,1,1,1,1,1,2,1,1,1,1,1,1,1,2,1,1,1,1,2,1,1,1,1,1,1,1,1,1,1,1,1,1,1,1,1,1,1,1,1,1,2,2,1,1,1,1,1,1,1,1,1,1,1,1,1,1,1,1,1,1,1,2,1,1,1,1,1,1,1,1,1,1,1,1,1,1,1,1,1,2,1,1,1,1,1,1,1,1,1,1,1,1,1,1,1,1,1,1,1,1,1,1,1,1,1,1,1,1,1,1,1,1,1,1,1,1,1,1,1,1,1,1,1,1,1,1,1,1,2,1,1,1,1,1,1,1,1,1,1,1,2,2,1,1,1,1,1,1,1,1,1,1,1,1,1,1,1,1,1,1,1,1,1,1,1,1,1,1,1,1,2,1,1,1,1,1,1,1,1,1,1,1,1,1,1,1,1,1,1,1,1,1,1,1,1,1,1,1,1,1,1,1,1,1,1,1,1,1,1,1,1,1,1,1,1,1,1,1,1,1,1,1,1,1,1,2,1,1,1,1,1,1,1,2,1,1,1,1,1,1,1,1,1,1,1,1,1,1,1,1,1,1,1,1,1,1,1,1,1,1,1,1,1,1,1,1,1,1,1,1,1,2,1,1,1,1,1,1,1,1,1,1,1,1,2,1,1,1,1,1,1,1,1,1,1,2,1,1,1,2,1,1,1,1,1,1,1,1,1,1,1,1,1,1,1,1,1,1,1,1,1,1,1,1,1,1,1,1,1,1,1,2,1,1,1,1,1,1,1,1,1,1,1,1,1,1,1,1,1,1,1,1,1,1,1,1,1,1,1,1,1,1,1,1,1,1,1,1,1,1,1,1,1,1,1,1,1,1,1,1,1,1,1,1,1,1,1,1,1,1,1,1,1,1,1,1,1,1,1,1,2,1,1,1,1,1,2,1,1,1,1,1,1,1,1,1,1,1,1,1,1,1,1,1,1,1,1,1,1,1,1,1,1,1,1,1,1,1,1,1,1,1,1,1,1,1,1,1,1,1,1,1,1,1,1,1,1,1,1,3,1,1,1,1,1,1,1,1,1,1,1,1,1,1,1,1,1,1,1,1,2,1,1,1,1,1,1,1,1,1,2,1,1,1,1,1,1,1,1,1,1,1,1,1,1,1,1,1,1,1,1,1,1,2,1,2,1,1,1,1,1,1,1,1,1,1,1,1,1,1,1,2,1,1,1,1,1,1,1,2,1,2,1,1,1,1,1,1,1,1,1,1,1,1,1,2,1,1,1,1,1,2,1,1,1,1,1,1,1,1,1,1,1,1,1,1,2,1,1,1,1,1,1,1,1,1,1,1,1,1,1,1,1,1,1,1,1,1,1,1,1,1,1,1,1,1,1,1,2,1,1,1,1,1,1,1,1,1,1,1,1,1,1,1,1,1,1,1,1,1,1,1,1,1,1,1,1,2,1,1,1,1,1,2,1,1,1,1,1,1,1,1,1,1,1,1,1,1,1,1,1,1,1,1,1,1,1,2,1,1,1,1,1,1,1,1,1,1,2,1,1,1,1,2,1,1,1,1,1,1,1,1,1,1,2,2,2,1,1,1,1,1,1,1,1,1,1,1,1,1,1,1,1,1,1,1,1,1,1,1,2,1,1,1,1,1,1,1,2,1,1,2,2,1,1,1,1,1,1,2,1,1,1,1,1,1,1,1,1,1,1,1,1,1,1,1,1,1,1,1,2,1,1,1,1,2,1,1,1,1,1,1,2,1,1,1,1,1,1,1,1,1,1,1,1,1,2,2,1,1,1,1,1,1,1,1,1,1,1,2,1,1,1,1,1,1,1,1,1,1,1,1,1,1,1,1,1,2,2,1,1,1,1,1,1,1,1,1,1,1,1,1,1,1,1,1,1,1,1,1,1,1,1,1,1,2,1,1,1,1,2,1,1,1,1,1,1,1,1,1,1,2,1,1,1,1,1,1,1,1,1,1,1,1,1,1,1,1,1,1,1,1,1,1,1,1,1,1,1,1,1,1,1,1,2,1,1,1,1,1,1,1,1,1,1,1,1,1,1,1,1,1,1,1,1,1,1,1,1,1,1,1,1,1,1,1,1,1,1,1,1,1,1,1,1,1,1,1,1,1,1,1,1,1,1,2,1,1,1,1,1,1,2,1,1,1,1,1,1,1,1,1,1,1,1,1,1,1,1,1,1,1,1,1,1,1,1,1,1,1,1,2,1,1,1,1,2,1,1,2,1,1,1,1,1,1,1,1,1,1,1,1,1,1,1,1,1,1,1,1,1,1,1,1,1,1,1,1,1,1,1,1,1,1,1,2,1,1,1,1,1,1,1,1,1,1,1,1,1,1,2,1,1,1,1,1,1,1,1,1,1,1,1,1,1,1,1,1,1,1,1,1,1,1,1,1,1,2,1,1,1,1,1,1,1,1,1,1,1,2,1,1,1,1,1,1,1,1,1,1,1,1,1,1,1,1,1,1,1,1,1,1,1,1,1,1,1,1,1,2,1,1,1,1,1,1,1,1,1,1,1,1,1,1,1,1,1,1,1,1,1,1,1,1,1,1,1,1,1,1,1,1,1,1,1,2,1,1,1,1,1,1,1,1,1,1,1,1,1,1,1,1,1,1,1,1,1,1,1,1,1,1,1,2,1,1,1,1,1,1,1,1,2,1,1,1,1,1,1,1,1,1,1,1,1,1,1,1,1,1,1,1,1,1,1,1,1,2,1,1,1,1,1,1,1,1,1,1,1,1,1,1,1,1,1,1,1,1,1,1,1,1,1,1,1,1,1,1,1,1,1,1,2,1,1,1,1,2,1,1,1,1,1,1,1,1,1,1,1,1,1,1,1,1,1,1,1,1,1,1,1,1,1,1,1,1,1,1,1,1,1,1,1,1,2,1,1,1,2,1,1,1,1,1,1,1,1,1,1,1,1,1,1,1,1,1,1,1,1,1,1,1,2,1,1,1,1,1,1,1,1,1,1,1,1,1,1,1,1,1,1,1,2,1,1,1,1,1,1,1,1,2,1,1,1,1,1,1,1,1,1,1,1,2,1,2,1,1,1,1,1,1,1,1,1,1,1,2,1,1,1,1,1,1,1,1,1,1,1,1,1,1,1,1,2,1,1,1,3,1,1,2,1,1,1,1,1,1,1,1,2,1,1,1,2,1,1,1,1,1,1,1,1,1,1,1,1,1,1,1,1,1,2,1,1,1,1,1,1,1,1,1,1,1,1,1,1,1,1,1,2,1,1,1,1,1,1,1,1,1,1,1,1,1,1,1,1,1,1,1,1,1,1,1,1,1,1,1,1,1,1,1,1,1,1,1,1,1,1,1,1,1,1,1,1,2,1,1,1,1,1,1,1,1,1,1,1,1,1,1,1,1,1,2,1,1,1,1,2,1,1,1,1,1,1,1,2,1,1,1,1,1,1,2,1,1,1,1,3,1,1,1,1,1,1,1,1,1,1,2,1,1,1,1,1,1,1,1,1,1,1,1,1,1,2,1,1,1,1,1,1,1,1,1,1,1,1,1,1,1,1,1,1,1,1,1,1,1,1,1,1,1,1,1,1,1,1,1,1,1,1,1,1,1,1,1,1,1,1,1,1,1,1,1,1,1,1,1,1,1,1,1,1,1,1,1,1,1,1,1,1,1,1,1,1,1,1,1,1,1,1,1,1,1,1,1,1,2,1,2,1,1,1,1,1,1,1,1,1,1,1,1,1,1,1,1,1,1,1,1,1,1,1,1,2,1,1,1,1,1,1,1,1,1,1,1,1,1,1,1,1,1,1,1,1,2,1,1,1,1,1,1,1,1,1,1,1,1,1,1,2,1,1,1,1,1,1,1,1,1,1,1,1,1,1,1,1,1,1,1,1,1,2,1,2,1,1,1,1,1,1,1,1,1,1,1,1,1,1,1,1,1,1,1,1,1,1,1,1,1,2,1,1,1,2,1,1,1,1,1,1,1,1,1,1,1,1,1,1,1,1,1,2,1,1,1,1,1,1,1,1,1,1,1,1,1,1,1,1,1,1,1,1,1,1,1,1,2,1,1,2,1,1,1,1,2,1,1,1,2,2,1,1,1,1,1,1,1,1,1,1,1,1,1,1,1,1,1,1,1,1,1,1,1,1,1,1,1,1,1,1,1,1,1,1,1,1,1,1,1,1,1,1,1,1,1,1,1,1,1,1,1,2,1,1,1,1,1,2,1,1,1,1,1,1,1,1,1,1,1,1,1,1,1,1,1,1,1,1,1,1,1,1,1,2,1,1,1,1,1,1,1,1,1,1,1,1,1,1,1,1,1,1,1,1,1,1,1,1,1,1,2,1,1,1,1,1,1,1,1,1,1,1,1,1,2,1,1,1,1,1,1,1,1,1,1,1,1,1,1,1,1,1,1,1,1,2,1,1,2,1,1,1,1,1,1,1,1,1,1,1,1,1,1,1,1,1,1,1,1,1,1,2,1,1,1,1,1,2,1,1,1,1,1,1,1,1,1,1,1,1,1,1,1,1,1,1,1,1,1,1,1,1,1,1,1,2,1,1,2,1,1,1,1,2,1,1,1,1,1,1,1,1,1,1,1,1,1,1,1,1,1,1,1,1,1,1,1,1,1,1,1,1,1,1,1,2,1,1,1,1,1,2,1,1,1,2,1,1,1,1,1,1,1,1,1,1,1,1,1,1,1,1,1,1,1,1,1,2,1,1,1,1,1,1,1,1,1,1,1,1,1,1,1,1,1,1,1,1,1,1,2,1,1,2,1,1,1,1,1,1,1,1,1,1,2,1,1,1,1,1,1,1,1,1,1,1,1,1,1,1,2,1,1,1,1,1,1,1,1,1,1,1,1,1,1,1,1,1,1,1,1,1,1,1,1,1,1,1,1,1,1,1,1,1,1,1,1,1,1,1,1,1,1,1,1,1,1,1,1,1,1,1,2,1,1,1,1,1,1,1,1,1,1,1,1,1,1,1,1,1,2,1,1,1,1,2,1,1,1,1,1,2,1,1,1,1,1,1,1,1,1,1,1,1,1,1,1,1,1,1,1,1,1,1,1,1,1,1,1,1,1,1,1,1,3,1,1,1,1,1,1,1,1,2,1,1,1,1,1,1,1,1,1,1,1,1,1,1,1,1,1,1,1,1,1,1,1,1,1,1,1,1,1,1,1,1,1,1,1,1,1,1,1,1,1,1,1,1,1,1,1,1,2,1,1,1,1,1,1,1,1,1,1,1,1,1,1,2,1,2,1,1,1,1,1,1,1,1,1,1,1,1,1,1,1,1,1,1,1,1,2,1,1,1,1,1,1,1,1,1,1,1,1,1,1,1,1,1,1,1,1,1,1,1,1,1,2,1,1,1,1,1,1,1,1,1,1,1,1,2,1,1,1,1,1,1,1,1,1,1,1,1,1,1,1,1,1,1,1,1,1,1,1,2,1,1,1,1,1,2,1,1,1,1,1,1,1,1,1,1,1,1,1,1,1,1,1,1,1,1,1,1,1,1,1,1,1,1,1,1,1,1,1,1,1,1,1,1,1,1,1,1,1,1,1,1,1,1,1,1,1,1,1,1,1,1,1,1,1,1,1,1,2,1,1,1,1,1,1,1,1,1,1,1,1,1,1,1,2,1,1,1,1,1,1,1,1,1,1,1,1,1,1,2,1,1,1,1,1,1,1,1,1,1,1,1,1,3,1,1,1,1,1,1,1,1,1,1,1,1,1,1,1,1,1,1,1,1,1,1,1,1,1,2,1,1,1,1,1,1,1,1,1,1,1,1,1,1,1,1,1,1,1,1,1,1,1,1,1,2,2,1,1,1,1,1,2,1,1,1,1,1,1,1,1,1,1,1,1,1,1,1,1,1,2,1,1,1,1,1,1,1,1,1,1,1,1,1,1,1,1,1,1,1,1,1,1,1,1,1,1,1,1,1,1,1,2,1,1,1,2,1,1,1,1,1,1,1,1,1,1,1,1,1,1,1,1,1,1,1,1,1,1,1,1,1,1,1,1,1,1,1,1,1,1,1,1,1,1,1,1,1,1,2,1,1,1,1,1,1,1,1,1,2,1,1,1,1,1,1,1,1,1,1,1,1,1,1,1,1,1,3,1,1,1,1,1,1,1,2,1,1,1,1,1,1,1,1,1,1,1,1,1,1,1,1,1,2,1,1,1,1,1,1,1,1,1,1,1,1,1,1,1,1,1,1,1,1,1,1,1,1,1,1,1,1,1,1,2,1,1,1,1,1,1,1,1,1,1,1,1,1,1,1,1,1,2,1,1,1,1,1,1,1,1,1,1,1,1,1,1,1,1,1,1,1,2,1,1,2,1,1,1,1,1,1,1,1,1,1,1,1,1,1,1,1,1,2,1,1,1,1,1,1,1,1,1,1,1,1,1,1,1,1,1,1,1,1,1,1,1,1,1,1,1,1,1,1,1,1,1,1,1,1,1,1,1,1,1,1,1,1,1,1,1,1,1,2,1,1,1,1,1,1,1,1,1,1,1,1,1,2,1,2,1,2,1,1,1,1,1,1,1,1,1,1,1,1,1,1,1,1,1,1,1,1,1,1,1,1,1,1,1,1,1,1,1,1,1,1,1,1,1,1,1,2,1,1,1,1,1,1,1,1,1,1,1,1,3,1,1,1,1,1,1,1,1,1,1,1,1,1,1,1,2,1,1,1,1,2,1,1,1,1,1,1,1,1,1,1,1,1,1,1,1,1,1,1,1,1,1,2,1,2,1,1,1,1,1,1,1,1,1,1,1,1,1,1,1,1,1,1,1,1,1,1,2,2,1,1,1,1,1,1,1,1,1,1,1,1,1,1,1,1,1,1,1,1,1,1,1,1,1,1,1,1,1,1,1,1,2,1,1,1,1,1,1,1,1,1,1,1,1,1,2,1,1,1,1,1,1,1,2,1,2,1,1,1,1,1,1,1,1,1,1,1,1,1,1,1,1,1,2,2,1,1,1,1,1,1,1,1,1,1,1,1,1,1,1,1,1,1,1,1,1,1,1,1,1,1,1,2,1,1,1,1,1,1,1,1,1,1,1,1,1,1,1,1,1,1,1,2,1,1,1,1,2,1,2,1,1,1,1,1,1,1,2,1,1,1,1,1,1,1,1,1,1,1,1,1,1,1,1,1,1,1,1,1,1,1,1,1,1,1,1,1,1,1,1,1,1,1,1,1,1,1,1,1,1,1,1,1,1,1,1,1,1,1,1,1,1,1,1,1,1,1,1,1,1,1,1,1,1,1,1,1,1,1,1,3,1,1,1,1,1,1,2,1,1,1,1,1,1,2,1,2,1,1,1,1,2,1,2,1,1,1,1,1,1,2,1,1,1,1,1,1,1,1,2,1,1,1,1,1,1,1,1,1,1,1,1,1,1,1,1,2,1,1,1,2,1,2,1,1,1,1,1,2,1,1,1,1,2,1,1,1,1,1,1,1,1,1,1,1,1,1,2,1,2,1,1,1,1,1,1,1,1,1,1,1,1,1,1,1,1,1,1,1,1,1,1,1,1,1,1,1,1,1,1,1,1,1,1,1,1,1,1,1,1,1,1,1,1,1,1,1,1,1,1,1,1,1,1,1,1,1,1,1,2,1,1,1,3,2,1,1,1,1,1,1,1,1,1,1,1,1,2,1,1,1,1,1,1,2,1,1,1,1,1,1,1,1,1,1,1,1,1,2,1,1,1,1,1,1,1,1,1,1,1,1,1,1,1,1,1,1,1,1,1,1,1,1,1,1,1,1,1,1,1,1,1,1,1,1,1,1,2,1,1,1,1,1,1,1,1,1,1,1,1,1,1,1,1,1,3,1,1,1,1,2,1,1,1,1,1,1,2,1,1,1,1,1,1,2,1,1,1,2,1,1,1,1,1,1,1,2,1,1,1,1,1,1,1,1,1,1,1,1,2,1,1,1,1,1,1,1,1,1,1,2,1,1,1,1,1,1,1,1,2,1,1,1,1,1,2,1,2,1,1,1,1,1,1,1,1,1,1,1,1,1,1,1,1,1,2,1,1,1,1,1,2,1,1,1,1,1,1,1,1,1,1,1,1,1,1,1,1,2,2,1,1,1,1,1,1,1,1,1,1,2,1,1,1,1,1,1,1,1,1,1,1,1,2,1,1,1,1,1,1,1,1,1,1,1,1,1,2,1,1,1,1,1,1,1,1,1,1,1,1,1,1,1,1,1,1,1,1,1,1,1,1,1,1,1,1,1,1,1,1,1,2,1,1,1,1,2,1,1,1,1,1,1,1,1,1,2,1,1,1,1,1,1,1,1,1,1,1,1,1,1,1,1,1,1,1,1,1,1,1,1,1,1,1,2,1,1,1,1,1,1,1,1,1,1,1,1,1,1,1,1,1,1,1,1,1,1,1,1,1,1,1,1,1,1,1,1,1,1,1,1,1,1,1,1,1,1,1,1,1,1,2,1,1,1,1,1,1,1,1,1,1,1,2,1,1,1,1,1,1,2,1,1,1,1,1,1,1,1,2,1,1,1,1,1,1,1,1,1,1,1,1,1,1,1,1,1,1,1,1,1,1,1,1,1,1,1,1,1,1,1,1,2,1,1,1,1,1,1,1,1,1,1,1,1,1,1,1,1,2,1,2,1,1,1,1,1,1,1,1,1,1,1,1,1,1,1,1,2,1,1,1,1,1,2,1,2,1,1,1,1,1,1,2,1,1,1,1,1,1,1,1,1,1,1,2,1,1,1,1,1,1,1,1,1,1,1,1,1,2,1,1,1,1,1,1,1,1,1,1,2,1,1,1,1,1,1,1,2,1,1,1,1,1,1,1,1,2,1,1,1,1,1,1,1,1,1,1,1,1,1,1,1,1,1,1,1,1,1,1,1,1,1,1,1,1,2,1,1,1,1,1,1,2,1,1,1,1,1,1,1,1,1,2,1,1,1,1,1,2,1,1,1,1,1,1,1,1,1,1,1,1,2,1,1,1,1,1,1,1,1,1,1,1,1,1,1,1,1,2,1,1,1,1,1,1,2,1,1,1,1,1,1,1,1,1,1,1,1,1,2,1,1,1,1,1,1,1,1,1,1,1,1,1,1,1,1,1,1,1,1,1,1,1,1,1,1,1,1,1,1,1,1,1,1,1,2,2,1,1,1,1,1,1,1,1,1,1,1,1,1,1,1,1,1,1,1,1,1,1,1,1,1,2,1,1,1,1,1,1,1,1,1,1,1,1,1,1,1,1,1,1,1,1,1,1,1,1,1,1,1,1,1,1,3,1,1,1,1,1,1,1,1,1,1,1,1,1,1,1,1,1,1,1,1,1,1,1,1,1,1,1,1,1,1,1,1,1,1,1,1,1,1,2,1,1,1,1,1,1,1,1,1,1,1,1,1,1,1,1,1,1,1,1,1,1,1,1,1,1,1,1,1,1,1,1,1,1,1,1,1,1,1,1,1,1,2,1,2,1,1,1,1,1,1,1,1,1,1,1,1,1,1,1,1,1,1,1,1,1,1,1,1,1,1,1,1,1,1,1,1,1,1,1,2,1,1,1,1,1,1,1,1,1,1,1,1,1,1,1,1,1,1,1,1,1,1,1,1,1,1,1,1,1,1,1,1,1,1,1,1,1,1,1,2,1,1,1,1,1,1,2,1,1,1,1,1,1,1,1,1,1,1,1,1,1,1,1,1,2,1,2,1,1,1,1,1,1,1,1,1,1,1,1,1,1,1,1,1,1,1,2,1,2,1,1,1,1,1,1,1,1,1,1,1,1,1,1,1,1,1,1,1,1,2,1,1,1,1,1,1,1,1,1,2,1,1,1,1,1,1,1,1,2,1,1,1,1,2,1,1,1,1,1,1,2,1,1,1,1,1,1,2,1,1,1,1,1,1,1,1,1,1,1,1,1,1,1,1,1,1,1,1,1,1,1,1,1,1,1,1,1,1,1,1,1,1,1,1,1,1,1,1,1,1,1,1,1,1,1,1,1,2,1,2,1,1,1,1,1,2,1,1,1,1,1,1,1,1,1,1,1,1,1,1,1,1,1,1,1,1,1,1,1,1,1,1,1,1,1,1,1,1,1,1,1,1,1,1,1,1,1,1,1,1,1,1,1,1,1,2,1,1,1,1,1,1,1,1,1,1,1,1,1,1,2,1,1,1,2,1,1,1,2,1,1,1,1,1,1,1,1,1,1,1,1,1,1,1,1,1,1,3,1,2,2,1,1,1,1,2,1,1,1,1,1,1,1,1,1,1,1,1,1,1,1,1,2,1,1,2,1,1,1,1,1,1,2,1,1,1,1,1,1,1,1,1,1,1,1,1,1,1,1,1,1,1,1,1,1,2,1,1,1,1,1,1,1,1,1,1,1,1,1,1,1,1,1,1,1,1,1,1,1,1,2,1,1,1,1,1,1,1,1,1,1,1,1,1,1,2,1,1,1,1,1,1,1,1,2,1,1,1,1,1,1,1,1,1,1,1,1,1,1,1,1,1,1,1,1,1,1,1,1,1,1,1,1,1,1,1,1,2,1,1,1,1,1,1,1,1,1,1,1,1,1,1,1,1,1,1,1,1,1,1,1,1,1,1,1,1,1,1,1,1,1,1,1,1,1,1,1,1,1,1,1,1,1,1,1,1,1,1,1,2,1,1,1,1,1,1,1,1,1,1,1,1,1,1,1,1,1,1,1,1,1,3,1,1,1,1,1,1,1,1,1,1,2,1,1,1,1,1,1,1,1,1,1,1,1,1,1,2,1,1,1,1,1,1,1,1,1,1,1,1,2,1,1,1,2,1,1,1,2,1,1,1,1,1,1,1,1,1,1,1,1,1,1,1,1,1,1,1,1,1,1,1,1,1,1,1,1,1,1,1,1,1,1,1,1,1,1,1,1,1,1,1,1,1,1,1,1,1,1,1,1,1,1,1,1,1,2,1,1,1,1,1,1,1,1,1,2,1,1,1,1,1,1,1,1,2,1,1,1,1,1,1,1,1,1,2,1,2,1,1,1,1,1,1,1,1,1,1,1,1,1,1,2,1,1,1,1,1,1,2,1,1,1,1,1,2,1,1,1,1,1,1,1,1,1,1,1,1,1,1,1,1,1,1,1,1,1,1,2,1,1,1,1,1,1,1,1,1,1,1,1,1,1,2,1,1,1,1,1,1,1,1,1,1,1,1,1,1,1,1,1,1,1,1,1,1,1,1,1,2,1,1,1,1,1,1,1,1,1,1,1,1,1,1,1,1,1,1,1,1,1,1,2,1,1,1,1,1,1,2,1,1,1,1,1,1,1,1,1,1,1,1,1,1,1,1,1,1,1,1,1,2,1,1,1,1,1,1,1,1,1,1,1,1,1,1,1,1,1,3,1,1,1,1,1,1,1,1,1,1,1,1,1,1,1,1,1,1,1,1,1,2,1,1,1,1,1,1,1,1,1,2,1,1,1,1,1,1,1,1,1,1,1,1,1,1,1,1,1,1,1,1,1,1,1,1,1,1,1,1,1,1,1,1,1,1,2,1,1,1,2,1,1,1,1,1,1,1,1,1,1,1,1,1,1,1,1,1,2,1,1,1,1,1,1,1,1,1,1,1,1,1,1,1,1,1,1,1,1,1,1,2,1,1,1,1,2,1,1,1,1,1,1,1,1,1,1,2,1,1,1,1,1,1,1,1,1,1,1,1,1,1,1,1,1,1,1,1,1,1,1,1,1,1,1,1,1,1,1,1,1,1,1,1,1,1,1,1,1,1,1,1,1,1,1,1,2,1,1,1,1,2,1,1,1,1,1,1,1,1,1,1,2,2,1,1,1,1,1,1,1,1,1,1,1,1,1,1,1,1,1,1,1,1,1,1,1,1,1,1,1,1,2,1,1,1,1,1,1,1,1,1,1,1,1,1,1,2,1,1,2,1,1,1,1,1,1,1,1,1,3,1,1,1,1,1,1,1,1,1,1,1,1,1,1,2,1,1,1,1,2,1,1,1,1,1,1,1,2,1,1,1,1,2,1,1,1,2,3,1,1,1,1,1,1,1,1,1,1,1,1,1,1,1,1,1,1,1,1,2,1,1,1,1,1,1,1,1,1,1,1,1,1,1,1,1,1,1,2,1,1,1,1,1,1,1,1,1,1,1,1,1,1,1,1,1,1,1,2,1,1,1,1,1,1,1,1,1,2,2,1,1,1,1,1,2,1,1,1,1,1,1,2,1,1,1,1,1,1,2,1,1,1,1,2,1,1,1,1,1,1,1,1,1,1,1,1,1,1,1,1,1,1,1,1,1,1,1,1,1,1,1,1,1,1,1,1,1,1,1,1,1,2,1,1,1,1,1,1,1,1,1,1,1,1,1,1,1,1,1,1,1,1,1,2,1,1,1,1,1,1,2,1,1,1,1,1,1,1,1,2,1,1,1,1,1,1,2,1,1,1,2,2,1,1,1,1,1,1,1,1,1,1,1,1,1,1,1,2,1,1,1,1,2,1,1,1,1,1,1,1,1,1,1,1,1,2,1,1,1,1,1,1,1,1,1,1,1,1,1,1,1,2,1,1,2,1,1,1,1,1,1,1,1,2,2,1,1,1,2,1,1,1,1,1,1,1,1,1,1,1,1,1,1,1,1,1,1,1,1,1,1,1,1,2,1,1,1,1,1,1,2,1,1,1,1,1,1,1,1,1,1,1,1,1,1,1,2,2,1,1,1,1,1,1,1,1,1,1,1,1,1,1,1,1,1,1,1,1,1,1,1,1,1,1,1,1,1,1,1,1,2,1,2,1,2,1,1,1,1,1,1,1,2,1,1,1,2,2,1,1,1,1,1,1,1,1,1,1,1,1,1,1,1,1,1,1,1,1,1,1,1,2,1,1,1,1,1,1,2,1,2,1,1,1,1,1,1,1,1,1,1,1,1,2,1,2,1,1,1,1,1,1,1,1,1,1,1,1,1,1,1,1,1,1,1,1,1,1,1,1,1,1,1,1,1,1,1,1,1,1,1,1,1,1,1,1,1,1,1,1,1,1,2,1,1,1,1,1,1,2,1,1,1,1,1,1,1,1,1,1,1,1,2,1,1,1,1,1,1,1,1,1,1,1,1,1,1,1,2,1,1,1,1,1,1,1,1,1,1,1,1,1,2,1,1,1,1,1,1,1,1,1,1,1,1,1,1,2,1,1,1,1,1,1,1,1,1,1,1,1,1,1,1,1,1,1,2,1,1,1,1,1,1,1,1,1,1,1,1,1,1,1,1,1,1,1,1,1,1,1,1,1,1,1,1,1,1,1,1,1,1,1,1,1,1,1,1,2,1,1,1,1,1,1,1,1,1,1,1,1,1,1,1,1,1,1,1,1,1,1,1,1,1,1,1,2,1,1,2,2,1,1,1,1,1,1,1,1,1,1,1,1,1,1,1,1,1,1,1,1,1,2,1,1,1,1,1,1,1,1,1,1,1,1,1,1,1,1,1,1,1,1,1,1,1,1,1,2,1,1,1,1,1,1,1,1,1,1,1,1,1,1,1,1,2,1,2,1,1,1,1,1,1,1,1,1,1,1,1,1,1,1,1,1,1,1,1,1,1,1,1,1,1,1,1,1,1,1,1,1,1,1,1,1,1,1,1,1,1,1,1,1,1,1,1,1,1,1,1,1,1,1,1,1,1,1,1,1,1,1,1,1,1,1,1,1,1,1,1,1,1,1,2,1,1,1,1,1,1,1,1,1,2,1,1,1,1,1,1,1,1,1,2,1,1,1,1,1,1,1,1,1,1,1,1,1,1,1,1,1,2,1,1,2,1,1,1,2,1,1,1,1,1,1,2,2,1,1,1,1,1,1,1,1,1,1,1,1,1,1,1,1,1,1,1,1,1,1,1,1,1,1,1,1,1,1,1,1,1,1,1,1,1,1,1,1,1,1,2,1,1,1,1,1,1,1,1,2,1,1,1,1,1,1,1,1,1,1,1,1,1,2,1,1,1],\"yaxis\":\"y\",\"type\":\"histogram\"},{\"alignmentgroup\":\"True\",\"bingroup\":\"x\",\"histfunc\":\"sum\",\"hovertemplate\":\"Churn=Yes\\u003cbr\\u003eEstimatedSalary=%{x}\\u003cbr\\u003esum of Count=%{y}\\u003cextra\\u003e\\u003c\\u002fextra\\u003e\",\"legendgroup\":\"Yes\",\"marker\":{\"color\":\"red\",\"pattern\":{\"shape\":\"\"}},\"name\":\"Yes\",\"offsetgroup\":\"Yes\",\"orientation\":\"v\",\"showlegend\":true,\"x\":[30066,30125,30156,30202,30407,30448,30483,30496,30518,30531,30763,31236,31288,31299,31359,31437,31489,31552,31563,31614,31758,31793,31916,31944,31950,32273,32293,32304,32329,32444,32536,32606,32878,32963,33019,33127,33143,33223,33386,33542,33784,33847,33934,34134,34165,34227,34267,34271,34455,34488,34511,34552,34617,34676,34746,34747,34863,34892,34907,34912,34976,35012,35167,35256,35296,35323,35571,35576,35723,35967,35986,35994,36119,36131,36205,36217,36247,36357,36571,36600,36807,37127,37158,37167,37256,37257,37309,37325,37566,37616,37670,37831,37877,37952,38107,38210,38355,38380,38609,38905,38964,39031,39091,39285,39306,39380,39670,39729,39784,39806,39819,39855,39886,39892,39936,40046,40077,40097,40207,40277,40319,40453,40492,40514,40559,40584,40595,40610,40690,40713,40781,40832,40833,41107,41119,41165,41224,41292,41303,41413,41418,41437,41516,41523,41538,41741,41748,41780,41813,41852,41944,41956,41990,42005,42316,42374,42414,42568,42613,42695,42759,42779,42796,42850,42955,43017,43106,43144,43207,43230,43332,43352,43435,43498,43530,43574,43578,43608,43662,43745,43760,43827,43882,44132,44190,44204,44220,44523,44698,44709,44711,44807,45002,45027,45099,45205,45241,45260,45310,45335,45398,45408,45444,45523,45551,45568,45590,45625,45699,45824,45833,45932,46087,46336,46354,46537,46660,46708,46728,46767,46792,46796,46876,46896,46989,47025,47032,47040,47052,47097,47128,47223,47230,47325,47334,47336,47398,47457,47572,47588,47669,47711,47801,47851,47873,47891,47993,48062,48100,48167,48171,48199,48310,48322,48435,48436,48457,48592,48750,48769,48792,48835,48936,49065,49090,49192,49318,49389,49433,49495,49501,49567,49589,49733,49784,49803,49921,49926,49947,49959,50106,50156,50635,50694,50707,50729,50778,50804,50889,50891,50896,50985,51071,51267,51376,51388,51474,51492,51510,51696,51937,51951,51983,52101,52291,52427,52430,52452,52700,52703,52716,52755,52785,52841,52921,52937,52999,53000,53042,53088,53110,53112,53156,53345,53349,53502,53527,53607,53672,53680,53736,53777,53794,53851,53856,53970,53993,54113,54121,54176,54264,54287,54323,54425,54507,54613,54682,54780,54815,54837,54849,54957,55039,55128,55132,55176,55243,55252,55467,56009,56013,56064,56071,56258,56285,56329,56499,56651,56665,56687,56799,56826,56904,56942,56997,57220,57284,57306,57493,57730,57776,57790,57891,57915,57922,58035,58040,58122,58258,58393,58488,58543,58618,58727,58791,58835,58857,58860,58861,58885,58997,59001,59056,59094,59257,59351,59386,59446,59708,59802,59934,59955,60050,60151,60208,60281,60298,60330,60338,60405,60455,60559,60892,61011,61098,61181,61205,61284,61359,61374,61448,61645,61697,61812,62034,62426,62439,62464,62604,62611,62631,62720,62746,62814,62858,62898,62904,62948,63155,63226,63285,63420,63514,63531,63540,63729,63754,63787,63934,63973,63978,64084,64129,64225,64309,64352,64490,64494,64581,64582,64671,64931,64932,64999,65001,65051,65119,65121,65155,65258,65260,65284,65327,65367,65466,65520,65575,65594,65616,65655,65657,65675,65891,65894,65957,65975,66058,66141,66146,66327,66346,66389,66510,66623,66652,66756,66876,66999,67238,67297,67342,67482,67919,67960,67986,68052,68235,68259,68297,68366,68447,68507,68661,68764,68890,68951,68968,69280,69605,69655,69724,69777,69856,69869,70005,70077,70175,70242,70251,70262,70281,70395,70422,70509,70515,70517,70599,70673,70681,70859,70933,70983,71015,71245,71263,71296,71327,71637,71640,71674,71831,71871,72026,72041,72064,72158,72245,72275,72321,72327,72332,72342,72450,72484,72515,72530,72703,72786,72796,72910,73007,73022,73128,73131,73329,73354,73470,73514,73552,73553,73600,73649,73657,73870,73899,73972,74022,74116,74178,74199,74204,74445,74498,74506,74613,74661,74732,74763,74802,74883,74884,74889,75003,75005,75028,75051,75085,75162,75289,75467,75545,75551,75619,75631,75653,75659,75662,75692,75713,75826,75872,76125,76366,76667,76700,76713,76747,76769,76815,76901,76980,77043,77108,77109,77241,77246,77422,77476,77519,77523,77592,77685,77688,77718,77825,77846,77935,77942,78024,78059,78071,78101,78334,78367,78462,78529,78553,78610,78618,78619,78672,78713,78714,78718,78823,78831,78913,78953,79076,79191,79215,79287,79293,79398,79411,79418,79476,79506,79515,79548,79550,79585,79702,79875,79926,79959,79960,79968,80159,80246,80379,80423,80471,80491,80497,80577,80684,80704,80805,80904,80908,80985,81135,81198,81268,81359,81557,81642,81652,81756,81781,81844,81912,81936,81947,81982,82120,82136,82307,82309,82313,82384,82399,82439,82461,82534,82628,82681,82689,82832,82890,82901,82906,82914,82951,82953,82955,83147,83154,83320,83523,83531,83597,83598,83679,83700,83768,83944,84003,84049,84153,84253,84266,84313,84359,84396,84576,84619,84659,84906,84913,84964,85000,85127,85144,85149,85167,85254,85351,85360,85389,85571,85616,85669,85722,85744,85922,86019,86216,86255,86350,86469,86612,86659,86664,86672,86685,86776,86838,86866,86876,86894,86898,86904,86963,87002,87018,87110,87214,87264,87359,87419,87535,87601,87611,87653,87922,88121,88147,88197,88247,88291,88410,88483,88494,88709,88726,88790,88791,88801,88809,88857,88916,89021,89162,89289,89311,89427,89457,89472,89568,89569,89616,89741,89774,89830,89914,89922,89938,90115,90264,90336,90455,90467,90470,90619,90680,90684,90696,90776,90838,90917,90996,91001,91162,91265,91323,91418,91517,91671,91751,91775,91792,91804,91846,91908,91934,91962,92040,92098,92183,92263,92295,92325,92342,92582,92628,92727,92766,93001,93185,93187,93542,93567,93661,93702,93717,93913,93921,94100,94171,94299,94345,94361,94384,94569,94747,94886,94978,94986,95031,95113,95122,95148,95170,95190,95231,95384,95449,95493,95502,95553,95554,95604,95832,95940,96035,96061,96069,96072,96212,96270,96527,96607,96655,96694,96796,96833,96847,96902,96929,96968,97159,97265,97287,97303,97334,97367,97497,97511,97534,97677,97784,97967,98007,98011,98226,98376,98405,98756,98793,98832,98851,99089,99103,99141,99164,99465,99494,99593,99755,99800,99885],\"xaxis\":\"x\",\"y\":[1,1,1,1,1,1,1,1,1,1,1,1,1,1,1,1,1,1,1,1,1,1,1,1,1,1,1,1,1,1,1,1,1,1,1,1,1,1,1,1,1,1,1,1,1,1,1,1,1,1,1,1,1,1,1,1,1,1,1,1,1,1,1,1,1,1,1,1,1,1,1,1,1,1,1,1,1,1,1,1,1,1,1,1,1,1,1,1,1,1,1,1,1,1,1,1,1,1,1,1,1,1,1,1,1,1,1,1,1,1,1,1,1,1,1,1,1,1,1,1,1,1,1,1,1,1,1,1,1,1,1,1,1,1,1,1,1,1,1,1,1,1,1,1,1,1,1,1,1,1,1,1,1,1,1,1,1,1,1,1,1,1,1,1,1,1,1,1,1,1,1,1,1,1,1,1,1,1,1,1,1,1,1,1,1,1,1,1,1,1,1,1,1,1,1,1,1,1,1,1,1,1,1,1,1,1,1,1,1,1,1,1,1,1,1,1,1,1,1,1,1,1,1,1,1,1,1,1,1,1,1,1,1,1,1,1,1,1,1,1,1,1,1,1,1,1,1,1,1,1,1,1,1,1,1,1,1,1,1,1,1,1,1,1,1,1,1,1,1,1,1,1,1,1,1,1,1,1,1,1,1,1,1,1,1,1,1,1,1,1,1,1,1,1,1,1,1,1,1,1,1,1,1,1,1,1,1,1,1,1,1,1,1,1,1,1,1,1,1,1,1,1,1,1,1,1,1,1,1,1,1,1,1,1,1,1,1,1,1,1,1,1,1,1,1,1,1,1,1,1,1,1,1,1,1,1,1,1,1,1,1,1,1,1,1,1,1,1,1,1,1,1,1,1,1,1,1,1,1,1,1,1,1,1,1,1,1,1,1,1,1,1,1,1,1,1,1,1,1,1,1,1,1,1,1,1,1,1,1,1,1,1,1,1,1,1,1,1,1,1,1,1,1,1,1,1,1,1,1,1,1,1,1,1,1,1,1,1,1,1,1,1,1,1,1,1,1,1,1,1,1,1,1,1,1,1,1,1,1,1,1,1,1,1,1,1,1,1,1,1,1,1,1,1,1,1,1,1,1,1,1,1,1,1,1,1,1,1,1,1,1,1,1,1,1,1,1,1,1,1,1,1,1,1,1,1,1,1,1,1,1,1,1,1,1,1,1,1,1,1,1,1,1,1,1,1,1,1,1,1,1,1,1,1,1,1,1,1,1,1,1,1,1,1,1,1,1,1,1,1,1,1,1,1,1,1,1,1,1,1,1,1,1,1,1,1,1,1,1,1,1,1,1,1,1,1,1,1,1,1,1,1,1,1,1,1,1,1,1,1,1,1,1,1,1,1,1,1,1,1,1,1,1,1,1,1,1,1,1,1,1,1,1,1,1,1,1,1,1,1,1,1,1,1,1,1,1,1,1,1,1,1,1,1,1,1,1,1,1,1,1,1,1,1,1,1,1,1,1,1,1,1,1,1,1,1,1,1,1,1,1,1,1,1,1,1,1,1,1,1,1,1,1,1,1,1,1,1,1,1,1,1,1,1,1,1,1,1,1,1,1,1,1,2,1,1,1,1,1,1,1,1,1,1,1,1,1,1,1,1,1,1,1,1,1,1,1,1,1,1,1,1,1,1,1,1,1,1,1,1,1,1,1,1,1,1,1,1,1,1,1,1,1,1,1,1,1,1,1,1,1,1,1,1,1,1,1,1,1,1,1,1,1,1,1,1,1,1,1,1,1,1,1,1,1,1,1,1,1,1,1,1,1,1,1,1,1,1,1,1,1,1,1,1,1,1,1,1,1,1,1,1,1,1,1,1,1,1,1,1,1,1,1,1,1,1,1,1,2,1,1,1,1,1,1,1,1,1,1,1,1,1,1,1,1,1,1,1,1,1,1,1,1,1,1,1,1,1,1,1,1,1,1,1,1,1,1,1,1,1,1,1,1,1,1,1,1,1,1,1,1,1,1,1,2,1,1,1,1,1,1,1,1,1,1,1,1,1,1,1,1,1,1,1,1,2,1,1,1,1,1,1,1,1,1,1,1,1,1,1,1,1,1,1,1,1,1,1,1,1,1,1,1,1,1,1,1,1,1,1,1,1,1,1,1,1,1,1,1,1,1,1,1,1,1,1,1,1,1,1,1,1,1,1,1,1,1,1,1,1,1,1,1,1,1,1,1,1,1,1,1,1,1],\"yaxis\":\"y\",\"type\":\"histogram\"}],                        {\"template\":{\"data\":{\"histogram2dcontour\":[{\"type\":\"histogram2dcontour\",\"colorbar\":{\"outlinewidth\":0,\"ticks\":\"\"},\"colorscale\":[[0.0,\"#0d0887\"],[0.1111111111111111,\"#46039f\"],[0.2222222222222222,\"#7201a8\"],[0.3333333333333333,\"#9c179e\"],[0.4444444444444444,\"#bd3786\"],[0.5555555555555556,\"#d8576b\"],[0.6666666666666666,\"#ed7953\"],[0.7777777777777778,\"#fb9f3a\"],[0.8888888888888888,\"#fdca26\"],[1.0,\"#f0f921\"]]}],\"choropleth\":[{\"type\":\"choropleth\",\"colorbar\":{\"outlinewidth\":0,\"ticks\":\"\"}}],\"histogram2d\":[{\"type\":\"histogram2d\",\"colorbar\":{\"outlinewidth\":0,\"ticks\":\"\"},\"colorscale\":[[0.0,\"#0d0887\"],[0.1111111111111111,\"#46039f\"],[0.2222222222222222,\"#7201a8\"],[0.3333333333333333,\"#9c179e\"],[0.4444444444444444,\"#bd3786\"],[0.5555555555555556,\"#d8576b\"],[0.6666666666666666,\"#ed7953\"],[0.7777777777777778,\"#fb9f3a\"],[0.8888888888888888,\"#fdca26\"],[1.0,\"#f0f921\"]]}],\"heatmap\":[{\"type\":\"heatmap\",\"colorbar\":{\"outlinewidth\":0,\"ticks\":\"\"},\"colorscale\":[[0.0,\"#0d0887\"],[0.1111111111111111,\"#46039f\"],[0.2222222222222222,\"#7201a8\"],[0.3333333333333333,\"#9c179e\"],[0.4444444444444444,\"#bd3786\"],[0.5555555555555556,\"#d8576b\"],[0.6666666666666666,\"#ed7953\"],[0.7777777777777778,\"#fb9f3a\"],[0.8888888888888888,\"#fdca26\"],[1.0,\"#f0f921\"]]}],\"heatmapgl\":[{\"type\":\"heatmapgl\",\"colorbar\":{\"outlinewidth\":0,\"ticks\":\"\"},\"colorscale\":[[0.0,\"#0d0887\"],[0.1111111111111111,\"#46039f\"],[0.2222222222222222,\"#7201a8\"],[0.3333333333333333,\"#9c179e\"],[0.4444444444444444,\"#bd3786\"],[0.5555555555555556,\"#d8576b\"],[0.6666666666666666,\"#ed7953\"],[0.7777777777777778,\"#fb9f3a\"],[0.8888888888888888,\"#fdca26\"],[1.0,\"#f0f921\"]]}],\"contourcarpet\":[{\"type\":\"contourcarpet\",\"colorbar\":{\"outlinewidth\":0,\"ticks\":\"\"}}],\"contour\":[{\"type\":\"contour\",\"colorbar\":{\"outlinewidth\":0,\"ticks\":\"\"},\"colorscale\":[[0.0,\"#0d0887\"],[0.1111111111111111,\"#46039f\"],[0.2222222222222222,\"#7201a8\"],[0.3333333333333333,\"#9c179e\"],[0.4444444444444444,\"#bd3786\"],[0.5555555555555556,\"#d8576b\"],[0.6666666666666666,\"#ed7953\"],[0.7777777777777778,\"#fb9f3a\"],[0.8888888888888888,\"#fdca26\"],[1.0,\"#f0f921\"]]}],\"surface\":[{\"type\":\"surface\",\"colorbar\":{\"outlinewidth\":0,\"ticks\":\"\"},\"colorscale\":[[0.0,\"#0d0887\"],[0.1111111111111111,\"#46039f\"],[0.2222222222222222,\"#7201a8\"],[0.3333333333333333,\"#9c179e\"],[0.4444444444444444,\"#bd3786\"],[0.5555555555555556,\"#d8576b\"],[0.6666666666666666,\"#ed7953\"],[0.7777777777777778,\"#fb9f3a\"],[0.8888888888888888,\"#fdca26\"],[1.0,\"#f0f921\"]]}],\"mesh3d\":[{\"type\":\"mesh3d\",\"colorbar\":{\"outlinewidth\":0,\"ticks\":\"\"}}],\"scatter\":[{\"fillpattern\":{\"fillmode\":\"overlay\",\"size\":10,\"solidity\":0.2},\"type\":\"scatter\"}],\"parcoords\":[{\"type\":\"parcoords\",\"line\":{\"colorbar\":{\"outlinewidth\":0,\"ticks\":\"\"}}}],\"scatterpolargl\":[{\"type\":\"scatterpolargl\",\"marker\":{\"colorbar\":{\"outlinewidth\":0,\"ticks\":\"\"}}}],\"bar\":[{\"error_x\":{\"color\":\"#2a3f5f\"},\"error_y\":{\"color\":\"#2a3f5f\"},\"marker\":{\"line\":{\"color\":\"#E5ECF6\",\"width\":0.5},\"pattern\":{\"fillmode\":\"overlay\",\"size\":10,\"solidity\":0.2}},\"type\":\"bar\"}],\"scattergeo\":[{\"type\":\"scattergeo\",\"marker\":{\"colorbar\":{\"outlinewidth\":0,\"ticks\":\"\"}}}],\"scatterpolar\":[{\"type\":\"scatterpolar\",\"marker\":{\"colorbar\":{\"outlinewidth\":0,\"ticks\":\"\"}}}],\"histogram\":[{\"marker\":{\"pattern\":{\"fillmode\":\"overlay\",\"size\":10,\"solidity\":0.2}},\"type\":\"histogram\"}],\"scattergl\":[{\"type\":\"scattergl\",\"marker\":{\"colorbar\":{\"outlinewidth\":0,\"ticks\":\"\"}}}],\"scatter3d\":[{\"type\":\"scatter3d\",\"line\":{\"colorbar\":{\"outlinewidth\":0,\"ticks\":\"\"}},\"marker\":{\"colorbar\":{\"outlinewidth\":0,\"ticks\":\"\"}}}],\"scattermapbox\":[{\"type\":\"scattermapbox\",\"marker\":{\"colorbar\":{\"outlinewidth\":0,\"ticks\":\"\"}}}],\"scatterternary\":[{\"type\":\"scatterternary\",\"marker\":{\"colorbar\":{\"outlinewidth\":0,\"ticks\":\"\"}}}],\"scattercarpet\":[{\"type\":\"scattercarpet\",\"marker\":{\"colorbar\":{\"outlinewidth\":0,\"ticks\":\"\"}}}],\"carpet\":[{\"aaxis\":{\"endlinecolor\":\"#2a3f5f\",\"gridcolor\":\"white\",\"linecolor\":\"white\",\"minorgridcolor\":\"white\",\"startlinecolor\":\"#2a3f5f\"},\"baxis\":{\"endlinecolor\":\"#2a3f5f\",\"gridcolor\":\"white\",\"linecolor\":\"white\",\"minorgridcolor\":\"white\",\"startlinecolor\":\"#2a3f5f\"},\"type\":\"carpet\"}],\"table\":[{\"cells\":{\"fill\":{\"color\":\"#EBF0F8\"},\"line\":{\"color\":\"white\"}},\"header\":{\"fill\":{\"color\":\"#C8D4E3\"},\"line\":{\"color\":\"white\"}},\"type\":\"table\"}],\"barpolar\":[{\"marker\":{\"line\":{\"color\":\"#E5ECF6\",\"width\":0.5},\"pattern\":{\"fillmode\":\"overlay\",\"size\":10,\"solidity\":0.2}},\"type\":\"barpolar\"}],\"pie\":[{\"automargin\":true,\"type\":\"pie\"}]},\"layout\":{\"autotypenumbers\":\"strict\",\"colorway\":[\"#636efa\",\"#EF553B\",\"#00cc96\",\"#ab63fa\",\"#FFA15A\",\"#19d3f3\",\"#FF6692\",\"#B6E880\",\"#FF97FF\",\"#FECB52\"],\"font\":{\"color\":\"#2a3f5f\"},\"hovermode\":\"closest\",\"hoverlabel\":{\"align\":\"left\"},\"paper_bgcolor\":\"white\",\"plot_bgcolor\":\"#E5ECF6\",\"polar\":{\"bgcolor\":\"#E5ECF6\",\"angularaxis\":{\"gridcolor\":\"white\",\"linecolor\":\"white\",\"ticks\":\"\"},\"radialaxis\":{\"gridcolor\":\"white\",\"linecolor\":\"white\",\"ticks\":\"\"}},\"ternary\":{\"bgcolor\":\"#E5ECF6\",\"aaxis\":{\"gridcolor\":\"white\",\"linecolor\":\"white\",\"ticks\":\"\"},\"baxis\":{\"gridcolor\":\"white\",\"linecolor\":\"white\",\"ticks\":\"\"},\"caxis\":{\"gridcolor\":\"white\",\"linecolor\":\"white\",\"ticks\":\"\"}},\"coloraxis\":{\"colorbar\":{\"outlinewidth\":0,\"ticks\":\"\"}},\"colorscale\":{\"sequential\":[[0.0,\"#0d0887\"],[0.1111111111111111,\"#46039f\"],[0.2222222222222222,\"#7201a8\"],[0.3333333333333333,\"#9c179e\"],[0.4444444444444444,\"#bd3786\"],[0.5555555555555556,\"#d8576b\"],[0.6666666666666666,\"#ed7953\"],[0.7777777777777778,\"#fb9f3a\"],[0.8888888888888888,\"#fdca26\"],[1.0,\"#f0f921\"]],\"sequentialminus\":[[0.0,\"#0d0887\"],[0.1111111111111111,\"#46039f\"],[0.2222222222222222,\"#7201a8\"],[0.3333333333333333,\"#9c179e\"],[0.4444444444444444,\"#bd3786\"],[0.5555555555555556,\"#d8576b\"],[0.6666666666666666,\"#ed7953\"],[0.7777777777777778,\"#fb9f3a\"],[0.8888888888888888,\"#fdca26\"],[1.0,\"#f0f921\"]],\"diverging\":[[0,\"#8e0152\"],[0.1,\"#c51b7d\"],[0.2,\"#de77ae\"],[0.3,\"#f1b6da\"],[0.4,\"#fde0ef\"],[0.5,\"#f7f7f7\"],[0.6,\"#e6f5d0\"],[0.7,\"#b8e186\"],[0.8,\"#7fbc41\"],[0.9,\"#4d9221\"],[1,\"#276419\"]]},\"xaxis\":{\"gridcolor\":\"white\",\"linecolor\":\"white\",\"ticks\":\"\",\"title\":{\"standoff\":15},\"zerolinecolor\":\"white\",\"automargin\":true,\"zerolinewidth\":2},\"yaxis\":{\"gridcolor\":\"white\",\"linecolor\":\"white\",\"ticks\":\"\",\"title\":{\"standoff\":15},\"zerolinecolor\":\"white\",\"automargin\":true,\"zerolinewidth\":2},\"scene\":{\"xaxis\":{\"backgroundcolor\":\"#E5ECF6\",\"gridcolor\":\"white\",\"linecolor\":\"white\",\"showbackground\":true,\"ticks\":\"\",\"zerolinecolor\":\"white\",\"gridwidth\":2},\"yaxis\":{\"backgroundcolor\":\"#E5ECF6\",\"gridcolor\":\"white\",\"linecolor\":\"white\",\"showbackground\":true,\"ticks\":\"\",\"zerolinecolor\":\"white\",\"gridwidth\":2},\"zaxis\":{\"backgroundcolor\":\"#E5ECF6\",\"gridcolor\":\"white\",\"linecolor\":\"white\",\"showbackground\":true,\"ticks\":\"\",\"zerolinecolor\":\"white\",\"gridwidth\":2}},\"shapedefaults\":{\"line\":{\"color\":\"#2a3f5f\"}},\"annotationdefaults\":{\"arrowcolor\":\"#2a3f5f\",\"arrowhead\":0,\"arrowwidth\":1},\"geo\":{\"bgcolor\":\"white\",\"landcolor\":\"#E5ECF6\",\"subunitcolor\":\"white\",\"showland\":true,\"showlakes\":true,\"lakecolor\":\"white\"},\"title\":{\"x\":0.05},\"mapbox\":{\"style\":\"light\"}}},\"xaxis\":{\"anchor\":\"y\",\"domain\":[0.0,1.0],\"title\":{\"text\":\"EstimatedSalary\"}},\"yaxis\":{\"anchor\":\"x\",\"domain\":[0.0,1.0],\"title\":{\"text\":\"sum of Count\"}},\"legend\":{\"title\":{\"text\":\"Churn\"},\"tracegroupgap\":0},\"title\":{\"text\":\"Churn rate frequency to EstimatedSalary distribution\"},\"barmode\":\"relative\"},                        {\"responsive\": true}                    ).then(function(){\n",
       "                            \n",
       "var gd = document.getElementById('b57b8506-f7d9-40fc-8585-54306d75b499');\n",
       "var x = new MutationObserver(function (mutations, observer) {{\n",
       "        var display = window.getComputedStyle(gd).display;\n",
       "        if (!display || display === 'none') {{\n",
       "            console.log([gd, 'removed!']);\n",
       "            Plotly.purge(gd);\n",
       "            observer.disconnect();\n",
       "        }}\n",
       "}});\n",
       "\n",
       "// Listen for the removal of the full notebook cells\n",
       "var notebookContainer = gd.closest('#notebook-container');\n",
       "if (notebookContainer) {{\n",
       "    x.observe(notebookContainer, {childList: true});\n",
       "}}\n",
       "\n",
       "// Listen for the clearing of the current output cell\n",
       "var outputEl = gd.closest('.output');\n",
       "if (outputEl) {{\n",
       "    x.observe(outputEl, {childList: true});\n",
       "}}\n",
       "\n",
       "                        })                };                });            </script>        </div>"
      ]
     },
     "metadata": {},
     "output_type": "display_data"
    }
   ],
   "source": [
    "hist('EstimatedSalary')"
   ]
  },
  {
   "cell_type": "code",
   "execution_count": 19,
   "id": "8a88263e",
   "metadata": {
    "execution": {
     "iopub.execute_input": "2024-03-20T08:19:16.216463Z",
     "iopub.status.busy": "2024-03-20T08:19:16.215667Z",
     "iopub.status.idle": "2024-03-20T08:19:16.281981Z",
     "shell.execute_reply": "2024-03-20T08:19:16.280924Z"
    },
    "papermill": {
     "duration": 0.085567,
     "end_time": "2024-03-20T08:19:16.284218",
     "exception": false,
     "start_time": "2024-03-20T08:19:16.198651",
     "status": "completed"
    },
    "tags": []
   },
   "outputs": [
    {
     "data": {
      "text/html": [
       "<div>                            <div id=\"71468ba8-eb90-45b0-9fcd-3925d0550269\" class=\"plotly-graph-div\" style=\"height:525px; width:100%;\"></div>            <script type=\"text/javascript\">                require([\"plotly\"], function(Plotly) {                    window.PLOTLYENV=window.PLOTLYENV || {};                                    if (document.getElementById(\"71468ba8-eb90-45b0-9fcd-3925d0550269\")) {                    Plotly.newPlot(                        \"71468ba8-eb90-45b0-9fcd-3925d0550269\",                        [{\"alignmentgroup\":\"True\",\"bingroup\":\"x\",\"histfunc\":\"sum\",\"hovertemplate\":\"Churn=No\\u003cbr\\u003eNumOfProducts=%{x}\\u003cbr\\u003esum of Count=%{y}\\u003cextra\\u003e\\u003c\\u002fextra\\u003e\",\"legendgroup\":\"No\",\"marker\":{\"color\":\"green\",\"pattern\":{\"shape\":\"\"}},\"name\":\"No\",\"offsetgroup\":\"No\",\"orientation\":\"v\",\"showlegend\":true,\"x\":[1,2,3,4],\"xaxis\":\"x\",\"y\":[2300,2300,2228,2195],\"yaxis\":\"y\",\"type\":\"histogram\"},{\"alignmentgroup\":\"True\",\"bingroup\":\"x\",\"histfunc\":\"sum\",\"hovertemplate\":\"Churn=Yes\\u003cbr\\u003eNumOfProducts=%{x}\\u003cbr\\u003esum of Count=%{y}\\u003cextra\\u003e\\u003c\\u002fextra\\u003e\",\"legendgroup\":\"Yes\",\"marker\":{\"color\":\"red\",\"pattern\":{\"shape\":\"\"}},\"name\":\"Yes\",\"offsetgroup\":\"Yes\",\"orientation\":\"v\",\"showlegend\":true,\"x\":[1,2,3,4],\"xaxis\":\"x\",\"y\":[230,241,240,266],\"yaxis\":\"y\",\"type\":\"histogram\"}],                        {\"template\":{\"data\":{\"histogram2dcontour\":[{\"type\":\"histogram2dcontour\",\"colorbar\":{\"outlinewidth\":0,\"ticks\":\"\"},\"colorscale\":[[0.0,\"#0d0887\"],[0.1111111111111111,\"#46039f\"],[0.2222222222222222,\"#7201a8\"],[0.3333333333333333,\"#9c179e\"],[0.4444444444444444,\"#bd3786\"],[0.5555555555555556,\"#d8576b\"],[0.6666666666666666,\"#ed7953\"],[0.7777777777777778,\"#fb9f3a\"],[0.8888888888888888,\"#fdca26\"],[1.0,\"#f0f921\"]]}],\"choropleth\":[{\"type\":\"choropleth\",\"colorbar\":{\"outlinewidth\":0,\"ticks\":\"\"}}],\"histogram2d\":[{\"type\":\"histogram2d\",\"colorbar\":{\"outlinewidth\":0,\"ticks\":\"\"},\"colorscale\":[[0.0,\"#0d0887\"],[0.1111111111111111,\"#46039f\"],[0.2222222222222222,\"#7201a8\"],[0.3333333333333333,\"#9c179e\"],[0.4444444444444444,\"#bd3786\"],[0.5555555555555556,\"#d8576b\"],[0.6666666666666666,\"#ed7953\"],[0.7777777777777778,\"#fb9f3a\"],[0.8888888888888888,\"#fdca26\"],[1.0,\"#f0f921\"]]}],\"heatmap\":[{\"type\":\"heatmap\",\"colorbar\":{\"outlinewidth\":0,\"ticks\":\"\"},\"colorscale\":[[0.0,\"#0d0887\"],[0.1111111111111111,\"#46039f\"],[0.2222222222222222,\"#7201a8\"],[0.3333333333333333,\"#9c179e\"],[0.4444444444444444,\"#bd3786\"],[0.5555555555555556,\"#d8576b\"],[0.6666666666666666,\"#ed7953\"],[0.7777777777777778,\"#fb9f3a\"],[0.8888888888888888,\"#fdca26\"],[1.0,\"#f0f921\"]]}],\"heatmapgl\":[{\"type\":\"heatmapgl\",\"colorbar\":{\"outlinewidth\":0,\"ticks\":\"\"},\"colorscale\":[[0.0,\"#0d0887\"],[0.1111111111111111,\"#46039f\"],[0.2222222222222222,\"#7201a8\"],[0.3333333333333333,\"#9c179e\"],[0.4444444444444444,\"#bd3786\"],[0.5555555555555556,\"#d8576b\"],[0.6666666666666666,\"#ed7953\"],[0.7777777777777778,\"#fb9f3a\"],[0.8888888888888888,\"#fdca26\"],[1.0,\"#f0f921\"]]}],\"contourcarpet\":[{\"type\":\"contourcarpet\",\"colorbar\":{\"outlinewidth\":0,\"ticks\":\"\"}}],\"contour\":[{\"type\":\"contour\",\"colorbar\":{\"outlinewidth\":0,\"ticks\":\"\"},\"colorscale\":[[0.0,\"#0d0887\"],[0.1111111111111111,\"#46039f\"],[0.2222222222222222,\"#7201a8\"],[0.3333333333333333,\"#9c179e\"],[0.4444444444444444,\"#bd3786\"],[0.5555555555555556,\"#d8576b\"],[0.6666666666666666,\"#ed7953\"],[0.7777777777777778,\"#fb9f3a\"],[0.8888888888888888,\"#fdca26\"],[1.0,\"#f0f921\"]]}],\"surface\":[{\"type\":\"surface\",\"colorbar\":{\"outlinewidth\":0,\"ticks\":\"\"},\"colorscale\":[[0.0,\"#0d0887\"],[0.1111111111111111,\"#46039f\"],[0.2222222222222222,\"#7201a8\"],[0.3333333333333333,\"#9c179e\"],[0.4444444444444444,\"#bd3786\"],[0.5555555555555556,\"#d8576b\"],[0.6666666666666666,\"#ed7953\"],[0.7777777777777778,\"#fb9f3a\"],[0.8888888888888888,\"#fdca26\"],[1.0,\"#f0f921\"]]}],\"mesh3d\":[{\"type\":\"mesh3d\",\"colorbar\":{\"outlinewidth\":0,\"ticks\":\"\"}}],\"scatter\":[{\"fillpattern\":{\"fillmode\":\"overlay\",\"size\":10,\"solidity\":0.2},\"type\":\"scatter\"}],\"parcoords\":[{\"type\":\"parcoords\",\"line\":{\"colorbar\":{\"outlinewidth\":0,\"ticks\":\"\"}}}],\"scatterpolargl\":[{\"type\":\"scatterpolargl\",\"marker\":{\"colorbar\":{\"outlinewidth\":0,\"ticks\":\"\"}}}],\"bar\":[{\"error_x\":{\"color\":\"#2a3f5f\"},\"error_y\":{\"color\":\"#2a3f5f\"},\"marker\":{\"line\":{\"color\":\"#E5ECF6\",\"width\":0.5},\"pattern\":{\"fillmode\":\"overlay\",\"size\":10,\"solidity\":0.2}},\"type\":\"bar\"}],\"scattergeo\":[{\"type\":\"scattergeo\",\"marker\":{\"colorbar\":{\"outlinewidth\":0,\"ticks\":\"\"}}}],\"scatterpolar\":[{\"type\":\"scatterpolar\",\"marker\":{\"colorbar\":{\"outlinewidth\":0,\"ticks\":\"\"}}}],\"histogram\":[{\"marker\":{\"pattern\":{\"fillmode\":\"overlay\",\"size\":10,\"solidity\":0.2}},\"type\":\"histogram\"}],\"scattergl\":[{\"type\":\"scattergl\",\"marker\":{\"colorbar\":{\"outlinewidth\":0,\"ticks\":\"\"}}}],\"scatter3d\":[{\"type\":\"scatter3d\",\"line\":{\"colorbar\":{\"outlinewidth\":0,\"ticks\":\"\"}},\"marker\":{\"colorbar\":{\"outlinewidth\":0,\"ticks\":\"\"}}}],\"scattermapbox\":[{\"type\":\"scattermapbox\",\"marker\":{\"colorbar\":{\"outlinewidth\":0,\"ticks\":\"\"}}}],\"scatterternary\":[{\"type\":\"scatterternary\",\"marker\":{\"colorbar\":{\"outlinewidth\":0,\"ticks\":\"\"}}}],\"scattercarpet\":[{\"type\":\"scattercarpet\",\"marker\":{\"colorbar\":{\"outlinewidth\":0,\"ticks\":\"\"}}}],\"carpet\":[{\"aaxis\":{\"endlinecolor\":\"#2a3f5f\",\"gridcolor\":\"white\",\"linecolor\":\"white\",\"minorgridcolor\":\"white\",\"startlinecolor\":\"#2a3f5f\"},\"baxis\":{\"endlinecolor\":\"#2a3f5f\",\"gridcolor\":\"white\",\"linecolor\":\"white\",\"minorgridcolor\":\"white\",\"startlinecolor\":\"#2a3f5f\"},\"type\":\"carpet\"}],\"table\":[{\"cells\":{\"fill\":{\"color\":\"#EBF0F8\"},\"line\":{\"color\":\"white\"}},\"header\":{\"fill\":{\"color\":\"#C8D4E3\"},\"line\":{\"color\":\"white\"}},\"type\":\"table\"}],\"barpolar\":[{\"marker\":{\"line\":{\"color\":\"#E5ECF6\",\"width\":0.5},\"pattern\":{\"fillmode\":\"overlay\",\"size\":10,\"solidity\":0.2}},\"type\":\"barpolar\"}],\"pie\":[{\"automargin\":true,\"type\":\"pie\"}]},\"layout\":{\"autotypenumbers\":\"strict\",\"colorway\":[\"#636efa\",\"#EF553B\",\"#00cc96\",\"#ab63fa\",\"#FFA15A\",\"#19d3f3\",\"#FF6692\",\"#B6E880\",\"#FF97FF\",\"#FECB52\"],\"font\":{\"color\":\"#2a3f5f\"},\"hovermode\":\"closest\",\"hoverlabel\":{\"align\":\"left\"},\"paper_bgcolor\":\"white\",\"plot_bgcolor\":\"#E5ECF6\",\"polar\":{\"bgcolor\":\"#E5ECF6\",\"angularaxis\":{\"gridcolor\":\"white\",\"linecolor\":\"white\",\"ticks\":\"\"},\"radialaxis\":{\"gridcolor\":\"white\",\"linecolor\":\"white\",\"ticks\":\"\"}},\"ternary\":{\"bgcolor\":\"#E5ECF6\",\"aaxis\":{\"gridcolor\":\"white\",\"linecolor\":\"white\",\"ticks\":\"\"},\"baxis\":{\"gridcolor\":\"white\",\"linecolor\":\"white\",\"ticks\":\"\"},\"caxis\":{\"gridcolor\":\"white\",\"linecolor\":\"white\",\"ticks\":\"\"}},\"coloraxis\":{\"colorbar\":{\"outlinewidth\":0,\"ticks\":\"\"}},\"colorscale\":{\"sequential\":[[0.0,\"#0d0887\"],[0.1111111111111111,\"#46039f\"],[0.2222222222222222,\"#7201a8\"],[0.3333333333333333,\"#9c179e\"],[0.4444444444444444,\"#bd3786\"],[0.5555555555555556,\"#d8576b\"],[0.6666666666666666,\"#ed7953\"],[0.7777777777777778,\"#fb9f3a\"],[0.8888888888888888,\"#fdca26\"],[1.0,\"#f0f921\"]],\"sequentialminus\":[[0.0,\"#0d0887\"],[0.1111111111111111,\"#46039f\"],[0.2222222222222222,\"#7201a8\"],[0.3333333333333333,\"#9c179e\"],[0.4444444444444444,\"#bd3786\"],[0.5555555555555556,\"#d8576b\"],[0.6666666666666666,\"#ed7953\"],[0.7777777777777778,\"#fb9f3a\"],[0.8888888888888888,\"#fdca26\"],[1.0,\"#f0f921\"]],\"diverging\":[[0,\"#8e0152\"],[0.1,\"#c51b7d\"],[0.2,\"#de77ae\"],[0.3,\"#f1b6da\"],[0.4,\"#fde0ef\"],[0.5,\"#f7f7f7\"],[0.6,\"#e6f5d0\"],[0.7,\"#b8e186\"],[0.8,\"#7fbc41\"],[0.9,\"#4d9221\"],[1,\"#276419\"]]},\"xaxis\":{\"gridcolor\":\"white\",\"linecolor\":\"white\",\"ticks\":\"\",\"title\":{\"standoff\":15},\"zerolinecolor\":\"white\",\"automargin\":true,\"zerolinewidth\":2},\"yaxis\":{\"gridcolor\":\"white\",\"linecolor\":\"white\",\"ticks\":\"\",\"title\":{\"standoff\":15},\"zerolinecolor\":\"white\",\"automargin\":true,\"zerolinewidth\":2},\"scene\":{\"xaxis\":{\"backgroundcolor\":\"#E5ECF6\",\"gridcolor\":\"white\",\"linecolor\":\"white\",\"showbackground\":true,\"ticks\":\"\",\"zerolinecolor\":\"white\",\"gridwidth\":2},\"yaxis\":{\"backgroundcolor\":\"#E5ECF6\",\"gridcolor\":\"white\",\"linecolor\":\"white\",\"showbackground\":true,\"ticks\":\"\",\"zerolinecolor\":\"white\",\"gridwidth\":2},\"zaxis\":{\"backgroundcolor\":\"#E5ECF6\",\"gridcolor\":\"white\",\"linecolor\":\"white\",\"showbackground\":true,\"ticks\":\"\",\"zerolinecolor\":\"white\",\"gridwidth\":2}},\"shapedefaults\":{\"line\":{\"color\":\"#2a3f5f\"}},\"annotationdefaults\":{\"arrowcolor\":\"#2a3f5f\",\"arrowhead\":0,\"arrowwidth\":1},\"geo\":{\"bgcolor\":\"white\",\"landcolor\":\"#E5ECF6\",\"subunitcolor\":\"white\",\"showland\":true,\"showlakes\":true,\"lakecolor\":\"white\"},\"title\":{\"x\":0.05},\"mapbox\":{\"style\":\"light\"}}},\"xaxis\":{\"anchor\":\"y\",\"domain\":[0.0,1.0],\"title\":{\"text\":\"NumOfProducts\"}},\"yaxis\":{\"anchor\":\"x\",\"domain\":[0.0,1.0],\"title\":{\"text\":\"sum of Count\"}},\"legend\":{\"title\":{\"text\":\"Churn\"},\"tracegroupgap\":0},\"title\":{\"text\":\"Churn rate frequency to NumOfProducts distribution\"},\"barmode\":\"relative\"},                        {\"responsive\": true}                    ).then(function(){\n",
       "                            \n",
       "var gd = document.getElementById('71468ba8-eb90-45b0-9fcd-3925d0550269');\n",
       "var x = new MutationObserver(function (mutations, observer) {{\n",
       "        var display = window.getComputedStyle(gd).display;\n",
       "        if (!display || display === 'none') {{\n",
       "            console.log([gd, 'removed!']);\n",
       "            Plotly.purge(gd);\n",
       "            observer.disconnect();\n",
       "        }}\n",
       "}});\n",
       "\n",
       "// Listen for the removal of the full notebook cells\n",
       "var notebookContainer = gd.closest('#notebook-container');\n",
       "if (notebookContainer) {{\n",
       "    x.observe(notebookContainer, {childList: true});\n",
       "}}\n",
       "\n",
       "// Listen for the clearing of the current output cell\n",
       "var outputEl = gd.closest('.output');\n",
       "if (outputEl) {{\n",
       "    x.observe(outputEl, {childList: true});\n",
       "}}\n",
       "\n",
       "                        })                };                });            </script>        </div>"
      ]
     },
     "metadata": {},
     "output_type": "display_data"
    }
   ],
   "source": [
    "hist('NumOfProducts')"
   ]
  },
  {
   "cell_type": "markdown",
   "id": "1a0b4110",
   "metadata": {
    "papermill": {
     "duration": 0.015291,
     "end_time": "2024-03-20T08:19:16.315132",
     "exception": false,
     "start_time": "2024-03-20T08:19:16.299841",
     "status": "completed"
    },
    "tags": []
   },
   "source": [
    "<h1 style=\"color:Tomato; text-align:center;\">Step 4 - Data Standardization\n",
    "</h1>"
   ]
  },
  {
   "cell_type": "code",
   "execution_count": 20,
   "id": "b3e3e4f9",
   "metadata": {
    "execution": {
     "iopub.execute_input": "2024-03-20T08:19:16.348565Z",
     "iopub.status.busy": "2024-03-20T08:19:16.347770Z",
     "iopub.status.idle": "2024-03-20T08:19:16.373602Z",
     "shell.execute_reply": "2024-03-20T08:19:16.372386Z"
    },
    "papermill": {
     "duration": 0.04538,
     "end_time": "2024-03-20T08:19:16.376059",
     "exception": false,
     "start_time": "2024-03-20T08:19:16.330679",
     "status": "completed"
    },
    "tags": []
   },
   "outputs": [
    {
     "data": {
      "text/html": [
       "<div>\n",
       "<style scoped>\n",
       "    .dataframe tbody tr th:only-of-type {\n",
       "        vertical-align: middle;\n",
       "    }\n",
       "\n",
       "    .dataframe tbody tr th {\n",
       "        vertical-align: top;\n",
       "    }\n",
       "\n",
       "    .dataframe thead th {\n",
       "        text-align: right;\n",
       "    }\n",
       "</style>\n",
       "<table border=\"1\" class=\"dataframe\">\n",
       "  <thead>\n",
       "    <tr style=\"text-align: right;\">\n",
       "      <th></th>\n",
       "      <th>CustomerId</th>\n",
       "      <th>CreditScore</th>\n",
       "      <th>Age</th>\n",
       "      <th>Tenure</th>\n",
       "      <th>Balance</th>\n",
       "      <th>NumOfProducts</th>\n",
       "      <th>HasCrCard</th>\n",
       "      <th>IsActiveMember</th>\n",
       "      <th>EstimatedSalary</th>\n",
       "      <th>Churn</th>\n",
       "      <th>CustomerLifetimeValue</th>\n",
       "      <th>CustomerEngagementScore</th>\n",
       "    </tr>\n",
       "  </thead>\n",
       "  <tbody>\n",
       "    <tr>\n",
       "      <th>0</th>\n",
       "      <td>17270</td>\n",
       "      <td>594</td>\n",
       "      <td>31</td>\n",
       "      <td>3</td>\n",
       "      <td>3414</td>\n",
       "      <td>1</td>\n",
       "      <td>1</td>\n",
       "      <td>0</td>\n",
       "      <td>93705</td>\n",
       "      <td>0</td>\n",
       "      <td>10242</td>\n",
       "      <td>0.5</td>\n",
       "    </tr>\n",
       "    <tr>\n",
       "      <th>1</th>\n",
       "      <td>10860</td>\n",
       "      <td>796</td>\n",
       "      <td>35</td>\n",
       "      <td>3</td>\n",
       "      <td>6656</td>\n",
       "      <td>2</td>\n",
       "      <td>1</td>\n",
       "      <td>1</td>\n",
       "      <td>61819</td>\n",
       "      <td>0</td>\n",
       "      <td>19968</td>\n",
       "      <td>1.5</td>\n",
       "    </tr>\n",
       "    <tr>\n",
       "      <th>2</th>\n",
       "      <td>15390</td>\n",
       "      <td>580</td>\n",
       "      <td>56</td>\n",
       "      <td>3</td>\n",
       "      <td>9962</td>\n",
       "      <td>3</td>\n",
       "      <td>1</td>\n",
       "      <td>0</td>\n",
       "      <td>75376</td>\n",
       "      <td>0</td>\n",
       "      <td>29886</td>\n",
       "      <td>1.5</td>\n",
       "    </tr>\n",
       "    <tr>\n",
       "      <th>3</th>\n",
       "      <td>15191</td>\n",
       "      <td>674</td>\n",
       "      <td>35</td>\n",
       "      <td>2</td>\n",
       "      <td>6147</td>\n",
       "      <td>1</td>\n",
       "      <td>0</td>\n",
       "      <td>0</td>\n",
       "      <td>60504</td>\n",
       "      <td>0</td>\n",
       "      <td>12294</td>\n",
       "      <td>0.5</td>\n",
       "    </tr>\n",
       "    <tr>\n",
       "      <th>4</th>\n",
       "      <td>15734</td>\n",
       "      <td>721</td>\n",
       "      <td>36</td>\n",
       "      <td>6</td>\n",
       "      <td>5444</td>\n",
       "      <td>1</td>\n",
       "      <td>1</td>\n",
       "      <td>1</td>\n",
       "      <td>72288</td>\n",
       "      <td>0</td>\n",
       "      <td>32664</td>\n",
       "      <td>1.0</td>\n",
       "    </tr>\n",
       "  </tbody>\n",
       "</table>\n",
       "</div>"
      ],
      "text/plain": [
       "   CustomerId  CreditScore  Age  Tenure  Balance  NumOfProducts  HasCrCard  \\\n",
       "0       17270          594   31       3     3414              1          1   \n",
       "1       10860          796   35       3     6656              2          1   \n",
       "2       15390          580   56       3     9962              3          1   \n",
       "3       15191          674   35       2     6147              1          0   \n",
       "4       15734          721   36       6     5444              1          1   \n",
       "\n",
       "   IsActiveMember  EstimatedSalary  Churn  CustomerLifetimeValue  \\\n",
       "0               0            93705      0                  10242   \n",
       "1               1            61819      0                  19968   \n",
       "2               0            75376      0                  29886   \n",
       "3               0            60504      0                  12294   \n",
       "4               1            72288      0                  32664   \n",
       "\n",
       "   CustomerEngagementScore  \n",
       "0                      0.5  \n",
       "1                      1.5  \n",
       "2                      1.5  \n",
       "3                      0.5  \n",
       "4                      1.0  "
      ]
     },
     "execution_count": 20,
     "metadata": {},
     "output_type": "execute_result"
    }
   ],
   "source": [
    "# step 2 Data standardization \n",
    "# changing the YES/NO values in table to Binary digits\n",
    "\n",
    "customer_data_df=customer_data_df.replace({'No': 0, 'Yes': 1})\n",
    "customer_data_df.head()"
   ]
  },
  {
   "cell_type": "markdown",
   "id": "43eb8b71",
   "metadata": {
    "papermill": {
     "duration": 0.01561,
     "end_time": "2024-03-20T08:19:16.407636",
     "exception": false,
     "start_time": "2024-03-20T08:19:16.392026",
     "status": "completed"
    },
    "tags": []
   },
   "source": [
    "\n",
    "# Visualizing the CustomeLifetimeValue Field, we can see that it is left-skewed, \n",
    "# Using the PowerTransformer Algorithm in sklearn to fix the left-skewness"
   ]
  },
  {
   "cell_type": "code",
   "execution_count": 21,
   "id": "bab19302",
   "metadata": {
    "execution": {
     "iopub.execute_input": "2024-03-20T08:19:16.441855Z",
     "iopub.status.busy": "2024-03-20T08:19:16.441425Z",
     "iopub.status.idle": "2024-03-20T08:19:16.730480Z",
     "shell.execute_reply": "2024-03-20T08:19:16.729325Z"
    },
    "papermill": {
     "duration": 0.309212,
     "end_time": "2024-03-20T08:19:16.732787",
     "exception": false,
     "start_time": "2024-03-20T08:19:16.423575",
     "status": "completed"
    },
    "tags": []
   },
   "outputs": [
    {
     "data": {
      "text/plain": [
       "<Axes: >"
      ]
     },
     "execution_count": 21,
     "metadata": {},
     "output_type": "execute_result"
    },
    {
     "data": {
      "image/png": "[encoded data removed]",
      "text/plain": [
       "<Figure size 640x480 with 1 Axes>"
      ]
     },
     "metadata": {},
     "output_type": "display_data"
    }
   ],
   "source": [
    "customer_data_df['CustomerLifetimeValue'].hist()"
   ]
  },
  {
   "cell_type": "code",
   "execution_count": 22,
   "id": "eb74d987",
   "metadata": {
    "execution": {
     "iopub.execute_input": "2024-03-20T08:19:16.767480Z",
     "iopub.status.busy": "2024-03-20T08:19:16.767101Z",
     "iopub.status.idle": "2024-03-20T08:19:17.272189Z",
     "shell.execute_reply": "2024-03-20T08:19:17.271296Z"
    },
    "papermill": {
     "duration": 0.524847,
     "end_time": "2024-03-20T08:19:17.274491",
     "exception": false,
     "start_time": "2024-03-20T08:19:16.749644",
     "status": "completed"
    },
    "tags": []
   },
   "outputs": [
    {
     "data": {
      "text/plain": [
       "array([[<Axes: title={'center': '0'}>]], dtype=object)"
      ]
     },
     "execution_count": 22,
     "metadata": {},
     "output_type": "execute_result"
    },
    {
     "data": {
      "image/png": "[encoded data removed]",
      "text/plain": [
       "<Figure size 640x480 with 1 Axes>"
      ]
     },
     "metadata": {},
     "output_type": "display_data"
    }
   ],
   "source": [
    "from sklearn.preprocessing import PowerTransformer\n",
    "\n",
    "pt=PowerTransformer()\n",
    "customer_clv=customer_data_df[['CustomerLifetimeValue']].values\n",
    "customer_clv_transform= pt.fit_transform(customer_clv)\n",
    "pd.DataFrame(customer_clv_transform).hist()"
   ]
  },
  {
   "cell_type": "code",
   "execution_count": 23,
   "id": "8f42a6ea",
   "metadata": {
    "execution": {
     "iopub.execute_input": "2024-03-20T08:19:17.310957Z",
     "iopub.status.busy": "2024-03-20T08:19:17.310024Z",
     "iopub.status.idle": "2024-03-20T08:19:17.327095Z",
     "shell.execute_reply": "2024-03-20T08:19:17.326108Z"
    },
    "papermill": {
     "duration": 0.037523,
     "end_time": "2024-03-20T08:19:17.329290",
     "exception": false,
     "start_time": "2024-03-20T08:19:17.291767",
     "status": "completed"
    },
    "tags": []
   },
   "outputs": [
    {
     "data": {
      "text/html": [
       "<div>\n",
       "<style scoped>\n",
       "    .dataframe tbody tr th:only-of-type {\n",
       "        vertical-align: middle;\n",
       "    }\n",
       "\n",
       "    .dataframe tbody tr th {\n",
       "        vertical-align: top;\n",
       "    }\n",
       "\n",
       "    .dataframe thead th {\n",
       "        text-align: right;\n",
       "    }\n",
       "</style>\n",
       "<table border=\"1\" class=\"dataframe\">\n",
       "  <thead>\n",
       "    <tr style=\"text-align: right;\">\n",
       "      <th></th>\n",
       "      <th>CustomerId</th>\n",
       "      <th>CreditScore</th>\n",
       "      <th>Age</th>\n",
       "      <th>Tenure</th>\n",
       "      <th>Balance</th>\n",
       "      <th>NumOfProducts</th>\n",
       "      <th>HasCrCard</th>\n",
       "      <th>IsActiveMember</th>\n",
       "      <th>EstimatedSalary</th>\n",
       "      <th>Churn</th>\n",
       "      <th>CustomerLifetimeValue</th>\n",
       "      <th>CustomerEngagementScore</th>\n",
       "    </tr>\n",
       "  </thead>\n",
       "  <tbody>\n",
       "    <tr>\n",
       "      <th>0</th>\n",
       "      <td>17270</td>\n",
       "      <td>594</td>\n",
       "      <td>31</td>\n",
       "      <td>3</td>\n",
       "      <td>3414</td>\n",
       "      <td>1</td>\n",
       "      <td>1</td>\n",
       "      <td>0</td>\n",
       "      <td>93705</td>\n",
       "      <td>0</td>\n",
       "      <td>-0.835803</td>\n",
       "      <td>0.5</td>\n",
       "    </tr>\n",
       "    <tr>\n",
       "      <th>1</th>\n",
       "      <td>10860</td>\n",
       "      <td>796</td>\n",
       "      <td>35</td>\n",
       "      <td>3</td>\n",
       "      <td>6656</td>\n",
       "      <td>2</td>\n",
       "      <td>1</td>\n",
       "      <td>1</td>\n",
       "      <td>61819</td>\n",
       "      <td>0</td>\n",
       "      <td>-0.133429</td>\n",
       "      <td>1.5</td>\n",
       "    </tr>\n",
       "    <tr>\n",
       "      <th>2</th>\n",
       "      <td>15390</td>\n",
       "      <td>580</td>\n",
       "      <td>56</td>\n",
       "      <td>3</td>\n",
       "      <td>9962</td>\n",
       "      <td>3</td>\n",
       "      <td>1</td>\n",
       "      <td>0</td>\n",
       "      <td>75376</td>\n",
       "      <td>0</td>\n",
       "      <td>0.363594</td>\n",
       "      <td>1.5</td>\n",
       "    </tr>\n",
       "    <tr>\n",
       "      <th>3</th>\n",
       "      <td>15191</td>\n",
       "      <td>674</td>\n",
       "      <td>35</td>\n",
       "      <td>2</td>\n",
       "      <td>6147</td>\n",
       "      <td>1</td>\n",
       "      <td>0</td>\n",
       "      <td>0</td>\n",
       "      <td>60504</td>\n",
       "      <td>0</td>\n",
       "      <td>-0.657338</td>\n",
       "      <td>0.5</td>\n",
       "    </tr>\n",
       "    <tr>\n",
       "      <th>4</th>\n",
       "      <td>15734</td>\n",
       "      <td>721</td>\n",
       "      <td>36</td>\n",
       "      <td>6</td>\n",
       "      <td>5444</td>\n",
       "      <td>1</td>\n",
       "      <td>1</td>\n",
       "      <td>1</td>\n",
       "      <td>72288</td>\n",
       "      <td>0</td>\n",
       "      <td>0.481401</td>\n",
       "      <td>1.0</td>\n",
       "    </tr>\n",
       "  </tbody>\n",
       "</table>\n",
       "</div>"
      ],
      "text/plain": [
       "   CustomerId  CreditScore  Age  Tenure  Balance  NumOfProducts  HasCrCard  \\\n",
       "0       17270          594   31       3     3414              1          1   \n",
       "1       10860          796   35       3     6656              2          1   \n",
       "2       15390          580   56       3     9962              3          1   \n",
       "3       15191          674   35       2     6147              1          0   \n",
       "4       15734          721   36       6     5444              1          1   \n",
       "\n",
       "   IsActiveMember  EstimatedSalary  Churn  CustomerLifetimeValue  \\\n",
       "0               0            93705      0              -0.835803   \n",
       "1               1            61819      0              -0.133429   \n",
       "2               0            75376      0               0.363594   \n",
       "3               0            60504      0              -0.657338   \n",
       "4               1            72288      0               0.481401   \n",
       "\n",
       "   CustomerEngagementScore  \n",
       "0                      0.5  \n",
       "1                      1.5  \n",
       "2                      1.5  \n",
       "3                      0.5  \n",
       "4                      1.0  "
      ]
     },
     "execution_count": 23,
     "metadata": {},
     "output_type": "execute_result"
    }
   ],
   "source": [
    "customer_data_df['CustomerLifetimeValue']=customer_clv_transform\n",
    "customer_data_df.head()"
   ]
  },
  {
   "cell_type": "markdown",
   "id": "2a577bb7",
   "metadata": {
    "papermill": {
     "duration": 0.016714,
     "end_time": "2024-03-20T08:19:17.362795",
     "exception": false,
     "start_time": "2024-03-20T08:19:17.346081",
     "status": "completed"
    },
    "tags": []
   },
   "source": [
    "# Displaying the Correlation Between Features for the Customer Data to see the inter-relation between different features"
   ]
  },
  {
   "cell_type": "code",
   "execution_count": 24,
   "id": "1bc52d58",
   "metadata": {
    "execution": {
     "iopub.execute_input": "2024-03-20T08:19:17.399233Z",
     "iopub.status.busy": "2024-03-20T08:19:17.398056Z",
     "iopub.status.idle": "2024-03-20T08:19:17.493930Z",
     "shell.execute_reply": "2024-03-20T08:19:17.492571Z"
    },
    "papermill": {
     "duration": 0.116576,
     "end_time": "2024-03-20T08:19:17.496343",
     "exception": false,
     "start_time": "2024-03-20T08:19:17.379767",
     "status": "completed"
    },
    "tags": []
   },
   "outputs": [
    {
     "data": {
      "text/html": [
       "<div>                            <div id=\"e2583659-ea5f-4840-96de-dac00c6c723b\" class=\"plotly-graph-div\" style=\"height:1000px; width:1000px;\"></div>            <script type=\"text/javascript\">                require([\"plotly\"], function(Plotly) {                    window.PLOTLYENV=window.PLOTLYENV || {};                                    if (document.getElementById(\"e2583659-ea5f-4840-96de-dac00c6c723b\")) {                    Plotly.newPlot(                        \"e2583659-ea5f-4840-96de-dac00c6c723b\",                        [{\"coloraxis\":\"coloraxis\",\"name\":\"0\",\"x\":[\"CustomerId\",\"CreditScore\",\"Age\",\"Tenure\",\"Balance\",\"NumOfProducts\",\"HasCrCard\",\"IsActiveMember\",\"EstimatedSalary\",\"Churn\",\"CustomerLifetimeValue\",\"CustomerEngagementScore\"],\"y\":[\"CustomerId\",\"CreditScore\",\"Age\",\"Tenure\",\"Balance\",\"NumOfProducts\",\"HasCrCard\",\"IsActiveMember\",\"EstimatedSalary\",\"Churn\",\"CustomerLifetimeValue\",\"CustomerEngagementScore\"],\"z\":[[1.0,0.00981434923126021,0.0003180398682338902,0.0017819035370225532,0.00013007384464052942,-0.02701264766029117,-0.008319972203557386,-0.005947413548471809,0.0073189895092832255,-0.004653058441091332,-0.0028518644370534043,-0.02712388682687829],[0.00981434923126021,1.0,-0.0007272354429395822,0.00171876118347604,-0.01781842825564153,-0.02023039951974846,0.005005774218554803,0.007841404695117847,-0.009313786165682873,0.009273330890093901,-0.01131465363473296,-0.015284146628940702],[0.0003180398682338902,-0.0007272354429395822,1.0,0.01987601210844068,0.020163996044151804,0.0018244779195292367,0.004762165689647351,0.006532762234601445,-0.006778522248844799,0.002780225111372245,0.026238465498266063,0.004339934610403842],[0.0017819035370225532,0.00171876118347604,0.01987601210844068,1.0,-0.004334429679421065,-0.005517564587317723,0.010618644441099934,0.022107807385909305,0.01210381034406414,-0.011136649825472758,0.7213960440859858,0.003999950632634526],[0.00013007384464052942,-0.01781842825564153,0.020163996044151804,-0.004334429679421065,1.0,0.005619071660968565,0.005707889434846659,-0.011417408440790129,0.01474930857126932,-0.010350247585747461,0.6491500053043117,0.00046579522050925844],[-0.02701264766029117,-0.02023039951974846,0.0018244779195292367,-0.005517564587317723,0.005619071660968565,1.0,0.011847868897908087,-0.0037765272352193427,0.0042784556346745885,0.020253324489611004,-0.0006464369272041366,0.9125109709372947],[-0.008319972203557386,0.005005774218554803,0.004762165689647351,0.010618644441099934,0.005707889434846659,0.011847868897908087,1.0,0.009329473973813255,-0.010690177721360333,-0.002864817765006057,0.007102574246501171,0.014645882393054524],[-0.005947413548471809,0.007841404695117847,0.006532762234601445,0.022107807385909305,-0.011417408440790129,-0.0037765272352193427,0.009329473973813255,1.0,0.009147519069671744,0.02096563631919163,0.006965239221253919,0.40560319175644777],[0.0073189895092832255,-0.009313786165682873,-0.006778522248844799,0.01210381034406414,0.01474930857126932,0.0042784556346745885,-0.010690177721360333,0.009147519069671744,1.0,0.003967512592984061,0.016872676467999597,0.007652586867028133],[-0.004653058441091332,0.009273330890093901,0.002780225111372245,-0.011136649825472758,-0.010350247585747461,0.020253324489611004,-0.002864817765006057,0.02096563631919163,0.003967512592984061,1.0,-0.016257355358662157,0.027088769764309212],[-0.0028518644370534043,-0.01131465363473296,0.026238465498266063,0.7213960440859858,0.6491500053043117,-0.0006464369272041366,0.007102574246501171,0.006965239221253919,0.016872676467999597,-0.016257355358662157,1.0,0.0022582875536233194],[-0.02712388682687829,-0.015284146628940702,0.004339934610403842,0.003999950632634526,0.00046579522050925844,0.9125109709372947,0.014645882393054524,0.40560319175644777,0.007652586867028133,0.027088769764309212,0.0022582875536233194,1.0]],\"type\":\"heatmap\",\"xaxis\":\"x\",\"yaxis\":\"y\",\"hovertemplate\":\"x: %{x}\\u003cbr\\u003ey: %{y}\\u003cbr\\u003ecolor: %{z}\\u003cextra\\u003e\\u003c\\u002fextra\\u003e\"}],                        {\"template\":{\"data\":{\"histogram2dcontour\":[{\"type\":\"histogram2dcontour\",\"colorbar\":{\"outlinewidth\":0,\"ticks\":\"\"},\"colorscale\":[[0.0,\"#0d0887\"],[0.1111111111111111,\"#46039f\"],[0.2222222222222222,\"#7201a8\"],[0.3333333333333333,\"#9c179e\"],[0.4444444444444444,\"#bd3786\"],[0.5555555555555556,\"#d8576b\"],[0.6666666666666666,\"#ed7953\"],[0.7777777777777778,\"#fb9f3a\"],[0.8888888888888888,\"#fdca26\"],[1.0,\"#f0f921\"]]}],\"choropleth\":[{\"type\":\"choropleth\",\"colorbar\":{\"outlinewidth\":0,\"ticks\":\"\"}}],\"histogram2d\":[{\"type\":\"histogram2d\",\"colorbar\":{\"outlinewidth\":0,\"ticks\":\"\"},\"colorscale\":[[0.0,\"#0d0887\"],[0.1111111111111111,\"#46039f\"],[0.2222222222222222,\"#7201a8\"],[0.3333333333333333,\"#9c179e\"],[0.4444444444444444,\"#bd3786\"],[0.5555555555555556,\"#d8576b\"],[0.6666666666666666,\"#ed7953\"],[0.7777777777777778,\"#fb9f3a\"],[0.8888888888888888,\"#fdca26\"],[1.0,\"#f0f921\"]]}],\"heatmap\":[{\"type\":\"heatmap\",\"colorbar\":{\"outlinewidth\":0,\"ticks\":\"\"},\"colorscale\":[[0.0,\"#0d0887\"],[0.1111111111111111,\"#46039f\"],[0.2222222222222222,\"#7201a8\"],[0.3333333333333333,\"#9c179e\"],[0.4444444444444444,\"#bd3786\"],[0.5555555555555556,\"#d8576b\"],[0.6666666666666666,\"#ed7953\"],[0.7777777777777778,\"#fb9f3a\"],[0.8888888888888888,\"#fdca26\"],[1.0,\"#f0f921\"]]}],\"heatmapgl\":[{\"type\":\"heatmapgl\",\"colorbar\":{\"outlinewidth\":0,\"ticks\":\"\"},\"colorscale\":[[0.0,\"#0d0887\"],[0.1111111111111111,\"#46039f\"],[0.2222222222222222,\"#7201a8\"],[0.3333333333333333,\"#9c179e\"],[0.4444444444444444,\"#bd3786\"],[0.5555555555555556,\"#d8576b\"],[0.6666666666666666,\"#ed7953\"],[0.7777777777777778,\"#fb9f3a\"],[0.8888888888888888,\"#fdca26\"],[1.0,\"#f0f921\"]]}],\"contourcarpet\":[{\"type\":\"contourcarpet\",\"colorbar\":{\"outlinewidth\":0,\"ticks\":\"\"}}],\"contour\":[{\"type\":\"contour\",\"colorbar\":{\"outlinewidth\":0,\"ticks\":\"\"},\"colorscale\":[[0.0,\"#0d0887\"],[0.1111111111111111,\"#46039f\"],[0.2222222222222222,\"#7201a8\"],[0.3333333333333333,\"#9c179e\"],[0.4444444444444444,\"#bd3786\"],[0.5555555555555556,\"#d8576b\"],[0.6666666666666666,\"#ed7953\"],[0.7777777777777778,\"#fb9f3a\"],[0.8888888888888888,\"#fdca26\"],[1.0,\"#f0f921\"]]}],\"surface\":[{\"type\":\"surface\",\"colorbar\":{\"outlinewidth\":0,\"ticks\":\"\"},\"colorscale\":[[0.0,\"#0d0887\"],[0.1111111111111111,\"#46039f\"],[0.2222222222222222,\"#7201a8\"],[0.3333333333333333,\"#9c179e\"],[0.4444444444444444,\"#bd3786\"],[0.5555555555555556,\"#d8576b\"],[0.6666666666666666,\"#ed7953\"],[0.7777777777777778,\"#fb9f3a\"],[0.8888888888888888,\"#fdca26\"],[1.0,\"#f0f921\"]]}],\"mesh3d\":[{\"type\":\"mesh3d\",\"colorbar\":{\"outlinewidth\":0,\"ticks\":\"\"}}],\"scatter\":[{\"fillpattern\":{\"fillmode\":\"overlay\",\"size\":10,\"solidity\":0.2},\"type\":\"scatter\"}],\"parcoords\":[{\"type\":\"parcoords\",\"line\":{\"colorbar\":{\"outlinewidth\":0,\"ticks\":\"\"}}}],\"scatterpolargl\":[{\"type\":\"scatterpolargl\",\"marker\":{\"colorbar\":{\"outlinewidth\":0,\"ticks\":\"\"}}}],\"bar\":[{\"error_x\":{\"color\":\"#2a3f5f\"},\"error_y\":{\"color\":\"#2a3f5f\"},\"marker\":{\"line\":{\"color\":\"#E5ECF6\",\"width\":0.5},\"pattern\":{\"fillmode\":\"overlay\",\"size\":10,\"solidity\":0.2}},\"type\":\"bar\"}],\"scattergeo\":[{\"type\":\"scattergeo\",\"marker\":{\"colorbar\":{\"outlinewidth\":0,\"ticks\":\"\"}}}],\"scatterpolar\":[{\"type\":\"scatterpolar\",\"marker\":{\"colorbar\":{\"outlinewidth\":0,\"ticks\":\"\"}}}],\"histogram\":[{\"marker\":{\"pattern\":{\"fillmode\":\"overlay\",\"size\":10,\"solidity\":0.2}},\"type\":\"histogram\"}],\"scattergl\":[{\"type\":\"scattergl\",\"marker\":{\"colorbar\":{\"outlinewidth\":0,\"ticks\":\"\"}}}],\"scatter3d\":[{\"type\":\"scatter3d\",\"line\":{\"colorbar\":{\"outlinewidth\":0,\"ticks\":\"\"}},\"marker\":{\"colorbar\":{\"outlinewidth\":0,\"ticks\":\"\"}}}],\"scattermapbox\":[{\"type\":\"scattermapbox\",\"marker\":{\"colorbar\":{\"outlinewidth\":0,\"ticks\":\"\"}}}],\"scatterternary\":[{\"type\":\"scatterternary\",\"marker\":{\"colorbar\":{\"outlinewidth\":0,\"ticks\":\"\"}}}],\"scattercarpet\":[{\"type\":\"scattercarpet\",\"marker\":{\"colorbar\":{\"outlinewidth\":0,\"ticks\":\"\"}}}],\"carpet\":[{\"aaxis\":{\"endlinecolor\":\"#2a3f5f\",\"gridcolor\":\"white\",\"linecolor\":\"white\",\"minorgridcolor\":\"white\",\"startlinecolor\":\"#2a3f5f\"},\"baxis\":{\"endlinecolor\":\"#2a3f5f\",\"gridcolor\":\"white\",\"linecolor\":\"white\",\"minorgridcolor\":\"white\",\"startlinecolor\":\"#2a3f5f\"},\"type\":\"carpet\"}],\"table\":[{\"cells\":{\"fill\":{\"color\":\"#EBF0F8\"},\"line\":{\"color\":\"white\"}},\"header\":{\"fill\":{\"color\":\"#C8D4E3\"},\"line\":{\"color\":\"white\"}},\"type\":\"table\"}],\"barpolar\":[{\"marker\":{\"line\":{\"color\":\"#E5ECF6\",\"width\":0.5},\"pattern\":{\"fillmode\":\"overlay\",\"size\":10,\"solidity\":0.2}},\"type\":\"barpolar\"}],\"pie\":[{\"automargin\":true,\"type\":\"pie\"}]},\"layout\":{\"autotypenumbers\":\"strict\",\"colorway\":[\"#636efa\",\"#EF553B\",\"#00cc96\",\"#ab63fa\",\"#FFA15A\",\"#19d3f3\",\"#FF6692\",\"#B6E880\",\"#FF97FF\",\"#FECB52\"],\"font\":{\"color\":\"#2a3f5f\"},\"hovermode\":\"closest\",\"hoverlabel\":{\"align\":\"left\"},\"paper_bgcolor\":\"white\",\"plot_bgcolor\":\"#E5ECF6\",\"polar\":{\"bgcolor\":\"#E5ECF6\",\"angularaxis\":{\"gridcolor\":\"white\",\"linecolor\":\"white\",\"ticks\":\"\"},\"radialaxis\":{\"gridcolor\":\"white\",\"linecolor\":\"white\",\"ticks\":\"\"}},\"ternary\":{\"bgcolor\":\"#E5ECF6\",\"aaxis\":{\"gridcolor\":\"white\",\"linecolor\":\"white\",\"ticks\":\"\"},\"baxis\":{\"gridcolor\":\"white\",\"linecolor\":\"white\",\"ticks\":\"\"},\"caxis\":{\"gridcolor\":\"white\",\"linecolor\":\"white\",\"ticks\":\"\"}},\"coloraxis\":{\"colorbar\":{\"outlinewidth\":0,\"ticks\":\"\"}},\"colorscale\":{\"sequential\":[[0.0,\"#0d0887\"],[0.1111111111111111,\"#46039f\"],[0.2222222222222222,\"#7201a8\"],[0.3333333333333333,\"#9c179e\"],[0.4444444444444444,\"#bd3786\"],[0.5555555555555556,\"#d8576b\"],[0.6666666666666666,\"#ed7953\"],[0.7777777777777778,\"#fb9f3a\"],[0.8888888888888888,\"#fdca26\"],[1.0,\"#f0f921\"]],\"sequentialminus\":[[0.0,\"#0d0887\"],[0.1111111111111111,\"#46039f\"],[0.2222222222222222,\"#7201a8\"],[0.3333333333333333,\"#9c179e\"],[0.4444444444444444,\"#bd3786\"],[0.5555555555555556,\"#d8576b\"],[0.6666666666666666,\"#ed7953\"],[0.7777777777777778,\"#fb9f3a\"],[0.8888888888888888,\"#fdca26\"],[1.0,\"#f0f921\"]],\"diverging\":[[0,\"#8e0152\"],[0.1,\"#c51b7d\"],[0.2,\"#de77ae\"],[0.3,\"#f1b6da\"],[0.4,\"#fde0ef\"],[0.5,\"#f7f7f7\"],[0.6,\"#e6f5d0\"],[0.7,\"#b8e186\"],[0.8,\"#7fbc41\"],[0.9,\"#4d9221\"],[1,\"#276419\"]]},\"xaxis\":{\"gridcolor\":\"white\",\"linecolor\":\"white\",\"ticks\":\"\",\"title\":{\"standoff\":15},\"zerolinecolor\":\"white\",\"automargin\":true,\"zerolinewidth\":2},\"yaxis\":{\"gridcolor\":\"white\",\"linecolor\":\"white\",\"ticks\":\"\",\"title\":{\"standoff\":15},\"zerolinecolor\":\"white\",\"automargin\":true,\"zerolinewidth\":2},\"scene\":{\"xaxis\":{\"backgroundcolor\":\"#E5ECF6\",\"gridcolor\":\"white\",\"linecolor\":\"white\",\"showbackground\":true,\"ticks\":\"\",\"zerolinecolor\":\"white\",\"gridwidth\":2},\"yaxis\":{\"backgroundcolor\":\"#E5ECF6\",\"gridcolor\":\"white\",\"linecolor\":\"white\",\"showbackground\":true,\"ticks\":\"\",\"zerolinecolor\":\"white\",\"gridwidth\":2},\"zaxis\":{\"backgroundcolor\":\"#E5ECF6\",\"gridcolor\":\"white\",\"linecolor\":\"white\",\"showbackground\":true,\"ticks\":\"\",\"zerolinecolor\":\"white\",\"gridwidth\":2}},\"shapedefaults\":{\"line\":{\"color\":\"#2a3f5f\"}},\"annotationdefaults\":{\"arrowcolor\":\"#2a3f5f\",\"arrowhead\":0,\"arrowwidth\":1},\"geo\":{\"bgcolor\":\"white\",\"landcolor\":\"#E5ECF6\",\"subunitcolor\":\"white\",\"showland\":true,\"showlakes\":true,\"lakecolor\":\"white\"},\"title\":{\"x\":0.05},\"mapbox\":{\"style\":\"light\"}}},\"xaxis\":{\"anchor\":\"y\",\"domain\":[0.0,1.0],\"scaleanchor\":\"y\",\"constrain\":\"domain\"},\"yaxis\":{\"anchor\":\"x\",\"domain\":[0.0,1.0],\"autorange\":\"reversed\",\"constrain\":\"domain\"},\"coloraxis\":{\"colorscale\":[[0.0,\"#0d0887\"],[0.1111111111111111,\"#46039f\"],[0.2222222222222222,\"#7201a8\"],[0.3333333333333333,\"#9c179e\"],[0.4444444444444444,\"#bd3786\"],[0.5555555555555556,\"#d8576b\"],[0.6666666666666666,\"#ed7953\"],[0.7777777777777778,\"#fb9f3a\"],[0.8888888888888888,\"#fdca26\"],[1.0,\"#f0f921\"]]},\"margin\":{\"t\":60},\"height\":1000,\"width\":1000},                        {\"responsive\": true}                    ).then(function(){\n",
       "                            \n",
       "var gd = document.getElementById('e2583659-ea5f-4840-96de-dac00c6c723b');\n",
       "var x = new MutationObserver(function (mutations, observer) {{\n",
       "        var display = window.getComputedStyle(gd).display;\n",
       "        if (!display || display === 'none') {{\n",
       "            console.log([gd, 'removed!']);\n",
       "            Plotly.purge(gd);\n",
       "            observer.disconnect();\n",
       "        }}\n",
       "}});\n",
       "\n",
       "// Listen for the removal of the full notebook cells\n",
       "var notebookContainer = gd.closest('#notebook-container');\n",
       "if (notebookContainer) {{\n",
       "    x.observe(notebookContainer, {childList: true});\n",
       "}}\n",
       "\n",
       "// Listen for the clearing of the current output cell\n",
       "var outputEl = gd.closest('.output');\n",
       "if (outputEl) {{\n",
       "    x.observe(outputEl, {childList: true});\n",
       "}}\n",
       "\n",
       "                        })                };                });            </script>        </div>"
      ]
     },
     "metadata": {},
     "output_type": "display_data"
    }
   ],
   "source": [
    "corr = customer_data_df.corr()\n",
    "\n",
    "fig = px.imshow(corr,width=1000, height=1000)\n",
    "fig.show()"
   ]
  },
  {
   "cell_type": "markdown",
   "id": "82330da4",
   "metadata": {
    "papermill": {
     "duration": 0.01741,
     "end_time": "2024-03-20T08:19:17.532036",
     "exception": false,
     "start_time": "2024-03-20T08:19:17.514626",
     "status": "completed"
    },
    "tags": []
   },
   "source": [
    "# Dropping the CustomerID row as it is not useful for the AI Models\n"
   ]
  },
  {
   "cell_type": "code",
   "execution_count": 25,
   "id": "e62ba76a",
   "metadata": {
    "execution": {
     "iopub.execute_input": "2024-03-20T08:19:17.569222Z",
     "iopub.status.busy": "2024-03-20T08:19:17.568854Z",
     "iopub.status.idle": "2024-03-20T08:19:17.585408Z",
     "shell.execute_reply": "2024-03-20T08:19:17.584173Z"
    },
    "papermill": {
     "duration": 0.038035,
     "end_time": "2024-03-20T08:19:17.587664",
     "exception": false,
     "start_time": "2024-03-20T08:19:17.549629",
     "status": "completed"
    },
    "tags": []
   },
   "outputs": [
    {
     "data": {
      "text/html": [
       "<div>\n",
       "<style scoped>\n",
       "    .dataframe tbody tr th:only-of-type {\n",
       "        vertical-align: middle;\n",
       "    }\n",
       "\n",
       "    .dataframe tbody tr th {\n",
       "        vertical-align: top;\n",
       "    }\n",
       "\n",
       "    .dataframe thead th {\n",
       "        text-align: right;\n",
       "    }\n",
       "</style>\n",
       "<table border=\"1\" class=\"dataframe\">\n",
       "  <thead>\n",
       "    <tr style=\"text-align: right;\">\n",
       "      <th></th>\n",
       "      <th>CreditScore</th>\n",
       "      <th>Age</th>\n",
       "      <th>Tenure</th>\n",
       "      <th>Balance</th>\n",
       "      <th>NumOfProducts</th>\n",
       "      <th>HasCrCard</th>\n",
       "      <th>IsActiveMember</th>\n",
       "      <th>EstimatedSalary</th>\n",
       "      <th>Churn</th>\n",
       "      <th>CustomerLifetimeValue</th>\n",
       "      <th>CustomerEngagementScore</th>\n",
       "    </tr>\n",
       "  </thead>\n",
       "  <tbody>\n",
       "    <tr>\n",
       "      <th>0</th>\n",
       "      <td>594</td>\n",
       "      <td>31</td>\n",
       "      <td>3</td>\n",
       "      <td>3414</td>\n",
       "      <td>1</td>\n",
       "      <td>1</td>\n",
       "      <td>0</td>\n",
       "      <td>93705</td>\n",
       "      <td>0</td>\n",
       "      <td>-0.835803</td>\n",
       "      <td>0.5</td>\n",
       "    </tr>\n",
       "    <tr>\n",
       "      <th>1</th>\n",
       "      <td>796</td>\n",
       "      <td>35</td>\n",
       "      <td>3</td>\n",
       "      <td>6656</td>\n",
       "      <td>2</td>\n",
       "      <td>1</td>\n",
       "      <td>1</td>\n",
       "      <td>61819</td>\n",
       "      <td>0</td>\n",
       "      <td>-0.133429</td>\n",
       "      <td>1.5</td>\n",
       "    </tr>\n",
       "    <tr>\n",
       "      <th>2</th>\n",
       "      <td>580</td>\n",
       "      <td>56</td>\n",
       "      <td>3</td>\n",
       "      <td>9962</td>\n",
       "      <td>3</td>\n",
       "      <td>1</td>\n",
       "      <td>0</td>\n",
       "      <td>75376</td>\n",
       "      <td>0</td>\n",
       "      <td>0.363594</td>\n",
       "      <td>1.5</td>\n",
       "    </tr>\n",
       "    <tr>\n",
       "      <th>3</th>\n",
       "      <td>674</td>\n",
       "      <td>35</td>\n",
       "      <td>2</td>\n",
       "      <td>6147</td>\n",
       "      <td>1</td>\n",
       "      <td>0</td>\n",
       "      <td>0</td>\n",
       "      <td>60504</td>\n",
       "      <td>0</td>\n",
       "      <td>-0.657338</td>\n",
       "      <td>0.5</td>\n",
       "    </tr>\n",
       "    <tr>\n",
       "      <th>4</th>\n",
       "      <td>721</td>\n",
       "      <td>36</td>\n",
       "      <td>6</td>\n",
       "      <td>5444</td>\n",
       "      <td>1</td>\n",
       "      <td>1</td>\n",
       "      <td>1</td>\n",
       "      <td>72288</td>\n",
       "      <td>0</td>\n",
       "      <td>0.481401</td>\n",
       "      <td>1.0</td>\n",
       "    </tr>\n",
       "  </tbody>\n",
       "</table>\n",
       "</div>"
      ],
      "text/plain": [
       "   CreditScore  Age  Tenure  Balance  NumOfProducts  HasCrCard  \\\n",
       "0          594   31       3     3414              1          1   \n",
       "1          796   35       3     6656              2          1   \n",
       "2          580   56       3     9962              3          1   \n",
       "3          674   35       2     6147              1          0   \n",
       "4          721   36       6     5444              1          1   \n",
       "\n",
       "   IsActiveMember  EstimatedSalary  Churn  CustomerLifetimeValue  \\\n",
       "0               0            93705      0              -0.835803   \n",
       "1               1            61819      0              -0.133429   \n",
       "2               0            75376      0               0.363594   \n",
       "3               0            60504      0              -0.657338   \n",
       "4               1            72288      0               0.481401   \n",
       "\n",
       "   CustomerEngagementScore  \n",
       "0                      0.5  \n",
       "1                      1.5  \n",
       "2                      1.5  \n",
       "3                      0.5  \n",
       "4                      1.0  "
      ]
     },
     "execution_count": 25,
     "metadata": {},
     "output_type": "execute_result"
    }
   ],
   "source": [
    "customer_data_df = customer_data_df.drop('CustomerId', axis=1)\n",
    "customer_data_df.head()"
   ]
  },
  {
   "cell_type": "markdown",
   "id": "0d4bd938",
   "metadata": {
    "papermill": {
     "duration": 0.017235,
     "end_time": "2024-03-20T08:19:17.622690",
     "exception": false,
     "start_time": "2024-03-20T08:19:17.605455",
     "status": "completed"
    },
    "tags": []
   },
   "source": [
    "<h1 style=\"color:Tomato; text-align:center;\">Step 5 -Model Selection and Training\n",
    "</h1>"
   ]
  },
  {
   "cell_type": "markdown",
   "id": "a9eb627e",
   "metadata": {
    "papermill": {
     "duration": 0.016884,
     "end_time": "2024-03-20T08:19:17.656784",
     "exception": false,
     "start_time": "2024-03-20T08:19:17.639900",
     "status": "completed"
    },
    "tags": []
   },
   "source": [
    "# Training Popular Models"
   ]
  },
  {
   "cell_type": "code",
   "execution_count": 26,
   "id": "f37eca79",
   "metadata": {
    "execution": {
     "iopub.execute_input": "2024-03-20T08:19:17.694634Z",
     "iopub.status.busy": "2024-03-20T08:19:17.693786Z",
     "iopub.status.idle": "2024-03-20T08:19:18.234687Z",
     "shell.execute_reply": "2024-03-20T08:19:18.233583Z"
    },
    "papermill": {
     "duration": 0.562479,
     "end_time": "2024-03-20T08:19:18.237362",
     "exception": false,
     "start_time": "2024-03-20T08:19:17.674883",
     "status": "completed"
    },
    "tags": []
   },
   "outputs": [],
   "source": [
    "# Importing Popular Machine learning algorithm \n",
    "from sklearn.linear_model import LogisticRegression\n",
    "from sklearn.svm import SVC\n",
    "from sklearn.ensemble import RandomForestClassifier\n",
    "from sklearn.neighbors import  KNeighborsClassifier\n",
    "from sklearn.tree import DecisionTreeClassifier\n",
    "from sklearn.naive_bayes import GaussianNB\n",
    "\n",
    "# Importing metrics for performance evaluation\n",
    "from sklearn.metrics import classification_report"
   ]
  },
  {
   "cell_type": "code",
   "execution_count": 27,
   "id": "5594e034",
   "metadata": {
    "execution": {
     "iopub.execute_input": "2024-03-20T08:19:18.276559Z",
     "iopub.status.busy": "2024-03-20T08:19:18.276133Z",
     "iopub.status.idle": "2024-03-20T08:19:18.288966Z",
     "shell.execute_reply": "2024-03-20T08:19:18.287916Z"
    },
    "papermill": {
     "duration": 0.036238,
     "end_time": "2024-03-20T08:19:18.291226",
     "exception": false,
     "start_time": "2024-03-20T08:19:18.254988",
     "status": "completed"
    },
    "tags": []
   },
   "outputs": [],
   "source": [
    "# Making the Features and Target Variable\n",
    "# Spliting data into Train and Test sets\n",
    "from sklearn.model_selection import train_test_split\n",
    "\n",
    "customer_features=['CreditScore', 'Age', 'Tenure', 'Balance','NumOfProducts', 'HasCrCard', 'IsActiveMember', 'EstimatedSalary','CustomerLifetimeValue', 'CustomerEngagementScore']\n",
    "X = customer_data_df[customer_features]\n",
    "y = customer_data_df['Churn']\n",
    "\n",
    "X_train, X_test, y_train, y_test = train_test_split(X, y, test_size=0.3, random_state=1)"
   ]
  },
  {
   "cell_type": "markdown",
   "id": "e4b1ea39",
   "metadata": {
    "papermill": {
     "duration": 0.017214,
     "end_time": "2024-03-20T08:19:18.325952",
     "exception": false,
     "start_time": "2024-03-20T08:19:18.308738",
     "status": "completed"
    },
    "tags": []
   },
   "source": [
    "# Defining a function that takes the Algorithm Name as Input and returns the Prediction Accuracy Report"
   ]
  },
  {
   "cell_type": "code",
   "execution_count": 28,
   "id": "02ccb272",
   "metadata": {
    "execution": {
     "iopub.execute_input": "2024-03-20T08:19:18.364411Z",
     "iopub.status.busy": "2024-03-20T08:19:18.363126Z",
     "iopub.status.idle": "2024-03-20T08:19:18.369894Z",
     "shell.execute_reply": "2024-03-20T08:19:18.368778Z"
    },
    "papermill": {
     "duration": 0.028885,
     "end_time": "2024-03-20T08:19:18.372833",
     "exception": false,
     "start_time": "2024-03-20T08:19:18.343948",
     "status": "completed"
    },
    "tags": []
   },
   "outputs": [],
   "source": [
    "#Defining the ML modeling function\n",
    "def ml_model(alg, alg_name, r_state=True):\n",
    "    if r_state:\n",
    "        model = alg(random_state=1)\n",
    "    else:\n",
    "        model = alg() \n",
    "    model.fit(X_train, y_train)\n",
    "    y_pred = model.predict(X_test)\n",
    "    print(alg_name + \" Prediction Report\")\n",
    "    \n",
    "    #Performance evaluation\n",
    "    print(classification_report(y_test, y_pred, target_names=['No', 'Yes'], zero_division=0))   \n",
    "    return model\n"
   ]
  },
  {
   "cell_type": "code",
   "execution_count": 29,
   "id": "805db6ca",
   "metadata": {
    "execution": {
     "iopub.execute_input": "2024-03-20T08:19:18.410388Z",
     "iopub.status.busy": "2024-03-20T08:19:18.409973Z",
     "iopub.status.idle": "2024-03-20T08:19:18.496770Z",
     "shell.execute_reply": "2024-03-20T08:19:18.495423Z"
    },
    "papermill": {
     "duration": 0.109692,
     "end_time": "2024-03-20T08:19:18.500482",
     "exception": false,
     "start_time": "2024-03-20T08:19:18.390790",
     "status": "completed"
    },
    "tags": []
   },
   "outputs": [
    {
     "name": "stdout",
     "output_type": "stream",
     "text": [
      "Logistic Regression Prediction Report\n",
      "              precision    recall  f1-score   support\n",
      "\n",
      "          No       0.90      1.00      0.95      2701\n",
      "         Yes       0.00      0.00      0.00       299\n",
      "\n",
      "    accuracy                           0.90      3000\n",
      "   macro avg       0.45      0.50      0.47      3000\n",
      "weighted avg       0.81      0.90      0.85      3000\n",
      "\n"
     ]
    }
   ],
   "source": [
    "# Logistic Regression Model\n",
    "log_model = ml_model(LogisticRegression, 'Logistic Regression', True)"
   ]
  },
  {
   "cell_type": "code",
   "execution_count": 30,
   "id": "9ec73d54",
   "metadata": {
    "execution": {
     "iopub.execute_input": "2024-03-20T08:19:18.567050Z",
     "iopub.status.busy": "2024-03-20T08:19:18.566353Z",
     "iopub.status.idle": "2024-03-20T08:19:19.466390Z",
     "shell.execute_reply": "2024-03-20T08:19:19.465213Z"
    },
    "papermill": {
     "duration": 0.935245,
     "end_time": "2024-03-20T08:19:19.468703",
     "exception": false,
     "start_time": "2024-03-20T08:19:18.533458",
     "status": "completed"
    },
    "tags": []
   },
   "outputs": [
    {
     "name": "stdout",
     "output_type": "stream",
     "text": [
      "SVC Classification Prediction Report\n",
      "              precision    recall  f1-score   support\n",
      "\n",
      "          No       0.90      1.00      0.95      2701\n",
      "         Yes       0.00      0.00      0.00       299\n",
      "\n",
      "    accuracy                           0.90      3000\n",
      "   macro avg       0.45      0.50      0.47      3000\n",
      "weighted avg       0.81      0.90      0.85      3000\n",
      "\n"
     ]
    }
   ],
   "source": [
    "# SVC Classification Model\n",
    "svc_model = ml_model(SVC, 'SVC Classification', True)"
   ]
  },
  {
   "cell_type": "code",
   "execution_count": 31,
   "id": "68ed40d2",
   "metadata": {
    "execution": {
     "iopub.execute_input": "2024-03-20T08:19:19.507950Z",
     "iopub.status.busy": "2024-03-20T08:19:19.506824Z",
     "iopub.status.idle": "2024-03-20T08:19:21.296382Z",
     "shell.execute_reply": "2024-03-20T08:19:21.294616Z"
    },
    "papermill": {
     "duration": 1.814486,
     "end_time": "2024-03-20T08:19:21.302071",
     "exception": false,
     "start_time": "2024-03-20T08:19:19.487585",
     "status": "completed"
    },
    "tags": []
   },
   "outputs": [
    {
     "name": "stdout",
     "output_type": "stream",
     "text": [
      "Random Forest Classification Prediction Report\n",
      "              precision    recall  f1-score   support\n",
      "\n",
      "          No       0.90      1.00      0.95      2701\n",
      "         Yes       0.00      0.00      0.00       299\n",
      "\n",
      "    accuracy                           0.90      3000\n",
      "   macro avg       0.45      0.50      0.47      3000\n",
      "weighted avg       0.81      0.90      0.85      3000\n",
      "\n"
     ]
    }
   ],
   "source": [
    "# Random Forest Classification Model\n",
    "lr_model = ml_model(RandomForestClassifier, \"Random Forest Classification\", True)"
   ]
  },
  {
   "cell_type": "code",
   "execution_count": 32,
   "id": "30893d45",
   "metadata": {
    "execution": {
     "iopub.execute_input": "2024-03-20T08:19:21.350258Z",
     "iopub.status.busy": "2024-03-20T08:19:21.349569Z",
     "iopub.status.idle": "2024-03-20T08:19:23.133458Z",
     "shell.execute_reply": "2024-03-20T08:19:23.132249Z"
    },
    "papermill": {
     "duration": 1.811093,
     "end_time": "2024-03-20T08:19:23.135770",
     "exception": false,
     "start_time": "2024-03-20T08:19:21.324677",
     "status": "completed"
    },
    "tags": []
   },
   "outputs": [
    {
     "name": "stdout",
     "output_type": "stream",
     "text": [
      "Random Forest Classification Prediction Report\n",
      "              precision    recall  f1-score   support\n",
      "\n",
      "          No       0.90      1.00      0.95      2701\n",
      "         Yes       0.00      0.00      0.00       299\n",
      "\n",
      "    accuracy                           0.90      3000\n",
      "   macro avg       0.45      0.50      0.47      3000\n",
      "weighted avg       0.81      0.90      0.85      3000\n",
      "\n"
     ]
    }
   ],
   "source": [
    "# Random Forest Classification Model\n",
    "rf_model = ml_model(RandomForestClassifier, \"Random Forest Classification\", True)"
   ]
  },
  {
   "cell_type": "code",
   "execution_count": 33,
   "id": "787fca6b",
   "metadata": {
    "execution": {
     "iopub.execute_input": "2024-03-20T08:19:23.174341Z",
     "iopub.status.busy": "2024-03-20T08:19:23.173501Z",
     "iopub.status.idle": "2024-03-20T08:19:23.295977Z",
     "shell.execute_reply": "2024-03-20T08:19:23.294228Z"
    },
    "papermill": {
     "duration": 0.144198,
     "end_time": "2024-03-20T08:19:23.298435",
     "exception": false,
     "start_time": "2024-03-20T08:19:23.154237",
     "status": "completed"
    },
    "tags": []
   },
   "outputs": [
    {
     "name": "stdout",
     "output_type": "stream",
     "text": [
      "Decision Tree Classification Prediction Report\n",
      "              precision    recall  f1-score   support\n",
      "\n",
      "          No       0.90      0.88      0.89      2701\n",
      "         Yes       0.09      0.10      0.09       299\n",
      "\n",
      "    accuracy                           0.81      3000\n",
      "   macro avg       0.49      0.49      0.49      3000\n",
      "weighted avg       0.82      0.81      0.81      3000\n",
      "\n"
     ]
    }
   ],
   "source": [
    "# Decision Tree Classification Model\n",
    "dtc_model = ml_model(DecisionTreeClassifier, \"Decision Tree Classification\")"
   ]
  },
  {
   "cell_type": "code",
   "execution_count": 34,
   "id": "f2f7dc1f",
   "metadata": {
    "execution": {
     "iopub.execute_input": "2024-03-20T08:19:23.340847Z",
     "iopub.status.busy": "2024-03-20T08:19:23.339872Z",
     "iopub.status.idle": "2024-03-20T08:19:23.362538Z",
     "shell.execute_reply": "2024-03-20T08:19:23.361013Z"
    },
    "papermill": {
     "duration": 0.046743,
     "end_time": "2024-03-20T08:19:23.365070",
     "exception": false,
     "start_time": "2024-03-20T08:19:23.318327",
     "status": "completed"
    },
    "tags": []
   },
   "outputs": [
    {
     "name": "stdout",
     "output_type": "stream",
     "text": [
      "Naive Bayes Classification Prediction Report\n",
      "              precision    recall  f1-score   support\n",
      "\n",
      "          No       0.90      1.00      0.95      2701\n",
      "         Yes       0.00      0.00      0.00       299\n",
      "\n",
      "    accuracy                           0.90      3000\n",
      "   macro avg       0.45      0.50      0.47      3000\n",
      "weighted avg       0.81      0.90      0.85      3000\n",
      "\n"
     ]
    }
   ],
   "source": [
    "# Naive Bayes Classification Model\n",
    "nbc_model = ml_model(GaussianNB, \"Naive Bayes Classification\", False)"
   ]
  },
  {
   "cell_type": "code",
   "execution_count": 35,
   "id": "0e88851c",
   "metadata": {
    "execution": {
     "iopub.execute_input": "2024-03-20T08:19:23.403637Z",
     "iopub.status.busy": "2024-03-20T08:19:23.403168Z",
     "iopub.status.idle": "2024-03-20T08:19:23.610292Z",
     "shell.execute_reply": "2024-03-20T08:19:23.609096Z"
    },
    "papermill": {
     "duration": 0.229704,
     "end_time": "2024-03-20T08:19:23.612987",
     "exception": false,
     "start_time": "2024-03-20T08:19:23.383283",
     "status": "completed"
    },
    "tags": []
   },
   "outputs": [
    {
     "name": "stdout",
     "output_type": "stream",
     "text": [
      "K Nearest Neighbors Prediction Report\n",
      "              precision    recall  f1-score   support\n",
      "\n",
      "          No       0.90      0.99      0.94      2701\n",
      "         Yes       0.07      0.01      0.01       299\n",
      "\n",
      "    accuracy                           0.89      3000\n",
      "   macro avg       0.49      0.50      0.48      3000\n",
      "weighted avg       0.82      0.89      0.85      3000\n",
      "\n"
     ]
    }
   ],
   "source": [
    "# K Nearest Neighbors Model\n",
    "knn_model = ml_model(KNeighborsClassifier, \"K Nearest Neighbors\", False)"
   ]
  },
  {
   "cell_type": "markdown",
   "id": "fcf7a530",
   "metadata": {
    "papermill": {
     "duration": 0.018094,
     "end_time": "2024-03-20T08:19:23.649699",
     "exception": false,
     "start_time": "2024-03-20T08:19:23.631605",
     "status": "completed"
    },
    "tags": []
   },
   "source": [
    "<h1 style=\"color:Tomato; text-align:center;\">Step 6 - Model Evaluation\n",
    "</h1>"
   ]
  },
  {
   "cell_type": "markdown",
   "id": "66eae8c3",
   "metadata": {
    "papermill": {
     "duration": 0.017627,
     "end_time": "2024-03-20T08:19:23.685472",
     "exception": false,
     "start_time": "2024-03-20T08:19:23.667845",
     "status": "completed"
    },
    "tags": []
   },
   "source": [
    "# From all the Selected Models- Decision Tree Classifier has the best overall Accuracy, Precision and Recall\n",
    "# Hence For the Given Customer DataSet the Decision Tree Classifier will predict the most correct result\n"
   ]
  },
  {
   "cell_type": "markdown",
   "id": "4b1bf6fd",
   "metadata": {
    "papermill": {
     "duration": 0.018422,
     "end_time": "2024-03-20T08:19:23.722001",
     "exception": false,
     "start_time": "2024-03-20T08:19:23.703579",
     "status": "completed"
    },
    "tags": []
   },
   "source": [
    "<h1 style=\"color:Tomato; text-align:center;\">Step 7 - Model Deployment\n",
    "</h1>"
   ]
  },
  {
   "cell_type": "code",
   "execution_count": 36,
   "id": "b118f2b8",
   "metadata": {
    "execution": {
     "iopub.execute_input": "2024-03-20T08:19:23.761034Z",
     "iopub.status.busy": "2024-03-20T08:19:23.760557Z",
     "iopub.status.idle": "2024-03-20T08:19:23.767462Z",
     "shell.execute_reply": "2024-03-20T08:19:23.766242Z"
    },
    "papermill": {
     "duration": 0.029293,
     "end_time": "2024-03-20T08:19:23.769661",
     "exception": false,
     "start_time": "2024-03-20T08:19:23.740368",
     "status": "completed"
    },
    "tags": []
   },
   "outputs": [],
   "source": [
    "# Defining a function that takes input of the Customer Data and Predicts whether the Customer will Churn or not.\n",
    "\n",
    "def churn_pred(cust_data):\n",
    "    model = DecisionTreeClassifier(random_state=1)\n",
    "    model.fit(X, y)\n",
    "    y_pred = model.predict(cust_df)\n",
    "    if y_pred:\n",
    "        print(\"Yes this Customer will churn in future\")\n",
    "    else:\n",
    "        print(\"No this Customer will not churn\")"
   ]
  },
  {
   "cell_type": "code",
   "execution_count": 37,
   "id": "03887805",
   "metadata": {
    "execution": {
     "iopub.execute_input": "2024-03-20T08:19:23.807552Z",
     "iopub.status.busy": "2024-03-20T08:19:23.807159Z",
     "iopub.status.idle": "2024-03-20T08:19:23.816867Z",
     "shell.execute_reply": "2024-03-20T08:19:23.814704Z"
    },
    "papermill": {
     "duration": 0.032689,
     "end_time": "2024-03-20T08:19:23.820307",
     "exception": false,
     "start_time": "2024-03-20T08:19:23.787618",
     "status": "completed"
    },
    "tags": []
   },
   "outputs": [],
   "source": [
    "# Defining the Customer Data \n",
    "# we can change the values to see whether the Customer will churn or not\n",
    "# This single Customer DataFrame will be provided as an input in the churn_pred funtion defined above\n",
    "\n",
    "cust = {}\n",
    "cust['CreditScore'] = 460\n",
    "cust['Age'] = 30\n",
    "cust['Tenure'] = 6\n",
    "cust['Balance'] = 150000\n",
    "cust['NumOfProducts'] = 1\n",
    "cust['HasCrCard'] = 1\n",
    "cust['IsActiveMember'] = 1\n",
    "cust['EstimatedSalary'] = 10000\n",
    "cust['CustomerLifetimeValue'] = cust['Tenure'] * cust['Balance']\n",
    "cust['CustomerEngagementScore'] = (cust['NumOfProducts'] + cust['IsActiveMember']) / 2\n",
    "\n",
    "cust_df=pd.DataFrame(cust, index=[0])"
   ]
  },
  {
   "cell_type": "code",
   "execution_count": 38,
   "id": "970f3e5f",
   "metadata": {
    "execution": {
     "iopub.execute_input": "2024-03-20T08:19:23.858342Z",
     "iopub.status.busy": "2024-03-20T08:19:23.857930Z",
     "iopub.status.idle": "2024-03-20T08:19:23.883639Z",
     "shell.execute_reply": "2024-03-20T08:19:23.882234Z"
    },
    "papermill": {
     "duration": 0.047646,
     "end_time": "2024-03-20T08:19:23.885954",
     "exception": false,
     "start_time": "2024-03-20T08:19:23.838308",
     "status": "completed"
    },
    "tags": []
   },
   "outputs": [
    {
     "name": "stdout",
     "output_type": "stream",
     "text": [
      "[[900000]] [[8.07613671]]\n"
     ]
    }
   ],
   "source": [
    "# Data Transformation for CustomerLifetimeValue Field\n",
    "\n",
    "pt = PowerTransformer()\n",
    "clv_old=cust_df[['CustomerLifetimeValue']].values\n",
    "train_clv= pt.fit_transform(customer_clv)\n",
    "clv_new=pt.transform(clv_old)\n",
    "cust_df['CustomerLifetimeValue']=clv_new\n",
    "print(clv_old,clv_new)"
   ]
  },
  {
   "cell_type": "code",
   "execution_count": 39,
   "id": "c23506be",
   "metadata": {
    "execution": {
     "iopub.execute_input": "2024-03-20T08:19:23.925366Z",
     "iopub.status.busy": "2024-03-20T08:19:23.924987Z",
     "iopub.status.idle": "2024-03-20T08:19:23.939404Z",
     "shell.execute_reply": "2024-03-20T08:19:23.938291Z"
    },
    "papermill": {
     "duration": 0.036841,
     "end_time": "2024-03-20T08:19:23.941870",
     "exception": false,
     "start_time": "2024-03-20T08:19:23.905029",
     "status": "completed"
    },
    "tags": []
   },
   "outputs": [
    {
     "data": {
      "text/html": [
       "<div>\n",
       "<style scoped>\n",
       "    .dataframe tbody tr th:only-of-type {\n",
       "        vertical-align: middle;\n",
       "    }\n",
       "\n",
       "    .dataframe tbody tr th {\n",
       "        vertical-align: top;\n",
       "    }\n",
       "\n",
       "    .dataframe thead th {\n",
       "        text-align: right;\n",
       "    }\n",
       "</style>\n",
       "<table border=\"1\" class=\"dataframe\">\n",
       "  <thead>\n",
       "    <tr style=\"text-align: right;\">\n",
       "      <th></th>\n",
       "      <th>CreditScore</th>\n",
       "      <th>Age</th>\n",
       "      <th>Tenure</th>\n",
       "      <th>Balance</th>\n",
       "      <th>NumOfProducts</th>\n",
       "      <th>HasCrCard</th>\n",
       "      <th>IsActiveMember</th>\n",
       "      <th>EstimatedSalary</th>\n",
       "      <th>CustomerLifetimeValue</th>\n",
       "      <th>CustomerEngagementScore</th>\n",
       "    </tr>\n",
       "  </thead>\n",
       "  <tbody>\n",
       "    <tr>\n",
       "      <th>0</th>\n",
       "      <td>460</td>\n",
       "      <td>30</td>\n",
       "      <td>6</td>\n",
       "      <td>150000</td>\n",
       "      <td>1</td>\n",
       "      <td>1</td>\n",
       "      <td>1</td>\n",
       "      <td>10000</td>\n",
       "      <td>8.076137</td>\n",
       "      <td>1.0</td>\n",
       "    </tr>\n",
       "  </tbody>\n",
       "</table>\n",
       "</div>"
      ],
      "text/plain": [
       "   CreditScore  Age  Tenure  Balance  NumOfProducts  HasCrCard  \\\n",
       "0          460   30       6   150000              1          1   \n",
       "\n",
       "   IsActiveMember  EstimatedSalary  CustomerLifetimeValue  \\\n",
       "0               1            10000               8.076137   \n",
       "\n",
       "   CustomerEngagementScore  \n",
       "0                      1.0  "
      ]
     },
     "execution_count": 39,
     "metadata": {},
     "output_type": "execute_result"
    }
   ],
   "source": [
    "cust_df.head()"
   ]
  },
  {
   "cell_type": "code",
   "execution_count": 40,
   "id": "551938b0",
   "metadata": {
    "execution": {
     "iopub.execute_input": "2024-03-20T08:19:23.981601Z",
     "iopub.status.busy": "2024-03-20T08:19:23.981086Z",
     "iopub.status.idle": "2024-03-20T08:19:24.141798Z",
     "shell.execute_reply": "2024-03-20T08:19:24.140402Z"
    },
    "papermill": {
     "duration": 0.183309,
     "end_time": "2024-03-20T08:19:24.144109",
     "exception": false,
     "start_time": "2024-03-20T08:19:23.960800",
     "status": "completed"
    },
    "tags": []
   },
   "outputs": [
    {
     "name": "stdout",
     "output_type": "stream",
     "text": [
      "Yes this Customer will churn in future\n"
     ]
    }
   ],
   "source": [
    "# Running the Churn_pred function for the given customer record  \n",
    "churn_pred(cust_df)"
   ]
  }
 ],
 "metadata": {
  "kaggle": {
   "accelerator": "none",
   "dataSources": [],
   "dockerImageVersionId": 30558,
   "isGpuEnabled": false,
   "isInternetEnabled": true,
   "language": "python",
   "sourceType": "notebook"
  },
  "kernelspec": {
   "display_name": "Python 3",
   "language": "python",
   "name": "python3"
  },
  "language_info": {
   "codemirror_mode": {
    "name": "ipython",
    "version": 3
   },
   "file_extension": ".py",
   "mimetype": "text/x-python",
   "name": "python",
   "nbconvert_exporter": "python",
   "pygments_lexer": "ipython3",
   "version": "3.10.12"
  },
  "papermill": {
   "default_parameters": {},
   "duration": 19.614984,
   "end_time": "2024-03-20T08:19:24.985632",
   "environment_variables": {},
   "exception": null,
   "input_path": "__notebook__.ipynb",
   "output_path": "__notebook__.ipynb",
   "parameters": {},
   "start_time": "2024-03-20T08:19:05.370648",
   "version": "2.4.0"
  }
 },
 "nbformat": 4,
 "nbformat_minor": 5
}
